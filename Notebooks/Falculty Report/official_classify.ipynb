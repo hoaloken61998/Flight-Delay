{
  "metadata": {
    "colab": {
      "provenance": [],
      "name": "df2_classify"
    },
    "kernelspec": {
      "name": "python3",
      "display_name": "Python 3",
      "language": "python"
    },
    "language_info": {
      "name": "python",
      "version": "3.10.13",
      "mimetype": "text/x-python",
      "codemirror_mode": {
        "name": "ipython",
        "version": 3
      },
      "pygments_lexer": "ipython3",
      "nbconvert_exporter": "python",
      "file_extension": ".py"
    },
    "kaggle": {
      "accelerator": "none",
      "dataSources": [
        {
          "sourceId": 7926488,
          "sourceType": "datasetVersion",
          "datasetId": 4658471
        }
      ],
      "dockerImageVersionId": 30673,
      "isInternetEnabled": true,
      "language": "python",
      "sourceType": "notebook",
      "isGpuEnabled": false
    }
  },
  "nbformat_minor": 0,
  "nbformat": 4,
  "cells": [
    {
      "source": [
        "\n",
        "# IMPORTANT: RUN THIS CELL IN ORDER TO IMPORT YOUR KAGGLE DATA SOURCES\n",
        "# TO THE CORRECT LOCATION (/kaggle/input) IN YOUR NOTEBOOK,\n",
        "# THEN FEEL FREE TO DELETE THIS CELL.\n",
        "# NOTE: THIS NOTEBOOK ENVIRONMENT DIFFERS FROM KAGGLE'S PYTHON\n",
        "# ENVIRONMENT SO THERE MAY BE MISSING LIBRARIES USED BY YOUR\n",
        "# NOTEBOOK.\n",
        "\n",
        "import os\n",
        "import sys\n",
        "from tempfile import NamedTemporaryFile\n",
        "from urllib.request import urlopen\n",
        "from urllib.parse import unquote, urlparse\n",
        "from urllib.error import HTTPError\n",
        "from zipfile import ZipFile\n",
        "import tarfile\n",
        "import shutil\n",
        "\n",
        "CHUNK_SIZE = 40960\n",
        "DATA_SOURCE_MAPPING = 'df-classify-2022:https%3A%2F%2Fstorage.googleapis.com%2Fkaggle-data-sets%2F4658471%2F7926488%2Fbundle%2Farchive.zip%3FX-Goog-Algorithm%3DGOOG4-RSA-SHA256%26X-Goog-Credential%3Dgcp-kaggle-com%2540kaggle-161607.iam.gserviceaccount.com%252F20240324%252Fauto%252Fstorage%252Fgoog4_request%26X-Goog-Date%3D20240324T110621Z%26X-Goog-Expires%3D259200%26X-Goog-SignedHeaders%3Dhost%26X-Goog-Signature%3D1883af4f477541c327a42ea06385481ecef395a63a5fa639c2bf80114699f84776595a9950239bc7e0666f10c3d34875e92ed71d9d3badb0bf5b773effa425814475b7c21a273df9e926ba5032fbfcf98c8c4f60dd87f54aab77da758b51f1a6365a4244ebcdf03bdf2b834f45ed83bb27074e7ebe026ae907001f7675aa70260b562bf88559fc1485bf4d416bb57be7ab9107088fda2a7f8a7daba5cdfbbb655ca2699f716b3347bed432258048f2716a6cc479c75fcdd8feccb1ff5fc01ceab293855041d523c16aa059f21066aeb3fdbe3f89461a9ae01156b7803c14183a324d631bc3aec5bd9c700f7e36e693f14c1a6bf0713f72b1e90324238c55034d'\n",
        "\n",
        "KAGGLE_INPUT_PATH='/kaggle/input'\n",
        "KAGGLE_WORKING_PATH='/kaggle/working'\n",
        "KAGGLE_SYMLINK='kaggle'\n",
        "\n",
        "!umount /kaggle/input/ 2> /dev/null\n",
        "shutil.rmtree('/kaggle/input', ignore_errors=True)\n",
        "os.makedirs(KAGGLE_INPUT_PATH, 0o777, exist_ok=True)\n",
        "os.makedirs(KAGGLE_WORKING_PATH, 0o777, exist_ok=True)\n",
        "\n",
        "try:\n",
        "  os.symlink(KAGGLE_INPUT_PATH, os.path.join(\"..\", 'input'), target_is_directory=True)\n",
        "except FileExistsError:\n",
        "  pass\n",
        "try:\n",
        "  os.symlink(KAGGLE_WORKING_PATH, os.path.join(\"..\", 'working'), target_is_directory=True)\n",
        "except FileExistsError:\n",
        "  pass\n",
        "\n",
        "for data_source_mapping in DATA_SOURCE_MAPPING.split(','):\n",
        "    directory, download_url_encoded = data_source_mapping.split(':')\n",
        "    download_url = unquote(download_url_encoded)\n",
        "    filename = urlparse(download_url).path\n",
        "    destination_path = os.path.join(KAGGLE_INPUT_PATH, directory)\n",
        "    try:\n",
        "        with urlopen(download_url) as fileres, NamedTemporaryFile() as tfile:\n",
        "            total_length = fileres.headers['content-length']\n",
        "            print(f'Downloading {directory}, {total_length} bytes compressed')\n",
        "            dl = 0\n",
        "            data = fileres.read(CHUNK_SIZE)\n",
        "            while len(data) > 0:\n",
        "                dl += len(data)\n",
        "                tfile.write(data)\n",
        "                done = int(50 * dl / int(total_length))\n",
        "                sys.stdout.write(f\"\\r[{'=' * done}{' ' * (50-done)}] {dl} bytes downloaded\")\n",
        "                sys.stdout.flush()\n",
        "                data = fileres.read(CHUNK_SIZE)\n",
        "            if filename.endswith('.zip'):\n",
        "              with ZipFile(tfile) as zfile:\n",
        "                zfile.extractall(destination_path)\n",
        "            else:\n",
        "              with tarfile.open(tfile.name) as tarfile:\n",
        "                tarfile.extractall(destination_path)\n",
        "            print(f'\\nDownloaded and uncompressed: {directory}')\n",
        "    except HTTPError as e:\n",
        "        print(f'Failed to load (likely expired) {download_url} to path {destination_path}')\n",
        "        continue\n",
        "    except OSError as e:\n",
        "        print(f'Failed to load {download_url} to path {destination_path}')\n",
        "        continue\n",
        "\n",
        "print('Data source import complete.')\n"
      ],
      "metadata": {
        "id": "Qa8IEpt4I-o-",
        "outputId": "c096fd74-8627-424d-dcf0-a9fa3c86f915",
        "colab": {
          "base_uri": "https://localhost:8080/"
        }
      },
      "cell_type": "code",
      "outputs": [
        {
          "output_type": "stream",
          "name": "stdout",
          "text": [
            "Downloading df-classify-2022, 3662688 bytes compressed\n",
            "[==================================================] 3662688 bytes downloaded\n",
            "Downloaded and uncompressed: df-classify-2022\n",
            "Data source import complete.\n"
          ]
        }
      ],
      "execution_count": 2
    },
    {
      "cell_type": "code",
      "source": [
        "import pandas as pd\n",
        "import numpy as np\n",
        "\n",
        "from sklearn.svm import SVC\n",
        "from sklearn.ensemble import RandomForestClassifier\n",
        "from sklearn.tree import DecisionTreeClassifier\n",
        "from xgboost import XGBClassifier\n",
        "from xgboost import XGBRFClassifier\n",
        "from sklearn.linear_model import LogisticRegression\n",
        "\n",
        "from imblearn.combine import SMOTETomek\n",
        "from imblearn.under_sampling import TomekLinks\n",
        "from imblearn.pipeline import Pipeline, make_pipeline\n",
        "\n",
        "from sklearn.model_selection import train_test_split\n",
        "from sklearn.metrics import confusion_matrix, recall_score, precision_score, f1_score, accuracy_score, recall_score, precision_score, roc_auc_score, classification_report\n",
        "import seaborn as sns\n",
        "from imblearn.over_sampling import SMOTE\n",
        "from imblearn.under_sampling import RandomUnderSampler\n",
        "\n",
        "\n",
        "\n",
        "import warnings\n",
        "warnings.filterwarnings('ignore')"
      ],
      "metadata": {
        "id": "1b-RA0cBR6UR",
        "execution": {
          "iopub.status.busy": "2024-03-24T10:51:55.456227Z",
          "iopub.execute_input": "2024-03-24T10:51:55.456683Z",
          "iopub.status.idle": "2024-03-24T10:51:55.46618Z",
          "shell.execute_reply.started": "2024-03-24T10:51:55.456648Z",
          "shell.execute_reply": "2024-03-24T10:51:55.464776Z"
        },
        "trusted": true
      },
      "execution_count": 3,
      "outputs": []
    },
    {
      "cell_type": "code",
      "source": [
        "df = pd.read_csv(\"/kaggle/input/df-classify-2022/df2.csv\")\n",
        "df\n"
      ],
      "metadata": {
        "id": "KCUmuYrISR2R",
        "execution": {
          "iopub.status.busy": "2024-03-24T10:51:58.085902Z",
          "iopub.execute_input": "2024-03-24T10:51:58.0885Z",
          "iopub.status.idle": "2024-03-24T10:51:58.459908Z",
          "shell.execute_reply.started": "2024-03-24T10:51:58.088461Z",
          "shell.execute_reply": "2024-03-24T10:51:58.458816Z"
        },
        "trusted": true,
        "outputId": "21dd3b52-9a20-4d43-d918-6898209ae15b",
        "colab": {
          "base_uri": "https://localhost:8080/",
          "height": 424
        }
      },
      "execution_count": 5,
      "outputs": [
        {
          "output_type": "execute_result",
          "data": {
            "text/plain": [
              "        MONTH  DAY_OF_MONTH  DAY_OF_WEEK  CRS_DEP_TIME  DEP_DELAY  \\\n",
              "0           9            30            5             2       -6.0   \n",
              "1           3            26            6             6       -4.0   \n",
              "2           5            10            2             7       -4.0   \n",
              "3           4            19            2             8       99.0   \n",
              "4           6            26            7             8       82.0   \n",
              "...       ...           ...          ...           ...        ...   \n",
              "299995      9            11            7             4       -8.0   \n",
              "299996      1            17            1             3       -2.0   \n",
              "299997      6             3            5             8       17.0   \n",
              "299998      6            25            6             5       -8.0   \n",
              "299999      5             5            4             3        9.0   \n",
              "\n",
              "        CRS_ARR_TIME  CRS_ELAPSED_TIME  DISTANCE  Status  \\\n",
              "0                  4             164.0    1022.0       0   \n",
              "1                  7             154.0     912.0       0   \n",
              "2                  7              91.0     391.0       0   \n",
              "3                  8              64.0     175.0       1   \n",
              "4                  8              84.0     246.0       1   \n",
              "...              ...               ...       ...     ...   \n",
              "299995             5             118.0     694.0       0   \n",
              "299996             4              74.0     199.0       0   \n",
              "299997             8              80.0     345.0       1   \n",
              "299998             6             128.0     701.0       0   \n",
              "299999             3             134.0     823.0       0   \n",
              "\n",
              "        ORIGIN_AIRPORT_ID_Encoded  DEST_AIRPORT_ID_Encoded  \n",
              "0                             370                       98  \n",
              "1                             170                       75  \n",
              "2                              96                       80  \n",
              "3                              97                      252  \n",
              "4                             120                      303  \n",
              "...                           ...                      ...  \n",
              "299995                        183                      277  \n",
              "299996                         40                      242  \n",
              "299997                        194                      301  \n",
              "299998                         22                      354  \n",
              "299999                        198                      219  \n",
              "\n",
              "[300000 rows x 11 columns]"
            ],
            "text/html": [
              "\n",
              "  <div id=\"df-77c705e6-40dd-4f7b-9573-ba5729e094f3\" class=\"colab-df-container\">\n",
              "    <div>\n",
              "<style scoped>\n",
              "    .dataframe tbody tr th:only-of-type {\n",
              "        vertical-align: middle;\n",
              "    }\n",
              "\n",
              "    .dataframe tbody tr th {\n",
              "        vertical-align: top;\n",
              "    }\n",
              "\n",
              "    .dataframe thead th {\n",
              "        text-align: right;\n",
              "    }\n",
              "</style>\n",
              "<table border=\"1\" class=\"dataframe\">\n",
              "  <thead>\n",
              "    <tr style=\"text-align: right;\">\n",
              "      <th></th>\n",
              "      <th>MONTH</th>\n",
              "      <th>DAY_OF_MONTH</th>\n",
              "      <th>DAY_OF_WEEK</th>\n",
              "      <th>CRS_DEP_TIME</th>\n",
              "      <th>DEP_DELAY</th>\n",
              "      <th>CRS_ARR_TIME</th>\n",
              "      <th>CRS_ELAPSED_TIME</th>\n",
              "      <th>DISTANCE</th>\n",
              "      <th>Status</th>\n",
              "      <th>ORIGIN_AIRPORT_ID_Encoded</th>\n",
              "      <th>DEST_AIRPORT_ID_Encoded</th>\n",
              "    </tr>\n",
              "  </thead>\n",
              "  <tbody>\n",
              "    <tr>\n",
              "      <th>0</th>\n",
              "      <td>9</td>\n",
              "      <td>30</td>\n",
              "      <td>5</td>\n",
              "      <td>2</td>\n",
              "      <td>-6.0</td>\n",
              "      <td>4</td>\n",
              "      <td>164.0</td>\n",
              "      <td>1022.0</td>\n",
              "      <td>0</td>\n",
              "      <td>370</td>\n",
              "      <td>98</td>\n",
              "    </tr>\n",
              "    <tr>\n",
              "      <th>1</th>\n",
              "      <td>3</td>\n",
              "      <td>26</td>\n",
              "      <td>6</td>\n",
              "      <td>6</td>\n",
              "      <td>-4.0</td>\n",
              "      <td>7</td>\n",
              "      <td>154.0</td>\n",
              "      <td>912.0</td>\n",
              "      <td>0</td>\n",
              "      <td>170</td>\n",
              "      <td>75</td>\n",
              "    </tr>\n",
              "    <tr>\n",
              "      <th>2</th>\n",
              "      <td>5</td>\n",
              "      <td>10</td>\n",
              "      <td>2</td>\n",
              "      <td>7</td>\n",
              "      <td>-4.0</td>\n",
              "      <td>7</td>\n",
              "      <td>91.0</td>\n",
              "      <td>391.0</td>\n",
              "      <td>0</td>\n",
              "      <td>96</td>\n",
              "      <td>80</td>\n",
              "    </tr>\n",
              "    <tr>\n",
              "      <th>3</th>\n",
              "      <td>4</td>\n",
              "      <td>19</td>\n",
              "      <td>2</td>\n",
              "      <td>8</td>\n",
              "      <td>99.0</td>\n",
              "      <td>8</td>\n",
              "      <td>64.0</td>\n",
              "      <td>175.0</td>\n",
              "      <td>1</td>\n",
              "      <td>97</td>\n",
              "      <td>252</td>\n",
              "    </tr>\n",
              "    <tr>\n",
              "      <th>4</th>\n",
              "      <td>6</td>\n",
              "      <td>26</td>\n",
              "      <td>7</td>\n",
              "      <td>8</td>\n",
              "      <td>82.0</td>\n",
              "      <td>8</td>\n",
              "      <td>84.0</td>\n",
              "      <td>246.0</td>\n",
              "      <td>1</td>\n",
              "      <td>120</td>\n",
              "      <td>303</td>\n",
              "    </tr>\n",
              "    <tr>\n",
              "      <th>...</th>\n",
              "      <td>...</td>\n",
              "      <td>...</td>\n",
              "      <td>...</td>\n",
              "      <td>...</td>\n",
              "      <td>...</td>\n",
              "      <td>...</td>\n",
              "      <td>...</td>\n",
              "      <td>...</td>\n",
              "      <td>...</td>\n",
              "      <td>...</td>\n",
              "      <td>...</td>\n",
              "    </tr>\n",
              "    <tr>\n",
              "      <th>299995</th>\n",
              "      <td>9</td>\n",
              "      <td>11</td>\n",
              "      <td>7</td>\n",
              "      <td>4</td>\n",
              "      <td>-8.0</td>\n",
              "      <td>5</td>\n",
              "      <td>118.0</td>\n",
              "      <td>694.0</td>\n",
              "      <td>0</td>\n",
              "      <td>183</td>\n",
              "      <td>277</td>\n",
              "    </tr>\n",
              "    <tr>\n",
              "      <th>299996</th>\n",
              "      <td>1</td>\n",
              "      <td>17</td>\n",
              "      <td>1</td>\n",
              "      <td>3</td>\n",
              "      <td>-2.0</td>\n",
              "      <td>4</td>\n",
              "      <td>74.0</td>\n",
              "      <td>199.0</td>\n",
              "      <td>0</td>\n",
              "      <td>40</td>\n",
              "      <td>242</td>\n",
              "    </tr>\n",
              "    <tr>\n",
              "      <th>299997</th>\n",
              "      <td>6</td>\n",
              "      <td>3</td>\n",
              "      <td>5</td>\n",
              "      <td>8</td>\n",
              "      <td>17.0</td>\n",
              "      <td>8</td>\n",
              "      <td>80.0</td>\n",
              "      <td>345.0</td>\n",
              "      <td>1</td>\n",
              "      <td>194</td>\n",
              "      <td>301</td>\n",
              "    </tr>\n",
              "    <tr>\n",
              "      <th>299998</th>\n",
              "      <td>6</td>\n",
              "      <td>25</td>\n",
              "      <td>6</td>\n",
              "      <td>5</td>\n",
              "      <td>-8.0</td>\n",
              "      <td>6</td>\n",
              "      <td>128.0</td>\n",
              "      <td>701.0</td>\n",
              "      <td>0</td>\n",
              "      <td>22</td>\n",
              "      <td>354</td>\n",
              "    </tr>\n",
              "    <tr>\n",
              "      <th>299999</th>\n",
              "      <td>5</td>\n",
              "      <td>5</td>\n",
              "      <td>4</td>\n",
              "      <td>3</td>\n",
              "      <td>9.0</td>\n",
              "      <td>3</td>\n",
              "      <td>134.0</td>\n",
              "      <td>823.0</td>\n",
              "      <td>0</td>\n",
              "      <td>198</td>\n",
              "      <td>219</td>\n",
              "    </tr>\n",
              "  </tbody>\n",
              "</table>\n",
              "<p>300000 rows × 11 columns</p>\n",
              "</div>\n",
              "    <div class=\"colab-df-buttons\">\n",
              "\n",
              "  <div class=\"colab-df-container\">\n",
              "    <button class=\"colab-df-convert\" onclick=\"convertToInteractive('df-77c705e6-40dd-4f7b-9573-ba5729e094f3')\"\n",
              "            title=\"Convert this dataframe to an interactive table.\"\n",
              "            style=\"display:none;\">\n",
              "\n",
              "  <svg xmlns=\"http://www.w3.org/2000/svg\" height=\"24px\" viewBox=\"0 -960 960 960\">\n",
              "    <path d=\"M120-120v-720h720v720H120Zm60-500h600v-160H180v160Zm220 220h160v-160H400v160Zm0 220h160v-160H400v160ZM180-400h160v-160H180v160Zm440 0h160v-160H620v160ZM180-180h160v-160H180v160Zm440 0h160v-160H620v160Z\"/>\n",
              "  </svg>\n",
              "    </button>\n",
              "\n",
              "  <style>\n",
              "    .colab-df-container {\n",
              "      display:flex;\n",
              "      gap: 12px;\n",
              "    }\n",
              "\n",
              "    .colab-df-convert {\n",
              "      background-color: #E8F0FE;\n",
              "      border: none;\n",
              "      border-radius: 50%;\n",
              "      cursor: pointer;\n",
              "      display: none;\n",
              "      fill: #1967D2;\n",
              "      height: 32px;\n",
              "      padding: 0 0 0 0;\n",
              "      width: 32px;\n",
              "    }\n",
              "\n",
              "    .colab-df-convert:hover {\n",
              "      background-color: #E2EBFA;\n",
              "      box-shadow: 0px 1px 2px rgba(60, 64, 67, 0.3), 0px 1px 3px 1px rgba(60, 64, 67, 0.15);\n",
              "      fill: #174EA6;\n",
              "    }\n",
              "\n",
              "    .colab-df-buttons div {\n",
              "      margin-bottom: 4px;\n",
              "    }\n",
              "\n",
              "    [theme=dark] .colab-df-convert {\n",
              "      background-color: #3B4455;\n",
              "      fill: #D2E3FC;\n",
              "    }\n",
              "\n",
              "    [theme=dark] .colab-df-convert:hover {\n",
              "      background-color: #434B5C;\n",
              "      box-shadow: 0px 1px 3px 1px rgba(0, 0, 0, 0.15);\n",
              "      filter: drop-shadow(0px 1px 2px rgba(0, 0, 0, 0.3));\n",
              "      fill: #FFFFFF;\n",
              "    }\n",
              "  </style>\n",
              "\n",
              "    <script>\n",
              "      const buttonEl =\n",
              "        document.querySelector('#df-77c705e6-40dd-4f7b-9573-ba5729e094f3 button.colab-df-convert');\n",
              "      buttonEl.style.display =\n",
              "        google.colab.kernel.accessAllowed ? 'block' : 'none';\n",
              "\n",
              "      async function convertToInteractive(key) {\n",
              "        const element = document.querySelector('#df-77c705e6-40dd-4f7b-9573-ba5729e094f3');\n",
              "        const dataTable =\n",
              "          await google.colab.kernel.invokeFunction('convertToInteractive',\n",
              "                                                    [key], {});\n",
              "        if (!dataTable) return;\n",
              "\n",
              "        const docLinkHtml = 'Like what you see? Visit the ' +\n",
              "          '<a target=\"_blank\" href=https://colab.research.google.com/notebooks/data_table.ipynb>data table notebook</a>'\n",
              "          + ' to learn more about interactive tables.';\n",
              "        element.innerHTML = '';\n",
              "        dataTable['output_type'] = 'display_data';\n",
              "        await google.colab.output.renderOutput(dataTable, element);\n",
              "        const docLink = document.createElement('div');\n",
              "        docLink.innerHTML = docLinkHtml;\n",
              "        element.appendChild(docLink);\n",
              "      }\n",
              "    </script>\n",
              "  </div>\n",
              "\n",
              "\n",
              "<div id=\"df-f90dc0f3-f31c-432f-bbe3-02d33ac8fb65\">\n",
              "  <button class=\"colab-df-quickchart\" onclick=\"quickchart('df-f90dc0f3-f31c-432f-bbe3-02d33ac8fb65')\"\n",
              "            title=\"Suggest charts\"\n",
              "            style=\"display:none;\">\n",
              "\n",
              "<svg xmlns=\"http://www.w3.org/2000/svg\" height=\"24px\"viewBox=\"0 0 24 24\"\n",
              "     width=\"24px\">\n",
              "    <g>\n",
              "        <path d=\"M19 3H5c-1.1 0-2 .9-2 2v14c0 1.1.9 2 2 2h14c1.1 0 2-.9 2-2V5c0-1.1-.9-2-2-2zM9 17H7v-7h2v7zm4 0h-2V7h2v10zm4 0h-2v-4h2v4z\"/>\n",
              "    </g>\n",
              "</svg>\n",
              "  </button>\n",
              "\n",
              "<style>\n",
              "  .colab-df-quickchart {\n",
              "      --bg-color: #E8F0FE;\n",
              "      --fill-color: #1967D2;\n",
              "      --hover-bg-color: #E2EBFA;\n",
              "      --hover-fill-color: #174EA6;\n",
              "      --disabled-fill-color: #AAA;\n",
              "      --disabled-bg-color: #DDD;\n",
              "  }\n",
              "\n",
              "  [theme=dark] .colab-df-quickchart {\n",
              "      --bg-color: #3B4455;\n",
              "      --fill-color: #D2E3FC;\n",
              "      --hover-bg-color: #434B5C;\n",
              "      --hover-fill-color: #FFFFFF;\n",
              "      --disabled-bg-color: #3B4455;\n",
              "      --disabled-fill-color: #666;\n",
              "  }\n",
              "\n",
              "  .colab-df-quickchart {\n",
              "    background-color: var(--bg-color);\n",
              "    border: none;\n",
              "    border-radius: 50%;\n",
              "    cursor: pointer;\n",
              "    display: none;\n",
              "    fill: var(--fill-color);\n",
              "    height: 32px;\n",
              "    padding: 0;\n",
              "    width: 32px;\n",
              "  }\n",
              "\n",
              "  .colab-df-quickchart:hover {\n",
              "    background-color: var(--hover-bg-color);\n",
              "    box-shadow: 0 1px 2px rgba(60, 64, 67, 0.3), 0 1px 3px 1px rgba(60, 64, 67, 0.15);\n",
              "    fill: var(--button-hover-fill-color);\n",
              "  }\n",
              "\n",
              "  .colab-df-quickchart-complete:disabled,\n",
              "  .colab-df-quickchart-complete:disabled:hover {\n",
              "    background-color: var(--disabled-bg-color);\n",
              "    fill: var(--disabled-fill-color);\n",
              "    box-shadow: none;\n",
              "  }\n",
              "\n",
              "  .colab-df-spinner {\n",
              "    border: 2px solid var(--fill-color);\n",
              "    border-color: transparent;\n",
              "    border-bottom-color: var(--fill-color);\n",
              "    animation:\n",
              "      spin 1s steps(1) infinite;\n",
              "  }\n",
              "\n",
              "  @keyframes spin {\n",
              "    0% {\n",
              "      border-color: transparent;\n",
              "      border-bottom-color: var(--fill-color);\n",
              "      border-left-color: var(--fill-color);\n",
              "    }\n",
              "    20% {\n",
              "      border-color: transparent;\n",
              "      border-left-color: var(--fill-color);\n",
              "      border-top-color: var(--fill-color);\n",
              "    }\n",
              "    30% {\n",
              "      border-color: transparent;\n",
              "      border-left-color: var(--fill-color);\n",
              "      border-top-color: var(--fill-color);\n",
              "      border-right-color: var(--fill-color);\n",
              "    }\n",
              "    40% {\n",
              "      border-color: transparent;\n",
              "      border-right-color: var(--fill-color);\n",
              "      border-top-color: var(--fill-color);\n",
              "    }\n",
              "    60% {\n",
              "      border-color: transparent;\n",
              "      border-right-color: var(--fill-color);\n",
              "    }\n",
              "    80% {\n",
              "      border-color: transparent;\n",
              "      border-right-color: var(--fill-color);\n",
              "      border-bottom-color: var(--fill-color);\n",
              "    }\n",
              "    90% {\n",
              "      border-color: transparent;\n",
              "      border-bottom-color: var(--fill-color);\n",
              "    }\n",
              "  }\n",
              "</style>\n",
              "\n",
              "  <script>\n",
              "    async function quickchart(key) {\n",
              "      const quickchartButtonEl =\n",
              "        document.querySelector('#' + key + ' button');\n",
              "      quickchartButtonEl.disabled = true;  // To prevent multiple clicks.\n",
              "      quickchartButtonEl.classList.add('colab-df-spinner');\n",
              "      try {\n",
              "        const charts = await google.colab.kernel.invokeFunction(\n",
              "            'suggestCharts', [key], {});\n",
              "      } catch (error) {\n",
              "        console.error('Error during call to suggestCharts:', error);\n",
              "      }\n",
              "      quickchartButtonEl.classList.remove('colab-df-spinner');\n",
              "      quickchartButtonEl.classList.add('colab-df-quickchart-complete');\n",
              "    }\n",
              "    (() => {\n",
              "      let quickchartButtonEl =\n",
              "        document.querySelector('#df-f90dc0f3-f31c-432f-bbe3-02d33ac8fb65 button');\n",
              "      quickchartButtonEl.style.display =\n",
              "        google.colab.kernel.accessAllowed ? 'block' : 'none';\n",
              "    })();\n",
              "  </script>\n",
              "</div>\n",
              "\n",
              "  <div id=\"id_7baeba3a-8989-4352-94cc-a74324e6c488\">\n",
              "    <style>\n",
              "      .colab-df-generate {\n",
              "        background-color: #E8F0FE;\n",
              "        border: none;\n",
              "        border-radius: 50%;\n",
              "        cursor: pointer;\n",
              "        display: none;\n",
              "        fill: #1967D2;\n",
              "        height: 32px;\n",
              "        padding: 0 0 0 0;\n",
              "        width: 32px;\n",
              "      }\n",
              "\n",
              "      .colab-df-generate:hover {\n",
              "        background-color: #E2EBFA;\n",
              "        box-shadow: 0px 1px 2px rgba(60, 64, 67, 0.3), 0px 1px 3px 1px rgba(60, 64, 67, 0.15);\n",
              "        fill: #174EA6;\n",
              "      }\n",
              "\n",
              "      [theme=dark] .colab-df-generate {\n",
              "        background-color: #3B4455;\n",
              "        fill: #D2E3FC;\n",
              "      }\n",
              "\n",
              "      [theme=dark] .colab-df-generate:hover {\n",
              "        background-color: #434B5C;\n",
              "        box-shadow: 0px 1px 3px 1px rgba(0, 0, 0, 0.15);\n",
              "        filter: drop-shadow(0px 1px 2px rgba(0, 0, 0, 0.3));\n",
              "        fill: #FFFFFF;\n",
              "      }\n",
              "    </style>\n",
              "    <button class=\"colab-df-generate\" onclick=\"generateWithVariable('df')\"\n",
              "            title=\"Generate code using this dataframe.\"\n",
              "            style=\"display:none;\">\n",
              "\n",
              "  <svg xmlns=\"http://www.w3.org/2000/svg\" height=\"24px\"viewBox=\"0 0 24 24\"\n",
              "       width=\"24px\">\n",
              "    <path d=\"M7,19H8.4L18.45,9,17,7.55,7,17.6ZM5,21V16.75L18.45,3.32a2,2,0,0,1,2.83,0l1.4,1.43a1.91,1.91,0,0,1,.58,1.4,1.91,1.91,0,0,1-.58,1.4L9.25,21ZM18.45,9,17,7.55Zm-12,3A5.31,5.31,0,0,0,4.9,8.1,5.31,5.31,0,0,0,1,6.5,5.31,5.31,0,0,0,4.9,4.9,5.31,5.31,0,0,0,6.5,1,5.31,5.31,0,0,0,8.1,4.9,5.31,5.31,0,0,0,12,6.5,5.46,5.46,0,0,0,6.5,12Z\"/>\n",
              "  </svg>\n",
              "    </button>\n",
              "    <script>\n",
              "      (() => {\n",
              "      const buttonEl =\n",
              "        document.querySelector('#id_7baeba3a-8989-4352-94cc-a74324e6c488 button.colab-df-generate');\n",
              "      buttonEl.style.display =\n",
              "        google.colab.kernel.accessAllowed ? 'block' : 'none';\n",
              "\n",
              "      buttonEl.onclick = () => {\n",
              "        google.colab.notebook.generateWithVariable('df');\n",
              "      }\n",
              "      })();\n",
              "    </script>\n",
              "  </div>\n",
              "\n",
              "    </div>\n",
              "  </div>\n"
            ],
            "application/vnd.google.colaboratory.intrinsic+json": {
              "type": "dataframe",
              "variable_name": "df"
            }
          },
          "metadata": {},
          "execution_count": 5
        }
      ]
    },
    {
      "cell_type": "code",
      "source": [
        "# Chọn mẫu stratify\n",
        "df = df.groupby('Status', group_keys=False).apply(lambda x: x.sample(int(np.rint(50000*len(x)/len(df))))).sample(frac=1).reset_index(drop=True)\n",
        "df"
      ],
      "metadata": {
        "execution": {
          "iopub.status.busy": "2024-03-24T10:52:01.679948Z",
          "iopub.execute_input": "2024-03-24T10:52:01.680677Z",
          "iopub.status.idle": "2024-03-24T10:52:01.745696Z",
          "shell.execute_reply.started": "2024-03-24T10:52:01.680629Z",
          "shell.execute_reply": "2024-03-24T10:52:01.74458Z"
        },
        "trusted": true,
        "id": "fd9tMbLrI-pD",
        "outputId": "b2ec872c-32aa-411c-d2c2-ead09ae51a1d",
        "colab": {
          "base_uri": "https://localhost:8080/",
          "height": 424
        }
      },
      "execution_count": 6,
      "outputs": [
        {
          "output_type": "execute_result",
          "data": {
            "text/plain": [
              "       MONTH  DAY_OF_MONTH  DAY_OF_WEEK  CRS_DEP_TIME  DEP_DELAY  \\\n",
              "0         11             4            5             4       -8.0   \n",
              "1          8             6            6             7      -13.0   \n",
              "2          9            16            5             3       -6.0   \n",
              "3          9            23            5             3        0.0   \n",
              "4          7             1            5             7        0.0   \n",
              "...      ...           ...          ...           ...        ...   \n",
              "49995      3             9            3             5       -4.0   \n",
              "49996      3            27            7             3       -6.0   \n",
              "49997      7             1            5             5       73.0   \n",
              "49998      2            14            1             5        0.0   \n",
              "49999     10            19            3             5       19.0   \n",
              "\n",
              "       CRS_ARR_TIME  CRS_ELAPSED_TIME  DISTANCE  Status  \\\n",
              "0                 5             123.0     723.0       0   \n",
              "1                 8              89.0     475.0       0   \n",
              "2                 4             278.0    1797.0       0   \n",
              "3                 4             208.0    1448.0       1   \n",
              "4                 8             114.0     702.0       0   \n",
              "...             ...               ...       ...     ...   \n",
              "49995             6             183.0    1236.0       1   \n",
              "49996             4             159.0    1107.0       0   \n",
              "49997             6             337.0    2556.0       1   \n",
              "49998             6              70.0     197.0       0   \n",
              "49999             7             215.0    1440.0       1   \n",
              "\n",
              "       ORIGIN_AIRPORT_ID_Encoded  DEST_AIRPORT_ID_Encoded  \n",
              "0                            255                       14  \n",
              "1                            245                      277  \n",
              "2                             45                      197  \n",
              "3                             19                      318  \n",
              "4                             44                      365  \n",
              "...                          ...                      ...  \n",
              "49995                        114                      256  \n",
              "49996                        229                      342  \n",
              "49997                        196                      160  \n",
              "49998                        128                      352  \n",
              "49999                        270                      256  \n",
              "\n",
              "[50000 rows x 11 columns]"
            ],
            "text/html": [
              "\n",
              "  <div id=\"df-e98f5100-83f0-4266-b7a0-8fd6fab22ba2\" class=\"colab-df-container\">\n",
              "    <div>\n",
              "<style scoped>\n",
              "    .dataframe tbody tr th:only-of-type {\n",
              "        vertical-align: middle;\n",
              "    }\n",
              "\n",
              "    .dataframe tbody tr th {\n",
              "        vertical-align: top;\n",
              "    }\n",
              "\n",
              "    .dataframe thead th {\n",
              "        text-align: right;\n",
              "    }\n",
              "</style>\n",
              "<table border=\"1\" class=\"dataframe\">\n",
              "  <thead>\n",
              "    <tr style=\"text-align: right;\">\n",
              "      <th></th>\n",
              "      <th>MONTH</th>\n",
              "      <th>DAY_OF_MONTH</th>\n",
              "      <th>DAY_OF_WEEK</th>\n",
              "      <th>CRS_DEP_TIME</th>\n",
              "      <th>DEP_DELAY</th>\n",
              "      <th>CRS_ARR_TIME</th>\n",
              "      <th>CRS_ELAPSED_TIME</th>\n",
              "      <th>DISTANCE</th>\n",
              "      <th>Status</th>\n",
              "      <th>ORIGIN_AIRPORT_ID_Encoded</th>\n",
              "      <th>DEST_AIRPORT_ID_Encoded</th>\n",
              "    </tr>\n",
              "  </thead>\n",
              "  <tbody>\n",
              "    <tr>\n",
              "      <th>0</th>\n",
              "      <td>11</td>\n",
              "      <td>4</td>\n",
              "      <td>5</td>\n",
              "      <td>4</td>\n",
              "      <td>-8.0</td>\n",
              "      <td>5</td>\n",
              "      <td>123.0</td>\n",
              "      <td>723.0</td>\n",
              "      <td>0</td>\n",
              "      <td>255</td>\n",
              "      <td>14</td>\n",
              "    </tr>\n",
              "    <tr>\n",
              "      <th>1</th>\n",
              "      <td>8</td>\n",
              "      <td>6</td>\n",
              "      <td>6</td>\n",
              "      <td>7</td>\n",
              "      <td>-13.0</td>\n",
              "      <td>8</td>\n",
              "      <td>89.0</td>\n",
              "      <td>475.0</td>\n",
              "      <td>0</td>\n",
              "      <td>245</td>\n",
              "      <td>277</td>\n",
              "    </tr>\n",
              "    <tr>\n",
              "      <th>2</th>\n",
              "      <td>9</td>\n",
              "      <td>16</td>\n",
              "      <td>5</td>\n",
              "      <td>3</td>\n",
              "      <td>-6.0</td>\n",
              "      <td>4</td>\n",
              "      <td>278.0</td>\n",
              "      <td>1797.0</td>\n",
              "      <td>0</td>\n",
              "      <td>45</td>\n",
              "      <td>197</td>\n",
              "    </tr>\n",
              "    <tr>\n",
              "      <th>3</th>\n",
              "      <td>9</td>\n",
              "      <td>23</td>\n",
              "      <td>5</td>\n",
              "      <td>3</td>\n",
              "      <td>0.0</td>\n",
              "      <td>4</td>\n",
              "      <td>208.0</td>\n",
              "      <td>1448.0</td>\n",
              "      <td>1</td>\n",
              "      <td>19</td>\n",
              "      <td>318</td>\n",
              "    </tr>\n",
              "    <tr>\n",
              "      <th>4</th>\n",
              "      <td>7</td>\n",
              "      <td>1</td>\n",
              "      <td>5</td>\n",
              "      <td>7</td>\n",
              "      <td>0.0</td>\n",
              "      <td>8</td>\n",
              "      <td>114.0</td>\n",
              "      <td>702.0</td>\n",
              "      <td>0</td>\n",
              "      <td>44</td>\n",
              "      <td>365</td>\n",
              "    </tr>\n",
              "    <tr>\n",
              "      <th>...</th>\n",
              "      <td>...</td>\n",
              "      <td>...</td>\n",
              "      <td>...</td>\n",
              "      <td>...</td>\n",
              "      <td>...</td>\n",
              "      <td>...</td>\n",
              "      <td>...</td>\n",
              "      <td>...</td>\n",
              "      <td>...</td>\n",
              "      <td>...</td>\n",
              "      <td>...</td>\n",
              "    </tr>\n",
              "    <tr>\n",
              "      <th>49995</th>\n",
              "      <td>3</td>\n",
              "      <td>9</td>\n",
              "      <td>3</td>\n",
              "      <td>5</td>\n",
              "      <td>-4.0</td>\n",
              "      <td>6</td>\n",
              "      <td>183.0</td>\n",
              "      <td>1236.0</td>\n",
              "      <td>1</td>\n",
              "      <td>114</td>\n",
              "      <td>256</td>\n",
              "    </tr>\n",
              "    <tr>\n",
              "      <th>49996</th>\n",
              "      <td>3</td>\n",
              "      <td>27</td>\n",
              "      <td>7</td>\n",
              "      <td>3</td>\n",
              "      <td>-6.0</td>\n",
              "      <td>4</td>\n",
              "      <td>159.0</td>\n",
              "      <td>1107.0</td>\n",
              "      <td>0</td>\n",
              "      <td>229</td>\n",
              "      <td>342</td>\n",
              "    </tr>\n",
              "    <tr>\n",
              "      <th>49997</th>\n",
              "      <td>7</td>\n",
              "      <td>1</td>\n",
              "      <td>5</td>\n",
              "      <td>5</td>\n",
              "      <td>73.0</td>\n",
              "      <td>6</td>\n",
              "      <td>337.0</td>\n",
              "      <td>2556.0</td>\n",
              "      <td>1</td>\n",
              "      <td>196</td>\n",
              "      <td>160</td>\n",
              "    </tr>\n",
              "    <tr>\n",
              "      <th>49998</th>\n",
              "      <td>2</td>\n",
              "      <td>14</td>\n",
              "      <td>1</td>\n",
              "      <td>5</td>\n",
              "      <td>0.0</td>\n",
              "      <td>6</td>\n",
              "      <td>70.0</td>\n",
              "      <td>197.0</td>\n",
              "      <td>0</td>\n",
              "      <td>128</td>\n",
              "      <td>352</td>\n",
              "    </tr>\n",
              "    <tr>\n",
              "      <th>49999</th>\n",
              "      <td>10</td>\n",
              "      <td>19</td>\n",
              "      <td>3</td>\n",
              "      <td>5</td>\n",
              "      <td>19.0</td>\n",
              "      <td>7</td>\n",
              "      <td>215.0</td>\n",
              "      <td>1440.0</td>\n",
              "      <td>1</td>\n",
              "      <td>270</td>\n",
              "      <td>256</td>\n",
              "    </tr>\n",
              "  </tbody>\n",
              "</table>\n",
              "<p>50000 rows × 11 columns</p>\n",
              "</div>\n",
              "    <div class=\"colab-df-buttons\">\n",
              "\n",
              "  <div class=\"colab-df-container\">\n",
              "    <button class=\"colab-df-convert\" onclick=\"convertToInteractive('df-e98f5100-83f0-4266-b7a0-8fd6fab22ba2')\"\n",
              "            title=\"Convert this dataframe to an interactive table.\"\n",
              "            style=\"display:none;\">\n",
              "\n",
              "  <svg xmlns=\"http://www.w3.org/2000/svg\" height=\"24px\" viewBox=\"0 -960 960 960\">\n",
              "    <path d=\"M120-120v-720h720v720H120Zm60-500h600v-160H180v160Zm220 220h160v-160H400v160Zm0 220h160v-160H400v160ZM180-400h160v-160H180v160Zm440 0h160v-160H620v160ZM180-180h160v-160H180v160Zm440 0h160v-160H620v160Z\"/>\n",
              "  </svg>\n",
              "    </button>\n",
              "\n",
              "  <style>\n",
              "    .colab-df-container {\n",
              "      display:flex;\n",
              "      gap: 12px;\n",
              "    }\n",
              "\n",
              "    .colab-df-convert {\n",
              "      background-color: #E8F0FE;\n",
              "      border: none;\n",
              "      border-radius: 50%;\n",
              "      cursor: pointer;\n",
              "      display: none;\n",
              "      fill: #1967D2;\n",
              "      height: 32px;\n",
              "      padding: 0 0 0 0;\n",
              "      width: 32px;\n",
              "    }\n",
              "\n",
              "    .colab-df-convert:hover {\n",
              "      background-color: #E2EBFA;\n",
              "      box-shadow: 0px 1px 2px rgba(60, 64, 67, 0.3), 0px 1px 3px 1px rgba(60, 64, 67, 0.15);\n",
              "      fill: #174EA6;\n",
              "    }\n",
              "\n",
              "    .colab-df-buttons div {\n",
              "      margin-bottom: 4px;\n",
              "    }\n",
              "\n",
              "    [theme=dark] .colab-df-convert {\n",
              "      background-color: #3B4455;\n",
              "      fill: #D2E3FC;\n",
              "    }\n",
              "\n",
              "    [theme=dark] .colab-df-convert:hover {\n",
              "      background-color: #434B5C;\n",
              "      box-shadow: 0px 1px 3px 1px rgba(0, 0, 0, 0.15);\n",
              "      filter: drop-shadow(0px 1px 2px rgba(0, 0, 0, 0.3));\n",
              "      fill: #FFFFFF;\n",
              "    }\n",
              "  </style>\n",
              "\n",
              "    <script>\n",
              "      const buttonEl =\n",
              "        document.querySelector('#df-e98f5100-83f0-4266-b7a0-8fd6fab22ba2 button.colab-df-convert');\n",
              "      buttonEl.style.display =\n",
              "        google.colab.kernel.accessAllowed ? 'block' : 'none';\n",
              "\n",
              "      async function convertToInteractive(key) {\n",
              "        const element = document.querySelector('#df-e98f5100-83f0-4266-b7a0-8fd6fab22ba2');\n",
              "        const dataTable =\n",
              "          await google.colab.kernel.invokeFunction('convertToInteractive',\n",
              "                                                    [key], {});\n",
              "        if (!dataTable) return;\n",
              "\n",
              "        const docLinkHtml = 'Like what you see? Visit the ' +\n",
              "          '<a target=\"_blank\" href=https://colab.research.google.com/notebooks/data_table.ipynb>data table notebook</a>'\n",
              "          + ' to learn more about interactive tables.';\n",
              "        element.innerHTML = '';\n",
              "        dataTable['output_type'] = 'display_data';\n",
              "        await google.colab.output.renderOutput(dataTable, element);\n",
              "        const docLink = document.createElement('div');\n",
              "        docLink.innerHTML = docLinkHtml;\n",
              "        element.appendChild(docLink);\n",
              "      }\n",
              "    </script>\n",
              "  </div>\n",
              "\n",
              "\n",
              "<div id=\"df-b43a39f2-4d99-43c2-b90b-8034a7022d00\">\n",
              "  <button class=\"colab-df-quickchart\" onclick=\"quickchart('df-b43a39f2-4d99-43c2-b90b-8034a7022d00')\"\n",
              "            title=\"Suggest charts\"\n",
              "            style=\"display:none;\">\n",
              "\n",
              "<svg xmlns=\"http://www.w3.org/2000/svg\" height=\"24px\"viewBox=\"0 0 24 24\"\n",
              "     width=\"24px\">\n",
              "    <g>\n",
              "        <path d=\"M19 3H5c-1.1 0-2 .9-2 2v14c0 1.1.9 2 2 2h14c1.1 0 2-.9 2-2V5c0-1.1-.9-2-2-2zM9 17H7v-7h2v7zm4 0h-2V7h2v10zm4 0h-2v-4h2v4z\"/>\n",
              "    </g>\n",
              "</svg>\n",
              "  </button>\n",
              "\n",
              "<style>\n",
              "  .colab-df-quickchart {\n",
              "      --bg-color: #E8F0FE;\n",
              "      --fill-color: #1967D2;\n",
              "      --hover-bg-color: #E2EBFA;\n",
              "      --hover-fill-color: #174EA6;\n",
              "      --disabled-fill-color: #AAA;\n",
              "      --disabled-bg-color: #DDD;\n",
              "  }\n",
              "\n",
              "  [theme=dark] .colab-df-quickchart {\n",
              "      --bg-color: #3B4455;\n",
              "      --fill-color: #D2E3FC;\n",
              "      --hover-bg-color: #434B5C;\n",
              "      --hover-fill-color: #FFFFFF;\n",
              "      --disabled-bg-color: #3B4455;\n",
              "      --disabled-fill-color: #666;\n",
              "  }\n",
              "\n",
              "  .colab-df-quickchart {\n",
              "    background-color: var(--bg-color);\n",
              "    border: none;\n",
              "    border-radius: 50%;\n",
              "    cursor: pointer;\n",
              "    display: none;\n",
              "    fill: var(--fill-color);\n",
              "    height: 32px;\n",
              "    padding: 0;\n",
              "    width: 32px;\n",
              "  }\n",
              "\n",
              "  .colab-df-quickchart:hover {\n",
              "    background-color: var(--hover-bg-color);\n",
              "    box-shadow: 0 1px 2px rgba(60, 64, 67, 0.3), 0 1px 3px 1px rgba(60, 64, 67, 0.15);\n",
              "    fill: var(--button-hover-fill-color);\n",
              "  }\n",
              "\n",
              "  .colab-df-quickchart-complete:disabled,\n",
              "  .colab-df-quickchart-complete:disabled:hover {\n",
              "    background-color: var(--disabled-bg-color);\n",
              "    fill: var(--disabled-fill-color);\n",
              "    box-shadow: none;\n",
              "  }\n",
              "\n",
              "  .colab-df-spinner {\n",
              "    border: 2px solid var(--fill-color);\n",
              "    border-color: transparent;\n",
              "    border-bottom-color: var(--fill-color);\n",
              "    animation:\n",
              "      spin 1s steps(1) infinite;\n",
              "  }\n",
              "\n",
              "  @keyframes spin {\n",
              "    0% {\n",
              "      border-color: transparent;\n",
              "      border-bottom-color: var(--fill-color);\n",
              "      border-left-color: var(--fill-color);\n",
              "    }\n",
              "    20% {\n",
              "      border-color: transparent;\n",
              "      border-left-color: var(--fill-color);\n",
              "      border-top-color: var(--fill-color);\n",
              "    }\n",
              "    30% {\n",
              "      border-color: transparent;\n",
              "      border-left-color: var(--fill-color);\n",
              "      border-top-color: var(--fill-color);\n",
              "      border-right-color: var(--fill-color);\n",
              "    }\n",
              "    40% {\n",
              "      border-color: transparent;\n",
              "      border-right-color: var(--fill-color);\n",
              "      border-top-color: var(--fill-color);\n",
              "    }\n",
              "    60% {\n",
              "      border-color: transparent;\n",
              "      border-right-color: var(--fill-color);\n",
              "    }\n",
              "    80% {\n",
              "      border-color: transparent;\n",
              "      border-right-color: var(--fill-color);\n",
              "      border-bottom-color: var(--fill-color);\n",
              "    }\n",
              "    90% {\n",
              "      border-color: transparent;\n",
              "      border-bottom-color: var(--fill-color);\n",
              "    }\n",
              "  }\n",
              "</style>\n",
              "\n",
              "  <script>\n",
              "    async function quickchart(key) {\n",
              "      const quickchartButtonEl =\n",
              "        document.querySelector('#' + key + ' button');\n",
              "      quickchartButtonEl.disabled = true;  // To prevent multiple clicks.\n",
              "      quickchartButtonEl.classList.add('colab-df-spinner');\n",
              "      try {\n",
              "        const charts = await google.colab.kernel.invokeFunction(\n",
              "            'suggestCharts', [key], {});\n",
              "      } catch (error) {\n",
              "        console.error('Error during call to suggestCharts:', error);\n",
              "      }\n",
              "      quickchartButtonEl.classList.remove('colab-df-spinner');\n",
              "      quickchartButtonEl.classList.add('colab-df-quickchart-complete');\n",
              "    }\n",
              "    (() => {\n",
              "      let quickchartButtonEl =\n",
              "        document.querySelector('#df-b43a39f2-4d99-43c2-b90b-8034a7022d00 button');\n",
              "      quickchartButtonEl.style.display =\n",
              "        google.colab.kernel.accessAllowed ? 'block' : 'none';\n",
              "    })();\n",
              "  </script>\n",
              "</div>\n",
              "\n",
              "  <div id=\"id_97959ee7-0e22-408e-8140-1e7646d2d6b3\">\n",
              "    <style>\n",
              "      .colab-df-generate {\n",
              "        background-color: #E8F0FE;\n",
              "        border: none;\n",
              "        border-radius: 50%;\n",
              "        cursor: pointer;\n",
              "        display: none;\n",
              "        fill: #1967D2;\n",
              "        height: 32px;\n",
              "        padding: 0 0 0 0;\n",
              "        width: 32px;\n",
              "      }\n",
              "\n",
              "      .colab-df-generate:hover {\n",
              "        background-color: #E2EBFA;\n",
              "        box-shadow: 0px 1px 2px rgba(60, 64, 67, 0.3), 0px 1px 3px 1px rgba(60, 64, 67, 0.15);\n",
              "        fill: #174EA6;\n",
              "      }\n",
              "\n",
              "      [theme=dark] .colab-df-generate {\n",
              "        background-color: #3B4455;\n",
              "        fill: #D2E3FC;\n",
              "      }\n",
              "\n",
              "      [theme=dark] .colab-df-generate:hover {\n",
              "        background-color: #434B5C;\n",
              "        box-shadow: 0px 1px 3px 1px rgba(0, 0, 0, 0.15);\n",
              "        filter: drop-shadow(0px 1px 2px rgba(0, 0, 0, 0.3));\n",
              "        fill: #FFFFFF;\n",
              "      }\n",
              "    </style>\n",
              "    <button class=\"colab-df-generate\" onclick=\"generateWithVariable('df')\"\n",
              "            title=\"Generate code using this dataframe.\"\n",
              "            style=\"display:none;\">\n",
              "\n",
              "  <svg xmlns=\"http://www.w3.org/2000/svg\" height=\"24px\"viewBox=\"0 0 24 24\"\n",
              "       width=\"24px\">\n",
              "    <path d=\"M7,19H8.4L18.45,9,17,7.55,7,17.6ZM5,21V16.75L18.45,3.32a2,2,0,0,1,2.83,0l1.4,1.43a1.91,1.91,0,0,1,.58,1.4,1.91,1.91,0,0,1-.58,1.4L9.25,21ZM18.45,9,17,7.55Zm-12,3A5.31,5.31,0,0,0,4.9,8.1,5.31,5.31,0,0,0,1,6.5,5.31,5.31,0,0,0,4.9,4.9,5.31,5.31,0,0,0,6.5,1,5.31,5.31,0,0,0,8.1,4.9,5.31,5.31,0,0,0,12,6.5,5.46,5.46,0,0,0,6.5,12Z\"/>\n",
              "  </svg>\n",
              "    </button>\n",
              "    <script>\n",
              "      (() => {\n",
              "      const buttonEl =\n",
              "        document.querySelector('#id_97959ee7-0e22-408e-8140-1e7646d2d6b3 button.colab-df-generate');\n",
              "      buttonEl.style.display =\n",
              "        google.colab.kernel.accessAllowed ? 'block' : 'none';\n",
              "\n",
              "      buttonEl.onclick = () => {\n",
              "        google.colab.notebook.generateWithVariable('df');\n",
              "      }\n",
              "      })();\n",
              "    </script>\n",
              "  </div>\n",
              "\n",
              "    </div>\n",
              "  </div>\n"
            ],
            "application/vnd.google.colaboratory.intrinsic+json": {
              "type": "dataframe",
              "variable_name": "df",
              "summary": "{\n  \"name\": \"df\",\n  \"rows\": 50000,\n  \"fields\": [\n    {\n      \"column\": \"MONTH\",\n      \"properties\": {\n        \"dtype\": \"number\",\n        \"std\": 3,\n        \"min\": 1,\n        \"max\": 12,\n        \"num_unique_values\": 12,\n        \"samples\": [\n          2,\n          4,\n          11\n        ],\n        \"semantic_type\": \"\",\n        \"description\": \"\"\n      }\n    },\n    {\n      \"column\": \"DAY_OF_MONTH\",\n      \"properties\": {\n        \"dtype\": \"number\",\n        \"std\": 8,\n        \"min\": 1,\n        \"max\": 31,\n        \"num_unique_values\": 31,\n        \"samples\": [\n          8,\n          26,\n          5\n        ],\n        \"semantic_type\": \"\",\n        \"description\": \"\"\n      }\n    },\n    {\n      \"column\": \"DAY_OF_WEEK\",\n      \"properties\": {\n        \"dtype\": \"number\",\n        \"std\": 2,\n        \"min\": 1,\n        \"max\": 7,\n        \"num_unique_values\": 7,\n        \"samples\": [\n          5,\n          6,\n          2\n        ],\n        \"semantic_type\": \"\",\n        \"description\": \"\"\n      }\n    },\n    {\n      \"column\": \"CRS_DEP_TIME\",\n      \"properties\": {\n        \"dtype\": \"number\",\n        \"std\": 1,\n        \"min\": 1,\n        \"max\": 8,\n        \"num_unique_values\": 8,\n        \"samples\": [\n          7,\n          6,\n          4\n        ],\n        \"semantic_type\": \"\",\n        \"description\": \"\"\n      }\n    },\n    {\n      \"column\": \"DEP_DELAY\",\n      \"properties\": {\n        \"dtype\": \"number\",\n        \"std\": 27.276291353477657,\n        \"min\": -39.0,\n        \"max\": 180.0,\n        \"num_unique_values\": 214,\n        \"samples\": [\n          14.0,\n          155.0,\n          61.0\n        ],\n        \"semantic_type\": \"\",\n        \"description\": \"\"\n      }\n    },\n    {\n      \"column\": \"CRS_ARR_TIME\",\n      \"properties\": {\n        \"dtype\": \"number\",\n        \"std\": 1,\n        \"min\": 1,\n        \"max\": 8,\n        \"num_unique_values\": 8,\n        \"samples\": [\n          8,\n          3,\n          5\n        ],\n        \"semantic_type\": \"\",\n        \"description\": \"\"\n      }\n    },\n    {\n      \"column\": \"CRS_ELAPSED_TIME\",\n      \"properties\": {\n        \"dtype\": \"number\",\n        \"std\": 65.68338802312837,\n        \"min\": 23.0,\n        \"max\": 360.0,\n        \"num_unique_values\": 332,\n        \"samples\": [\n          130.0,\n          268.0,\n          204.0\n        ],\n        \"semantic_type\": \"\",\n        \"description\": \"\"\n      }\n    },\n    {\n      \"column\": \"DISTANCE\",\n      \"properties\": {\n        \"dtype\": \"number\",\n        \"std\": 547.2090180492653,\n        \"min\": 31.0,\n        \"max\": 2979.0,\n        \"num_unique_values\": 1465,\n        \"samples\": [\n          77.0,\n          641.0,\n          612.0\n        ],\n        \"semantic_type\": \"\",\n        \"description\": \"\"\n      }\n    },\n    {\n      \"column\": \"Status\",\n      \"properties\": {\n        \"dtype\": \"number\",\n        \"std\": 0,\n        \"min\": 0,\n        \"max\": 1,\n        \"num_unique_values\": 2,\n        \"samples\": [\n          1,\n          0\n        ],\n        \"semantic_type\": \"\",\n        \"description\": \"\"\n      }\n    },\n    {\n      \"column\": \"ORIGIN_AIRPORT_ID_Encoded\",\n      \"properties\": {\n        \"dtype\": \"number\",\n        \"std\": 100,\n        \"min\": 0,\n        \"max\": 371,\n        \"num_unique_values\": 362,\n        \"samples\": [\n          61,\n          184\n        ],\n        \"semantic_type\": \"\",\n        \"description\": \"\"\n      }\n    },\n    {\n      \"column\": \"DEST_AIRPORT_ID_Encoded\",\n      \"properties\": {\n        \"dtype\": \"number\",\n        \"std\": 100,\n        \"min\": 0,\n        \"max\": 372,\n        \"num_unique_values\": 361,\n        \"samples\": [\n          141,\n          160\n        ],\n        \"semantic_type\": \"\",\n        \"description\": \"\"\n      }\n    }\n  ]\n}"
            }
          },
          "metadata": {},
          "execution_count": 6
        }
      ]
    },
    {
      "cell_type": "code",
      "source": [
        "df['Status'].value_counts(normalize=True)"
      ],
      "metadata": {
        "execution": {
          "iopub.status.busy": "2024-03-24T10:52:10.787191Z",
          "iopub.execute_input": "2024-03-24T10:52:10.788599Z",
          "iopub.status.idle": "2024-03-24T10:52:10.803043Z",
          "shell.execute_reply.started": "2024-03-24T10:52:10.788551Z",
          "shell.execute_reply": "2024-03-24T10:52:10.801614Z"
        },
        "trusted": true,
        "id": "_UFml9edI-pE",
        "outputId": "ca14c1e2-02de-481a-a9d7-8cdd2acf3e6e",
        "colab": {
          "base_uri": "https://localhost:8080/"
        }
      },
      "execution_count": 7,
      "outputs": [
        {
          "output_type": "execute_result",
          "data": {
            "text/plain": [
              "0    0.63392\n",
              "1    0.36608\n",
              "Name: Status, dtype: float64"
            ]
          },
          "metadata": {},
          "execution_count": 7
        }
      ]
    },
    {
      "cell_type": "code",
      "source": [
        "X = df.drop('Status', axis=1)\n",
        "y = df['Status']\n",
        "\n",
        "X_train, X_test, y_train, y_test = train_test_split(X, y, test_size=0.2, random_state=42)"
      ],
      "metadata": {
        "id": "gMZrK5Be_lQv",
        "execution": {
          "iopub.status.busy": "2024-03-24T10:52:08.812769Z",
          "iopub.execute_input": "2024-03-24T10:52:08.813198Z",
          "iopub.status.idle": "2024-03-24T10:52:08.828758Z",
          "shell.execute_reply.started": "2024-03-24T10:52:08.813166Z",
          "shell.execute_reply": "2024-03-24T10:52:08.827725Z"
        },
        "trusted": true
      },
      "execution_count": 8,
      "outputs": []
    },
    {
      "cell_type": "markdown",
      "source": [
        "# **1. Supper Vector Machine**"
      ],
      "metadata": {
        "id": "07Y1Jbg8MHVC"
      }
    },
    {
      "cell_type": "markdown",
      "source": [
        "## **1.1. No sampling**"
      ],
      "metadata": {
        "id": "zEFZGDNmMHVJ"
      }
    },
    {
      "cell_type": "code",
      "source": [
        "svm = SVC()\n",
        "svm.fit(X_train, y_train)\n",
        "y_pred_svm = svm.predict(X_test)\n",
        "\n",
        "print(confusion_matrix(y_test, y_pred_svm))\n",
        "print(classification_report(y_test, y_pred_svm))"
      ],
      "metadata": {
        "colab": {
          "background_save": true
        },
        "id": "6W0Uab6jMHVJ",
        "outputId": "79510fd9-4118-4931-9b46-ef776b9bacb3",
        "execution": {
          "iopub.status.busy": "2024-03-24T07:14:01.757296Z",
          "iopub.execute_input": "2024-03-24T07:14:01.757793Z",
          "iopub.status.idle": "2024-03-24T07:14:51.590443Z",
          "shell.execute_reply.started": "2024-03-24T07:14:01.757752Z",
          "shell.execute_reply": "2024-03-24T07:14:51.587312Z"
        },
        "trusted": true
      },
      "execution_count": null,
      "outputs": [
        {
          "name": "stdout",
          "text": "[[6238   94]\n [1685 1983]]\n              precision    recall  f1-score   support\n\n           0       0.79      0.99      0.88      6332\n           1       0.95      0.54      0.69      3668\n\n    accuracy                           0.82     10000\n   macro avg       0.87      0.76      0.78     10000\nweighted avg       0.85      0.82      0.81     10000\n\n",
          "output_type": "stream"
        }
      ]
    },
    {
      "cell_type": "markdown",
      "source": [
        "## **1.2. SMOTETomek**"
      ],
      "metadata": {
        "id": "OzTgpjcPMHVJ"
      }
    },
    {
      "cell_type": "code",
      "source": [
        "SMOTETomek_pipeline_svm = make_pipeline(SMOTETomek(tomek=TomekLinks(sampling_strategy='majority')),\n",
        "                                    SVC())\n",
        "\n",
        "SMOTETomek_svm = SMOTETomek_pipeline_svm.fit(X_train, y_train)\n",
        "y_pred_svm_tm = SMOTETomek_svm.predict(X_test)\n",
        "\n",
        "print(confusion_matrix(y_test, y_pred_svm_tm))\n",
        "print(classification_report(y_test, y_pred_svm_tm))"
      ],
      "metadata": {
        "id": "1_JFUf2wMHVJ",
        "execution": {
          "iopub.status.busy": "2024-03-24T07:16:25.955012Z",
          "iopub.execute_input": "2024-03-24T07:16:25.955576Z",
          "iopub.status.idle": "2024-03-24T07:17:59.350846Z",
          "shell.execute_reply.started": "2024-03-24T07:16:25.955527Z",
          "shell.execute_reply": "2024-03-24T07:17:59.349757Z"
        },
        "trusted": true,
        "outputId": "3b6e9258-5448-4164-e1d4-80b8a3e3fa29"
      },
      "execution_count": null,
      "outputs": [
        {
          "name": "stdout",
          "text": "[[6039  293]\n [1319 2349]]\n              precision    recall  f1-score   support\n\n           0       0.82      0.95      0.88      6332\n           1       0.89      0.64      0.74      3668\n\n    accuracy                           0.84     10000\n   macro avg       0.85      0.80      0.81     10000\nweighted avg       0.85      0.84      0.83     10000\n\n",
          "output_type": "stream"
        }
      ]
    },
    {
      "cell_type": "markdown",
      "source": [
        "## **1.3. SMOTE-RUS**"
      ],
      "metadata": {
        "id": "lSCtnztmMHVJ"
      }
    },
    {
      "cell_type": "code",
      "source": [
        "SMOTERUS_pipeline_svm = make_pipeline(SMOTE(sampling_strategy='minority'),\n",
        "                                      RandomUnderSampler(sampling_strategy='majority'),\n",
        "                                      SVC())\n",
        "\n",
        "SMOTERUS_svm = SMOTERUS_pipeline_svm.fit(X_train, y_train)\n",
        "y_pred_svm_rus = SMOTERUS_svm.predict(X_test)\n",
        "\n",
        "print(confusion_matrix(y_test, y_pred_svm_rus))\n",
        "print(classification_report(y_test, y_pred_svm_rus))"
      ],
      "metadata": {
        "id": "N9rLrSebMHVJ",
        "execution": {
          "iopub.status.busy": "2024-03-24T07:17:59.353274Z",
          "iopub.execute_input": "2024-03-24T07:17:59.353648Z",
          "iopub.status.idle": "2024-03-24T07:19:36.625402Z",
          "shell.execute_reply.started": "2024-03-24T07:17:59.35362Z",
          "shell.execute_reply": "2024-03-24T07:19:36.624056Z"
        },
        "trusted": true,
        "outputId": "c232986d-9ed4-47ea-bde7-a1e1993cb617"
      },
      "execution_count": null,
      "outputs": [
        {
          "name": "stdout",
          "text": "[[6076  256]\n [1351 2317]]\n              precision    recall  f1-score   support\n\n           0       0.82      0.96      0.88      6332\n           1       0.90      0.63      0.74      3668\n\n    accuracy                           0.84     10000\n   macro avg       0.86      0.80      0.81     10000\nweighted avg       0.85      0.84      0.83     10000\n\n",
          "output_type": "stream"
        }
      ]
    },
    {
      "cell_type": "code",
      "source": [
        "print(\"ROC-AUC for No sampling:\",  roc_auc_score(y_test, y_pred_svm))\n",
        "print(\"ROC-AUC for SMOTETomek:\",  roc_auc_score(y_test, y_pred_svm_tm))\n",
        "print(\"ROC-AUC for SMOTERUS:\",  roc_auc_score(y_test, y_pred_svm_rus))\n"
      ],
      "metadata": {
        "id": "UMDQ6M4dMHVJ",
        "execution": {
          "iopub.status.busy": "2024-03-24T07:19:36.627003Z",
          "iopub.execute_input": "2024-03-24T07:19:36.627371Z",
          "iopub.status.idle": "2024-03-24T07:19:36.651325Z",
          "shell.execute_reply.started": "2024-03-24T07:19:36.627342Z",
          "shell.execute_reply": "2024-03-24T07:19:36.650121Z"
        },
        "trusted": true,
        "outputId": "1f3a6994-c6aa-46f3-968a-92823cfd847a"
      },
      "execution_count": null,
      "outputs": [
        {
          "name": "stdout",
          "text": "ROC-AUC for No sampling: 0.7628881807867259\nROC-AUC for SMOTETomek: 0.7970652950411645\nROC-AUC for SMOTERUS: 0.7956249125971077\n",
          "output_type": "stream"
        }
      ]
    },
    {
      "cell_type": "markdown",
      "source": [
        "# **2. Random Forest**"
      ],
      "metadata": {
        "id": "MD047J2rMH9G"
      }
    },
    {
      "cell_type": "markdown",
      "source": [
        "## **2.1. No sampling**"
      ],
      "metadata": {
        "id": "J0DF4P8yMH9G"
      }
    },
    {
      "cell_type": "code",
      "source": [
        "rf = RandomForestClassifier()\n",
        "rf.fit(X_train, y_train)\n",
        "y_pred_rf = rf.predict(X_test)\n",
        "\n",
        "print(confusion_matrix(y_test, y_pred_rf))\n",
        "print(classification_report(y_test, y_pred_rf))"
      ],
      "metadata": {
        "id": "oIL9ispbMH9G",
        "execution": {
          "iopub.status.busy": "2024-03-24T07:19:46.430924Z",
          "iopub.execute_input": "2024-03-24T07:19:46.431735Z",
          "iopub.status.idle": "2024-03-24T07:19:56.160547Z",
          "shell.execute_reply.started": "2024-03-24T07:19:46.431679Z",
          "shell.execute_reply": "2024-03-24T07:19:56.158776Z"
        },
        "trusted": true,
        "outputId": "40cb66b0-774a-401a-be5a-6dea01599fcb"
      },
      "execution_count": null,
      "outputs": [
        {
          "name": "stdout",
          "text": "[[6016  316]\n [1321 2347]]\n              precision    recall  f1-score   support\n\n           0       0.82      0.95      0.88      6332\n           1       0.88      0.64      0.74      3668\n\n    accuracy                           0.84     10000\n   macro avg       0.85      0.79      0.81     10000\nweighted avg       0.84      0.84      0.83     10000\n\n",
          "output_type": "stream"
        }
      ]
    },
    {
      "cell_type": "markdown",
      "source": [
        "## **2.2. SMOTETomek**"
      ],
      "metadata": {
        "id": "5OUxgG4IMH9G"
      }
    },
    {
      "cell_type": "code",
      "source": [
        "SMOTETomek_pipeline_rf = make_pipeline(SMOTETomek(tomek=TomekLinks(sampling_strategy='majority')),\n",
        "                                    RandomForestClassifier())\n",
        "\n",
        "SMOTETomek_rf = SMOTETomek_pipeline_rf.fit(X_train, y_train)\n",
        "y_pred_rf_rf = SMOTETomek_rf.predict(X_test)\n",
        "\n",
        "print(confusion_matrix(y_test, y_pred_rf_rf))\n",
        "print(classification_report(y_test, y_pred_rf_rf))"
      ],
      "metadata": {
        "id": "5sgKZy_iMH9G",
        "execution": {
          "iopub.status.busy": "2024-03-24T07:19:56.162468Z",
          "iopub.execute_input": "2024-03-24T07:19:56.162884Z",
          "iopub.status.idle": "2024-03-24T07:20:09.870981Z",
          "shell.execute_reply.started": "2024-03-24T07:19:56.162851Z",
          "shell.execute_reply": "2024-03-24T07:20:09.869468Z"
        },
        "trusted": true,
        "outputId": "a63418be-6ae5-42ce-96e5-584707bcf735"
      },
      "execution_count": null,
      "outputs": [
        {
          "name": "stdout",
          "text": "[[5725  607]\n [1145 2523]]\n              precision    recall  f1-score   support\n\n           0       0.83      0.90      0.87      6332\n           1       0.81      0.69      0.74      3668\n\n    accuracy                           0.82     10000\n   macro avg       0.82      0.80      0.80     10000\nweighted avg       0.82      0.82      0.82     10000\n\n",
          "output_type": "stream"
        }
      ]
    },
    {
      "cell_type": "markdown",
      "source": [
        "## **2.3. SMOTE-RUS**"
      ],
      "metadata": {
        "id": "v8ahywaeMH9H"
      }
    },
    {
      "cell_type": "code",
      "source": [
        "SMOTERUS_pipeline_rf = make_pipeline(SMOTE(sampling_strategy='minority'),\n",
        "                                      RandomUnderSampler(sampling_strategy='majority'),\n",
        "                                      RandomForestClassifier())\n",
        "\n",
        "SMOTERUS_rf = SMOTERUS_pipeline_rf.fit(X_train, y_train)\n",
        "y_pred_rf_rus = SMOTERUS_rf.predict(X_test)\n",
        "\n",
        "print(confusion_matrix(y_test, y_pred_rf_rus))\n",
        "print(classification_report(y_test, y_pred_rf_rus))"
      ],
      "metadata": {
        "id": "XxJzA7qPMH9H",
        "execution": {
          "iopub.status.busy": "2024-03-24T07:20:09.873524Z",
          "iopub.execute_input": "2024-03-24T07:20:09.874128Z",
          "iopub.status.idle": "2024-03-24T07:20:23.189418Z",
          "shell.execute_reply.started": "2024-03-24T07:20:09.874084Z",
          "shell.execute_reply": "2024-03-24T07:20:23.188112Z"
        },
        "trusted": true,
        "outputId": "98a41b72-3c14-407d-ea73-31e05abeccda"
      },
      "execution_count": null,
      "outputs": [
        {
          "name": "stdout",
          "text": "[[5800  532]\n [1195 2473]]\n              precision    recall  f1-score   support\n\n           0       0.83      0.92      0.87      6332\n           1       0.82      0.67      0.74      3668\n\n    accuracy                           0.83     10000\n   macro avg       0.83      0.80      0.81     10000\nweighted avg       0.83      0.83      0.82     10000\n\n",
          "output_type": "stream"
        }
      ]
    },
    {
      "cell_type": "code",
      "source": [
        "print(\"ROC-AUC for No sampling:\",  roc_auc_score(y_test, y_pred_rf))\n",
        "print(\"ROC-AUC for SMOTETomek:\",  roc_auc_score(y_test, y_pred_rf_rf))\n",
        "print(\"ROC-AUC for SMOTERUS:\",  roc_auc_score(y_test, y_pred_rf_rus))\n"
      ],
      "metadata": {
        "id": "0fKWOSaYMH9H",
        "execution": {
          "iopub.status.busy": "2024-03-24T07:28:34.833587Z",
          "iopub.execute_input": "2024-03-24T07:28:34.834024Z",
          "iopub.status.idle": "2024-03-24T07:28:34.856018Z",
          "shell.execute_reply.started": "2024-03-24T07:28:34.833994Z",
          "shell.execute_reply": "2024-03-24T07:28:34.853998Z"
        },
        "trusted": true,
        "outputId": "78292402-549a-4f06-fb2a-a14351f34cc6"
      },
      "execution_count": null,
      "outputs": [
        {
          "name": "stdout",
          "text": "ROC-AUC for No sampling: 0.7949764950802937\nROC-AUC for SMOTETomek: 0.7959892491859044\nROC-AUC for SMOTERUS: 0.7950958452367748\n",
          "output_type": "stream"
        }
      ]
    },
    {
      "cell_type": "markdown",
      "source": [
        "# **3. Decision Tree**"
      ],
      "metadata": {
        "id": "-UEm4x2WMIIu"
      }
    },
    {
      "cell_type": "markdown",
      "source": [
        "## **3.1. No sampling**"
      ],
      "metadata": {
        "id": "6h7wtVS9MIIv"
      }
    },
    {
      "cell_type": "code",
      "source": [
        "dt = DecisionTreeClassifier()\n",
        "dt.fit(X_train, y_train)\n",
        "y_pred_dt = dt.predict(X_test)\n",
        "\n",
        "print(confusion_matrix(y_test, y_pred_dt))\n",
        "print(classification_report(y_test, y_pred_dt))"
      ],
      "metadata": {
        "id": "13MYZm4MMIIv",
        "execution": {
          "iopub.status.busy": "2024-03-24T07:28:37.777223Z",
          "iopub.execute_input": "2024-03-24T07:28:37.778619Z",
          "iopub.status.idle": "2024-03-24T07:28:38.239087Z",
          "shell.execute_reply.started": "2024-03-24T07:28:37.778576Z",
          "shell.execute_reply": "2024-03-24T07:28:38.237608Z"
        },
        "trusted": true,
        "outputId": "e570a58a-dfed-453c-9fe8-7a45784073f3"
      },
      "execution_count": null,
      "outputs": [
        {
          "name": "stdout",
          "text": "[[4992 1340]\n [1157 2511]]\n              precision    recall  f1-score   support\n\n           0       0.81      0.79      0.80      6332\n           1       0.65      0.68      0.67      3668\n\n    accuracy                           0.75     10000\n   macro avg       0.73      0.74      0.73     10000\nweighted avg       0.75      0.75      0.75     10000\n\n",
          "output_type": "stream"
        }
      ]
    },
    {
      "cell_type": "markdown",
      "source": [
        "## **3.2. SMOTETomek**"
      ],
      "metadata": {
        "id": "dn4d1v2aMIIw"
      }
    },
    {
      "cell_type": "code",
      "source": [
        "SMOTETomek_pipeline_dt = make_pipeline(SMOTETomek(tomek=TomekLinks(sampling_strategy='majority')),\n",
        "                                    DecisionTreeClassifier())\n",
        "\n",
        "SMOTETomek_dt = SMOTETomek_pipeline_dt.fit(X_train, y_train)\n",
        "y_pred_dt_tm = SMOTETomek_dt.predict(X_test)\n",
        "\n",
        "print(confusion_matrix(y_test, y_pred_dt_tm))\n",
        "print(classification_report(y_test, y_pred_dt_tm))"
      ],
      "metadata": {
        "id": "UeflrZxwMIIw",
        "execution": {
          "iopub.status.busy": "2024-03-24T07:28:39.275852Z",
          "iopub.execute_input": "2024-03-24T07:28:39.277296Z",
          "iopub.status.idle": "2024-03-24T07:28:40.839196Z",
          "shell.execute_reply.started": "2024-03-24T07:28:39.277232Z",
          "shell.execute_reply": "2024-03-24T07:28:40.837833Z"
        },
        "trusted": true,
        "outputId": "cf5d4ea6-739c-4347-8afe-05f5b4d1693d"
      },
      "execution_count": null,
      "outputs": [
        {
          "name": "stdout",
          "text": "[[4944 1388]\n [1182 2486]]\n              precision    recall  f1-score   support\n\n           0       0.81      0.78      0.79      6332\n           1       0.64      0.68      0.66      3668\n\n    accuracy                           0.74     10000\n   macro avg       0.72      0.73      0.73     10000\nweighted avg       0.75      0.74      0.74     10000\n\n",
          "output_type": "stream"
        }
      ]
    },
    {
      "cell_type": "markdown",
      "source": [
        "## **3.3. SMOTE-RUS**"
      ],
      "metadata": {
        "id": "Idp6Ah6uMIIw"
      }
    },
    {
      "cell_type": "code",
      "source": [
        "SMOTERUS_pipeline_dt = make_pipeline(SMOTE(sampling_strategy='minority'),\n",
        "                                      RandomUnderSampler(sampling_strategy='majority'),\n",
        "                                      DecisionTreeClassifier())\n",
        "\n",
        "SMOTERUS_dt = SMOTERUS_pipeline_dt.fit(X_train, y_train)\n",
        "y_pred_dt_rus = SMOTERUS_dt.predict(X_test)\n",
        "\n",
        "print(confusion_matrix(y_test, y_pred_dt_rus))\n",
        "print(classification_report(y_test, y_pred_dt_rus))"
      ],
      "metadata": {
        "id": "N5zAwF3MMIIw",
        "execution": {
          "iopub.status.busy": "2024-03-24T07:28:40.842244Z",
          "iopub.execute_input": "2024-03-24T07:28:40.842802Z",
          "iopub.status.idle": "2024-03-24T07:28:41.592343Z",
          "shell.execute_reply.started": "2024-03-24T07:28:40.842758Z",
          "shell.execute_reply": "2024-03-24T07:28:41.591148Z"
        },
        "trusted": true,
        "outputId": "35ebd7d0-313f-488f-ec6b-bc368ec43b6f"
      },
      "execution_count": null,
      "outputs": [
        {
          "name": "stdout",
          "text": "[[4963 1369]\n [1198 2470]]\n              precision    recall  f1-score   support\n\n           0       0.81      0.78      0.79      6332\n           1       0.64      0.67      0.66      3668\n\n    accuracy                           0.74     10000\n   macro avg       0.72      0.73      0.73     10000\nweighted avg       0.75      0.74      0.74     10000\n\n",
          "output_type": "stream"
        }
      ]
    },
    {
      "cell_type": "code",
      "source": [
        "print(\"ROC-AUC for No sampling:\",  roc_auc_score(y_test, y_pred_dt))\n",
        "print(\"ROC-AUC for SMOTETomek:\",  roc_auc_score(y_test, y_pred_dt_tm))\n",
        "print(\"ROC-AUC for SMOTERUS:\",  roc_auc_score(y_test, y_pred_dt_rus))\n"
      ],
      "metadata": {
        "id": "c4JgzVp-MIIx",
        "execution": {
          "iopub.status.busy": "2024-03-24T07:28:41.593892Z",
          "iopub.execute_input": "2024-03-24T07:28:41.594986Z",
          "iopub.status.idle": "2024-03-24T07:28:41.617969Z",
          "shell.execute_reply.started": "2024-03-24T07:28:41.594891Z",
          "shell.execute_reply": "2024-03-24T07:28:41.616484Z"
        },
        "trusted": true,
        "outputId": "f38a0615-2f73-41ff-85df-dcc02ea672a4"
      },
      "execution_count": null,
      "outputs": [
        {
          "name": "stdout",
          "text": "ROC-AUC for No sampling: 0.7364728739311013\nROC-AUC for SMOTETomek: 0.729274750604673\nROC-AUC for SMOTERUS: 0.7285940413788542\n",
          "output_type": "stream"
        }
      ]
    },
    {
      "cell_type": "markdown",
      "source": [
        "# **4. XGBoost**"
      ],
      "metadata": {
        "id": "MoljP0hfMIVB"
      }
    },
    {
      "cell_type": "markdown",
      "source": [
        "## **4.1. No sampling**"
      ],
      "metadata": {
        "id": "rwqhGX5wMIVB"
      }
    },
    {
      "cell_type": "code",
      "source": [
        "xgb = XGBClassifier()\n",
        "xgb.fit(X_train, y_train)\n",
        "y_pred_xgb = xgb.predict(X_test)\n",
        "\n",
        "print(confusion_matrix(y_test, y_pred_xgb))\n",
        "print(classification_report(y_test, y_pred_xgb))"
      ],
      "metadata": {
        "id": "UrHhMJCcMIVB",
        "execution": {
          "iopub.status.busy": "2024-03-24T07:28:41.620526Z",
          "iopub.execute_input": "2024-03-24T07:28:41.620918Z",
          "iopub.status.idle": "2024-03-24T07:28:42.142791Z",
          "shell.execute_reply.started": "2024-03-24T07:28:41.620887Z",
          "shell.execute_reply": "2024-03-24T07:28:42.14115Z"
        },
        "trusted": true,
        "outputId": "2675aead-df98-463a-e646-9f817245d793"
      },
      "execution_count": null,
      "outputs": [
        {
          "name": "stdout",
          "text": "[[5970  362]\n [1292 2376]]\n              precision    recall  f1-score   support\n\n           0       0.82      0.94      0.88      6332\n           1       0.87      0.65      0.74      3668\n\n    accuracy                           0.83     10000\n   macro avg       0.84      0.80      0.81     10000\nweighted avg       0.84      0.83      0.83     10000\n\n",
          "output_type": "stream"
        }
      ]
    },
    {
      "cell_type": "markdown",
      "source": [
        "## **4.2. SMOTETomek**"
      ],
      "metadata": {
        "id": "Kff6nkGqMIVC"
      }
    },
    {
      "cell_type": "code",
      "source": [
        "SMOTETomek_pipeline_xgb = make_pipeline(SMOTETomek(tomek=TomekLinks(sampling_strategy='majority')),\n",
        "                                    XGBClassifier())\n",
        "\n",
        "SMOTETomek_xgb = SMOTETomek_pipeline_xgb.fit(X_train, y_train)\n",
        "y_pred_xgb_tm = SMOTETomek_xgb.predict(X_test)\n",
        "\n",
        "print(confusion_matrix(y_test, y_pred_xgb_tm))\n",
        "print(classification_report(y_test, y_pred_xgb_tm))"
      ],
      "metadata": {
        "id": "UEENQBTjMIVC",
        "execution": {
          "iopub.status.busy": "2024-03-24T07:28:42.191358Z",
          "iopub.execute_input": "2024-03-24T07:28:42.192738Z",
          "iopub.status.idle": "2024-03-24T07:28:43.737875Z",
          "shell.execute_reply.started": "2024-03-24T07:28:42.192691Z",
          "shell.execute_reply": "2024-03-24T07:28:43.736079Z"
        },
        "trusted": true,
        "outputId": "cc1cee7e-4570-4310-991f-119a25da2290"
      },
      "execution_count": null,
      "outputs": [
        {
          "name": "stdout",
          "text": "[[5679  653]\n [1111 2557]]\n              precision    recall  f1-score   support\n\n           0       0.84      0.90      0.87      6332\n           1       0.80      0.70      0.74      3668\n\n    accuracy                           0.82     10000\n   macro avg       0.82      0.80      0.80     10000\nweighted avg       0.82      0.82      0.82     10000\n\n",
          "output_type": "stream"
        }
      ]
    },
    {
      "cell_type": "markdown",
      "source": [
        "## **4.3. SMOTE-RUS**"
      ],
      "metadata": {
        "id": "YFt1EqcoMIVD"
      }
    },
    {
      "cell_type": "code",
      "source": [
        "SMOTERUS_pipeline_xgb = make_pipeline(SMOTE(sampling_strategy='minority'),\n",
        "                                      RandomUnderSampler(sampling_strategy='majority'),\n",
        "                                      XGBClassifier())\n",
        "\n",
        "SMOTERUS_xgb = SMOTERUS_pipeline_xgb.fit(X_train, y_train)\n",
        "y_pred_xgb_rus = SMOTERUS_xgb.predict(X_test)\n",
        "\n",
        "print(confusion_matrix(y_test, y_pred_xgb_rus))\n",
        "print(classification_report(y_test, y_pred_xgb_rus))"
      ],
      "metadata": {
        "id": "HbqsgGhMMIVD",
        "execution": {
          "iopub.status.busy": "2024-03-24T07:28:43.740946Z",
          "iopub.execute_input": "2024-03-24T07:28:43.741525Z",
          "iopub.status.idle": "2024-03-24T07:28:44.50414Z",
          "shell.execute_reply.started": "2024-03-24T07:28:43.741479Z",
          "shell.execute_reply": "2024-03-24T07:28:44.502875Z"
        },
        "trusted": true,
        "outputId": "a024e817-848b-4dfb-eb9c-142fea16c618"
      },
      "execution_count": null,
      "outputs": [
        {
          "name": "stdout",
          "text": "[[5752  580]\n [1172 2496]]\n              precision    recall  f1-score   support\n\n           0       0.83      0.91      0.87      6332\n           1       0.81      0.68      0.74      3668\n\n    accuracy                           0.82     10000\n   macro avg       0.82      0.79      0.80     10000\nweighted avg       0.82      0.82      0.82     10000\n\n",
          "output_type": "stream"
        }
      ]
    },
    {
      "cell_type": "code",
      "source": [
        "print(\"ROC-AUC for No sampling:\",  roc_auc_score(y_test, y_pred_xgb))\n",
        "print(\"ROC-AUC for SMOTETomek:\",  roc_auc_score(y_test, y_pred_xgb_tm))\n",
        "print(\"ROC-AUC for SMOTERUS:\",  roc_auc_score(y_test, y_pred_xgb_rus))\n"
      ],
      "metadata": {
        "id": "OGIEWMZrMIVD",
        "execution": {
          "iopub.status.busy": "2024-03-24T07:28:44.505919Z",
          "iopub.execute_input": "2024-03-24T07:28:44.506436Z",
          "iopub.status.idle": "2024-03-24T07:28:44.530848Z",
          "shell.execute_reply.started": "2024-03-24T07:28:44.506357Z",
          "shell.execute_reply": "2024-03-24T07:28:44.529255Z"
        },
        "trusted": true,
        "outputId": "aa132966-7346-4701-a153-4c6368e100f1"
      },
      "execution_count": null,
      "outputs": [
        {
          "name": "stdout",
          "text": "ROC-AUC for No sampling: 0.7952972593897402\nROC-AUC for SMOTETomek: 0.79699158383341\nROC-AUC for SMOTERUS: 0.7944407971557119\n",
          "output_type": "stream"
        }
      ]
    },
    {
      "cell_type": "markdown",
      "source": [
        "# **5. XGBoost Random Forest**"
      ],
      "metadata": {
        "id": "-J567RyPMIiZ"
      }
    },
    {
      "cell_type": "markdown",
      "source": [
        "## **5.1. No sampling**"
      ],
      "metadata": {
        "id": "6xEFmvTNMIiZ"
      }
    },
    {
      "cell_type": "code",
      "source": [
        "xgbrf = XGBRFClassifier()\n",
        "xgbrf.fit(X_train, y_train)\n",
        "y_pred_xgbrf = xgbrf.predict(X_test)\n",
        "\n",
        "print(confusion_matrix(y_test, y_pred_xgbrf))\n",
        "print(classification_report(y_test, y_pred_xgbrf))"
      ],
      "metadata": {
        "id": "SkGepT7MMIia",
        "execution": {
          "iopub.status.busy": "2024-03-24T07:28:44.896288Z",
          "iopub.execute_input": "2024-03-24T07:28:44.896806Z",
          "iopub.status.idle": "2024-03-24T07:28:45.430518Z",
          "shell.execute_reply.started": "2024-03-24T07:28:44.896771Z",
          "shell.execute_reply": "2024-03-24T07:28:45.429288Z"
        },
        "trusted": true,
        "outputId": "dbdcd404-9b6d-4f10-8d8c-f9bad95d22d4"
      },
      "execution_count": null,
      "outputs": [
        {
          "name": "stdout",
          "text": "[[6025  307]\n [1341 2327]]\n              precision    recall  f1-score   support\n\n           0       0.82      0.95      0.88      6332\n           1       0.88      0.63      0.74      3668\n\n    accuracy                           0.84     10000\n   macro avg       0.85      0.79      0.81     10000\nweighted avg       0.84      0.84      0.83     10000\n\n",
          "output_type": "stream"
        }
      ]
    },
    {
      "cell_type": "markdown",
      "source": [
        "## **5.2. SMOTETomek**"
      ],
      "metadata": {
        "id": "jJwZqBwqMIia"
      }
    },
    {
      "cell_type": "code",
      "source": [
        "SMOTETomek_pipeline_xgbrf = make_pipeline(SMOTETomek(tomek=TomekLinks(sampling_strategy='majority')),\n",
        "                                    XGBRFClassifier())\n",
        "\n",
        "SMOTETomek_xgbrf = SMOTETomek_pipeline_xgbrf.fit(X_train, y_train)\n",
        "y_pred_xgbrf_tm = SMOTETomek_xgbrf.predict(X_test)\n",
        "\n",
        "print(confusion_matrix(y_test, y_pred_xgbrf_tm))\n",
        "print(classification_report(y_test, y_pred_xgbrf_tm))"
      ],
      "metadata": {
        "id": "n7hLy84aMIia",
        "execution": {
          "iopub.status.busy": "2024-03-24T07:28:45.76595Z",
          "iopub.execute_input": "2024-03-24T07:28:45.766414Z",
          "iopub.status.idle": "2024-03-24T07:28:47.481849Z",
          "shell.execute_reply.started": "2024-03-24T07:28:45.766364Z",
          "shell.execute_reply": "2024-03-24T07:28:47.480864Z"
        },
        "trusted": true,
        "outputId": "19241e3c-3b3d-4df4-accd-7e537508cfbd"
      },
      "execution_count": null,
      "outputs": [
        {
          "name": "stdout",
          "text": "[[5679  653]\n [1078 2590]]\n              precision    recall  f1-score   support\n\n           0       0.84      0.90      0.87      6332\n           1       0.80      0.71      0.75      3668\n\n    accuracy                           0.83     10000\n   macro avg       0.82      0.80      0.81     10000\nweighted avg       0.83      0.83      0.82     10000\n\n",
          "output_type": "stream"
        }
      ]
    },
    {
      "cell_type": "markdown",
      "source": [
        "## **5.3. SMOTE-RUS**"
      ],
      "metadata": {
        "id": "7FOyeBhLMIia"
      }
    },
    {
      "cell_type": "code",
      "source": [
        "SMOTERUS_pipeline_xgbrf = make_pipeline(SMOTE(sampling_strategy='minority'),\n",
        "                                      RandomUnderSampler(sampling_strategy='majority'),\n",
        "                                      XGBRFClassifier())\n",
        "\n",
        "SMOTERUS_xgbrf = SMOTERUS_pipeline_xgbrf.fit(X_train, y_train)\n",
        "y_pred_xgbrf_rus = SMOTERUS_xgbrf.predict(X_test)\n",
        "\n",
        "print(confusion_matrix(y_test, y_pred_xgbrf_rus))\n",
        "print(classification_report(y_test, y_pred_xgbrf_rus))"
      ],
      "metadata": {
        "id": "FcruYDRAMIib",
        "execution": {
          "iopub.status.busy": "2024-03-24T07:28:47.48408Z",
          "iopub.execute_input": "2024-03-24T07:28:47.485597Z",
          "iopub.status.idle": "2024-03-24T07:28:48.469998Z",
          "shell.execute_reply.started": "2024-03-24T07:28:47.485546Z",
          "shell.execute_reply": "2024-03-24T07:28:48.468254Z"
        },
        "trusted": true,
        "outputId": "8b05e2eb-95ea-4cae-e792-a32dfa82289c"
      },
      "execution_count": null,
      "outputs": [
        {
          "name": "stdout",
          "text": "[[5715  617]\n [1103 2565]]\n              precision    recall  f1-score   support\n\n           0       0.84      0.90      0.87      6332\n           1       0.81      0.70      0.75      3668\n\n    accuracy                           0.83     10000\n   macro avg       0.82      0.80      0.81     10000\nweighted avg       0.83      0.83      0.83     10000\n\n",
          "output_type": "stream"
        }
      ]
    },
    {
      "cell_type": "code",
      "source": [
        "print(\"ROC-AUC for No sampling:\",  roc_auc_score(y_test, y_pred_xgbrf))\n",
        "print(\"ROC-AUC for SMOTETomek:\",  roc_auc_score(y_test, y_pred_xgbrf_tm))\n",
        "print(\"ROC-AUC for SMOTERUS:\",  roc_auc_score(y_test, y_pred_xgbrf_rus))\n"
      ],
      "metadata": {
        "id": "yOg0hZjLMIib",
        "execution": {
          "iopub.status.busy": "2024-03-24T07:28:48.471899Z",
          "iopub.execute_input": "2024-03-24T07:28:48.474003Z",
          "iopub.status.idle": "2024-03-24T07:28:48.496473Z",
          "shell.execute_reply.started": "2024-03-24T07:28:48.47395Z",
          "shell.execute_reply": "2024-03-24T07:28:48.495055Z"
        },
        "trusted": true,
        "outputId": "ac7aab08-54d6-421c-a9e8-e543aef7dbb2"
      },
      "execution_count": null,
      "outputs": [
        {
          "name": "stdout",
          "text": "ROC-AUC for No sampling: 0.7929608896598332\nROC-AUC for SMOTETomek: 0.8014899480645985\nROC-AUC for SMOTERUS: 0.8009248001014045\n",
          "output_type": "stream"
        }
      ]
    },
    {
      "cell_type": "markdown",
      "source": [
        "# **6. Logistic Regression**"
      ],
      "metadata": {
        "id": "YkbyFRR-MP-8"
      }
    },
    {
      "cell_type": "markdown",
      "source": [
        "## **6.1. No sampling**"
      ],
      "metadata": {
        "id": "bjdbWc7-MP_F"
      }
    },
    {
      "cell_type": "code",
      "source": [
        "lgt = LogisticRegression()\n",
        "lgt.fit(X_train, y_train)\n",
        "y_pred_lgt = lgt.predict(X_test)\n",
        "\n",
        "print(confusion_matrix(y_test, y_pred_lgt))\n",
        "print(classification_report(y_test, y_pred_lgt))"
      ],
      "metadata": {
        "id": "GBRWVdNDMP_F",
        "execution": {
          "iopub.status.busy": "2024-03-24T07:28:50.749142Z",
          "iopub.execute_input": "2024-03-24T07:28:50.749599Z",
          "iopub.status.idle": "2024-03-24T07:28:51.360856Z",
          "shell.execute_reply.started": "2024-03-24T07:28:50.749565Z",
          "shell.execute_reply": "2024-03-24T07:28:51.359022Z"
        },
        "trusted": true,
        "outputId": "106059e2-ce1b-4d7c-d66c-98ee6b62f4ff"
      },
      "execution_count": null,
      "outputs": [
        {
          "name": "stdout",
          "text": "[[5998  334]\n [1285 2383]]\n              precision    recall  f1-score   support\n\n           0       0.82      0.95      0.88      6332\n           1       0.88      0.65      0.75      3668\n\n    accuracy                           0.84     10000\n   macro avg       0.85      0.80      0.81     10000\nweighted avg       0.84      0.84      0.83     10000\n\n",
          "output_type": "stream"
        }
      ]
    },
    {
      "cell_type": "markdown",
      "source": [
        "## **6.2. SMOTETomek**"
      ],
      "metadata": {
        "id": "PAlHJCWHMP_F"
      }
    },
    {
      "cell_type": "code",
      "source": [
        "SMOTETomek_pipeline_lgt = make_pipeline(SMOTETomek(tomek=TomekLinks(sampling_strategy='majority')),\n",
        "                                    LogisticRegression())\n",
        "\n",
        "SMOTETomek_lgt = SMOTETomek_pipeline_lgt.fit(X_train, y_train)\n",
        "y_pred_lgt_tm = SMOTETomek_lgt.predict(X_test)\n",
        "\n",
        "print(confusion_matrix(y_test, y_pred_lgt_tm))\n",
        "print(classification_report(y_test, y_pred_lgt_tm))"
      ],
      "metadata": {
        "id": "61zhavgVMP_G",
        "execution": {
          "iopub.status.busy": "2024-03-24T10:52:19.868483Z",
          "iopub.execute_input": "2024-03-24T10:52:19.868898Z",
          "iopub.status.idle": "2024-03-24T10:52:21.481721Z",
          "shell.execute_reply.started": "2024-03-24T10:52:19.868868Z",
          "shell.execute_reply": "2024-03-24T10:52:21.480573Z"
        },
        "trusted": true,
        "outputId": "f3318c06-d20b-48fc-9cd1-6039cf47dbb5",
        "colab": {
          "base_uri": "https://localhost:8080/"
        }
      },
      "execution_count": 9,
      "outputs": [
        {
          "output_type": "stream",
          "name": "stdout",
          "text": [
            "[[5703  687]\n",
            " [1078 2532]]\n",
            "              precision    recall  f1-score   support\n",
            "\n",
            "           0       0.84      0.89      0.87      6390\n",
            "           1       0.79      0.70      0.74      3610\n",
            "\n",
            "    accuracy                           0.82     10000\n",
            "   macro avg       0.81      0.80      0.80     10000\n",
            "weighted avg       0.82      0.82      0.82     10000\n",
            "\n"
          ]
        }
      ]
    },
    {
      "cell_type": "markdown",
      "source": [
        "## **6.3. SMOTE-RUS**"
      ],
      "metadata": {
        "id": "Pq0i6uyjMP_G"
      }
    },
    {
      "cell_type": "code",
      "source": [
        "SMOTERUS_pipeline_lgt = make_pipeline(SMOTE(sampling_strategy='minority'),\n",
        "                                      RandomUnderSampler(sampling_strategy='majority'),\n",
        "                                      LogisticRegression())\n",
        "\n",
        "SMOTERUS_lgt = SMOTERUS_pipeline_lgt.fit(X_train, y_train)\n",
        "y_pred_lgt_rus = SMOTERUS_lgt.predict(X_test)\n",
        "\n",
        "print(confusion_matrix(y_test, y_pred_lgt_rus))\n",
        "print(classification_report(y_test, y_pred_lgt_rus))"
      ],
      "metadata": {
        "id": "rtKTTLl2MP_G",
        "execution": {
          "iopub.status.busy": "2024-03-24T07:28:54.060098Z",
          "iopub.execute_input": "2024-03-24T07:28:54.061199Z",
          "iopub.status.idle": "2024-03-24T07:28:55.067507Z",
          "shell.execute_reply.started": "2024-03-24T07:28:54.06115Z",
          "shell.execute_reply": "2024-03-24T07:28:55.065863Z"
        },
        "trusted": true,
        "outputId": "2cc1ef45-b431-463a-c0ea-62cbf672b839"
      },
      "execution_count": null,
      "outputs": [
        {
          "name": "stdout",
          "text": "[[5697  635]\n [1096 2572]]\n              precision    recall  f1-score   support\n\n           0       0.84      0.90      0.87      6332\n           1       0.80      0.70      0.75      3668\n\n    accuracy                           0.83     10000\n   macro avg       0.82      0.80      0.81     10000\nweighted avg       0.83      0.83      0.82     10000\n\n",
          "output_type": "stream"
        }
      ]
    },
    {
      "cell_type": "code",
      "source": [
        "print(\"ROC-AUC for No sampling:\",  roc_auc_score(y_test, y_pred_lgt))\n",
        "print(\"ROC-AUC for SMOTETomek:\",  roc_auc_score(y_test, y_pred_lgt_tm))\n",
        "print(\"ROC-AUC for SMOTERUS:\",  roc_auc_score(y_test, y_pred_lgt_rus))\n"
      ],
      "metadata": {
        "id": "h8lQRERRMP_G",
        "execution": {
          "iopub.status.busy": "2024-03-24T07:28:55.070001Z",
          "iopub.execute_input": "2024-03-24T07:28:55.071031Z",
          "iopub.status.idle": "2024-03-24T07:28:55.110969Z",
          "shell.execute_reply.started": "2024-03-24T07:28:55.070972Z",
          "shell.execute_reply": "2024-03-24T07:28:55.109405Z"
        },
        "trusted": true,
        "outputId": "3ef387fa-51ad-4c41-dc07-f7ac8001c629"
      },
      "execution_count": null,
      "outputs": [
        {
          "name": "stdout",
          "text": "ROC-AUC for No sampling: 0.7984624496507673\nROC-AUC for SMOTETomek: 0.799687037367449\nROC-AUC for SMOTERUS: 0.8004576467111367\n",
          "output_type": "stream"
        }
      ]
    },
    {
      "cell_type": "code",
      "source": [
        "import pickle\n",
        "\n",
        "with open('SMOTETomek_lgt.pkl', 'wb') as f:\n",
        "    pickle.dump(SMOTETomek_lgt, f)"
      ],
      "metadata": {
        "execution": {
          "iopub.status.busy": "2024-03-24T10:53:08.308554Z",
          "iopub.execute_input": "2024-03-24T10:53:08.308969Z",
          "iopub.status.idle": "2024-03-24T10:53:08.31769Z",
          "shell.execute_reply.started": "2024-03-24T10:53:08.308936Z",
          "shell.execute_reply": "2024-03-24T10:53:08.316645Z"
        },
        "trusted": true,
        "id": "BBBHTmExI-pQ"
      },
      "execution_count": 11,
      "outputs": []
    },
    {
      "cell_type": "code",
      "source": [],
      "metadata": {
        "id": "74_xWd1oI-pQ"
      },
      "execution_count": null,
      "outputs": []
    }
  ]
}