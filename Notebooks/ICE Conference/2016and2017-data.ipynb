{
 "cells": [
  {
   "cell_type": "markdown",
   "id": "e6fcf838",
   "metadata": {
    "papermill": {
     "duration": 0.036288,
     "end_time": "2024-03-04T02:51:45.101277",
     "exception": false,
     "start_time": "2024-03-04T02:51:45.064989",
     "status": "completed"
    },
    "tags": []
   },
   "source": [
    "# Import library"
   ]
  },
  {
   "cell_type": "code",
   "execution_count": 1,
   "id": "f05feb86",
   "metadata": {
    "execution": {
     "iopub.execute_input": "2024-03-04T02:51:45.175940Z",
     "iopub.status.busy": "2024-03-04T02:51:45.175413Z",
     "iopub.status.idle": "2024-03-04T02:51:48.362805Z",
     "shell.execute_reply": "2024-03-04T02:51:48.361280Z"
    },
    "papermill": {
     "duration": 3.226896,
     "end_time": "2024-03-04T02:51:48.365949",
     "exception": false,
     "start_time": "2024-03-04T02:51:45.139053",
     "status": "completed"
    },
    "tags": []
   },
   "outputs": [],
   "source": [
    "import numpy as np\n",
    "import pandas as pd\n",
    "from sklearn.model_selection import train_test_split\n",
    "import matplotlib.pyplot as plt\n",
    "from sklearn.metrics import confusion_matrix, recall_score, precision_score, f1_score, accuracy_score, recall_score, precision_score, roc_auc_score, classification_report\n",
    "import seaborn as sns\n",
    "from sklearn.preprocessing import StandardScaler, LabelEncoder\n",
    "\n",
    "import warnings\n",
    "warnings.filterwarnings('ignore')"
   ]
  },
  {
   "cell_type": "markdown",
   "id": "9fa85cc6",
   "metadata": {
    "papermill": {
     "duration": 0.034304,
     "end_time": "2024-03-04T02:51:48.435069",
     "exception": false,
     "start_time": "2024-03-04T02:51:48.400765",
     "status": "completed"
    },
    "tags": []
   },
   "source": [
    "# Load Dataset"
   ]
  },
  {
   "cell_type": "code",
   "execution_count": 2,
   "id": "6cd784a4",
   "metadata": {
    "execution": {
     "iopub.execute_input": "2024-03-04T02:51:48.508254Z",
     "iopub.status.busy": "2024-03-04T02:51:48.507342Z",
     "iopub.status.idle": "2024-03-04T02:53:03.270139Z",
     "shell.execute_reply": "2024-03-04T02:53:03.268774Z"
    },
    "papermill": {
     "duration": 74.838119,
     "end_time": "2024-03-04T02:53:03.308811",
     "exception": false,
     "start_time": "2024-03-04T02:51:48.470692",
     "status": "completed"
    },
    "tags": []
   },
   "outputs": [
    {
     "data": {
      "text/html": [
       "<div>\n",
       "<style scoped>\n",
       "    .dataframe tbody tr th:only-of-type {\n",
       "        vertical-align: middle;\n",
       "    }\n",
       "\n",
       "    .dataframe tbody tr th {\n",
       "        vertical-align: top;\n",
       "    }\n",
       "\n",
       "    .dataframe thead th {\n",
       "        text-align: right;\n",
       "    }\n",
       "</style>\n",
       "<table border=\"1\" class=\"dataframe\">\n",
       "  <thead>\n",
       "    <tr style=\"text-align: right;\">\n",
       "      <th></th>\n",
       "      <th>QUARTER</th>\n",
       "      <th>MONTH</th>\n",
       "      <th>DAY_OF_MONTH</th>\n",
       "      <th>DAY_OF_WEEK</th>\n",
       "      <th>OP_UNIQUE_CARRIER</th>\n",
       "      <th>TAIL_NUM</th>\n",
       "      <th>OP_CARRIER_FL_NUM</th>\n",
       "      <th>ORIGIN_AIRPORT_ID</th>\n",
       "      <th>ORIGIN_CITY_MARKET_ID</th>\n",
       "      <th>DEST_AIRPORT_ID</th>\n",
       "      <th>...</th>\n",
       "      <th>ARR_DELAY</th>\n",
       "      <th>CRS_ELAPSED_TIME</th>\n",
       "      <th>ACTUAL_ELAPSED_TIME</th>\n",
       "      <th>AIR_TIME</th>\n",
       "      <th>DISTANCE</th>\n",
       "      <th>CARRIER_DELAY</th>\n",
       "      <th>WEATHER_DELAY</th>\n",
       "      <th>NAS_DELAY</th>\n",
       "      <th>SECURITY_DELAY</th>\n",
       "      <th>LATE_AIRCRAFT_DELAY</th>\n",
       "    </tr>\n",
       "  </thead>\n",
       "  <tbody>\n",
       "    <tr>\n",
       "      <th>0</th>\n",
       "      <td>1</td>\n",
       "      <td>1</td>\n",
       "      <td>1</td>\n",
       "      <td>5</td>\n",
       "      <td>AA</td>\n",
       "      <td>N001AA</td>\n",
       "      <td>1494</td>\n",
       "      <td>12892</td>\n",
       "      <td>32575</td>\n",
       "      <td>11503</td>\n",
       "      <td>...</td>\n",
       "      <td>-6.0</td>\n",
       "      <td>143.0</td>\n",
       "      <td>143.0</td>\n",
       "      <td>110.0</td>\n",
       "      <td>748.0</td>\n",
       "      <td>NaN</td>\n",
       "      <td>NaN</td>\n",
       "      <td>NaN</td>\n",
       "      <td>NaN</td>\n",
       "      <td>NaN</td>\n",
       "    </tr>\n",
       "    <tr>\n",
       "      <th>1</th>\n",
       "      <td>1</td>\n",
       "      <td>1</td>\n",
       "      <td>1</td>\n",
       "      <td>5</td>\n",
       "      <td>AA</td>\n",
       "      <td>N001AA</td>\n",
       "      <td>1640</td>\n",
       "      <td>11503</td>\n",
       "      <td>31503</td>\n",
       "      <td>13930</td>\n",
       "      <td>...</td>\n",
       "      <td>7.0</td>\n",
       "      <td>165.0</td>\n",
       "      <td>156.0</td>\n",
       "      <td>132.0</td>\n",
       "      <td>1007.0</td>\n",
       "      <td>NaN</td>\n",
       "      <td>NaN</td>\n",
       "      <td>NaN</td>\n",
       "      <td>NaN</td>\n",
       "      <td>NaN</td>\n",
       "    </tr>\n",
       "    <tr>\n",
       "      <th>2</th>\n",
       "      <td>1</td>\n",
       "      <td>1</td>\n",
       "      <td>1</td>\n",
       "      <td>5</td>\n",
       "      <td>AA</td>\n",
       "      <td>N001AA</td>\n",
       "      <td>2353</td>\n",
       "      <td>13930</td>\n",
       "      <td>30977</td>\n",
       "      <td>11298</td>\n",
       "      <td>...</td>\n",
       "      <td>-27.0</td>\n",
       "      <td>160.0</td>\n",
       "      <td>132.0</td>\n",
       "      <td>113.0</td>\n",
       "      <td>802.0</td>\n",
       "      <td>NaN</td>\n",
       "      <td>NaN</td>\n",
       "      <td>NaN</td>\n",
       "      <td>NaN</td>\n",
       "      <td>NaN</td>\n",
       "    </tr>\n",
       "    <tr>\n",
       "      <th>3</th>\n",
       "      <td>1</td>\n",
       "      <td>1</td>\n",
       "      <td>1</td>\n",
       "      <td>5</td>\n",
       "      <td>AA</td>\n",
       "      <td>N003AA</td>\n",
       "      <td>1155</td>\n",
       "      <td>11503</td>\n",
       "      <td>31503</td>\n",
       "      <td>11298</td>\n",
       "      <td>...</td>\n",
       "      <td>6.0</td>\n",
       "      <td>139.0</td>\n",
       "      <td>145.0</td>\n",
       "      <td>98.0</td>\n",
       "      <td>721.0</td>\n",
       "      <td>NaN</td>\n",
       "      <td>NaN</td>\n",
       "      <td>NaN</td>\n",
       "      <td>NaN</td>\n",
       "      <td>NaN</td>\n",
       "    </tr>\n",
       "    <tr>\n",
       "      <th>4</th>\n",
       "      <td>1</td>\n",
       "      <td>1</td>\n",
       "      <td>1</td>\n",
       "      <td>5</td>\n",
       "      <td>AA</td>\n",
       "      <td>N003AA</td>\n",
       "      <td>1649</td>\n",
       "      <td>11298</td>\n",
       "      <td>30194</td>\n",
       "      <td>12441</td>\n",
       "      <td>...</td>\n",
       "      <td>-24.0</td>\n",
       "      <td>176.0</td>\n",
       "      <td>157.0</td>\n",
       "      <td>139.0</td>\n",
       "      <td>1047.0</td>\n",
       "      <td>NaN</td>\n",
       "      <td>NaN</td>\n",
       "      <td>NaN</td>\n",
       "      <td>NaN</td>\n",
       "      <td>NaN</td>\n",
       "    </tr>\n",
       "    <tr>\n",
       "      <th>...</th>\n",
       "      <td>...</td>\n",
       "      <td>...</td>\n",
       "      <td>...</td>\n",
       "      <td>...</td>\n",
       "      <td>...</td>\n",
       "      <td>...</td>\n",
       "      <td>...</td>\n",
       "      <td>...</td>\n",
       "      <td>...</td>\n",
       "      <td>...</td>\n",
       "      <td>...</td>\n",
       "      <td>...</td>\n",
       "      <td>...</td>\n",
       "      <td>...</td>\n",
       "      <td>...</td>\n",
       "      <td>...</td>\n",
       "      <td>...</td>\n",
       "      <td>...</td>\n",
       "      <td>...</td>\n",
       "      <td>...</td>\n",
       "      <td>...</td>\n",
       "    </tr>\n",
       "    <tr>\n",
       "      <th>11117551</th>\n",
       "      <td>4</td>\n",
       "      <td>12</td>\n",
       "      <td>31</td>\n",
       "      <td>7</td>\n",
       "      <td>WN</td>\n",
       "      <td>N968WN</td>\n",
       "      <td>4557</td>\n",
       "      <td>13796</td>\n",
       "      <td>32457</td>\n",
       "      <td>13891</td>\n",
       "      <td>...</td>\n",
       "      <td>49.0</td>\n",
       "      <td>75.0</td>\n",
       "      <td>66.0</td>\n",
       "      <td>54.0</td>\n",
       "      <td>362.0</td>\n",
       "      <td>1.0</td>\n",
       "      <td>0.0</td>\n",
       "      <td>0.0</td>\n",
       "      <td>0.0</td>\n",
       "      <td>48.0</td>\n",
       "    </tr>\n",
       "    <tr>\n",
       "      <th>11117552</th>\n",
       "      <td>4</td>\n",
       "      <td>12</td>\n",
       "      <td>31</td>\n",
       "      <td>7</td>\n",
       "      <td>WN</td>\n",
       "      <td>N969WN</td>\n",
       "      <td>5123</td>\n",
       "      <td>10693</td>\n",
       "      <td>30693</td>\n",
       "      <td>11278</td>\n",
       "      <td>...</td>\n",
       "      <td>35.0</td>\n",
       "      <td>95.0</td>\n",
       "      <td>79.0</td>\n",
       "      <td>65.0</td>\n",
       "      <td>562.0</td>\n",
       "      <td>8.0</td>\n",
       "      <td>0.0</td>\n",
       "      <td>0.0</td>\n",
       "      <td>0.0</td>\n",
       "      <td>27.0</td>\n",
       "    </tr>\n",
       "    <tr>\n",
       "      <th>11117553</th>\n",
       "      <td>4</td>\n",
       "      <td>12</td>\n",
       "      <td>31</td>\n",
       "      <td>7</td>\n",
       "      <td>WN</td>\n",
       "      <td>N969WN</td>\n",
       "      <td>5123</td>\n",
       "      <td>11259</td>\n",
       "      <td>30194</td>\n",
       "      <td>13232</td>\n",
       "      <td>...</td>\n",
       "      <td>17.0</td>\n",
       "      <td>125.0</td>\n",
       "      <td>135.0</td>\n",
       "      <td>103.0</td>\n",
       "      <td>793.0</td>\n",
       "      <td>7.0</td>\n",
       "      <td>0.0</td>\n",
       "      <td>10.0</td>\n",
       "      <td>0.0</td>\n",
       "      <td>0.0</td>\n",
       "    </tr>\n",
       "    <tr>\n",
       "      <th>11117554</th>\n",
       "      <td>4</td>\n",
       "      <td>12</td>\n",
       "      <td>31</td>\n",
       "      <td>7</td>\n",
       "      <td>WN</td>\n",
       "      <td>N969WN</td>\n",
       "      <td>5123</td>\n",
       "      <td>13232</td>\n",
       "      <td>30977</td>\n",
       "      <td>10693</td>\n",
       "      <td>...</td>\n",
       "      <td>39.0</td>\n",
       "      <td>80.0</td>\n",
       "      <td>73.0</td>\n",
       "      <td>63.0</td>\n",
       "      <td>395.0</td>\n",
       "      <td>25.0</td>\n",
       "      <td>0.0</td>\n",
       "      <td>0.0</td>\n",
       "      <td>0.0</td>\n",
       "      <td>14.0</td>\n",
       "    </tr>\n",
       "    <tr>\n",
       "      <th>11117555</th>\n",
       "      <td>4</td>\n",
       "      <td>12</td>\n",
       "      <td>31</td>\n",
       "      <td>7</td>\n",
       "      <td>WN</td>\n",
       "      <td>N969WN</td>\n",
       "      <td>5123</td>\n",
       "      <td>14869</td>\n",
       "      <td>34614</td>\n",
       "      <td>11259</td>\n",
       "      <td>...</td>\n",
       "      <td>-12.0</td>\n",
       "      <td>165.0</td>\n",
       "      <td>158.0</td>\n",
       "      <td>130.0</td>\n",
       "      <td>999.0</td>\n",
       "      <td>NaN</td>\n",
       "      <td>NaN</td>\n",
       "      <td>NaN</td>\n",
       "      <td>NaN</td>\n",
       "      <td>NaN</td>\n",
       "    </tr>\n",
       "  </tbody>\n",
       "</table>\n",
       "<p>11117556 rows × 26 columns</p>\n",
       "</div>"
      ],
      "text/plain": [
       "          QUARTER  MONTH  DAY_OF_MONTH  DAY_OF_WEEK OP_UNIQUE_CARRIER  \\\n",
       "0               1      1             1            5                AA   \n",
       "1               1      1             1            5                AA   \n",
       "2               1      1             1            5                AA   \n",
       "3               1      1             1            5                AA   \n",
       "4               1      1             1            5                AA   \n",
       "...           ...    ...           ...          ...               ...   \n",
       "11117551        4     12            31            7                WN   \n",
       "11117552        4     12            31            7                WN   \n",
       "11117553        4     12            31            7                WN   \n",
       "11117554        4     12            31            7                WN   \n",
       "11117555        4     12            31            7                WN   \n",
       "\n",
       "         TAIL_NUM  OP_CARRIER_FL_NUM  ORIGIN_AIRPORT_ID  \\\n",
       "0          N001AA               1494              12892   \n",
       "1          N001AA               1640              11503   \n",
       "2          N001AA               2353              13930   \n",
       "3          N003AA               1155              11503   \n",
       "4          N003AA               1649              11298   \n",
       "...           ...                ...                ...   \n",
       "11117551   N968WN               4557              13796   \n",
       "11117552   N969WN               5123              10693   \n",
       "11117553   N969WN               5123              11259   \n",
       "11117554   N969WN               5123              13232   \n",
       "11117555   N969WN               5123              14869   \n",
       "\n",
       "          ORIGIN_CITY_MARKET_ID  DEST_AIRPORT_ID  ...  ARR_DELAY  \\\n",
       "0                         32575            11503  ...       -6.0   \n",
       "1                         31503            13930  ...        7.0   \n",
       "2                         30977            11298  ...      -27.0   \n",
       "3                         31503            11298  ...        6.0   \n",
       "4                         30194            12441  ...      -24.0   \n",
       "...                         ...              ...  ...        ...   \n",
       "11117551                  32457            13891  ...       49.0   \n",
       "11117552                  30693            11278  ...       35.0   \n",
       "11117553                  30194            13232  ...       17.0   \n",
       "11117554                  30977            10693  ...       39.0   \n",
       "11117555                  34614            11259  ...      -12.0   \n",
       "\n",
       "          CRS_ELAPSED_TIME  ACTUAL_ELAPSED_TIME  AIR_TIME  DISTANCE  \\\n",
       "0                    143.0                143.0     110.0     748.0   \n",
       "1                    165.0                156.0     132.0    1007.0   \n",
       "2                    160.0                132.0     113.0     802.0   \n",
       "3                    139.0                145.0      98.0     721.0   \n",
       "4                    176.0                157.0     139.0    1047.0   \n",
       "...                    ...                  ...       ...       ...   \n",
       "11117551              75.0                 66.0      54.0     362.0   \n",
       "11117552              95.0                 79.0      65.0     562.0   \n",
       "11117553             125.0                135.0     103.0     793.0   \n",
       "11117554              80.0                 73.0      63.0     395.0   \n",
       "11117555             165.0                158.0     130.0     999.0   \n",
       "\n",
       "          CARRIER_DELAY  WEATHER_DELAY  NAS_DELAY  SECURITY_DELAY  \\\n",
       "0                   NaN            NaN        NaN             NaN   \n",
       "1                   NaN            NaN        NaN             NaN   \n",
       "2                   NaN            NaN        NaN             NaN   \n",
       "3                   NaN            NaN        NaN             NaN   \n",
       "4                   NaN            NaN        NaN             NaN   \n",
       "...                 ...            ...        ...             ...   \n",
       "11117551            1.0            0.0        0.0             0.0   \n",
       "11117552            8.0            0.0        0.0             0.0   \n",
       "11117553            7.0            0.0       10.0             0.0   \n",
       "11117554           25.0            0.0        0.0             0.0   \n",
       "11117555            NaN            NaN        NaN             NaN   \n",
       "\n",
       "          LATE_AIRCRAFT_DELAY  \n",
       "0                         NaN  \n",
       "1                         NaN  \n",
       "2                         NaN  \n",
       "3                         NaN  \n",
       "4                         NaN  \n",
       "...                       ...  \n",
       "11117551                 48.0  \n",
       "11117552                 27.0  \n",
       "11117553                  0.0  \n",
       "11117554                 14.0  \n",
       "11117555                  NaN  \n",
       "\n",
       "[11117556 rows x 26 columns]"
      ]
     },
     "execution_count": 2,
     "metadata": {},
     "output_type": "execute_result"
    }
   ],
   "source": [
    "file_path = '/kaggle/input/flighqeojqweiqjejqw/2016and2017-Data.csv'\n",
    "\n",
    "# Read the CSV file into a Pandas DataFrame\n",
    "df_comb = pd.read_csv(file_path)\n",
    "\n",
    "# Display the first few rows of the dataset\n",
    "df_comb"
   ]
  },
  {
   "cell_type": "code",
   "execution_count": 3,
   "id": "95dbf059",
   "metadata": {
    "execution": {
     "iopub.execute_input": "2024-03-04T02:53:03.381771Z",
     "iopub.status.busy": "2024-03-04T02:53:03.381187Z",
     "iopub.status.idle": "2024-03-04T02:53:03.389258Z",
     "shell.execute_reply": "2024-03-04T02:53:03.388039Z"
    },
    "papermill": {
     "duration": 0.047756,
     "end_time": "2024-03-04T02:53:03.391886",
     "exception": false,
     "start_time": "2024-03-04T02:53:03.344130",
     "status": "completed"
    },
    "tags": []
   },
   "outputs": [
    {
     "data": {
      "text/plain": [
       "Index(['QUARTER', 'MONTH', 'DAY_OF_MONTH', 'DAY_OF_WEEK', 'OP_UNIQUE_CARRIER',\n",
       "       'TAIL_NUM', 'OP_CARRIER_FL_NUM', 'ORIGIN_AIRPORT_ID',\n",
       "       'ORIGIN_CITY_MARKET_ID', 'DEST_AIRPORT_ID', 'DEST_CITY_MARKET_ID',\n",
       "       'CRS_DEP_TIME', 'DEP_DELAY', 'TAXI_OUT', 'TAXI_IN', 'CRS_ARR_TIME',\n",
       "       'ARR_DELAY', 'CRS_ELAPSED_TIME', 'ACTUAL_ELAPSED_TIME', 'AIR_TIME',\n",
       "       'DISTANCE', 'CARRIER_DELAY', 'WEATHER_DELAY', 'NAS_DELAY',\n",
       "       'SECURITY_DELAY', 'LATE_AIRCRAFT_DELAY'],\n",
       "      dtype='object')"
      ]
     },
     "execution_count": 3,
     "metadata": {},
     "output_type": "execute_result"
    }
   ],
   "source": [
    "df_comb.columns"
   ]
  },
  {
   "cell_type": "markdown",
   "id": "50303aeb",
   "metadata": {
    "papermill": {
     "duration": 0.035478,
     "end_time": "2024-03-04T02:53:03.463255",
     "exception": false,
     "start_time": "2024-03-04T02:53:03.427777",
     "status": "completed"
    },
    "tags": []
   },
   "source": [
    "# Preprocessing"
   ]
  },
  {
   "cell_type": "code",
   "execution_count": 4,
   "id": "1a4f656a",
   "metadata": {
    "execution": {
     "iopub.execute_input": "2024-03-04T02:53:03.537403Z",
     "iopub.status.busy": "2024-03-04T02:53:03.536961Z",
     "iopub.status.idle": "2024-03-04T02:53:04.666795Z",
     "shell.execute_reply": "2024-03-04T02:53:04.665542Z"
    },
    "papermill": {
     "duration": 1.170797,
     "end_time": "2024-03-04T02:53:04.669872",
     "exception": false,
     "start_time": "2024-03-04T02:53:03.499075",
     "status": "completed"
    },
    "tags": []
   },
   "outputs": [],
   "source": [
    "df_comb.drop(['CARRIER_DELAY', 'WEATHER_DELAY', 'NAS_DELAY','SECURITY_DELAY', 'LATE_AIRCRAFT_DELAY', 'TAXI_OUT','TAXI_IN','ACTUAL_ELAPSED_TIME', 'AIR_TIME']\n",
    "            , axis=1, inplace=True)"
   ]
  },
  {
   "cell_type": "code",
   "execution_count": 5,
   "id": "b5c81c3c",
   "metadata": {
    "execution": {
     "iopub.execute_input": "2024-03-04T02:53:04.744397Z",
     "iopub.status.busy": "2024-03-04T02:53:04.743949Z",
     "iopub.status.idle": "2024-03-04T02:53:24.067092Z",
     "shell.execute_reply": "2024-03-04T02:53:24.062703Z"
    },
    "papermill": {
     "duration": 19.375126,
     "end_time": "2024-03-04T02:53:24.080586",
     "exception": false,
     "start_time": "2024-03-04T02:53:04.705460",
     "status": "completed"
    },
    "tags": []
   },
   "outputs": [],
   "source": [
    "df_comb.dropna(axis=0, inplace=True)\n",
    "df_comb['Status'] = df_comb['ARR_DELAY'].apply(lambda x: 1 if x >= 15 else 0)\n",
    "df_comb.drop([\"ARR_DELAY\"], axis=1, inplace=True)"
   ]
  },
  {
   "cell_type": "code",
   "execution_count": 6,
   "id": "3c7c72e9",
   "metadata": {
    "execution": {
     "iopub.execute_input": "2024-03-04T02:53:24.568711Z",
     "iopub.status.busy": "2024-03-04T02:53:24.568064Z",
     "iopub.status.idle": "2024-03-04T02:53:25.608611Z",
     "shell.execute_reply": "2024-03-04T02:53:25.607135Z"
    },
    "papermill": {
     "duration": 1.417478,
     "end_time": "2024-03-04T02:53:25.612674",
     "exception": false,
     "start_time": "2024-03-04T02:53:24.195196",
     "status": "completed"
    },
    "tags": []
   },
   "outputs": [],
   "source": [
    "labels = list(range(1,9))\n",
    "\n",
    "df_comb['CRS_DEP_TIME'] = pd.cut(df_comb['CRS_DEP_TIME'], bins=8, labels=labels)\n",
    "df_comb['CRS_ARR_TIME'] = pd.cut(df_comb['CRS_ARR_TIME'], bins=8, labels=labels)"
   ]
  },
  {
   "cell_type": "code",
   "execution_count": 7,
   "id": "1717babc",
   "metadata": {
    "execution": {
     "iopub.execute_input": "2024-03-04T02:53:25.699918Z",
     "iopub.status.busy": "2024-03-04T02:53:25.698915Z",
     "iopub.status.idle": "2024-03-04T02:54:05.891327Z",
     "shell.execute_reply": "2024-03-04T02:54:05.889883Z"
    },
    "papermill": {
     "duration": 40.239447,
     "end_time": "2024-03-04T02:54:05.894923",
     "exception": false,
     "start_time": "2024-03-04T02:53:25.655476",
     "status": "completed"
    },
    "tags": []
   },
   "outputs": [],
   "source": [
    "#label encoding\n",
    "columns = ['QUARTER', 'MONTH', 'DAY_OF_MONTH', 'DAY_OF_WEEK','OP_UNIQUE_CARRIER', 'TAIL_NUM', 'OP_CARRIER_FL_NUM', 'ORIGIN_AIRPORT_ID','ORIGIN_CITY_MARKET_ID','DEST_AIRPORT_ID', 'DEST_CITY_MARKET_ID', 'CRS_DEP_TIME', 'CRS_ARR_TIME'] \n",
    "ec = LabelEncoder()\n",
    "for col in df_comb.columns: \n",
    "    if col in columns:\n",
    "        df_comb[col + \"_Encoded\"] = ec.fit_transform(df_comb[col])\n",
    "        df_comb.drop(col, inplace=True, axis=1)"
   ]
  },
  {
   "cell_type": "code",
   "execution_count": 8,
   "id": "f69e232d",
   "metadata": {
    "execution": {
     "iopub.execute_input": "2024-03-04T02:54:05.972260Z",
     "iopub.status.busy": "2024-03-04T02:54:05.971739Z",
     "iopub.status.idle": "2024-03-04T02:54:19.173541Z",
     "shell.execute_reply": "2024-03-04T02:54:19.172263Z"
    },
    "papermill": {
     "duration": 13.244643,
     "end_time": "2024-03-04T02:54:19.176694",
     "exception": false,
     "start_time": "2024-03-04T02:54:05.932051",
     "status": "completed"
    },
    "tags": []
   },
   "outputs": [
    {
     "data": {
      "text/plain": [
       "<Axes: >"
      ]
     },
     "execution_count": 8,
     "metadata": {},
     "output_type": "execute_result"
    },
    {
     "data": {
      "image/png": "[encoded data removed]",
      "text/plain": [
       "<Figure size 640x480 with 3 Axes>"
      ]
     },
     "metadata": {},
     "output_type": "display_data"
    }
   ],
   "source": [
    "fig, ax = plt.subplots(3)\n",
    "\n",
    "sns.boxplot(df_comb['DEP_DELAY'], ax=ax[0])\n",
    "\n",
    "sns.boxplot(df_comb['CRS_ELAPSED_TIME'], ax=ax[1])\n",
    "\n",
    "sns.boxplot(df_comb['DISTANCE'], ax=ax[2])"
   ]
  },
  {
   "cell_type": "code",
   "execution_count": 9,
   "id": "f146793d",
   "metadata": {
    "execution": {
     "iopub.execute_input": "2024-03-04T02:54:19.254133Z",
     "iopub.status.busy": "2024-03-04T02:54:19.253667Z",
     "iopub.status.idle": "2024-03-04T02:54:23.436132Z",
     "shell.execute_reply": "2024-03-04T02:54:23.434790Z"
    },
    "papermill": {
     "duration": 4.225119,
     "end_time": "2024-03-04T02:54:23.439232",
     "exception": false,
     "start_time": "2024-03-04T02:54:19.214113",
     "status": "completed"
    },
    "tags": []
   },
   "outputs": [],
   "source": [
    "condition = (df_comb['DEP_DELAY'] > 180) | (df_comb['CRS_ELAPSED_TIME'] > 360) #Chiem 2,67% dataset\n",
    "df_comb.drop(df_comb[condition].index, inplace=True)\n"
   ]
  },
  {
   "cell_type": "code",
   "execution_count": 10,
   "id": "c09aecf1",
   "metadata": {
    "execution": {
     "iopub.execute_input": "2024-03-04T02:54:23.514640Z",
     "iopub.status.busy": "2024-03-04T02:54:23.514119Z",
     "iopub.status.idle": "2024-03-04T02:54:35.353658Z",
     "shell.execute_reply": "2024-03-04T02:54:35.352280Z"
    },
    "papermill": {
     "duration": 11.880915,
     "end_time": "2024-03-04T02:54:35.356875",
     "exception": false,
     "start_time": "2024-03-04T02:54:23.475960",
     "status": "completed"
    },
    "tags": []
   },
   "outputs": [
    {
     "data": {
      "text/plain": [
       "<Axes: >"
      ]
     },
     "execution_count": 10,
     "metadata": {},
     "output_type": "execute_result"
    },
    {
     "data": {
      "image/png": "[encoded data removed]",
      "text/plain": [
       "<Figure size 640x480 with 3 Axes>"
      ]
     },
     "metadata": {},
     "output_type": "display_data"
    }
   ],
   "source": [
    "fig, ax = plt.subplots(3)\n",
    "\n",
    "sns.boxplot(df_comb['DEP_DELAY'], ax=ax[0])\n",
    "\n",
    "sns.boxplot(df_comb['CRS_ELAPSED_TIME'], ax=ax[1])\n",
    "\n",
    "sns.boxplot(df_comb['DISTANCE'], ax=ax[2])"
   ]
  },
  {
   "cell_type": "code",
   "execution_count": 11,
   "id": "8b659745",
   "metadata": {
    "execution": {
     "iopub.execute_input": "2024-03-04T02:54:35.433666Z",
     "iopub.status.busy": "2024-03-04T02:54:35.433149Z",
     "iopub.status.idle": "2024-03-04T02:54:38.452704Z",
     "shell.execute_reply": "2024-03-04T02:54:38.451436Z"
    },
    "papermill": {
     "duration": 3.062181,
     "end_time": "2024-03-04T02:54:38.456082",
     "exception": false,
     "start_time": "2024-03-04T02:54:35.393901",
     "status": "completed"
    },
    "tags": []
   },
   "outputs": [],
   "source": [
    "# Sử dụng stratified sampling để giữ proportion của 2 class tương tự như dataset gốc\n",
    "df = df_comb.groupby('Status', group_keys=False).apply(lambda x: x.sample(int(np.rint(10000*len(x)/len(df_comb))))).sample(frac=1).reset_index(drop=True)"
   ]
  },
  {
   "cell_type": "code",
   "execution_count": 12,
   "id": "77978f00",
   "metadata": {
    "execution": {
     "iopub.execute_input": "2024-03-04T02:54:38.534802Z",
     "iopub.status.busy": "2024-03-04T02:54:38.534303Z",
     "iopub.status.idle": "2024-03-04T02:54:38.548172Z",
     "shell.execute_reply": "2024-03-04T02:54:38.547173Z"
    },
    "papermill": {
     "duration": 0.054769,
     "end_time": "2024-03-04T02:54:38.550468",
     "exception": false,
     "start_time": "2024-03-04T02:54:38.495699",
     "status": "completed"
    },
    "tags": []
   },
   "outputs": [
    {
     "data": {
      "text/plain": [
       "Status\n",
       "0    0.8293\n",
       "1    0.1707\n",
       "Name: proportion, dtype: float64"
      ]
     },
     "execution_count": 12,
     "metadata": {},
     "output_type": "execute_result"
    }
   ],
   "source": [
    "df.Status.value_counts(normalize=True)"
   ]
  },
  {
   "cell_type": "code",
   "execution_count": 13,
   "id": "d1abbe7a",
   "metadata": {
    "execution": {
     "iopub.execute_input": "2024-03-04T02:54:38.626634Z",
     "iopub.status.busy": "2024-03-04T02:54:38.625667Z",
     "iopub.status.idle": "2024-03-04T02:54:38.651497Z",
     "shell.execute_reply": "2024-03-04T02:54:38.650524Z"
    },
    "papermill": {
     "duration": 0.066724,
     "end_time": "2024-03-04T02:54:38.654042",
     "exception": false,
     "start_time": "2024-03-04T02:54:38.587318",
     "status": "completed"
    },
    "tags": []
   },
   "outputs": [
    {
     "data": {
      "text/html": [
       "<div>\n",
       "<style scoped>\n",
       "    .dataframe tbody tr th:only-of-type {\n",
       "        vertical-align: middle;\n",
       "    }\n",
       "\n",
       "    .dataframe tbody tr th {\n",
       "        vertical-align: top;\n",
       "    }\n",
       "\n",
       "    .dataframe thead th {\n",
       "        text-align: right;\n",
       "    }\n",
       "</style>\n",
       "<table border=\"1\" class=\"dataframe\">\n",
       "  <thead>\n",
       "    <tr style=\"text-align: right;\">\n",
       "      <th></th>\n",
       "      <th>DEP_DELAY</th>\n",
       "      <th>CRS_ELAPSED_TIME</th>\n",
       "      <th>DISTANCE</th>\n",
       "      <th>Status</th>\n",
       "      <th>QUARTER_Encoded</th>\n",
       "      <th>MONTH_Encoded</th>\n",
       "      <th>DAY_OF_MONTH_Encoded</th>\n",
       "      <th>DAY_OF_WEEK_Encoded</th>\n",
       "      <th>OP_UNIQUE_CARRIER_Encoded</th>\n",
       "      <th>TAIL_NUM_Encoded</th>\n",
       "      <th>OP_CARRIER_FL_NUM_Encoded</th>\n",
       "      <th>ORIGIN_AIRPORT_ID_Encoded</th>\n",
       "      <th>ORIGIN_CITY_MARKET_ID_Encoded</th>\n",
       "      <th>DEST_AIRPORT_ID_Encoded</th>\n",
       "      <th>DEST_CITY_MARKET_ID_Encoded</th>\n",
       "      <th>CRS_DEP_TIME_Encoded</th>\n",
       "      <th>CRS_ARR_TIME_Encoded</th>\n",
       "    </tr>\n",
       "  </thead>\n",
       "  <tbody>\n",
       "    <tr>\n",
       "      <th>0</th>\n",
       "      <td>-6.0</td>\n",
       "      <td>144.0</td>\n",
       "      <td>719.0</td>\n",
       "      <td>0</td>\n",
       "      <td>3</td>\n",
       "      <td>9</td>\n",
       "      <td>25</td>\n",
       "      <td>2</td>\n",
       "      <td>9</td>\n",
       "      <td>1966</td>\n",
       "      <td>1998</td>\n",
       "      <td>104</td>\n",
       "      <td>124</td>\n",
       "      <td>225</td>\n",
       "      <td>74</td>\n",
       "      <td>2</td>\n",
       "      <td>2</td>\n",
       "    </tr>\n",
       "    <tr>\n",
       "      <th>1</th>\n",
       "      <td>115.0</td>\n",
       "      <td>69.0</td>\n",
       "      <td>290.0</td>\n",
       "      <td>1</td>\n",
       "      <td>2</td>\n",
       "      <td>6</td>\n",
       "      <td>2</td>\n",
       "      <td>6</td>\n",
       "      <td>3</td>\n",
       "      <td>1324</td>\n",
       "      <td>791</td>\n",
       "      <td>284</td>\n",
       "      <td>260</td>\n",
       "      <td>39</td>\n",
       "      <td>55</td>\n",
       "      <td>6</td>\n",
       "      <td>7</td>\n",
       "    </tr>\n",
       "    <tr>\n",
       "      <th>2</th>\n",
       "      <td>78.0</td>\n",
       "      <td>341.0</td>\n",
       "      <td>2565.0</td>\n",
       "      <td>1</td>\n",
       "      <td>2</td>\n",
       "      <td>8</td>\n",
       "      <td>8</td>\n",
       "      <td>4</td>\n",
       "      <td>9</td>\n",
       "      <td>243</td>\n",
       "      <td>1916</td>\n",
       "      <td>276</td>\n",
       "      <td>169</td>\n",
       "      <td>103</td>\n",
       "      <td>124</td>\n",
       "      <td>3</td>\n",
       "      <td>6</td>\n",
       "    </tr>\n",
       "    <tr>\n",
       "      <th>3</th>\n",
       "      <td>-7.0</td>\n",
       "      <td>89.0</td>\n",
       "      <td>453.0</td>\n",
       "      <td>0</td>\n",
       "      <td>2</td>\n",
       "      <td>7</td>\n",
       "      <td>21</td>\n",
       "      <td>1</td>\n",
       "      <td>3</td>\n",
       "      <td>4778</td>\n",
       "      <td>1910</td>\n",
       "      <td>182</td>\n",
       "      <td>177</td>\n",
       "      <td>20</td>\n",
       "      <td>29</td>\n",
       "      <td>3</td>\n",
       "      <td>3</td>\n",
       "    </tr>\n",
       "    <tr>\n",
       "      <th>4</th>\n",
       "      <td>-2.0</td>\n",
       "      <td>135.0</td>\n",
       "      <td>813.0</td>\n",
       "      <td>0</td>\n",
       "      <td>2</td>\n",
       "      <td>8</td>\n",
       "      <td>14</td>\n",
       "      <td>3</td>\n",
       "      <td>0</td>\n",
       "      <td>1727</td>\n",
       "      <td>1412</td>\n",
       "      <td>307</td>\n",
       "      <td>35</td>\n",
       "      <td>84</td>\n",
       "      <td>16</td>\n",
       "      <td>2</td>\n",
       "      <td>3</td>\n",
       "    </tr>\n",
       "    <tr>\n",
       "      <th>...</th>\n",
       "      <td>...</td>\n",
       "      <td>...</td>\n",
       "      <td>...</td>\n",
       "      <td>...</td>\n",
       "      <td>...</td>\n",
       "      <td>...</td>\n",
       "      <td>...</td>\n",
       "      <td>...</td>\n",
       "      <td>...</td>\n",
       "      <td>...</td>\n",
       "      <td>...</td>\n",
       "      <td>...</td>\n",
       "      <td>...</td>\n",
       "      <td>...</td>\n",
       "      <td>...</td>\n",
       "      <td>...</td>\n",
       "      <td>...</td>\n",
       "    </tr>\n",
       "    <tr>\n",
       "      <th>9995</th>\n",
       "      <td>-12.0</td>\n",
       "      <td>299.0</td>\n",
       "      <td>2434.0</td>\n",
       "      <td>0</td>\n",
       "      <td>0</td>\n",
       "      <td>1</td>\n",
       "      <td>25</td>\n",
       "      <td>4</td>\n",
       "      <td>9</td>\n",
       "      <td>465</td>\n",
       "      <td>1655</td>\n",
       "      <td>287</td>\n",
       "      <td>176</td>\n",
       "      <td>103</td>\n",
       "      <td>124</td>\n",
       "      <td>7</td>\n",
       "      <td>1</td>\n",
       "    </tr>\n",
       "    <tr>\n",
       "      <th>9996</th>\n",
       "      <td>-4.0</td>\n",
       "      <td>174.0</td>\n",
       "      <td>1212.0</td>\n",
       "      <td>0</td>\n",
       "      <td>2</td>\n",
       "      <td>7</td>\n",
       "      <td>23</td>\n",
       "      <td>2</td>\n",
       "      <td>0</td>\n",
       "      <td>2192</td>\n",
       "      <td>2330</td>\n",
       "      <td>84</td>\n",
       "      <td>16</td>\n",
       "      <td>226</td>\n",
       "      <td>221</td>\n",
       "      <td>6</td>\n",
       "      <td>7</td>\n",
       "    </tr>\n",
       "    <tr>\n",
       "      <th>9997</th>\n",
       "      <td>28.0</td>\n",
       "      <td>87.0</td>\n",
       "      <td>391.0</td>\n",
       "      <td>1</td>\n",
       "      <td>0</td>\n",
       "      <td>0</td>\n",
       "      <td>19</td>\n",
       "      <td>4</td>\n",
       "      <td>5</td>\n",
       "      <td>3237</td>\n",
       "      <td>578</td>\n",
       "      <td>284</td>\n",
       "      <td>260</td>\n",
       "      <td>83</td>\n",
       "      <td>26</td>\n",
       "      <td>7</td>\n",
       "      <td>7</td>\n",
       "    </tr>\n",
       "    <tr>\n",
       "      <th>9998</th>\n",
       "      <td>124.0</td>\n",
       "      <td>105.0</td>\n",
       "      <td>411.0</td>\n",
       "      <td>1</td>\n",
       "      <td>1</td>\n",
       "      <td>5</td>\n",
       "      <td>7</td>\n",
       "      <td>3</td>\n",
       "      <td>8</td>\n",
       "      <td>3699</td>\n",
       "      <td>4442</td>\n",
       "      <td>71</td>\n",
       "      <td>15</td>\n",
       "      <td>284</td>\n",
       "      <td>261</td>\n",
       "      <td>5</td>\n",
       "      <td>6</td>\n",
       "    </tr>\n",
       "    <tr>\n",
       "      <th>9999</th>\n",
       "      <td>0.0</td>\n",
       "      <td>258.0</td>\n",
       "      <td>1747.0</td>\n",
       "      <td>0</td>\n",
       "      <td>2</td>\n",
       "      <td>6</td>\n",
       "      <td>26</td>\n",
       "      <td>2</td>\n",
       "      <td>3</td>\n",
       "      <td>3959</td>\n",
       "      <td>2555</td>\n",
       "      <td>20</td>\n",
       "      <td>29</td>\n",
       "      <td>171</td>\n",
       "      <td>156</td>\n",
       "      <td>6</td>\n",
       "      <td>6</td>\n",
       "    </tr>\n",
       "  </tbody>\n",
       "</table>\n",
       "<p>10000 rows × 17 columns</p>\n",
       "</div>"
      ],
      "text/plain": [
       "      DEP_DELAY  CRS_ELAPSED_TIME  DISTANCE  Status  QUARTER_Encoded  \\\n",
       "0          -6.0             144.0     719.0       0                3   \n",
       "1         115.0              69.0     290.0       1                2   \n",
       "2          78.0             341.0    2565.0       1                2   \n",
       "3          -7.0              89.0     453.0       0                2   \n",
       "4          -2.0             135.0     813.0       0                2   \n",
       "...         ...               ...       ...     ...              ...   \n",
       "9995      -12.0             299.0    2434.0       0                0   \n",
       "9996       -4.0             174.0    1212.0       0                2   \n",
       "9997       28.0              87.0     391.0       1                0   \n",
       "9998      124.0             105.0     411.0       1                1   \n",
       "9999        0.0             258.0    1747.0       0                2   \n",
       "\n",
       "      MONTH_Encoded  DAY_OF_MONTH_Encoded  DAY_OF_WEEK_Encoded  \\\n",
       "0                 9                    25                    2   \n",
       "1                 6                     2                    6   \n",
       "2                 8                     8                    4   \n",
       "3                 7                    21                    1   \n",
       "4                 8                    14                    3   \n",
       "...             ...                   ...                  ...   \n",
       "9995              1                    25                    4   \n",
       "9996              7                    23                    2   \n",
       "9997              0                    19                    4   \n",
       "9998              5                     7                    3   \n",
       "9999              6                    26                    2   \n",
       "\n",
       "      OP_UNIQUE_CARRIER_Encoded  TAIL_NUM_Encoded  OP_CARRIER_FL_NUM_Encoded  \\\n",
       "0                             9              1966                       1998   \n",
       "1                             3              1324                        791   \n",
       "2                             9               243                       1916   \n",
       "3                             3              4778                       1910   \n",
       "4                             0              1727                       1412   \n",
       "...                         ...               ...                        ...   \n",
       "9995                          9               465                       1655   \n",
       "9996                          0              2192                       2330   \n",
       "9997                          5              3237                        578   \n",
       "9998                          8              3699                       4442   \n",
       "9999                          3              3959                       2555   \n",
       "\n",
       "      ORIGIN_AIRPORT_ID_Encoded  ORIGIN_CITY_MARKET_ID_Encoded  \\\n",
       "0                           104                            124   \n",
       "1                           284                            260   \n",
       "2                           276                            169   \n",
       "3                           182                            177   \n",
       "4                           307                             35   \n",
       "...                         ...                            ...   \n",
       "9995                        287                            176   \n",
       "9996                         84                             16   \n",
       "9997                        284                            260   \n",
       "9998                         71                             15   \n",
       "9999                         20                             29   \n",
       "\n",
       "      DEST_AIRPORT_ID_Encoded  DEST_CITY_MARKET_ID_Encoded  \\\n",
       "0                         225                           74   \n",
       "1                          39                           55   \n",
       "2                         103                          124   \n",
       "3                          20                           29   \n",
       "4                          84                           16   \n",
       "...                       ...                          ...   \n",
       "9995                      103                          124   \n",
       "9996                      226                          221   \n",
       "9997                       83                           26   \n",
       "9998                      284                          261   \n",
       "9999                      171                          156   \n",
       "\n",
       "      CRS_DEP_TIME_Encoded  CRS_ARR_TIME_Encoded  \n",
       "0                        2                     2  \n",
       "1                        6                     7  \n",
       "2                        3                     6  \n",
       "3                        3                     3  \n",
       "4                        2                     3  \n",
       "...                    ...                   ...  \n",
       "9995                     7                     1  \n",
       "9996                     6                     7  \n",
       "9997                     7                     7  \n",
       "9998                     5                     6  \n",
       "9999                     6                     6  \n",
       "\n",
       "[10000 rows x 17 columns]"
      ]
     },
     "execution_count": 13,
     "metadata": {},
     "output_type": "execute_result"
    }
   ],
   "source": [
    "df"
   ]
  },
  {
   "cell_type": "code",
   "execution_count": 14,
   "id": "a1b2ea81",
   "metadata": {
    "execution": {
     "iopub.execute_input": "2024-03-04T02:54:38.732172Z",
     "iopub.status.busy": "2024-03-04T02:54:38.730848Z",
     "iopub.status.idle": "2024-03-04T02:54:38.738507Z",
     "shell.execute_reply": "2024-03-04T02:54:38.737389Z"
    },
    "papermill": {
     "duration": 0.049671,
     "end_time": "2024-03-04T02:54:38.741248",
     "exception": false,
     "start_time": "2024-03-04T02:54:38.691577",
     "status": "completed"
    },
    "tags": []
   },
   "outputs": [],
   "source": [
    "def Standard_Scaler (dfc, col_names_to_scale):\n",
    "    features = dfc[col_names_to_scale]\n",
    "    scaler = StandardScaler().fit(features.values)\n",
    "    features = scaler.transform(features.values)\n",
    "    dfc[col_names_to_scale] = features\n",
    "\n",
    "    return dfc\n"
   ]
  },
  {
   "cell_type": "code",
   "execution_count": 15,
   "id": "41627ffa",
   "metadata": {
    "execution": {
     "iopub.execute_input": "2024-03-04T02:54:38.819801Z",
     "iopub.status.busy": "2024-03-04T02:54:38.818406Z",
     "iopub.status.idle": "2024-03-04T02:54:38.846118Z",
     "shell.execute_reply": "2024-03-04T02:54:38.844728Z"
    },
    "papermill": {
     "duration": 0.07055,
     "end_time": "2024-03-04T02:54:38.849327",
     "exception": false,
     "start_time": "2024-03-04T02:54:38.778777",
     "status": "completed"
    },
    "tags": []
   },
   "outputs": [],
   "source": [
    "# Chuẩn hóa data\n",
    "df_delayed = Standard_Scaler(df, df.drop('Status', axis=1).columns)\n",
    "new_X = df_delayed.drop('Status', axis=1)\n",
    "new_y = df_delayed['Status']\n",
    "new_X_train, new_X_test, new_y_train, new_y_test = train_test_split(new_X, new_y, test_size=0.2, random_state=42, stratify=new_y)"
   ]
  },
  {
   "cell_type": "markdown",
   "id": "e7a8f870",
   "metadata": {
    "papermill": {
     "duration": 0.037746,
     "end_time": "2024-03-04T02:54:38.924836",
     "exception": false,
     "start_time": "2024-03-04T02:54:38.887090",
     "status": "completed"
    },
    "tags": []
   },
   "source": [
    "# SUPPORT VECTOR MACHINE"
   ]
  },
  {
   "cell_type": "code",
   "execution_count": 16,
   "id": "3b810ded",
   "metadata": {
    "execution": {
     "iopub.execute_input": "2024-03-04T02:54:39.004134Z",
     "iopub.status.busy": "2024-03-04T02:54:39.002686Z",
     "iopub.status.idle": "2024-03-04T02:54:39.142054Z",
     "shell.execute_reply": "2024-03-04T02:54:39.140293Z"
    },
    "papermill": {
     "duration": 0.182396,
     "end_time": "2024-03-04T02:54:39.145418",
     "exception": false,
     "start_time": "2024-03-04T02:54:38.963022",
     "status": "completed"
    },
    "tags": []
   },
   "outputs": [],
   "source": [
    "from sklearn.svm import SVC"
   ]
  },
  {
   "cell_type": "markdown",
   "id": "e5049f49",
   "metadata": {
    "papermill": {
     "duration": 0.038486,
     "end_time": "2024-03-04T02:54:39.222273",
     "exception": false,
     "start_time": "2024-03-04T02:54:39.183787",
     "status": "completed"
    },
    "tags": []
   },
   "source": [
    "# No Sampling"
   ]
  },
  {
   "cell_type": "code",
   "execution_count": 17,
   "id": "25879857",
   "metadata": {
    "execution": {
     "iopub.execute_input": "2024-03-04T02:54:39.300945Z",
     "iopub.status.busy": "2024-03-04T02:54:39.299336Z",
     "iopub.status.idle": "2024-03-04T02:54:40.106554Z",
     "shell.execute_reply": "2024-03-04T02:54:40.105026Z"
    },
    "papermill": {
     "duration": 0.849381,
     "end_time": "2024-03-04T02:54:40.109355",
     "exception": false,
     "start_time": "2024-03-04T02:54:39.259974",
     "status": "completed"
    },
    "tags": []
   },
   "outputs": [
    {
     "data": {
      "text/html": [
       "<style>#sk-container-id-1 {color: black;background-color: white;}#sk-container-id-1 pre{padding: 0;}#sk-container-id-1 div.sk-toggleable {background-color: white;}#sk-container-id-1 label.sk-toggleable__label {cursor: pointer;display: block;width: 100%;margin-bottom: 0;padding: 0.3em;box-sizing: border-box;text-align: center;}#sk-container-id-1 label.sk-toggleable__label-arrow:before {content: \"▸\";float: left;margin-right: 0.25em;color: #696969;}#sk-container-id-1 label.sk-toggleable__label-arrow:hover:before {color: black;}#sk-container-id-1 div.sk-estimator:hover label.sk-toggleable__label-arrow:before {color: black;}#sk-container-id-1 div.sk-toggleable__content {max-height: 0;max-width: 0;overflow: hidden;text-align: left;background-color: #f0f8ff;}#sk-container-id-1 div.sk-toggleable__content pre {margin: 0.2em;color: black;border-radius: 0.25em;background-color: #f0f8ff;}#sk-container-id-1 input.sk-toggleable__control:checked~div.sk-toggleable__content {max-height: 200px;max-width: 100%;overflow: auto;}#sk-container-id-1 input.sk-toggleable__control:checked~label.sk-toggleable__label-arrow:before {content: \"▾\";}#sk-container-id-1 div.sk-estimator input.sk-toggleable__control:checked~label.sk-toggleable__label {background-color: #d4ebff;}#sk-container-id-1 div.sk-label input.sk-toggleable__control:checked~label.sk-toggleable__label {background-color: #d4ebff;}#sk-container-id-1 input.sk-hidden--visually {border: 0;clip: rect(1px 1px 1px 1px);clip: rect(1px, 1px, 1px, 1px);height: 1px;margin: -1px;overflow: hidden;padding: 0;position: absolute;width: 1px;}#sk-container-id-1 div.sk-estimator {font-family: monospace;background-color: #f0f8ff;border: 1px dotted black;border-radius: 0.25em;box-sizing: border-box;margin-bottom: 0.5em;}#sk-container-id-1 div.sk-estimator:hover {background-color: #d4ebff;}#sk-container-id-1 div.sk-parallel-item::after {content: \"\";width: 100%;border-bottom: 1px solid gray;flex-grow: 1;}#sk-container-id-1 div.sk-label:hover label.sk-toggleable__label {background-color: #d4ebff;}#sk-container-id-1 div.sk-serial::before {content: \"\";position: absolute;border-left: 1px solid gray;box-sizing: border-box;top: 0;bottom: 0;left: 50%;z-index: 0;}#sk-container-id-1 div.sk-serial {display: flex;flex-direction: column;align-items: center;background-color: white;padding-right: 0.2em;padding-left: 0.2em;position: relative;}#sk-container-id-1 div.sk-item {position: relative;z-index: 1;}#sk-container-id-1 div.sk-parallel {display: flex;align-items: stretch;justify-content: center;background-color: white;position: relative;}#sk-container-id-1 div.sk-item::before, #sk-container-id-1 div.sk-parallel-item::before {content: \"\";position: absolute;border-left: 1px solid gray;box-sizing: border-box;top: 0;bottom: 0;left: 50%;z-index: -1;}#sk-container-id-1 div.sk-parallel-item {display: flex;flex-direction: column;z-index: 1;position: relative;background-color: white;}#sk-container-id-1 div.sk-parallel-item:first-child::after {align-self: flex-end;width: 50%;}#sk-container-id-1 div.sk-parallel-item:last-child::after {align-self: flex-start;width: 50%;}#sk-container-id-1 div.sk-parallel-item:only-child::after {width: 0;}#sk-container-id-1 div.sk-dashed-wrapped {border: 1px dashed gray;margin: 0 0.4em 0.5em 0.4em;box-sizing: border-box;padding-bottom: 0.4em;background-color: white;}#sk-container-id-1 div.sk-label label {font-family: monospace;font-weight: bold;display: inline-block;line-height: 1.2em;}#sk-container-id-1 div.sk-label-container {text-align: center;}#sk-container-id-1 div.sk-container {/* jupyter's `normalize.less` sets `[hidden] { display: none; }` but bootstrap.min.css set `[hidden] { display: none !important; }` so we also need the `!important` here to be able to override the default hidden behavior on the sphinx rendered scikit-learn.org. See: https://github.com/scikit-learn/scikit-learn/issues/21755 */display: inline-block !important;position: relative;}#sk-container-id-1 div.sk-text-repr-fallback {display: none;}</style><div id=\"sk-container-id-1\" class=\"sk-top-container\"><div class=\"sk-text-repr-fallback\"><pre>SVC()</pre><b>In a Jupyter environment, please rerun this cell to show the HTML representation or trust the notebook. <br />On GitHub, the HTML representation is unable to render, please try loading this page with nbviewer.org.</b></div><div class=\"sk-container\" hidden><div class=\"sk-item\"><div class=\"sk-estimator sk-toggleable\"><input class=\"sk-toggleable__control sk-hidden--visually\" id=\"sk-estimator-id-1\" type=\"checkbox\" checked><label for=\"sk-estimator-id-1\" class=\"sk-toggleable__label sk-toggleable__label-arrow\">SVC</label><div class=\"sk-toggleable__content\"><pre>SVC()</pre></div></div></div></div></div>"
      ],
      "text/plain": [
       "SVC()"
      ]
     },
     "execution_count": 17,
     "metadata": {},
     "output_type": "execute_result"
    }
   ],
   "source": [
    "svc = SVC()\n",
    "svc.fit(new_X_train, new_y_train)"
   ]
  },
  {
   "cell_type": "code",
   "execution_count": 18,
   "id": "b37d33f7",
   "metadata": {
    "execution": {
     "iopub.execute_input": "2024-03-04T02:54:40.188765Z",
     "iopub.status.busy": "2024-03-04T02:54:40.187651Z",
     "iopub.status.idle": "2024-03-04T02:54:40.397965Z",
     "shell.execute_reply": "2024-03-04T02:54:40.396539Z"
    },
    "papermill": {
     "duration": 0.253372,
     "end_time": "2024-03-04T02:54:40.401203",
     "exception": false,
     "start_time": "2024-03-04T02:54:40.147831",
     "status": "completed"
    },
    "tags": []
   },
   "outputs": [
    {
     "name": "stdout",
     "output_type": "stream",
     "text": [
      "              precision    recall  f1-score   support\n",
      "\n",
      "           0       0.93      0.99      0.96      1659\n",
      "           1       0.96      0.66      0.78       341\n",
      "\n",
      "    accuracy                           0.94      2000\n",
      "   macro avg       0.95      0.83      0.87      2000\n",
      "weighted avg       0.94      0.94      0.93      2000\n",
      "\n"
     ]
    }
   ],
   "source": [
    "y_nosamp = svc.predict(new_X_test)\n",
    "print(classification_report(new_y_test, y_nosamp))"
   ]
  },
  {
   "cell_type": "markdown",
   "id": "ba260d38",
   "metadata": {
    "papermill": {
     "duration": 0.038232,
     "end_time": "2024-03-04T02:54:40.478608",
     "exception": false,
     "start_time": "2024-03-04T02:54:40.440376",
     "status": "completed"
    },
    "tags": []
   },
   "source": [
    "## SMOTETomek"
   ]
  },
  {
   "cell_type": "code",
   "execution_count": 19,
   "id": "85174ad6",
   "metadata": {
    "execution": {
     "iopub.execute_input": "2024-03-04T02:54:40.561409Z",
     "iopub.status.busy": "2024-03-04T02:54:40.560963Z",
     "iopub.status.idle": "2024-03-04T02:55:01.892393Z",
     "shell.execute_reply": "2024-03-04T02:55:01.890993Z"
    },
    "papermill": {
     "duration": 21.375576,
     "end_time": "2024-03-04T02:55:01.895482",
     "exception": false,
     "start_time": "2024-03-04T02:54:40.519906",
     "status": "completed"
    },
    "tags": []
   },
   "outputs": [
    {
     "data": {
      "text/html": [
       "<style>#sk-container-id-2 {color: black;background-color: white;}#sk-container-id-2 pre{padding: 0;}#sk-container-id-2 div.sk-toggleable {background-color: white;}#sk-container-id-2 label.sk-toggleable__label {cursor: pointer;display: block;width: 100%;margin-bottom: 0;padding: 0.3em;box-sizing: border-box;text-align: center;}#sk-container-id-2 label.sk-toggleable__label-arrow:before {content: \"▸\";float: left;margin-right: 0.25em;color: #696969;}#sk-container-id-2 label.sk-toggleable__label-arrow:hover:before {color: black;}#sk-container-id-2 div.sk-estimator:hover label.sk-toggleable__label-arrow:before {color: black;}#sk-container-id-2 div.sk-toggleable__content {max-height: 0;max-width: 0;overflow: hidden;text-align: left;background-color: #f0f8ff;}#sk-container-id-2 div.sk-toggleable__content pre {margin: 0.2em;color: black;border-radius: 0.25em;background-color: #f0f8ff;}#sk-container-id-2 input.sk-toggleable__control:checked~div.sk-toggleable__content {max-height: 200px;max-width: 100%;overflow: auto;}#sk-container-id-2 input.sk-toggleable__control:checked~label.sk-toggleable__label-arrow:before {content: \"▾\";}#sk-container-id-2 div.sk-estimator input.sk-toggleable__control:checked~label.sk-toggleable__label {background-color: #d4ebff;}#sk-container-id-2 div.sk-label input.sk-toggleable__control:checked~label.sk-toggleable__label {background-color: #d4ebff;}#sk-container-id-2 input.sk-hidden--visually {border: 0;clip: rect(1px 1px 1px 1px);clip: rect(1px, 1px, 1px, 1px);height: 1px;margin: -1px;overflow: hidden;padding: 0;position: absolute;width: 1px;}#sk-container-id-2 div.sk-estimator {font-family: monospace;background-color: #f0f8ff;border: 1px dotted black;border-radius: 0.25em;box-sizing: border-box;margin-bottom: 0.5em;}#sk-container-id-2 div.sk-estimator:hover {background-color: #d4ebff;}#sk-container-id-2 div.sk-parallel-item::after {content: \"\";width: 100%;border-bottom: 1px solid gray;flex-grow: 1;}#sk-container-id-2 div.sk-label:hover label.sk-toggleable__label {background-color: #d4ebff;}#sk-container-id-2 div.sk-serial::before {content: \"\";position: absolute;border-left: 1px solid gray;box-sizing: border-box;top: 0;bottom: 0;left: 50%;z-index: 0;}#sk-container-id-2 div.sk-serial {display: flex;flex-direction: column;align-items: center;background-color: white;padding-right: 0.2em;padding-left: 0.2em;position: relative;}#sk-container-id-2 div.sk-item {position: relative;z-index: 1;}#sk-container-id-2 div.sk-parallel {display: flex;align-items: stretch;justify-content: center;background-color: white;position: relative;}#sk-container-id-2 div.sk-item::before, #sk-container-id-2 div.sk-parallel-item::before {content: \"\";position: absolute;border-left: 1px solid gray;box-sizing: border-box;top: 0;bottom: 0;left: 50%;z-index: -1;}#sk-container-id-2 div.sk-parallel-item {display: flex;flex-direction: column;z-index: 1;position: relative;background-color: white;}#sk-container-id-2 div.sk-parallel-item:first-child::after {align-self: flex-end;width: 50%;}#sk-container-id-2 div.sk-parallel-item:last-child::after {align-self: flex-start;width: 50%;}#sk-container-id-2 div.sk-parallel-item:only-child::after {width: 0;}#sk-container-id-2 div.sk-dashed-wrapped {border: 1px dashed gray;margin: 0 0.4em 0.5em 0.4em;box-sizing: border-box;padding-bottom: 0.4em;background-color: white;}#sk-container-id-2 div.sk-label label {font-family: monospace;font-weight: bold;display: inline-block;line-height: 1.2em;}#sk-container-id-2 div.sk-label-container {text-align: center;}#sk-container-id-2 div.sk-container {/* jupyter's `normalize.less` sets `[hidden] { display: none; }` but bootstrap.min.css set `[hidden] { display: none !important; }` so we also need the `!important` here to be able to override the default hidden behavior on the sphinx rendered scikit-learn.org. See: https://github.com/scikit-learn/scikit-learn/issues/21755 */display: inline-block !important;position: relative;}#sk-container-id-2 div.sk-text-repr-fallback {display: none;}</style><div id=\"sk-container-id-2\" class=\"sk-top-container\"><div class=\"sk-text-repr-fallback\"><pre>Pipeline(steps=[(&#x27;smotetomek&#x27;,\n",
       "                 SMOTETomek(tomek=TomekLinks(sampling_strategy=&#x27;majority&#x27;))),\n",
       "                (&#x27;svc&#x27;, SVC(probability=True, random_state=13))])</pre><b>In a Jupyter environment, please rerun this cell to show the HTML representation or trust the notebook. <br />On GitHub, the HTML representation is unable to render, please try loading this page with nbviewer.org.</b></div><div class=\"sk-container\" hidden><div class=\"sk-item sk-dashed-wrapped\"><div class=\"sk-label-container\"><div class=\"sk-label sk-toggleable\"><input class=\"sk-toggleable__control sk-hidden--visually\" id=\"sk-estimator-id-2\" type=\"checkbox\" ><label for=\"sk-estimator-id-2\" class=\"sk-toggleable__label sk-toggleable__label-arrow\">Pipeline</label><div class=\"sk-toggleable__content\"><pre>Pipeline(steps=[(&#x27;smotetomek&#x27;,\n",
       "                 SMOTETomek(tomek=TomekLinks(sampling_strategy=&#x27;majority&#x27;))),\n",
       "                (&#x27;svc&#x27;, SVC(probability=True, random_state=13))])</pre></div></div></div><div class=\"sk-serial\"><div class=\"sk-item sk-dashed-wrapped\"><div class=\"sk-label-container\"><div class=\"sk-label sk-toggleable\"><input class=\"sk-toggleable__control sk-hidden--visually\" id=\"sk-estimator-id-3\" type=\"checkbox\" ><label for=\"sk-estimator-id-3\" class=\"sk-toggleable__label sk-toggleable__label-arrow\">smotetomek: SMOTETomek</label><div class=\"sk-toggleable__content\"><pre>SMOTETomek(tomek=TomekLinks(sampling_strategy=&#x27;majority&#x27;))</pre></div></div></div><div class=\"sk-parallel\"><div class=\"sk-parallel-item\"><div class=\"sk-item\"><div class=\"sk-label-container\"><div class=\"sk-label sk-toggleable\"><input class=\"sk-toggleable__control sk-hidden--visually\" id=\"sk-estimator-id-4\" type=\"checkbox\" ><label for=\"sk-estimator-id-4\" class=\"sk-toggleable__label sk-toggleable__label-arrow\">tomek: TomekLinks</label><div class=\"sk-toggleable__content\"><pre>TomekLinks(sampling_strategy=&#x27;majority&#x27;)</pre></div></div></div><div class=\"sk-serial\"><div class=\"sk-item\"><div class=\"sk-estimator sk-toggleable\"><input class=\"sk-toggleable__control sk-hidden--visually\" id=\"sk-estimator-id-5\" type=\"checkbox\" ><label for=\"sk-estimator-id-5\" class=\"sk-toggleable__label sk-toggleable__label-arrow\">TomekLinks</label><div class=\"sk-toggleable__content\"><pre>TomekLinks(sampling_strategy=&#x27;majority&#x27;)</pre></div></div></div></div></div></div></div></div><div class=\"sk-item\"><div class=\"sk-estimator sk-toggleable\"><input class=\"sk-toggleable__control sk-hidden--visually\" id=\"sk-estimator-id-6\" type=\"checkbox\" ><label for=\"sk-estimator-id-6\" class=\"sk-toggleable__label sk-toggleable__label-arrow\">SVC</label><div class=\"sk-toggleable__content\"><pre>SVC(probability=True, random_state=13)</pre></div></div></div></div></div></div></div>"
      ],
      "text/plain": [
       "Pipeline(steps=[('smotetomek',\n",
       "                 SMOTETomek(tomek=TomekLinks(sampling_strategy='majority'))),\n",
       "                ('svc', SVC(probability=True, random_state=13))])"
      ]
     },
     "execution_count": 19,
     "metadata": {},
     "output_type": "execute_result"
    }
   ],
   "source": [
    "from imblearn.combine import SMOTETomek\n",
    "from imblearn.under_sampling import TomekLinks\n",
    "from imblearn.pipeline import Pipeline, make_pipeline\n",
    "\n",
    "SMOTETomek_pipeline = make_pipeline(SMOTETomek(tomek=TomekLinks(sampling_strategy='majority')),\n",
    "                                    SVC(kernel='rbf', C=1.0, probability=True, random_state=13))\n",
    "\n",
    "# Fit the pipeline with SVM\n",
    "SMOTETomek_svm = SMOTETomek_pipeline\n",
    "SMOTETomek_svm.fit(new_X_train, new_y_train)"
   ]
  },
  {
   "cell_type": "code",
   "execution_count": 20,
   "id": "cd31bfd9",
   "metadata": {
    "execution": {
     "iopub.execute_input": "2024-03-04T02:55:01.976748Z",
     "iopub.status.busy": "2024-03-04T02:55:01.975472Z",
     "iopub.status.idle": "2024-03-04T02:55:02.459916Z",
     "shell.execute_reply": "2024-03-04T02:55:02.458419Z"
    },
    "papermill": {
     "duration": 0.527779,
     "end_time": "2024-03-04T02:55:02.463253",
     "exception": false,
     "start_time": "2024-03-04T02:55:01.935474",
     "status": "completed"
    },
    "tags": []
   },
   "outputs": [],
   "source": [
    "y_pred = SMOTETomek_svm.predict(new_X_test)"
   ]
  },
  {
   "cell_type": "markdown",
   "id": "bdc2e4ea",
   "metadata": {
    "papermill": {
     "duration": 0.037745,
     "end_time": "2024-03-04T02:55:02.539059",
     "exception": false,
     "start_time": "2024-03-04T02:55:02.501314",
     "status": "completed"
    },
    "tags": []
   },
   "source": [
    "### Validate"
   ]
  },
  {
   "cell_type": "code",
   "execution_count": 21,
   "id": "de67788a",
   "metadata": {
    "execution": {
     "iopub.execute_input": "2024-03-04T02:55:02.619694Z",
     "iopub.status.busy": "2024-03-04T02:55:02.618901Z",
     "iopub.status.idle": "2024-03-04T02:55:02.636477Z",
     "shell.execute_reply": "2024-03-04T02:55:02.635197Z"
    },
    "papermill": {
     "duration": 0.062154,
     "end_time": "2024-03-04T02:55:02.639337",
     "exception": false,
     "start_time": "2024-03-04T02:55:02.577183",
     "status": "completed"
    },
    "tags": []
   },
   "outputs": [
    {
     "name": "stdout",
     "output_type": "stream",
     "text": [
      "              precision    recall  f1-score   support\n",
      "\n",
      "           0       0.95      0.93      0.94      1659\n",
      "           1       0.71      0.78      0.74       341\n",
      "\n",
      "    accuracy                           0.91      2000\n",
      "   macro avg       0.83      0.86      0.84      2000\n",
      "weighted avg       0.91      0.91      0.91      2000\n",
      "\n"
     ]
    }
   ],
   "source": [
    "print(classification_report(new_y_test, y_pred))"
   ]
  },
  {
   "cell_type": "markdown",
   "id": "7ee412f1",
   "metadata": {
    "papermill": {
     "duration": 0.038168,
     "end_time": "2024-03-04T02:55:02.715779",
     "exception": false,
     "start_time": "2024-03-04T02:55:02.677611",
     "status": "completed"
    },
    "tags": []
   },
   "source": [
    "## SMOTEENN"
   ]
  },
  {
   "cell_type": "code",
   "execution_count": 22,
   "id": "24daa21f",
   "metadata": {
    "execution": {
     "iopub.execute_input": "2024-03-04T02:55:02.796112Z",
     "iopub.status.busy": "2024-03-04T02:55:02.795209Z",
     "iopub.status.idle": "2024-03-04T02:55:02.801134Z",
     "shell.execute_reply": "2024-03-04T02:55:02.800208Z"
    },
    "papermill": {
     "duration": 0.049695,
     "end_time": "2024-03-04T02:55:02.803689",
     "exception": false,
     "start_time": "2024-03-04T02:55:02.753994",
     "status": "completed"
    },
    "tags": []
   },
   "outputs": [],
   "source": [
    "from imblearn.combine import SMOTEENN\n",
    "from imblearn.under_sampling import EditedNearestNeighbours"
   ]
  },
  {
   "cell_type": "code",
   "execution_count": 23,
   "id": "48e93cf0",
   "metadata": {
    "execution": {
     "iopub.execute_input": "2024-03-04T02:55:02.883384Z",
     "iopub.status.busy": "2024-03-04T02:55:02.882607Z",
     "iopub.status.idle": "2024-03-04T02:55:05.001901Z",
     "shell.execute_reply": "2024-03-04T02:55:05.000593Z"
    },
    "papermill": {
     "duration": 2.16256,
     "end_time": "2024-03-04T02:55:05.004870",
     "exception": false,
     "start_time": "2024-03-04T02:55:02.842310",
     "status": "completed"
    },
    "tags": []
   },
   "outputs": [
    {
     "data": {
      "text/html": [
       "<style>#sk-container-id-3 {color: black;background-color: white;}#sk-container-id-3 pre{padding: 0;}#sk-container-id-3 div.sk-toggleable {background-color: white;}#sk-container-id-3 label.sk-toggleable__label {cursor: pointer;display: block;width: 100%;margin-bottom: 0;padding: 0.3em;box-sizing: border-box;text-align: center;}#sk-container-id-3 label.sk-toggleable__label-arrow:before {content: \"▸\";float: left;margin-right: 0.25em;color: #696969;}#sk-container-id-3 label.sk-toggleable__label-arrow:hover:before {color: black;}#sk-container-id-3 div.sk-estimator:hover label.sk-toggleable__label-arrow:before {color: black;}#sk-container-id-3 div.sk-toggleable__content {max-height: 0;max-width: 0;overflow: hidden;text-align: left;background-color: #f0f8ff;}#sk-container-id-3 div.sk-toggleable__content pre {margin: 0.2em;color: black;border-radius: 0.25em;background-color: #f0f8ff;}#sk-container-id-3 input.sk-toggleable__control:checked~div.sk-toggleable__content {max-height: 200px;max-width: 100%;overflow: auto;}#sk-container-id-3 input.sk-toggleable__control:checked~label.sk-toggleable__label-arrow:before {content: \"▾\";}#sk-container-id-3 div.sk-estimator input.sk-toggleable__control:checked~label.sk-toggleable__label {background-color: #d4ebff;}#sk-container-id-3 div.sk-label input.sk-toggleable__control:checked~label.sk-toggleable__label {background-color: #d4ebff;}#sk-container-id-3 input.sk-hidden--visually {border: 0;clip: rect(1px 1px 1px 1px);clip: rect(1px, 1px, 1px, 1px);height: 1px;margin: -1px;overflow: hidden;padding: 0;position: absolute;width: 1px;}#sk-container-id-3 div.sk-estimator {font-family: monospace;background-color: #f0f8ff;border: 1px dotted black;border-radius: 0.25em;box-sizing: border-box;margin-bottom: 0.5em;}#sk-container-id-3 div.sk-estimator:hover {background-color: #d4ebff;}#sk-container-id-3 div.sk-parallel-item::after {content: \"\";width: 100%;border-bottom: 1px solid gray;flex-grow: 1;}#sk-container-id-3 div.sk-label:hover label.sk-toggleable__label {background-color: #d4ebff;}#sk-container-id-3 div.sk-serial::before {content: \"\";position: absolute;border-left: 1px solid gray;box-sizing: border-box;top: 0;bottom: 0;left: 50%;z-index: 0;}#sk-container-id-3 div.sk-serial {display: flex;flex-direction: column;align-items: center;background-color: white;padding-right: 0.2em;padding-left: 0.2em;position: relative;}#sk-container-id-3 div.sk-item {position: relative;z-index: 1;}#sk-container-id-3 div.sk-parallel {display: flex;align-items: stretch;justify-content: center;background-color: white;position: relative;}#sk-container-id-3 div.sk-item::before, #sk-container-id-3 div.sk-parallel-item::before {content: \"\";position: absolute;border-left: 1px solid gray;box-sizing: border-box;top: 0;bottom: 0;left: 50%;z-index: -1;}#sk-container-id-3 div.sk-parallel-item {display: flex;flex-direction: column;z-index: 1;position: relative;background-color: white;}#sk-container-id-3 div.sk-parallel-item:first-child::after {align-self: flex-end;width: 50%;}#sk-container-id-3 div.sk-parallel-item:last-child::after {align-self: flex-start;width: 50%;}#sk-container-id-3 div.sk-parallel-item:only-child::after {width: 0;}#sk-container-id-3 div.sk-dashed-wrapped {border: 1px dashed gray;margin: 0 0.4em 0.5em 0.4em;box-sizing: border-box;padding-bottom: 0.4em;background-color: white;}#sk-container-id-3 div.sk-label label {font-family: monospace;font-weight: bold;display: inline-block;line-height: 1.2em;}#sk-container-id-3 div.sk-label-container {text-align: center;}#sk-container-id-3 div.sk-container {/* jupyter's `normalize.less` sets `[hidden] { display: none; }` but bootstrap.min.css set `[hidden] { display: none !important; }` so we also need the `!important` here to be able to override the default hidden behavior on the sphinx rendered scikit-learn.org. See: https://github.com/scikit-learn/scikit-learn/issues/21755 */display: inline-block !important;position: relative;}#sk-container-id-3 div.sk-text-repr-fallback {display: none;}</style><div id=\"sk-container-id-3\" class=\"sk-top-container\"><div class=\"sk-text-repr-fallback\"><pre>Pipeline(steps=[(&#x27;smoteenn&#x27;,\n",
       "                 SMOTEENN(enn=EditedNearestNeighbours(sampling_strategy=&#x27;majority&#x27;))),\n",
       "                (&#x27;svc&#x27;, SVC())])</pre><b>In a Jupyter environment, please rerun this cell to show the HTML representation or trust the notebook. <br />On GitHub, the HTML representation is unable to render, please try loading this page with nbviewer.org.</b></div><div class=\"sk-container\" hidden><div class=\"sk-item sk-dashed-wrapped\"><div class=\"sk-label-container\"><div class=\"sk-label sk-toggleable\"><input class=\"sk-toggleable__control sk-hidden--visually\" id=\"sk-estimator-id-7\" type=\"checkbox\" ><label for=\"sk-estimator-id-7\" class=\"sk-toggleable__label sk-toggleable__label-arrow\">Pipeline</label><div class=\"sk-toggleable__content\"><pre>Pipeline(steps=[(&#x27;smoteenn&#x27;,\n",
       "                 SMOTEENN(enn=EditedNearestNeighbours(sampling_strategy=&#x27;majority&#x27;))),\n",
       "                (&#x27;svc&#x27;, SVC())])</pre></div></div></div><div class=\"sk-serial\"><div class=\"sk-item sk-dashed-wrapped\"><div class=\"sk-label-container\"><div class=\"sk-label sk-toggleable\"><input class=\"sk-toggleable__control sk-hidden--visually\" id=\"sk-estimator-id-8\" type=\"checkbox\" ><label for=\"sk-estimator-id-8\" class=\"sk-toggleable__label sk-toggleable__label-arrow\">smoteenn: SMOTEENN</label><div class=\"sk-toggleable__content\"><pre>SMOTEENN(enn=EditedNearestNeighbours(sampling_strategy=&#x27;majority&#x27;))</pre></div></div></div><div class=\"sk-parallel\"><div class=\"sk-parallel-item\"><div class=\"sk-item\"><div class=\"sk-label-container\"><div class=\"sk-label sk-toggleable\"><input class=\"sk-toggleable__control sk-hidden--visually\" id=\"sk-estimator-id-9\" type=\"checkbox\" ><label for=\"sk-estimator-id-9\" class=\"sk-toggleable__label sk-toggleable__label-arrow\">enn: EditedNearestNeighbours</label><div class=\"sk-toggleable__content\"><pre>EditedNearestNeighbours(sampling_strategy=&#x27;majority&#x27;)</pre></div></div></div><div class=\"sk-serial\"><div class=\"sk-item\"><div class=\"sk-estimator sk-toggleable\"><input class=\"sk-toggleable__control sk-hidden--visually\" id=\"sk-estimator-id-10\" type=\"checkbox\" ><label for=\"sk-estimator-id-10\" class=\"sk-toggleable__label sk-toggleable__label-arrow\">EditedNearestNeighbours</label><div class=\"sk-toggleable__content\"><pre>EditedNearestNeighbours(sampling_strategy=&#x27;majority&#x27;)</pre></div></div></div></div></div></div></div></div><div class=\"sk-item\"><div class=\"sk-estimator sk-toggleable\"><input class=\"sk-toggleable__control sk-hidden--visually\" id=\"sk-estimator-id-11\" type=\"checkbox\" ><label for=\"sk-estimator-id-11\" class=\"sk-toggleable__label sk-toggleable__label-arrow\">SVC</label><div class=\"sk-toggleable__content\"><pre>SVC()</pre></div></div></div></div></div></div></div>"
      ],
      "text/plain": [
       "Pipeline(steps=[('smoteenn',\n",
       "                 SMOTEENN(enn=EditedNearestNeighbours(sampling_strategy='majority'))),\n",
       "                ('svc', SVC())])"
      ]
     },
     "execution_count": 23,
     "metadata": {},
     "output_type": "execute_result"
    }
   ],
   "source": [
    "SMOTEENN_pipeline_svm = make_pipeline(SMOTEENN(enn=EditedNearestNeighbours(sampling_strategy='majority')),\n",
    "                                      SVC(kernel='rbf'))  \n",
    "\n",
    "SMOTEENN_svm = SMOTEENN_pipeline_svm\n",
    "SMOTEENN_svm.fit(new_X_train, new_y_train)\n"
   ]
  },
  {
   "cell_type": "markdown",
   "id": "e611d2fa",
   "metadata": {
    "papermill": {
     "duration": 0.03954,
     "end_time": "2024-03-04T02:55:05.083971",
     "exception": false,
     "start_time": "2024-03-04T02:55:05.044431",
     "status": "completed"
    },
    "tags": []
   },
   "source": [
    "### Validate"
   ]
  },
  {
   "cell_type": "code",
   "execution_count": 24,
   "id": "145fa17b",
   "metadata": {
    "execution": {
     "iopub.execute_input": "2024-03-04T02:55:05.164774Z",
     "iopub.status.busy": "2024-03-04T02:55:05.163954Z",
     "iopub.status.idle": "2024-03-04T02:55:05.498874Z",
     "shell.execute_reply": "2024-03-04T02:55:05.497380Z"
    },
    "papermill": {
     "duration": 0.378882,
     "end_time": "2024-03-04T02:55:05.502042",
     "exception": false,
     "start_time": "2024-03-04T02:55:05.123160",
     "status": "completed"
    },
    "tags": []
   },
   "outputs": [],
   "source": [
    "y_pred1 = SMOTEENN_svm.predict(new_X_test)"
   ]
  },
  {
   "cell_type": "code",
   "execution_count": 25,
   "id": "c041a87a",
   "metadata": {
    "execution": {
     "iopub.execute_input": "2024-03-04T02:55:05.582274Z",
     "iopub.status.busy": "2024-03-04T02:55:05.581814Z",
     "iopub.status.idle": "2024-03-04T02:55:05.600930Z",
     "shell.execute_reply": "2024-03-04T02:55:05.599612Z"
    },
    "papermill": {
     "duration": 0.062456,
     "end_time": "2024-03-04T02:55:05.603957",
     "exception": false,
     "start_time": "2024-03-04T02:55:05.541501",
     "status": "completed"
    },
    "tags": []
   },
   "outputs": [
    {
     "name": "stdout",
     "output_type": "stream",
     "text": [
      "              precision    recall  f1-score   support\n",
      "\n",
      "           0       0.96      0.88      0.92      1659\n",
      "           1       0.60      0.83      0.70       341\n",
      "\n",
      "    accuracy                           0.88      2000\n",
      "   macro avg       0.78      0.86      0.81      2000\n",
      "weighted avg       0.90      0.88      0.88      2000\n",
      "\n"
     ]
    }
   ],
   "source": [
    "print(classification_report(new_y_test, y_pred1))"
   ]
  },
  {
   "cell_type": "markdown",
   "id": "85c874fb",
   "metadata": {
    "papermill": {
     "duration": 0.038283,
     "end_time": "2024-03-04T02:55:05.683725",
     "exception": false,
     "start_time": "2024-03-04T02:55:05.645442",
     "status": "completed"
    },
    "tags": []
   },
   "source": [
    "## SMOTE-RUS"
   ]
  },
  {
   "cell_type": "code",
   "execution_count": 26,
   "id": "553104c2",
   "metadata": {
    "execution": {
     "iopub.execute_input": "2024-03-04T02:55:05.763304Z",
     "iopub.status.busy": "2024-03-04T02:55:05.762841Z",
     "iopub.status.idle": "2024-03-04T02:55:05.768167Z",
     "shell.execute_reply": "2024-03-04T02:55:05.767011Z"
    },
    "papermill": {
     "duration": 0.048276,
     "end_time": "2024-03-04T02:55:05.770735",
     "exception": false,
     "start_time": "2024-03-04T02:55:05.722459",
     "status": "completed"
    },
    "tags": []
   },
   "outputs": [],
   "source": [
    "from imblearn.over_sampling import SMOTE\n",
    "from imblearn.under_sampling import RandomUnderSampler"
   ]
  },
  {
   "cell_type": "code",
   "execution_count": 27,
   "id": "4faa908a",
   "metadata": {
    "execution": {
     "iopub.execute_input": "2024-03-04T02:55:05.852795Z",
     "iopub.status.busy": "2024-03-04T02:55:05.851437Z",
     "iopub.status.idle": "2024-03-04T02:55:09.394781Z",
     "shell.execute_reply": "2024-03-04T02:55:09.393722Z"
    },
    "papermill": {
     "duration": 3.58785,
     "end_time": "2024-03-04T02:55:09.397639",
     "exception": false,
     "start_time": "2024-03-04T02:55:05.809789",
     "status": "completed"
    },
    "tags": []
   },
   "outputs": [
    {
     "data": {
      "text/html": [
       "<style>#sk-container-id-4 {color: black;background-color: white;}#sk-container-id-4 pre{padding: 0;}#sk-container-id-4 div.sk-toggleable {background-color: white;}#sk-container-id-4 label.sk-toggleable__label {cursor: pointer;display: block;width: 100%;margin-bottom: 0;padding: 0.3em;box-sizing: border-box;text-align: center;}#sk-container-id-4 label.sk-toggleable__label-arrow:before {content: \"▸\";float: left;margin-right: 0.25em;color: #696969;}#sk-container-id-4 label.sk-toggleable__label-arrow:hover:before {color: black;}#sk-container-id-4 div.sk-estimator:hover label.sk-toggleable__label-arrow:before {color: black;}#sk-container-id-4 div.sk-toggleable__content {max-height: 0;max-width: 0;overflow: hidden;text-align: left;background-color: #f0f8ff;}#sk-container-id-4 div.sk-toggleable__content pre {margin: 0.2em;color: black;border-radius: 0.25em;background-color: #f0f8ff;}#sk-container-id-4 input.sk-toggleable__control:checked~div.sk-toggleable__content {max-height: 200px;max-width: 100%;overflow: auto;}#sk-container-id-4 input.sk-toggleable__control:checked~label.sk-toggleable__label-arrow:before {content: \"▾\";}#sk-container-id-4 div.sk-estimator input.sk-toggleable__control:checked~label.sk-toggleable__label {background-color: #d4ebff;}#sk-container-id-4 div.sk-label input.sk-toggleable__control:checked~label.sk-toggleable__label {background-color: #d4ebff;}#sk-container-id-4 input.sk-hidden--visually {border: 0;clip: rect(1px 1px 1px 1px);clip: rect(1px, 1px, 1px, 1px);height: 1px;margin: -1px;overflow: hidden;padding: 0;position: absolute;width: 1px;}#sk-container-id-4 div.sk-estimator {font-family: monospace;background-color: #f0f8ff;border: 1px dotted black;border-radius: 0.25em;box-sizing: border-box;margin-bottom: 0.5em;}#sk-container-id-4 div.sk-estimator:hover {background-color: #d4ebff;}#sk-container-id-4 div.sk-parallel-item::after {content: \"\";width: 100%;border-bottom: 1px solid gray;flex-grow: 1;}#sk-container-id-4 div.sk-label:hover label.sk-toggleable__label {background-color: #d4ebff;}#sk-container-id-4 div.sk-serial::before {content: \"\";position: absolute;border-left: 1px solid gray;box-sizing: border-box;top: 0;bottom: 0;left: 50%;z-index: 0;}#sk-container-id-4 div.sk-serial {display: flex;flex-direction: column;align-items: center;background-color: white;padding-right: 0.2em;padding-left: 0.2em;position: relative;}#sk-container-id-4 div.sk-item {position: relative;z-index: 1;}#sk-container-id-4 div.sk-parallel {display: flex;align-items: stretch;justify-content: center;background-color: white;position: relative;}#sk-container-id-4 div.sk-item::before, #sk-container-id-4 div.sk-parallel-item::before {content: \"\";position: absolute;border-left: 1px solid gray;box-sizing: border-box;top: 0;bottom: 0;left: 50%;z-index: -1;}#sk-container-id-4 div.sk-parallel-item {display: flex;flex-direction: column;z-index: 1;position: relative;background-color: white;}#sk-container-id-4 div.sk-parallel-item:first-child::after {align-self: flex-end;width: 50%;}#sk-container-id-4 div.sk-parallel-item:last-child::after {align-self: flex-start;width: 50%;}#sk-container-id-4 div.sk-parallel-item:only-child::after {width: 0;}#sk-container-id-4 div.sk-dashed-wrapped {border: 1px dashed gray;margin: 0 0.4em 0.5em 0.4em;box-sizing: border-box;padding-bottom: 0.4em;background-color: white;}#sk-container-id-4 div.sk-label label {font-family: monospace;font-weight: bold;display: inline-block;line-height: 1.2em;}#sk-container-id-4 div.sk-label-container {text-align: center;}#sk-container-id-4 div.sk-container {/* jupyter's `normalize.less` sets `[hidden] { display: none; }` but bootstrap.min.css set `[hidden] { display: none !important; }` so we also need the `!important` here to be able to override the default hidden behavior on the sphinx rendered scikit-learn.org. See: https://github.com/scikit-learn/scikit-learn/issues/21755 */display: inline-block !important;position: relative;}#sk-container-id-4 div.sk-text-repr-fallback {display: none;}</style><div id=\"sk-container-id-4\" class=\"sk-top-container\"><div class=\"sk-text-repr-fallback\"><pre>Pipeline(steps=[(&#x27;smote&#x27;, SMOTE(sampling_strategy=&#x27;minority&#x27;)),\n",
       "                (&#x27;randomundersampler&#x27;,\n",
       "                 RandomUnderSampler(sampling_strategy=&#x27;majority&#x27;)),\n",
       "                (&#x27;svc&#x27;, SVC())])</pre><b>In a Jupyter environment, please rerun this cell to show the HTML representation or trust the notebook. <br />On GitHub, the HTML representation is unable to render, please try loading this page with nbviewer.org.</b></div><div class=\"sk-container\" hidden><div class=\"sk-item sk-dashed-wrapped\"><div class=\"sk-label-container\"><div class=\"sk-label sk-toggleable\"><input class=\"sk-toggleable__control sk-hidden--visually\" id=\"sk-estimator-id-12\" type=\"checkbox\" ><label for=\"sk-estimator-id-12\" class=\"sk-toggleable__label sk-toggleable__label-arrow\">Pipeline</label><div class=\"sk-toggleable__content\"><pre>Pipeline(steps=[(&#x27;smote&#x27;, SMOTE(sampling_strategy=&#x27;minority&#x27;)),\n",
       "                (&#x27;randomundersampler&#x27;,\n",
       "                 RandomUnderSampler(sampling_strategy=&#x27;majority&#x27;)),\n",
       "                (&#x27;svc&#x27;, SVC())])</pre></div></div></div><div class=\"sk-serial\"><div class=\"sk-item\"><div class=\"sk-estimator sk-toggleable\"><input class=\"sk-toggleable__control sk-hidden--visually\" id=\"sk-estimator-id-13\" type=\"checkbox\" ><label for=\"sk-estimator-id-13\" class=\"sk-toggleable__label sk-toggleable__label-arrow\">SMOTE</label><div class=\"sk-toggleable__content\"><pre>SMOTE(sampling_strategy=&#x27;minority&#x27;)</pre></div></div></div><div class=\"sk-item\"><div class=\"sk-estimator sk-toggleable\"><input class=\"sk-toggleable__control sk-hidden--visually\" id=\"sk-estimator-id-14\" type=\"checkbox\" ><label for=\"sk-estimator-id-14\" class=\"sk-toggleable__label sk-toggleable__label-arrow\">RandomUnderSampler</label><div class=\"sk-toggleable__content\"><pre>RandomUnderSampler(sampling_strategy=&#x27;majority&#x27;)</pre></div></div></div><div class=\"sk-item\"><div class=\"sk-estimator sk-toggleable\"><input class=\"sk-toggleable__control sk-hidden--visually\" id=\"sk-estimator-id-15\" type=\"checkbox\" ><label for=\"sk-estimator-id-15\" class=\"sk-toggleable__label sk-toggleable__label-arrow\">SVC</label><div class=\"sk-toggleable__content\"><pre>SVC()</pre></div></div></div></div></div></div></div>"
      ],
      "text/plain": [
       "Pipeline(steps=[('smote', SMOTE(sampling_strategy='minority')),\n",
       "                ('randomundersampler',\n",
       "                 RandomUnderSampler(sampling_strategy='majority')),\n",
       "                ('svc', SVC())])"
      ]
     },
     "execution_count": 27,
     "metadata": {},
     "output_type": "execute_result"
    }
   ],
   "source": [
    "\n",
    "\n",
    "# Tạo pipeline mới với SMOTE-RUS và RandomForestClassifier\n",
    "SMOTERUS_pipeline_svm = make_pipeline(SMOTE(sampling_strategy='minority'), \n",
    "                                      RandomUnderSampler(sampling_strategy='majority'),\n",
    "                                      SVC(kernel='rbf'))\n",
    "\n",
    "SMOTERUS_svm = SMOTERUS_pipeline_svm\n",
    "SMOTERUS_svm.fit(new_X_train, new_y_train)\n"
   ]
  },
  {
   "cell_type": "code",
   "execution_count": 28,
   "id": "72ba8a3f",
   "metadata": {
    "execution": {
     "iopub.execute_input": "2024-03-04T02:55:09.481797Z",
     "iopub.status.busy": "2024-03-04T02:55:09.481310Z",
     "iopub.status.idle": "2024-03-04T02:55:09.978676Z",
     "shell.execute_reply": "2024-03-04T02:55:09.977626Z"
    },
    "papermill": {
     "duration": 0.541435,
     "end_time": "2024-03-04T02:55:09.981267",
     "exception": false,
     "start_time": "2024-03-04T02:55:09.439832",
     "status": "completed"
    },
    "tags": []
   },
   "outputs": [
    {
     "name": "stdout",
     "output_type": "stream",
     "text": [
      "              precision    recall  f1-score   support\n",
      "\n",
      "           0       0.96      0.93      0.94      1659\n",
      "           1       0.71      0.79      0.75       341\n",
      "\n",
      "    accuracy                           0.91      2000\n",
      "   macro avg       0.83      0.86      0.85      2000\n",
      "weighted avg       0.91      0.91      0.91      2000\n",
      "\n"
     ]
    }
   ],
   "source": [
    "y_pred2 = SMOTERUS_svm.predict(new_X_test)\n",
    "print(classification_report(new_y_test, y_pred2))"
   ]
  },
  {
   "cell_type": "markdown",
   "id": "e894928d",
   "metadata": {
    "papermill": {
     "duration": 0.040675,
     "end_time": "2024-03-04T02:55:10.063955",
     "exception": false,
     "start_time": "2024-03-04T02:55:10.023280",
     "status": "completed"
    },
    "tags": []
   },
   "source": [
    "### Validate"
   ]
  },
  {
   "cell_type": "code",
   "execution_count": 29,
   "id": "1b7337e5",
   "metadata": {
    "execution": {
     "iopub.execute_input": "2024-03-04T02:55:10.147110Z",
     "iopub.status.busy": "2024-03-04T02:55:10.146091Z",
     "iopub.status.idle": "2024-03-04T02:55:11.388335Z",
     "shell.execute_reply": "2024-03-04T02:55:11.387052Z"
    },
    "papermill": {
     "duration": 1.286851,
     "end_time": "2024-03-04T02:55:11.391235",
     "exception": false,
     "start_time": "2024-03-04T02:55:10.104384",
     "status": "completed"
    },
    "tags": []
   },
   "outputs": [
    {
     "name": "stdout",
     "output_type": "stream",
     "text": [
      "ROC-AUC for SMOTETomek SVM: 0.9133226920078696\n",
      "ROC-AUC for SMOTEENN SVM: 0.9125219411050363\n",
      "ROC-AUC for SMOTERUS SVM: 0.9154103008737553\n",
      "ROC-AUC no sampling: 0.825431884027229\n"
     ]
    }
   ],
   "source": [
    "# Predict probabilities for each model\n",
    "from sklearn.metrics import roc_auc_score\n",
    "\n",
    "y_score_tomek = SMOTETomek_svm.decision_function(new_X_test)\n",
    "y_score_enn = SMOTEENN_svm.decision_function(new_X_test)\n",
    "y_score_rus = SMOTERUS_svm.decision_function(new_X_test)\n",
    "\n",
    "# Calculate ROC-AUC for each model\n",
    "roc_auc_tomek = roc_auc_score(new_y_test, y_score_tomek)\n",
    "roc_auc_enn = roc_auc_score(new_y_test, y_score_enn)\n",
    "roc_auc_rus = roc_auc_score(new_y_test, y_score_rus)\n",
    "roc_nosamp = roc_auc_score(new_y_test, y_nosamp)\n",
    "\n",
    "print(\"ROC-AUC for SMOTETomek SVM:\", roc_auc_tomek)\n",
    "print(\"ROC-AUC for SMOTEENN SVM:\", roc_auc_enn)\n",
    "print(\"ROC-AUC for SMOTERUS SVM:\", roc_auc_rus)\n",
    "print(\"ROC-AUC no sampling:\", roc_nosamp)"
   ]
  },
  {
   "cell_type": "markdown",
   "id": "969ca575",
   "metadata": {
    "papermill": {
     "duration": 0.039654,
     "end_time": "2024-03-04T02:55:11.470467",
     "exception": false,
     "start_time": "2024-03-04T02:55:11.430813",
     "status": "completed"
    },
    "tags": []
   },
   "source": [
    "# KNN"
   ]
  },
  {
   "cell_type": "code",
   "execution_count": 30,
   "id": "a2ac2b39",
   "metadata": {
    "execution": {
     "iopub.execute_input": "2024-03-04T02:55:11.552575Z",
     "iopub.status.busy": "2024-03-04T02:55:11.551789Z",
     "iopub.status.idle": "2024-03-04T02:55:11.557338Z",
     "shell.execute_reply": "2024-03-04T02:55:11.556397Z"
    },
    "papermill": {
     "duration": 0.049561,
     "end_time": "2024-03-04T02:55:11.559839",
     "exception": false,
     "start_time": "2024-03-04T02:55:11.510278",
     "status": "completed"
    },
    "tags": []
   },
   "outputs": [],
   "source": [
    "from sklearn.neighbors import KNeighborsClassifier"
   ]
  },
  {
   "cell_type": "markdown",
   "id": "8ac5374f",
   "metadata": {
    "papermill": {
     "duration": 0.039082,
     "end_time": "2024-03-04T02:55:11.638562",
     "exception": false,
     "start_time": "2024-03-04T02:55:11.599480",
     "status": "completed"
    },
    "tags": []
   },
   "source": [
    "# KNN no sampling"
   ]
  },
  {
   "cell_type": "code",
   "execution_count": 31,
   "id": "4055bfb7",
   "metadata": {
    "execution": {
     "iopub.execute_input": "2024-03-04T02:55:11.720588Z",
     "iopub.status.busy": "2024-03-04T02:55:11.719802Z",
     "iopub.status.idle": "2024-03-04T02:55:11.911786Z",
     "shell.execute_reply": "2024-03-04T02:55:11.910359Z"
    },
    "papermill": {
     "duration": 0.236431,
     "end_time": "2024-03-04T02:55:11.914796",
     "exception": false,
     "start_time": "2024-03-04T02:55:11.678365",
     "status": "completed"
    },
    "tags": []
   },
   "outputs": [
    {
     "name": "stdout",
     "output_type": "stream",
     "text": [
      "              precision    recall  f1-score   support\n",
      "\n",
      "           0       0.90      0.99      0.94      1659\n",
      "           1       0.91      0.45      0.60       341\n",
      "\n",
      "    accuracy                           0.90      2000\n",
      "   macro avg       0.90      0.72      0.77      2000\n",
      "weighted avg       0.90      0.90      0.88      2000\n",
      "\n"
     ]
    }
   ],
   "source": [
    "knn = KNeighborsClassifier()\n",
    "knn.fit(new_X_train, new_y_train)\n",
    "\n",
    "y_nosamp2 = knn.predict(new_X_test)\n",
    "print(classification_report(new_y_test, y_nosamp2))"
   ]
  },
  {
   "cell_type": "markdown",
   "id": "6ae2b8bc",
   "metadata": {
    "papermill": {
     "duration": 0.040249,
     "end_time": "2024-03-04T02:55:11.995895",
     "exception": false,
     "start_time": "2024-03-04T02:55:11.955646",
     "status": "completed"
    },
    "tags": []
   },
   "source": [
    "## SMOTETomek"
   ]
  },
  {
   "cell_type": "code",
   "execution_count": 32,
   "id": "3cc3f3a2",
   "metadata": {
    "execution": {
     "iopub.execute_input": "2024-03-04T02:55:12.080370Z",
     "iopub.status.busy": "2024-03-04T02:55:12.079626Z",
     "iopub.status.idle": "2024-03-04T02:55:12.544705Z",
     "shell.execute_reply": "2024-03-04T02:55:12.543400Z"
    },
    "papermill": {
     "duration": 0.510721,
     "end_time": "2024-03-04T02:55:12.547458",
     "exception": false,
     "start_time": "2024-03-04T02:55:12.036737",
     "status": "completed"
    },
    "tags": []
   },
   "outputs": [
    {
     "data": {
      "text/html": [
       "<style>#sk-container-id-5 {color: black;background-color: white;}#sk-container-id-5 pre{padding: 0;}#sk-container-id-5 div.sk-toggleable {background-color: white;}#sk-container-id-5 label.sk-toggleable__label {cursor: pointer;display: block;width: 100%;margin-bottom: 0;padding: 0.3em;box-sizing: border-box;text-align: center;}#sk-container-id-5 label.sk-toggleable__label-arrow:before {content: \"▸\";float: left;margin-right: 0.25em;color: #696969;}#sk-container-id-5 label.sk-toggleable__label-arrow:hover:before {color: black;}#sk-container-id-5 div.sk-estimator:hover label.sk-toggleable__label-arrow:before {color: black;}#sk-container-id-5 div.sk-toggleable__content {max-height: 0;max-width: 0;overflow: hidden;text-align: left;background-color: #f0f8ff;}#sk-container-id-5 div.sk-toggleable__content pre {margin: 0.2em;color: black;border-radius: 0.25em;background-color: #f0f8ff;}#sk-container-id-5 input.sk-toggleable__control:checked~div.sk-toggleable__content {max-height: 200px;max-width: 100%;overflow: auto;}#sk-container-id-5 input.sk-toggleable__control:checked~label.sk-toggleable__label-arrow:before {content: \"▾\";}#sk-container-id-5 div.sk-estimator input.sk-toggleable__control:checked~label.sk-toggleable__label {background-color: #d4ebff;}#sk-container-id-5 div.sk-label input.sk-toggleable__control:checked~label.sk-toggleable__label {background-color: #d4ebff;}#sk-container-id-5 input.sk-hidden--visually {border: 0;clip: rect(1px 1px 1px 1px);clip: rect(1px, 1px, 1px, 1px);height: 1px;margin: -1px;overflow: hidden;padding: 0;position: absolute;width: 1px;}#sk-container-id-5 div.sk-estimator {font-family: monospace;background-color: #f0f8ff;border: 1px dotted black;border-radius: 0.25em;box-sizing: border-box;margin-bottom: 0.5em;}#sk-container-id-5 div.sk-estimator:hover {background-color: #d4ebff;}#sk-container-id-5 div.sk-parallel-item::after {content: \"\";width: 100%;border-bottom: 1px solid gray;flex-grow: 1;}#sk-container-id-5 div.sk-label:hover label.sk-toggleable__label {background-color: #d4ebff;}#sk-container-id-5 div.sk-serial::before {content: \"\";position: absolute;border-left: 1px solid gray;box-sizing: border-box;top: 0;bottom: 0;left: 50%;z-index: 0;}#sk-container-id-5 div.sk-serial {display: flex;flex-direction: column;align-items: center;background-color: white;padding-right: 0.2em;padding-left: 0.2em;position: relative;}#sk-container-id-5 div.sk-item {position: relative;z-index: 1;}#sk-container-id-5 div.sk-parallel {display: flex;align-items: stretch;justify-content: center;background-color: white;position: relative;}#sk-container-id-5 div.sk-item::before, #sk-container-id-5 div.sk-parallel-item::before {content: \"\";position: absolute;border-left: 1px solid gray;box-sizing: border-box;top: 0;bottom: 0;left: 50%;z-index: -1;}#sk-container-id-5 div.sk-parallel-item {display: flex;flex-direction: column;z-index: 1;position: relative;background-color: white;}#sk-container-id-5 div.sk-parallel-item:first-child::after {align-self: flex-end;width: 50%;}#sk-container-id-5 div.sk-parallel-item:last-child::after {align-self: flex-start;width: 50%;}#sk-container-id-5 div.sk-parallel-item:only-child::after {width: 0;}#sk-container-id-5 div.sk-dashed-wrapped {border: 1px dashed gray;margin: 0 0.4em 0.5em 0.4em;box-sizing: border-box;padding-bottom: 0.4em;background-color: white;}#sk-container-id-5 div.sk-label label {font-family: monospace;font-weight: bold;display: inline-block;line-height: 1.2em;}#sk-container-id-5 div.sk-label-container {text-align: center;}#sk-container-id-5 div.sk-container {/* jupyter's `normalize.less` sets `[hidden] { display: none; }` but bootstrap.min.css set `[hidden] { display: none !important; }` so we also need the `!important` here to be able to override the default hidden behavior on the sphinx rendered scikit-learn.org. See: https://github.com/scikit-learn/scikit-learn/issues/21755 */display: inline-block !important;position: relative;}#sk-container-id-5 div.sk-text-repr-fallback {display: none;}</style><div id=\"sk-container-id-5\" class=\"sk-top-container\"><div class=\"sk-text-repr-fallback\"><pre>Pipeline(steps=[(&#x27;smotetomek&#x27;,\n",
       "                 SMOTETomek(tomek=TomekLinks(sampling_strategy=&#x27;majority&#x27;))),\n",
       "                (&#x27;kneighborsclassifier&#x27;, KNeighborsClassifier(n_neighbors=2))])</pre><b>In a Jupyter environment, please rerun this cell to show the HTML representation or trust the notebook. <br />On GitHub, the HTML representation is unable to render, please try loading this page with nbviewer.org.</b></div><div class=\"sk-container\" hidden><div class=\"sk-item sk-dashed-wrapped\"><div class=\"sk-label-container\"><div class=\"sk-label sk-toggleable\"><input class=\"sk-toggleable__control sk-hidden--visually\" id=\"sk-estimator-id-16\" type=\"checkbox\" ><label for=\"sk-estimator-id-16\" class=\"sk-toggleable__label sk-toggleable__label-arrow\">Pipeline</label><div class=\"sk-toggleable__content\"><pre>Pipeline(steps=[(&#x27;smotetomek&#x27;,\n",
       "                 SMOTETomek(tomek=TomekLinks(sampling_strategy=&#x27;majority&#x27;))),\n",
       "                (&#x27;kneighborsclassifier&#x27;, KNeighborsClassifier(n_neighbors=2))])</pre></div></div></div><div class=\"sk-serial\"><div class=\"sk-item sk-dashed-wrapped\"><div class=\"sk-label-container\"><div class=\"sk-label sk-toggleable\"><input class=\"sk-toggleable__control sk-hidden--visually\" id=\"sk-estimator-id-17\" type=\"checkbox\" ><label for=\"sk-estimator-id-17\" class=\"sk-toggleable__label sk-toggleable__label-arrow\">smotetomek: SMOTETomek</label><div class=\"sk-toggleable__content\"><pre>SMOTETomek(tomek=TomekLinks(sampling_strategy=&#x27;majority&#x27;))</pre></div></div></div><div class=\"sk-parallel\"><div class=\"sk-parallel-item\"><div class=\"sk-item\"><div class=\"sk-label-container\"><div class=\"sk-label sk-toggleable\"><input class=\"sk-toggleable__control sk-hidden--visually\" id=\"sk-estimator-id-18\" type=\"checkbox\" ><label for=\"sk-estimator-id-18\" class=\"sk-toggleable__label sk-toggleable__label-arrow\">tomek: TomekLinks</label><div class=\"sk-toggleable__content\"><pre>TomekLinks(sampling_strategy=&#x27;majority&#x27;)</pre></div></div></div><div class=\"sk-serial\"><div class=\"sk-item\"><div class=\"sk-estimator sk-toggleable\"><input class=\"sk-toggleable__control sk-hidden--visually\" id=\"sk-estimator-id-19\" type=\"checkbox\" ><label for=\"sk-estimator-id-19\" class=\"sk-toggleable__label sk-toggleable__label-arrow\">TomekLinks</label><div class=\"sk-toggleable__content\"><pre>TomekLinks(sampling_strategy=&#x27;majority&#x27;)</pre></div></div></div></div></div></div></div></div><div class=\"sk-item\"><div class=\"sk-estimator sk-toggleable\"><input class=\"sk-toggleable__control sk-hidden--visually\" id=\"sk-estimator-id-20\" type=\"checkbox\" ><label for=\"sk-estimator-id-20\" class=\"sk-toggleable__label sk-toggleable__label-arrow\">KNeighborsClassifier</label><div class=\"sk-toggleable__content\"><pre>KNeighborsClassifier(n_neighbors=2)</pre></div></div></div></div></div></div></div>"
      ],
      "text/plain": [
       "Pipeline(steps=[('smotetomek',\n",
       "                 SMOTETomek(tomek=TomekLinks(sampling_strategy='majority'))),\n",
       "                ('kneighborsclassifier', KNeighborsClassifier(n_neighbors=2))])"
      ]
     },
     "execution_count": 32,
     "metadata": {},
     "output_type": "execute_result"
    }
   ],
   "source": [
    "# Create pipeline with SMOTETomek and KNN\n",
    "SMOTETomek_pipeline_knn = make_pipeline(SMOTETomek(tomek=TomekLinks(sampling_strategy='majority')),\n",
    "                                        KNeighborsClassifier(n_neighbors=2))\n",
    "\n",
    "# Fit the pipeline with KNN\n",
    "SMOTETomek_knn = SMOTETomek_pipeline_knn\n",
    "SMOTETomek_knn.fit(new_X_train, new_y_train)"
   ]
  },
  {
   "cell_type": "markdown",
   "id": "1d9da0a5",
   "metadata": {
    "papermill": {
     "duration": 0.039639,
     "end_time": "2024-03-04T02:55:12.627665",
     "exception": false,
     "start_time": "2024-03-04T02:55:12.588026",
     "status": "completed"
    },
    "tags": []
   },
   "source": [
    "### Validate"
   ]
  },
  {
   "cell_type": "code",
   "execution_count": 33,
   "id": "486abda8",
   "metadata": {
    "execution": {
     "iopub.execute_input": "2024-03-04T02:55:12.712505Z",
     "iopub.status.busy": "2024-03-04T02:55:12.711748Z",
     "iopub.status.idle": "2024-03-04T02:55:12.909837Z",
     "shell.execute_reply": "2024-03-04T02:55:12.908798Z"
    },
    "papermill": {
     "duration": 0.24442,
     "end_time": "2024-03-04T02:55:12.912546",
     "exception": false,
     "start_time": "2024-03-04T02:55:12.668126",
     "status": "completed"
    },
    "tags": []
   },
   "outputs": [
    {
     "name": "stdout",
     "output_type": "stream",
     "text": [
      "[[1504  155]\n",
      " [ 149  192]]\n"
     ]
    }
   ],
   "source": [
    "y_pred_KNN = SMOTETomek_knn.predict(new_X_test)\n",
    "cm_KNN = confusion_matrix(new_y_test, y_pred_KNN)\n",
    "\n",
    "\n",
    "print(cm_KNN)"
   ]
  },
  {
   "cell_type": "code",
   "execution_count": 34,
   "id": "690bb50d",
   "metadata": {
    "execution": {
     "iopub.execute_input": "2024-03-04T02:55:12.994538Z",
     "iopub.status.busy": "2024-03-04T02:55:12.994006Z",
     "iopub.status.idle": "2024-03-04T02:55:13.013217Z",
     "shell.execute_reply": "2024-03-04T02:55:13.011717Z"
    },
    "papermill": {
     "duration": 0.063675,
     "end_time": "2024-03-04T02:55:13.016060",
     "exception": false,
     "start_time": "2024-03-04T02:55:12.952385",
     "status": "completed"
    },
    "tags": []
   },
   "outputs": [
    {
     "name": "stdout",
     "output_type": "stream",
     "text": [
      "              precision    recall  f1-score   support\n",
      "\n",
      "           0       0.91      0.91      0.91      1659\n",
      "           1       0.55      0.56      0.56       341\n",
      "\n",
      "    accuracy                           0.85      2000\n",
      "   macro avg       0.73      0.73      0.73      2000\n",
      "weighted avg       0.85      0.85      0.85      2000\n",
      "\n"
     ]
    }
   ],
   "source": [
    "print(classification_report(new_y_test, y_pred_KNN))"
   ]
  },
  {
   "cell_type": "markdown",
   "id": "736adb40",
   "metadata": {
    "papermill": {
     "duration": 0.040619,
     "end_time": "2024-03-04T02:55:13.096729",
     "exception": false,
     "start_time": "2024-03-04T02:55:13.056110",
     "status": "completed"
    },
    "tags": []
   },
   "source": [
    "## SMOTEENN"
   ]
  },
  {
   "cell_type": "code",
   "execution_count": 35,
   "id": "d1f7cc9e",
   "metadata": {
    "execution": {
     "iopub.execute_input": "2024-03-04T02:55:13.179523Z",
     "iopub.status.busy": "2024-03-04T02:55:13.179019Z",
     "iopub.status.idle": "2024-03-04T02:55:13.458049Z",
     "shell.execute_reply": "2024-03-04T02:55:13.456646Z"
    },
    "papermill": {
     "duration": 0.323834,
     "end_time": "2024-03-04T02:55:13.461246",
     "exception": false,
     "start_time": "2024-03-04T02:55:13.137412",
     "status": "completed"
    },
    "tags": []
   },
   "outputs": [
    {
     "data": {
      "text/html": [
       "<style>#sk-container-id-6 {color: black;background-color: white;}#sk-container-id-6 pre{padding: 0;}#sk-container-id-6 div.sk-toggleable {background-color: white;}#sk-container-id-6 label.sk-toggleable__label {cursor: pointer;display: block;width: 100%;margin-bottom: 0;padding: 0.3em;box-sizing: border-box;text-align: center;}#sk-container-id-6 label.sk-toggleable__label-arrow:before {content: \"▸\";float: left;margin-right: 0.25em;color: #696969;}#sk-container-id-6 label.sk-toggleable__label-arrow:hover:before {color: black;}#sk-container-id-6 div.sk-estimator:hover label.sk-toggleable__label-arrow:before {color: black;}#sk-container-id-6 div.sk-toggleable__content {max-height: 0;max-width: 0;overflow: hidden;text-align: left;background-color: #f0f8ff;}#sk-container-id-6 div.sk-toggleable__content pre {margin: 0.2em;color: black;border-radius: 0.25em;background-color: #f0f8ff;}#sk-container-id-6 input.sk-toggleable__control:checked~div.sk-toggleable__content {max-height: 200px;max-width: 100%;overflow: auto;}#sk-container-id-6 input.sk-toggleable__control:checked~label.sk-toggleable__label-arrow:before {content: \"▾\";}#sk-container-id-6 div.sk-estimator input.sk-toggleable__control:checked~label.sk-toggleable__label {background-color: #d4ebff;}#sk-container-id-6 div.sk-label input.sk-toggleable__control:checked~label.sk-toggleable__label {background-color: #d4ebff;}#sk-container-id-6 input.sk-hidden--visually {border: 0;clip: rect(1px 1px 1px 1px);clip: rect(1px, 1px, 1px, 1px);height: 1px;margin: -1px;overflow: hidden;padding: 0;position: absolute;width: 1px;}#sk-container-id-6 div.sk-estimator {font-family: monospace;background-color: #f0f8ff;border: 1px dotted black;border-radius: 0.25em;box-sizing: border-box;margin-bottom: 0.5em;}#sk-container-id-6 div.sk-estimator:hover {background-color: #d4ebff;}#sk-container-id-6 div.sk-parallel-item::after {content: \"\";width: 100%;border-bottom: 1px solid gray;flex-grow: 1;}#sk-container-id-6 div.sk-label:hover label.sk-toggleable__label {background-color: #d4ebff;}#sk-container-id-6 div.sk-serial::before {content: \"\";position: absolute;border-left: 1px solid gray;box-sizing: border-box;top: 0;bottom: 0;left: 50%;z-index: 0;}#sk-container-id-6 div.sk-serial {display: flex;flex-direction: column;align-items: center;background-color: white;padding-right: 0.2em;padding-left: 0.2em;position: relative;}#sk-container-id-6 div.sk-item {position: relative;z-index: 1;}#sk-container-id-6 div.sk-parallel {display: flex;align-items: stretch;justify-content: center;background-color: white;position: relative;}#sk-container-id-6 div.sk-item::before, #sk-container-id-6 div.sk-parallel-item::before {content: \"\";position: absolute;border-left: 1px solid gray;box-sizing: border-box;top: 0;bottom: 0;left: 50%;z-index: -1;}#sk-container-id-6 div.sk-parallel-item {display: flex;flex-direction: column;z-index: 1;position: relative;background-color: white;}#sk-container-id-6 div.sk-parallel-item:first-child::after {align-self: flex-end;width: 50%;}#sk-container-id-6 div.sk-parallel-item:last-child::after {align-self: flex-start;width: 50%;}#sk-container-id-6 div.sk-parallel-item:only-child::after {width: 0;}#sk-container-id-6 div.sk-dashed-wrapped {border: 1px dashed gray;margin: 0 0.4em 0.5em 0.4em;box-sizing: border-box;padding-bottom: 0.4em;background-color: white;}#sk-container-id-6 div.sk-label label {font-family: monospace;font-weight: bold;display: inline-block;line-height: 1.2em;}#sk-container-id-6 div.sk-label-container {text-align: center;}#sk-container-id-6 div.sk-container {/* jupyter's `normalize.less` sets `[hidden] { display: none; }` but bootstrap.min.css set `[hidden] { display: none !important; }` so we also need the `!important` here to be able to override the default hidden behavior on the sphinx rendered scikit-learn.org. See: https://github.com/scikit-learn/scikit-learn/issues/21755 */display: inline-block !important;position: relative;}#sk-container-id-6 div.sk-text-repr-fallback {display: none;}</style><div id=\"sk-container-id-6\" class=\"sk-top-container\"><div class=\"sk-text-repr-fallback\"><pre>Pipeline(steps=[(&#x27;smoteenn&#x27;,\n",
       "                 SMOTEENN(enn=EditedNearestNeighbours(sampling_strategy=&#x27;majority&#x27;))),\n",
       "                (&#x27;kneighborsclassifier&#x27;, KNeighborsClassifier(n_neighbors=2))])</pre><b>In a Jupyter environment, please rerun this cell to show the HTML representation or trust the notebook. <br />On GitHub, the HTML representation is unable to render, please try loading this page with nbviewer.org.</b></div><div class=\"sk-container\" hidden><div class=\"sk-item sk-dashed-wrapped\"><div class=\"sk-label-container\"><div class=\"sk-label sk-toggleable\"><input class=\"sk-toggleable__control sk-hidden--visually\" id=\"sk-estimator-id-21\" type=\"checkbox\" ><label for=\"sk-estimator-id-21\" class=\"sk-toggleable__label sk-toggleable__label-arrow\">Pipeline</label><div class=\"sk-toggleable__content\"><pre>Pipeline(steps=[(&#x27;smoteenn&#x27;,\n",
       "                 SMOTEENN(enn=EditedNearestNeighbours(sampling_strategy=&#x27;majority&#x27;))),\n",
       "                (&#x27;kneighborsclassifier&#x27;, KNeighborsClassifier(n_neighbors=2))])</pre></div></div></div><div class=\"sk-serial\"><div class=\"sk-item sk-dashed-wrapped\"><div class=\"sk-label-container\"><div class=\"sk-label sk-toggleable\"><input class=\"sk-toggleable__control sk-hidden--visually\" id=\"sk-estimator-id-22\" type=\"checkbox\" ><label for=\"sk-estimator-id-22\" class=\"sk-toggleable__label sk-toggleable__label-arrow\">smoteenn: SMOTEENN</label><div class=\"sk-toggleable__content\"><pre>SMOTEENN(enn=EditedNearestNeighbours(sampling_strategy=&#x27;majority&#x27;))</pre></div></div></div><div class=\"sk-parallel\"><div class=\"sk-parallel-item\"><div class=\"sk-item\"><div class=\"sk-label-container\"><div class=\"sk-label sk-toggleable\"><input class=\"sk-toggleable__control sk-hidden--visually\" id=\"sk-estimator-id-23\" type=\"checkbox\" ><label for=\"sk-estimator-id-23\" class=\"sk-toggleable__label sk-toggleable__label-arrow\">enn: EditedNearestNeighbours</label><div class=\"sk-toggleable__content\"><pre>EditedNearestNeighbours(sampling_strategy=&#x27;majority&#x27;)</pre></div></div></div><div class=\"sk-serial\"><div class=\"sk-item\"><div class=\"sk-estimator sk-toggleable\"><input class=\"sk-toggleable__control sk-hidden--visually\" id=\"sk-estimator-id-24\" type=\"checkbox\" ><label for=\"sk-estimator-id-24\" class=\"sk-toggleable__label sk-toggleable__label-arrow\">EditedNearestNeighbours</label><div class=\"sk-toggleable__content\"><pre>EditedNearestNeighbours(sampling_strategy=&#x27;majority&#x27;)</pre></div></div></div></div></div></div></div></div><div class=\"sk-item\"><div class=\"sk-estimator sk-toggleable\"><input class=\"sk-toggleable__control sk-hidden--visually\" id=\"sk-estimator-id-25\" type=\"checkbox\" ><label for=\"sk-estimator-id-25\" class=\"sk-toggleable__label sk-toggleable__label-arrow\">KNeighborsClassifier</label><div class=\"sk-toggleable__content\"><pre>KNeighborsClassifier(n_neighbors=2)</pre></div></div></div></div></div></div></div>"
      ],
      "text/plain": [
       "Pipeline(steps=[('smoteenn',\n",
       "                 SMOTEENN(enn=EditedNearestNeighbours(sampling_strategy='majority'))),\n",
       "                ('kneighborsclassifier', KNeighborsClassifier(n_neighbors=2))])"
      ]
     },
     "execution_count": 35,
     "metadata": {},
     "output_type": "execute_result"
    }
   ],
   "source": [
    "SMOTEENN_pipeline_knn = make_pipeline(SMOTEENN(enn=EditedNearestNeighbours(sampling_strategy='majority')),\n",
    "                                      KNeighborsClassifier(n_neighbors=2))  # You can adjust the number of neighbors as needed\n",
    "\n",
    "# Fit the pipeline with KNN\n",
    "SMOTEENN_knn = SMOTEENN_pipeline_knn\n",
    "SMOTEENN_knn.fit(new_X_train, new_y_train)"
   ]
  },
  {
   "cell_type": "markdown",
   "id": "c67387ff",
   "metadata": {
    "papermill": {
     "duration": 0.040825,
     "end_time": "2024-03-04T02:55:13.542826",
     "exception": false,
     "start_time": "2024-03-04T02:55:13.502001",
     "status": "completed"
    },
    "tags": []
   },
   "source": [
    "### Validate"
   ]
  },
  {
   "cell_type": "code",
   "execution_count": 36,
   "id": "1189ed0d",
   "metadata": {
    "execution": {
     "iopub.execute_input": "2024-03-04T02:55:13.625431Z",
     "iopub.status.busy": "2024-03-04T02:55:13.624958Z",
     "iopub.status.idle": "2024-03-04T02:55:13.818800Z",
     "shell.execute_reply": "2024-03-04T02:55:13.816811Z"
    },
    "papermill": {
     "duration": 0.238702,
     "end_time": "2024-03-04T02:55:13.821895",
     "exception": false,
     "start_time": "2024-03-04T02:55:13.583193",
     "status": "completed"
    },
    "tags": []
   },
   "outputs": [
    {
     "name": "stdout",
     "output_type": "stream",
     "text": [
      "[[1400  259]\n",
      " [ 121  220]]\n"
     ]
    }
   ],
   "source": [
    "y_pred_KNN1 = SMOTEENN_knn.predict(new_X_test)\n",
    "cm_KNN1 = confusion_matrix(new_y_test, y_pred_KNN1)\n",
    "\n",
    "\n",
    "print(cm_KNN1)"
   ]
  },
  {
   "cell_type": "code",
   "execution_count": 37,
   "id": "2b37ac65",
   "metadata": {
    "execution": {
     "iopub.execute_input": "2024-03-04T02:55:13.905425Z",
     "iopub.status.busy": "2024-03-04T02:55:13.904912Z",
     "iopub.status.idle": "2024-03-04T02:55:13.923968Z",
     "shell.execute_reply": "2024-03-04T02:55:13.922631Z"
    },
    "papermill": {
     "duration": 0.064366,
     "end_time": "2024-03-04T02:55:13.926865",
     "exception": false,
     "start_time": "2024-03-04T02:55:13.862499",
     "status": "completed"
    },
    "tags": []
   },
   "outputs": [
    {
     "name": "stdout",
     "output_type": "stream",
     "text": [
      "              precision    recall  f1-score   support\n",
      "\n",
      "           0       0.92      0.84      0.88      1659\n",
      "           1       0.46      0.65      0.54       341\n",
      "\n",
      "    accuracy                           0.81      2000\n",
      "   macro avg       0.69      0.74      0.71      2000\n",
      "weighted avg       0.84      0.81      0.82      2000\n",
      "\n"
     ]
    }
   ],
   "source": [
    "print(classification_report(new_y_test, y_pred_KNN1))"
   ]
  },
  {
   "cell_type": "markdown",
   "id": "12571bbb",
   "metadata": {
    "papermill": {
     "duration": 0.040636,
     "end_time": "2024-03-04T02:55:14.008171",
     "exception": false,
     "start_time": "2024-03-04T02:55:13.967535",
     "status": "completed"
    },
    "tags": []
   },
   "source": [
    "## SMOTE-RUS"
   ]
  },
  {
   "cell_type": "code",
   "execution_count": 38,
   "id": "63fb4837",
   "metadata": {
    "execution": {
     "iopub.execute_input": "2024-03-04T02:55:14.095489Z",
     "iopub.status.busy": "2024-03-04T02:55:14.094995Z",
     "iopub.status.idle": "2024-03-04T02:55:14.154855Z",
     "shell.execute_reply": "2024-03-04T02:55:14.153591Z"
    },
    "papermill": {
     "duration": 0.106925,
     "end_time": "2024-03-04T02:55:14.158155",
     "exception": false,
     "start_time": "2024-03-04T02:55:14.051230",
     "status": "completed"
    },
    "tags": []
   },
   "outputs": [
    {
     "data": {
      "text/html": [
       "<style>#sk-container-id-7 {color: black;background-color: white;}#sk-container-id-7 pre{padding: 0;}#sk-container-id-7 div.sk-toggleable {background-color: white;}#sk-container-id-7 label.sk-toggleable__label {cursor: pointer;display: block;width: 100%;margin-bottom: 0;padding: 0.3em;box-sizing: border-box;text-align: center;}#sk-container-id-7 label.sk-toggleable__label-arrow:before {content: \"▸\";float: left;margin-right: 0.25em;color: #696969;}#sk-container-id-7 label.sk-toggleable__label-arrow:hover:before {color: black;}#sk-container-id-7 div.sk-estimator:hover label.sk-toggleable__label-arrow:before {color: black;}#sk-container-id-7 div.sk-toggleable__content {max-height: 0;max-width: 0;overflow: hidden;text-align: left;background-color: #f0f8ff;}#sk-container-id-7 div.sk-toggleable__content pre {margin: 0.2em;color: black;border-radius: 0.25em;background-color: #f0f8ff;}#sk-container-id-7 input.sk-toggleable__control:checked~div.sk-toggleable__content {max-height: 200px;max-width: 100%;overflow: auto;}#sk-container-id-7 input.sk-toggleable__control:checked~label.sk-toggleable__label-arrow:before {content: \"▾\";}#sk-container-id-7 div.sk-estimator input.sk-toggleable__control:checked~label.sk-toggleable__label {background-color: #d4ebff;}#sk-container-id-7 div.sk-label input.sk-toggleable__control:checked~label.sk-toggleable__label {background-color: #d4ebff;}#sk-container-id-7 input.sk-hidden--visually {border: 0;clip: rect(1px 1px 1px 1px);clip: rect(1px, 1px, 1px, 1px);height: 1px;margin: -1px;overflow: hidden;padding: 0;position: absolute;width: 1px;}#sk-container-id-7 div.sk-estimator {font-family: monospace;background-color: #f0f8ff;border: 1px dotted black;border-radius: 0.25em;box-sizing: border-box;margin-bottom: 0.5em;}#sk-container-id-7 div.sk-estimator:hover {background-color: #d4ebff;}#sk-container-id-7 div.sk-parallel-item::after {content: \"\";width: 100%;border-bottom: 1px solid gray;flex-grow: 1;}#sk-container-id-7 div.sk-label:hover label.sk-toggleable__label {background-color: #d4ebff;}#sk-container-id-7 div.sk-serial::before {content: \"\";position: absolute;border-left: 1px solid gray;box-sizing: border-box;top: 0;bottom: 0;left: 50%;z-index: 0;}#sk-container-id-7 div.sk-serial {display: flex;flex-direction: column;align-items: center;background-color: white;padding-right: 0.2em;padding-left: 0.2em;position: relative;}#sk-container-id-7 div.sk-item {position: relative;z-index: 1;}#sk-container-id-7 div.sk-parallel {display: flex;align-items: stretch;justify-content: center;background-color: white;position: relative;}#sk-container-id-7 div.sk-item::before, #sk-container-id-7 div.sk-parallel-item::before {content: \"\";position: absolute;border-left: 1px solid gray;box-sizing: border-box;top: 0;bottom: 0;left: 50%;z-index: -1;}#sk-container-id-7 div.sk-parallel-item {display: flex;flex-direction: column;z-index: 1;position: relative;background-color: white;}#sk-container-id-7 div.sk-parallel-item:first-child::after {align-self: flex-end;width: 50%;}#sk-container-id-7 div.sk-parallel-item:last-child::after {align-self: flex-start;width: 50%;}#sk-container-id-7 div.sk-parallel-item:only-child::after {width: 0;}#sk-container-id-7 div.sk-dashed-wrapped {border: 1px dashed gray;margin: 0 0.4em 0.5em 0.4em;box-sizing: border-box;padding-bottom: 0.4em;background-color: white;}#sk-container-id-7 div.sk-label label {font-family: monospace;font-weight: bold;display: inline-block;line-height: 1.2em;}#sk-container-id-7 div.sk-label-container {text-align: center;}#sk-container-id-7 div.sk-container {/* jupyter's `normalize.less` sets `[hidden] { display: none; }` but bootstrap.min.css set `[hidden] { display: none !important; }` so we also need the `!important` here to be able to override the default hidden behavior on the sphinx rendered scikit-learn.org. See: https://github.com/scikit-learn/scikit-learn/issues/21755 */display: inline-block !important;position: relative;}#sk-container-id-7 div.sk-text-repr-fallback {display: none;}</style><div id=\"sk-container-id-7\" class=\"sk-top-container\"><div class=\"sk-text-repr-fallback\"><pre>Pipeline(steps=[(&#x27;smote&#x27;, SMOTE(sampling_strategy=&#x27;minority&#x27;)),\n",
       "                (&#x27;randomundersampler&#x27;,\n",
       "                 RandomUnderSampler(sampling_strategy=&#x27;majority&#x27;)),\n",
       "                (&#x27;kneighborsclassifier&#x27;, KNeighborsClassifier(n_neighbors=2))])</pre><b>In a Jupyter environment, please rerun this cell to show the HTML representation or trust the notebook. <br />On GitHub, the HTML representation is unable to render, please try loading this page with nbviewer.org.</b></div><div class=\"sk-container\" hidden><div class=\"sk-item sk-dashed-wrapped\"><div class=\"sk-label-container\"><div class=\"sk-label sk-toggleable\"><input class=\"sk-toggleable__control sk-hidden--visually\" id=\"sk-estimator-id-26\" type=\"checkbox\" ><label for=\"sk-estimator-id-26\" class=\"sk-toggleable__label sk-toggleable__label-arrow\">Pipeline</label><div class=\"sk-toggleable__content\"><pre>Pipeline(steps=[(&#x27;smote&#x27;, SMOTE(sampling_strategy=&#x27;minority&#x27;)),\n",
       "                (&#x27;randomundersampler&#x27;,\n",
       "                 RandomUnderSampler(sampling_strategy=&#x27;majority&#x27;)),\n",
       "                (&#x27;kneighborsclassifier&#x27;, KNeighborsClassifier(n_neighbors=2))])</pre></div></div></div><div class=\"sk-serial\"><div class=\"sk-item\"><div class=\"sk-estimator sk-toggleable\"><input class=\"sk-toggleable__control sk-hidden--visually\" id=\"sk-estimator-id-27\" type=\"checkbox\" ><label for=\"sk-estimator-id-27\" class=\"sk-toggleable__label sk-toggleable__label-arrow\">SMOTE</label><div class=\"sk-toggleable__content\"><pre>SMOTE(sampling_strategy=&#x27;minority&#x27;)</pre></div></div></div><div class=\"sk-item\"><div class=\"sk-estimator sk-toggleable\"><input class=\"sk-toggleable__control sk-hidden--visually\" id=\"sk-estimator-id-28\" type=\"checkbox\" ><label for=\"sk-estimator-id-28\" class=\"sk-toggleable__label sk-toggleable__label-arrow\">RandomUnderSampler</label><div class=\"sk-toggleable__content\"><pre>RandomUnderSampler(sampling_strategy=&#x27;majority&#x27;)</pre></div></div></div><div class=\"sk-item\"><div class=\"sk-estimator sk-toggleable\"><input class=\"sk-toggleable__control sk-hidden--visually\" id=\"sk-estimator-id-29\" type=\"checkbox\" ><label for=\"sk-estimator-id-29\" class=\"sk-toggleable__label sk-toggleable__label-arrow\">KNeighborsClassifier</label><div class=\"sk-toggleable__content\"><pre>KNeighborsClassifier(n_neighbors=2)</pre></div></div></div></div></div></div></div>"
      ],
      "text/plain": [
       "Pipeline(steps=[('smote', SMOTE(sampling_strategy='minority')),\n",
       "                ('randomundersampler',\n",
       "                 RandomUnderSampler(sampling_strategy='majority')),\n",
       "                ('kneighborsclassifier', KNeighborsClassifier(n_neighbors=2))])"
      ]
     },
     "execution_count": 38,
     "metadata": {},
     "output_type": "execute_result"
    }
   ],
   "source": [
    "SMOTERUS_pipeline_knn = make_pipeline(SMOTE(sampling_strategy='minority'), \n",
    "                                      RandomUnderSampler(sampling_strategy='majority'),\n",
    "                                      KNeighborsClassifier(n_neighbors=2))\n",
    "\n",
    "SMOTERUS_knn = SMOTERUS_pipeline_knn\n",
    "SMOTERUS_knn.fit(new_X_train, new_y_train)"
   ]
  },
  {
   "cell_type": "markdown",
   "id": "8d951330",
   "metadata": {
    "papermill": {
     "duration": 0.041191,
     "end_time": "2024-03-04T02:55:14.240771",
     "exception": false,
     "start_time": "2024-03-04T02:55:14.199580",
     "status": "completed"
    },
    "tags": []
   },
   "source": [
    "### Validate"
   ]
  },
  {
   "cell_type": "code",
   "execution_count": 39,
   "id": "a58b6a21",
   "metadata": {
    "execution": {
     "iopub.execute_input": "2024-03-04T02:55:14.326818Z",
     "iopub.status.busy": "2024-03-04T02:55:14.325844Z",
     "iopub.status.idle": "2024-03-04T02:55:14.557474Z",
     "shell.execute_reply": "2024-03-04T02:55:14.556242Z"
    },
    "papermill": {
     "duration": 0.277557,
     "end_time": "2024-03-04T02:55:14.560275",
     "exception": false,
     "start_time": "2024-03-04T02:55:14.282718",
     "status": "completed"
    },
    "tags": []
   },
   "outputs": [
    {
     "name": "stdout",
     "output_type": "stream",
     "text": [
      "[[1502  157]\n",
      " [ 154  187]]\n"
     ]
    }
   ],
   "source": [
    "y_pred_KNN2 = SMOTERUS_knn.predict(new_X_test)\n",
    "cm_KNN2 = confusion_matrix(new_y_test, y_pred_KNN2)\n",
    "\n",
    "print(cm_KNN2)"
   ]
  },
  {
   "cell_type": "code",
   "execution_count": 40,
   "id": "bdf79279",
   "metadata": {
    "execution": {
     "iopub.execute_input": "2024-03-04T02:55:14.645667Z",
     "iopub.status.busy": "2024-03-04T02:55:14.645171Z",
     "iopub.status.idle": "2024-03-04T02:55:14.663899Z",
     "shell.execute_reply": "2024-03-04T02:55:14.662682Z"
    },
    "papermill": {
     "duration": 0.064684,
     "end_time": "2024-03-04T02:55:14.666488",
     "exception": false,
     "start_time": "2024-03-04T02:55:14.601804",
     "status": "completed"
    },
    "tags": []
   },
   "outputs": [
    {
     "name": "stdout",
     "output_type": "stream",
     "text": [
      "              precision    recall  f1-score   support\n",
      "\n",
      "           0       0.91      0.91      0.91      1659\n",
      "           1       0.54      0.55      0.55       341\n",
      "\n",
      "    accuracy                           0.84      2000\n",
      "   macro avg       0.73      0.73      0.73      2000\n",
      "weighted avg       0.85      0.84      0.84      2000\n",
      "\n"
     ]
    }
   ],
   "source": [
    "print(classification_report(new_y_test, y_pred_KNN2))"
   ]
  },
  {
   "cell_type": "code",
   "execution_count": 41,
   "id": "08b0b341",
   "metadata": {
    "execution": {
     "iopub.execute_input": "2024-03-04T02:55:14.751865Z",
     "iopub.status.busy": "2024-03-04T02:55:14.751260Z",
     "iopub.status.idle": "2024-03-04T02:55:15.327090Z",
     "shell.execute_reply": "2024-03-04T02:55:15.325823Z"
    },
    "papermill": {
     "duration": 0.622966,
     "end_time": "2024-03-04T02:55:15.330221",
     "exception": false,
     "start_time": "2024-03-04T02:55:14.707255",
     "status": "completed"
    },
    "tags": []
   },
   "outputs": [
    {
     "name": "stdout",
     "output_type": "stream",
     "text": [
      "ROC-AUC for SMOTETomek KNN: 0.7348100381991767\n",
      "ROC-AUC for SMOTEENN KNN: 0.7445215734313325\n",
      "ROC-AUC for SMOTERUS KNN: 0.7268758871453849\n",
      "ROC-AUC no_sampling for KNN 0.718353104633219\n"
     ]
    }
   ],
   "source": [
    "y_pred_tomek = SMOTETomek_knn.predict(new_X_test)\n",
    "y_pred_enn = SMOTEENN_knn.predict(new_X_test)\n",
    "y_pred_rus = SMOTERUS_knn.predict(new_X_test)\n",
    "\n",
    "# Calculate ROC-AUC for each model\n",
    "roc_auc_tomek = roc_auc_score(new_y_test, y_pred_tomek)\n",
    "roc_auc_enn = roc_auc_score(new_y_test, y_pred_enn)\n",
    "roc_auc_rus = roc_auc_score(new_y_test, y_pred_rus)\n",
    "roc_nosamp2 = roc_auc_score(new_y_test, y_nosamp2)\n",
    "\n",
    "print(\"ROC-AUC for SMOTETomek KNN:\", roc_auc_tomek)\n",
    "print(\"ROC-AUC for SMOTEENN KNN:\", roc_auc_enn)\n",
    "print(\"ROC-AUC for SMOTERUS KNN:\", roc_auc_rus)\n",
    "print(\"ROC-AUC no_sampling for KNN\", roc_nosamp2)"
   ]
  },
  {
   "cell_type": "markdown",
   "id": "d7dd2b52",
   "metadata": {
    "papermill": {
     "duration": 0.043039,
     "end_time": "2024-03-04T02:55:15.416588",
     "exception": false,
     "start_time": "2024-03-04T02:55:15.373549",
     "status": "completed"
    },
    "tags": []
   },
   "source": [
    "## RandomForest"
   ]
  },
  {
   "cell_type": "code",
   "execution_count": 42,
   "id": "c825ba75",
   "metadata": {
    "execution": {
     "iopub.execute_input": "2024-03-04T02:55:15.502002Z",
     "iopub.status.busy": "2024-03-04T02:55:15.501170Z",
     "iopub.status.idle": "2024-03-04T02:55:15.506790Z",
     "shell.execute_reply": "2024-03-04T02:55:15.505748Z"
    },
    "papermill": {
     "duration": 0.051653,
     "end_time": "2024-03-04T02:55:15.509238",
     "exception": false,
     "start_time": "2024-03-04T02:55:15.457585",
     "status": "completed"
    },
    "tags": []
   },
   "outputs": [],
   "source": [
    "from sklearn.ensemble import RandomForestClassifier"
   ]
  },
  {
   "cell_type": "code",
   "execution_count": 43,
   "id": "ed838fcf",
   "metadata": {
    "execution": {
     "iopub.execute_input": "2024-03-04T02:55:15.595076Z",
     "iopub.status.busy": "2024-03-04T02:55:15.594291Z",
     "iopub.status.idle": "2024-03-04T02:55:17.735080Z",
     "shell.execute_reply": "2024-03-04T02:55:17.733295Z"
    },
    "papermill": {
     "duration": 2.186486,
     "end_time": "2024-03-04T02:55:17.737812",
     "exception": false,
     "start_time": "2024-03-04T02:55:15.551326",
     "status": "completed"
    },
    "tags": []
   },
   "outputs": [
    {
     "name": "stdout",
     "output_type": "stream",
     "text": [
      "              precision    recall  f1-score   support\n",
      "\n",
      "           0       0.94      0.99      0.96      1659\n",
      "           1       0.92      0.68      0.78       341\n",
      "\n",
      "    accuracy                           0.94      2000\n",
      "   macro avg       0.93      0.84      0.87      2000\n",
      "weighted avg       0.93      0.94      0.93      2000\n",
      "\n"
     ]
    }
   ],
   "source": [
    "rf = RandomForestClassifier()\n",
    "rf.fit(new_X_train, new_y_train)\n",
    "\n",
    "y_nosamp3 = rf.predict(new_X_test)\n",
    "print(classification_report(new_y_test, y_nosamp3))"
   ]
  },
  {
   "cell_type": "markdown",
   "id": "8c826be0",
   "metadata": {
    "papermill": {
     "duration": 0.041347,
     "end_time": "2024-03-04T02:55:17.821472",
     "exception": false,
     "start_time": "2024-03-04T02:55:17.780125",
     "status": "completed"
    },
    "tags": []
   },
   "source": [
    "### SMOTETomek"
   ]
  },
  {
   "cell_type": "code",
   "execution_count": 44,
   "id": "efa4fbf1",
   "metadata": {
    "execution": {
     "iopub.execute_input": "2024-03-04T02:55:17.906237Z",
     "iopub.status.busy": "2024-03-04T02:55:17.905780Z",
     "iopub.status.idle": "2024-03-04T02:55:22.547021Z",
     "shell.execute_reply": "2024-03-04T02:55:22.545614Z"
    },
    "papermill": {
     "duration": 4.687146,
     "end_time": "2024-03-04T02:55:22.549893",
     "exception": false,
     "start_time": "2024-03-04T02:55:17.862747",
     "status": "completed"
    },
    "tags": []
   },
   "outputs": [
    {
     "data": {
      "text/html": [
       "<style>#sk-container-id-8 {color: black;background-color: white;}#sk-container-id-8 pre{padding: 0;}#sk-container-id-8 div.sk-toggleable {background-color: white;}#sk-container-id-8 label.sk-toggleable__label {cursor: pointer;display: block;width: 100%;margin-bottom: 0;padding: 0.3em;box-sizing: border-box;text-align: center;}#sk-container-id-8 label.sk-toggleable__label-arrow:before {content: \"▸\";float: left;margin-right: 0.25em;color: #696969;}#sk-container-id-8 label.sk-toggleable__label-arrow:hover:before {color: black;}#sk-container-id-8 div.sk-estimator:hover label.sk-toggleable__label-arrow:before {color: black;}#sk-container-id-8 div.sk-toggleable__content {max-height: 0;max-width: 0;overflow: hidden;text-align: left;background-color: #f0f8ff;}#sk-container-id-8 div.sk-toggleable__content pre {margin: 0.2em;color: black;border-radius: 0.25em;background-color: #f0f8ff;}#sk-container-id-8 input.sk-toggleable__control:checked~div.sk-toggleable__content {max-height: 200px;max-width: 100%;overflow: auto;}#sk-container-id-8 input.sk-toggleable__control:checked~label.sk-toggleable__label-arrow:before {content: \"▾\";}#sk-container-id-8 div.sk-estimator input.sk-toggleable__control:checked~label.sk-toggleable__label {background-color: #d4ebff;}#sk-container-id-8 div.sk-label input.sk-toggleable__control:checked~label.sk-toggleable__label {background-color: #d4ebff;}#sk-container-id-8 input.sk-hidden--visually {border: 0;clip: rect(1px 1px 1px 1px);clip: rect(1px, 1px, 1px, 1px);height: 1px;margin: -1px;overflow: hidden;padding: 0;position: absolute;width: 1px;}#sk-container-id-8 div.sk-estimator {font-family: monospace;background-color: #f0f8ff;border: 1px dotted black;border-radius: 0.25em;box-sizing: border-box;margin-bottom: 0.5em;}#sk-container-id-8 div.sk-estimator:hover {background-color: #d4ebff;}#sk-container-id-8 div.sk-parallel-item::after {content: \"\";width: 100%;border-bottom: 1px solid gray;flex-grow: 1;}#sk-container-id-8 div.sk-label:hover label.sk-toggleable__label {background-color: #d4ebff;}#sk-container-id-8 div.sk-serial::before {content: \"\";position: absolute;border-left: 1px solid gray;box-sizing: border-box;top: 0;bottom: 0;left: 50%;z-index: 0;}#sk-container-id-8 div.sk-serial {display: flex;flex-direction: column;align-items: center;background-color: white;padding-right: 0.2em;padding-left: 0.2em;position: relative;}#sk-container-id-8 div.sk-item {position: relative;z-index: 1;}#sk-container-id-8 div.sk-parallel {display: flex;align-items: stretch;justify-content: center;background-color: white;position: relative;}#sk-container-id-8 div.sk-item::before, #sk-container-id-8 div.sk-parallel-item::before {content: \"\";position: absolute;border-left: 1px solid gray;box-sizing: border-box;top: 0;bottom: 0;left: 50%;z-index: -1;}#sk-container-id-8 div.sk-parallel-item {display: flex;flex-direction: column;z-index: 1;position: relative;background-color: white;}#sk-container-id-8 div.sk-parallel-item:first-child::after {align-self: flex-end;width: 50%;}#sk-container-id-8 div.sk-parallel-item:last-child::after {align-self: flex-start;width: 50%;}#sk-container-id-8 div.sk-parallel-item:only-child::after {width: 0;}#sk-container-id-8 div.sk-dashed-wrapped {border: 1px dashed gray;margin: 0 0.4em 0.5em 0.4em;box-sizing: border-box;padding-bottom: 0.4em;background-color: white;}#sk-container-id-8 div.sk-label label {font-family: monospace;font-weight: bold;display: inline-block;line-height: 1.2em;}#sk-container-id-8 div.sk-label-container {text-align: center;}#sk-container-id-8 div.sk-container {/* jupyter's `normalize.less` sets `[hidden] { display: none; }` but bootstrap.min.css set `[hidden] { display: none !important; }` so we also need the `!important` here to be able to override the default hidden behavior on the sphinx rendered scikit-learn.org. See: https://github.com/scikit-learn/scikit-learn/issues/21755 */display: inline-block !important;position: relative;}#sk-container-id-8 div.sk-text-repr-fallback {display: none;}</style><div id=\"sk-container-id-8\" class=\"sk-top-container\"><div class=\"sk-text-repr-fallback\"><pre>Pipeline(steps=[(&#x27;smotetomek&#x27;,\n",
       "                 SMOTETomek(tomek=TomekLinks(sampling_strategy=&#x27;majority&#x27;))),\n",
       "                (&#x27;randomforestclassifier&#x27;,\n",
       "                 RandomForestClassifier(random_state=13))])</pre><b>In a Jupyter environment, please rerun this cell to show the HTML representation or trust the notebook. <br />On GitHub, the HTML representation is unable to render, please try loading this page with nbviewer.org.</b></div><div class=\"sk-container\" hidden><div class=\"sk-item sk-dashed-wrapped\"><div class=\"sk-label-container\"><div class=\"sk-label sk-toggleable\"><input class=\"sk-toggleable__control sk-hidden--visually\" id=\"sk-estimator-id-30\" type=\"checkbox\" ><label for=\"sk-estimator-id-30\" class=\"sk-toggleable__label sk-toggleable__label-arrow\">Pipeline</label><div class=\"sk-toggleable__content\"><pre>Pipeline(steps=[(&#x27;smotetomek&#x27;,\n",
       "                 SMOTETomek(tomek=TomekLinks(sampling_strategy=&#x27;majority&#x27;))),\n",
       "                (&#x27;randomforestclassifier&#x27;,\n",
       "                 RandomForestClassifier(random_state=13))])</pre></div></div></div><div class=\"sk-serial\"><div class=\"sk-item sk-dashed-wrapped\"><div class=\"sk-label-container\"><div class=\"sk-label sk-toggleable\"><input class=\"sk-toggleable__control sk-hidden--visually\" id=\"sk-estimator-id-31\" type=\"checkbox\" ><label for=\"sk-estimator-id-31\" class=\"sk-toggleable__label sk-toggleable__label-arrow\">smotetomek: SMOTETomek</label><div class=\"sk-toggleable__content\"><pre>SMOTETomek(tomek=TomekLinks(sampling_strategy=&#x27;majority&#x27;))</pre></div></div></div><div class=\"sk-parallel\"><div class=\"sk-parallel-item\"><div class=\"sk-item\"><div class=\"sk-label-container\"><div class=\"sk-label sk-toggleable\"><input class=\"sk-toggleable__control sk-hidden--visually\" id=\"sk-estimator-id-32\" type=\"checkbox\" ><label for=\"sk-estimator-id-32\" class=\"sk-toggleable__label sk-toggleable__label-arrow\">tomek: TomekLinks</label><div class=\"sk-toggleable__content\"><pre>TomekLinks(sampling_strategy=&#x27;majority&#x27;)</pre></div></div></div><div class=\"sk-serial\"><div class=\"sk-item\"><div class=\"sk-estimator sk-toggleable\"><input class=\"sk-toggleable__control sk-hidden--visually\" id=\"sk-estimator-id-33\" type=\"checkbox\" ><label for=\"sk-estimator-id-33\" class=\"sk-toggleable__label sk-toggleable__label-arrow\">TomekLinks</label><div class=\"sk-toggleable__content\"><pre>TomekLinks(sampling_strategy=&#x27;majority&#x27;)</pre></div></div></div></div></div></div></div></div><div class=\"sk-item\"><div class=\"sk-estimator sk-toggleable\"><input class=\"sk-toggleable__control sk-hidden--visually\" id=\"sk-estimator-id-34\" type=\"checkbox\" ><label for=\"sk-estimator-id-34\" class=\"sk-toggleable__label sk-toggleable__label-arrow\">RandomForestClassifier</label><div class=\"sk-toggleable__content\"><pre>RandomForestClassifier(random_state=13)</pre></div></div></div></div></div></div></div>"
      ],
      "text/plain": [
       "Pipeline(steps=[('smotetomek',\n",
       "                 SMOTETomek(tomek=TomekLinks(sampling_strategy='majority'))),\n",
       "                ('randomforestclassifier',\n",
       "                 RandomForestClassifier(random_state=13))])"
      ]
     },
     "execution_count": 44,
     "metadata": {},
     "output_type": "execute_result"
    }
   ],
   "source": [
    "SMOTETomek_pipeline_rf = make_pipeline(\n",
    "    SMOTETomek(tomek=TomekLinks(sampling_strategy='majority')),\n",
    "    RandomForestClassifier(n_estimators=100, random_state=13)  # You can adjust parameters here\n",
    ")\n",
    "\n",
    "# Fit the pipeline with RandomForest\n",
    "SMOTETomek_rf = SMOTETomek_pipeline_rf\n",
    "SMOTETomek_rf.fit(new_X_train, new_y_train)"
   ]
  },
  {
   "cell_type": "code",
   "execution_count": 45,
   "id": "a1804753",
   "metadata": {
    "execution": {
     "iopub.execute_input": "2024-03-04T02:55:22.636482Z",
     "iopub.status.busy": "2024-03-04T02:55:22.636021Z",
     "iopub.status.idle": "2024-03-04T02:55:22.695929Z",
     "shell.execute_reply": "2024-03-04T02:55:22.694559Z"
    },
    "papermill": {
     "duration": 0.106117,
     "end_time": "2024-03-04T02:55:22.698653",
     "exception": false,
     "start_time": "2024-03-04T02:55:22.592536",
     "status": "completed"
    },
    "tags": []
   },
   "outputs": [
    {
     "data": {
      "text/plain": [
       "array([[1595,   64],\n",
       "       [  81,  260]])"
      ]
     },
     "execution_count": 45,
     "metadata": {},
     "output_type": "execute_result"
    }
   ],
   "source": [
    "y_pred_rf = SMOTETomek_rf.predict(new_X_test)\n",
    "\n",
    "# Calculate confusion matrix\n",
    "cm_rf = confusion_matrix(new_y_test, y_pred_rf)\n",
    "\n",
    "\n",
    "cm_rf"
   ]
  },
  {
   "cell_type": "code",
   "execution_count": 46,
   "id": "5673bf8f",
   "metadata": {
    "execution": {
     "iopub.execute_input": "2024-03-04T02:55:22.786349Z",
     "iopub.status.busy": "2024-03-04T02:55:22.785364Z",
     "iopub.status.idle": "2024-03-04T02:55:22.805406Z",
     "shell.execute_reply": "2024-03-04T02:55:22.804169Z"
    },
    "papermill": {
     "duration": 0.067643,
     "end_time": "2024-03-04T02:55:22.808175",
     "exception": false,
     "start_time": "2024-03-04T02:55:22.740532",
     "status": "completed"
    },
    "tags": []
   },
   "outputs": [
    {
     "name": "stdout",
     "output_type": "stream",
     "text": [
      "              precision    recall  f1-score   support\n",
      "\n",
      "           0       0.95      0.96      0.96      1659\n",
      "           1       0.80      0.76      0.78       341\n",
      "\n",
      "    accuracy                           0.93      2000\n",
      "   macro avg       0.88      0.86      0.87      2000\n",
      "weighted avg       0.93      0.93      0.93      2000\n",
      "\n"
     ]
    }
   ],
   "source": [
    "print(classification_report(new_y_test, y_pred_rf))"
   ]
  },
  {
   "cell_type": "markdown",
   "id": "7db92f24",
   "metadata": {
    "papermill": {
     "duration": 0.042459,
     "end_time": "2024-03-04T02:55:22.893001",
     "exception": false,
     "start_time": "2024-03-04T02:55:22.850542",
     "status": "completed"
    },
    "tags": []
   },
   "source": [
    "### SMOTEENN"
   ]
  },
  {
   "cell_type": "code",
   "execution_count": 47,
   "id": "96a96cd6",
   "metadata": {
    "execution": {
     "iopub.execute_input": "2024-03-04T02:55:22.980124Z",
     "iopub.status.busy": "2024-03-04T02:55:22.979639Z",
     "iopub.status.idle": "2024-03-04T02:55:26.829753Z",
     "shell.execute_reply": "2024-03-04T02:55:26.828343Z"
    },
    "papermill": {
     "duration": 3.897638,
     "end_time": "2024-03-04T02:55:26.832720",
     "exception": false,
     "start_time": "2024-03-04T02:55:22.935082",
     "status": "completed"
    },
    "tags": []
   },
   "outputs": [
    {
     "data": {
      "text/html": [
       "<style>#sk-container-id-9 {color: black;background-color: white;}#sk-container-id-9 pre{padding: 0;}#sk-container-id-9 div.sk-toggleable {background-color: white;}#sk-container-id-9 label.sk-toggleable__label {cursor: pointer;display: block;width: 100%;margin-bottom: 0;padding: 0.3em;box-sizing: border-box;text-align: center;}#sk-container-id-9 label.sk-toggleable__label-arrow:before {content: \"▸\";float: left;margin-right: 0.25em;color: #696969;}#sk-container-id-9 label.sk-toggleable__label-arrow:hover:before {color: black;}#sk-container-id-9 div.sk-estimator:hover label.sk-toggleable__label-arrow:before {color: black;}#sk-container-id-9 div.sk-toggleable__content {max-height: 0;max-width: 0;overflow: hidden;text-align: left;background-color: #f0f8ff;}#sk-container-id-9 div.sk-toggleable__content pre {margin: 0.2em;color: black;border-radius: 0.25em;background-color: #f0f8ff;}#sk-container-id-9 input.sk-toggleable__control:checked~div.sk-toggleable__content {max-height: 200px;max-width: 100%;overflow: auto;}#sk-container-id-9 input.sk-toggleable__control:checked~label.sk-toggleable__label-arrow:before {content: \"▾\";}#sk-container-id-9 div.sk-estimator input.sk-toggleable__control:checked~label.sk-toggleable__label {background-color: #d4ebff;}#sk-container-id-9 div.sk-label input.sk-toggleable__control:checked~label.sk-toggleable__label {background-color: #d4ebff;}#sk-container-id-9 input.sk-hidden--visually {border: 0;clip: rect(1px 1px 1px 1px);clip: rect(1px, 1px, 1px, 1px);height: 1px;margin: -1px;overflow: hidden;padding: 0;position: absolute;width: 1px;}#sk-container-id-9 div.sk-estimator {font-family: monospace;background-color: #f0f8ff;border: 1px dotted black;border-radius: 0.25em;box-sizing: border-box;margin-bottom: 0.5em;}#sk-container-id-9 div.sk-estimator:hover {background-color: #d4ebff;}#sk-container-id-9 div.sk-parallel-item::after {content: \"\";width: 100%;border-bottom: 1px solid gray;flex-grow: 1;}#sk-container-id-9 div.sk-label:hover label.sk-toggleable__label {background-color: #d4ebff;}#sk-container-id-9 div.sk-serial::before {content: \"\";position: absolute;border-left: 1px solid gray;box-sizing: border-box;top: 0;bottom: 0;left: 50%;z-index: 0;}#sk-container-id-9 div.sk-serial {display: flex;flex-direction: column;align-items: center;background-color: white;padding-right: 0.2em;padding-left: 0.2em;position: relative;}#sk-container-id-9 div.sk-item {position: relative;z-index: 1;}#sk-container-id-9 div.sk-parallel {display: flex;align-items: stretch;justify-content: center;background-color: white;position: relative;}#sk-container-id-9 div.sk-item::before, #sk-container-id-9 div.sk-parallel-item::before {content: \"\";position: absolute;border-left: 1px solid gray;box-sizing: border-box;top: 0;bottom: 0;left: 50%;z-index: -1;}#sk-container-id-9 div.sk-parallel-item {display: flex;flex-direction: column;z-index: 1;position: relative;background-color: white;}#sk-container-id-9 div.sk-parallel-item:first-child::after {align-self: flex-end;width: 50%;}#sk-container-id-9 div.sk-parallel-item:last-child::after {align-self: flex-start;width: 50%;}#sk-container-id-9 div.sk-parallel-item:only-child::after {width: 0;}#sk-container-id-9 div.sk-dashed-wrapped {border: 1px dashed gray;margin: 0 0.4em 0.5em 0.4em;box-sizing: border-box;padding-bottom: 0.4em;background-color: white;}#sk-container-id-9 div.sk-label label {font-family: monospace;font-weight: bold;display: inline-block;line-height: 1.2em;}#sk-container-id-9 div.sk-label-container {text-align: center;}#sk-container-id-9 div.sk-container {/* jupyter's `normalize.less` sets `[hidden] { display: none; }` but bootstrap.min.css set `[hidden] { display: none !important; }` so we also need the `!important` here to be able to override the default hidden behavior on the sphinx rendered scikit-learn.org. See: https://github.com/scikit-learn/scikit-learn/issues/21755 */display: inline-block !important;position: relative;}#sk-container-id-9 div.sk-text-repr-fallback {display: none;}</style><div id=\"sk-container-id-9\" class=\"sk-top-container\"><div class=\"sk-text-repr-fallback\"><pre>Pipeline(steps=[(&#x27;smoteenn&#x27;,\n",
       "                 SMOTEENN(enn=EditedNearestNeighbours(sampling_strategy=&#x27;majority&#x27;))),\n",
       "                (&#x27;randomforestclassifier&#x27;,\n",
       "                 RandomForestClassifier(random_state=13))])</pre><b>In a Jupyter environment, please rerun this cell to show the HTML representation or trust the notebook. <br />On GitHub, the HTML representation is unable to render, please try loading this page with nbviewer.org.</b></div><div class=\"sk-container\" hidden><div class=\"sk-item sk-dashed-wrapped\"><div class=\"sk-label-container\"><div class=\"sk-label sk-toggleable\"><input class=\"sk-toggleable__control sk-hidden--visually\" id=\"sk-estimator-id-35\" type=\"checkbox\" ><label for=\"sk-estimator-id-35\" class=\"sk-toggleable__label sk-toggleable__label-arrow\">Pipeline</label><div class=\"sk-toggleable__content\"><pre>Pipeline(steps=[(&#x27;smoteenn&#x27;,\n",
       "                 SMOTEENN(enn=EditedNearestNeighbours(sampling_strategy=&#x27;majority&#x27;))),\n",
       "                (&#x27;randomforestclassifier&#x27;,\n",
       "                 RandomForestClassifier(random_state=13))])</pre></div></div></div><div class=\"sk-serial\"><div class=\"sk-item sk-dashed-wrapped\"><div class=\"sk-label-container\"><div class=\"sk-label sk-toggleable\"><input class=\"sk-toggleable__control sk-hidden--visually\" id=\"sk-estimator-id-36\" type=\"checkbox\" ><label for=\"sk-estimator-id-36\" class=\"sk-toggleable__label sk-toggleable__label-arrow\">smoteenn: SMOTEENN</label><div class=\"sk-toggleable__content\"><pre>SMOTEENN(enn=EditedNearestNeighbours(sampling_strategy=&#x27;majority&#x27;))</pre></div></div></div><div class=\"sk-parallel\"><div class=\"sk-parallel-item\"><div class=\"sk-item\"><div class=\"sk-label-container\"><div class=\"sk-label sk-toggleable\"><input class=\"sk-toggleable__control sk-hidden--visually\" id=\"sk-estimator-id-37\" type=\"checkbox\" ><label for=\"sk-estimator-id-37\" class=\"sk-toggleable__label sk-toggleable__label-arrow\">enn: EditedNearestNeighbours</label><div class=\"sk-toggleable__content\"><pre>EditedNearestNeighbours(sampling_strategy=&#x27;majority&#x27;)</pre></div></div></div><div class=\"sk-serial\"><div class=\"sk-item\"><div class=\"sk-estimator sk-toggleable\"><input class=\"sk-toggleable__control sk-hidden--visually\" id=\"sk-estimator-id-38\" type=\"checkbox\" ><label for=\"sk-estimator-id-38\" class=\"sk-toggleable__label sk-toggleable__label-arrow\">EditedNearestNeighbours</label><div class=\"sk-toggleable__content\"><pre>EditedNearestNeighbours(sampling_strategy=&#x27;majority&#x27;)</pre></div></div></div></div></div></div></div></div><div class=\"sk-item\"><div class=\"sk-estimator sk-toggleable\"><input class=\"sk-toggleable__control sk-hidden--visually\" id=\"sk-estimator-id-39\" type=\"checkbox\" ><label for=\"sk-estimator-id-39\" class=\"sk-toggleable__label sk-toggleable__label-arrow\">RandomForestClassifier</label><div class=\"sk-toggleable__content\"><pre>RandomForestClassifier(random_state=13)</pre></div></div></div></div></div></div></div>"
      ],
      "text/plain": [
       "Pipeline(steps=[('smoteenn',\n",
       "                 SMOTEENN(enn=EditedNearestNeighbours(sampling_strategy='majority'))),\n",
       "                ('randomforestclassifier',\n",
       "                 RandomForestClassifier(random_state=13))])"
      ]
     },
     "execution_count": 47,
     "metadata": {},
     "output_type": "execute_result"
    }
   ],
   "source": [
    "SMOTEENN_pipeline_rf = make_pipeline(SMOTEENN(enn=EditedNearestNeighbours(sampling_strategy='majority')),\n",
    "                                      RandomForestClassifier(n_estimators=100, random_state=13))  # You can adjust the number of neighbors as needed\n",
    "\n",
    "# Fit the pipeline with KNN\n",
    "SMOTEENN_rf = SMOTEENN_pipeline_rf\n",
    "SMOTEENN_rf.fit(new_X_train, new_y_train)"
   ]
  },
  {
   "cell_type": "code",
   "execution_count": 48,
   "id": "9b1032a9",
   "metadata": {
    "execution": {
     "iopub.execute_input": "2024-03-04T02:55:26.918963Z",
     "iopub.status.busy": "2024-03-04T02:55:26.918470Z",
     "iopub.status.idle": "2024-03-04T02:55:26.976561Z",
     "shell.execute_reply": "2024-03-04T02:55:26.975154Z"
    },
    "papermill": {
     "duration": 0.104733,
     "end_time": "2024-03-04T02:55:26.979468",
     "exception": false,
     "start_time": "2024-03-04T02:55:26.874735",
     "status": "completed"
    },
    "tags": []
   },
   "outputs": [
    {
     "data": {
      "text/plain": [
       "array([[1595,   64],\n",
       "       [  81,  260]])"
      ]
     },
     "execution_count": 48,
     "metadata": {},
     "output_type": "execute_result"
    }
   ],
   "source": [
    "y_pred_rf_1 = SMOTEENN_rf.predict(new_X_test)\n",
    "\n",
    "# Calculate confusion matrix\n",
    "cm_rf_1 = confusion_matrix(new_y_test, y_pred_rf)\n",
    "\n",
    "\n",
    "cm_rf_1"
   ]
  },
  {
   "cell_type": "code",
   "execution_count": 49,
   "id": "d4f6db05",
   "metadata": {
    "execution": {
     "iopub.execute_input": "2024-03-04T02:55:27.066499Z",
     "iopub.status.busy": "2024-03-04T02:55:27.066043Z",
     "iopub.status.idle": "2024-03-04T02:55:27.085331Z",
     "shell.execute_reply": "2024-03-04T02:55:27.083362Z"
    },
    "papermill": {
     "duration": 0.066774,
     "end_time": "2024-03-04T02:55:27.088679",
     "exception": false,
     "start_time": "2024-03-04T02:55:27.021905",
     "status": "completed"
    },
    "tags": []
   },
   "outputs": [
    {
     "name": "stdout",
     "output_type": "stream",
     "text": [
      "              precision    recall  f1-score   support\n",
      "\n",
      "           0       0.96      0.92      0.94      1659\n",
      "           1       0.67      0.81      0.73       341\n",
      "\n",
      "    accuracy                           0.90      2000\n",
      "   macro avg       0.81      0.86      0.84      2000\n",
      "weighted avg       0.91      0.90      0.90      2000\n",
      "\n"
     ]
    }
   ],
   "source": [
    "print(classification_report(new_y_test, y_pred_rf_1))"
   ]
  },
  {
   "cell_type": "markdown",
   "id": "a0ef8e66",
   "metadata": {
    "papermill": {
     "duration": 0.043825,
     "end_time": "2024-03-04T02:55:27.177756",
     "exception": false,
     "start_time": "2024-03-04T02:55:27.133931",
     "status": "completed"
    },
    "tags": []
   },
   "source": [
    "### SMOTE-RUS"
   ]
  },
  {
   "cell_type": "code",
   "execution_count": 50,
   "id": "b171f0f0",
   "metadata": {
    "execution": {
     "iopub.execute_input": "2024-03-04T02:55:27.265829Z",
     "iopub.status.busy": "2024-03-04T02:55:27.265276Z",
     "iopub.status.idle": "2024-03-04T02:55:31.436221Z",
     "shell.execute_reply": "2024-03-04T02:55:31.435017Z"
    },
    "papermill": {
     "duration": 4.218321,
     "end_time": "2024-03-04T02:55:31.439210",
     "exception": false,
     "start_time": "2024-03-04T02:55:27.220889",
     "status": "completed"
    },
    "tags": []
   },
   "outputs": [
    {
     "data": {
      "text/html": [
       "<style>#sk-container-id-10 {color: black;background-color: white;}#sk-container-id-10 pre{padding: 0;}#sk-container-id-10 div.sk-toggleable {background-color: white;}#sk-container-id-10 label.sk-toggleable__label {cursor: pointer;display: block;width: 100%;margin-bottom: 0;padding: 0.3em;box-sizing: border-box;text-align: center;}#sk-container-id-10 label.sk-toggleable__label-arrow:before {content: \"▸\";float: left;margin-right: 0.25em;color: #696969;}#sk-container-id-10 label.sk-toggleable__label-arrow:hover:before {color: black;}#sk-container-id-10 div.sk-estimator:hover label.sk-toggleable__label-arrow:before {color: black;}#sk-container-id-10 div.sk-toggleable__content {max-height: 0;max-width: 0;overflow: hidden;text-align: left;background-color: #f0f8ff;}#sk-container-id-10 div.sk-toggleable__content pre {margin: 0.2em;color: black;border-radius: 0.25em;background-color: #f0f8ff;}#sk-container-id-10 input.sk-toggleable__control:checked~div.sk-toggleable__content {max-height: 200px;max-width: 100%;overflow: auto;}#sk-container-id-10 input.sk-toggleable__control:checked~label.sk-toggleable__label-arrow:before {content: \"▾\";}#sk-container-id-10 div.sk-estimator input.sk-toggleable__control:checked~label.sk-toggleable__label {background-color: #d4ebff;}#sk-container-id-10 div.sk-label input.sk-toggleable__control:checked~label.sk-toggleable__label {background-color: #d4ebff;}#sk-container-id-10 input.sk-hidden--visually {border: 0;clip: rect(1px 1px 1px 1px);clip: rect(1px, 1px, 1px, 1px);height: 1px;margin: -1px;overflow: hidden;padding: 0;position: absolute;width: 1px;}#sk-container-id-10 div.sk-estimator {font-family: monospace;background-color: #f0f8ff;border: 1px dotted black;border-radius: 0.25em;box-sizing: border-box;margin-bottom: 0.5em;}#sk-container-id-10 div.sk-estimator:hover {background-color: #d4ebff;}#sk-container-id-10 div.sk-parallel-item::after {content: \"\";width: 100%;border-bottom: 1px solid gray;flex-grow: 1;}#sk-container-id-10 div.sk-label:hover label.sk-toggleable__label {background-color: #d4ebff;}#sk-container-id-10 div.sk-serial::before {content: \"\";position: absolute;border-left: 1px solid gray;box-sizing: border-box;top: 0;bottom: 0;left: 50%;z-index: 0;}#sk-container-id-10 div.sk-serial {display: flex;flex-direction: column;align-items: center;background-color: white;padding-right: 0.2em;padding-left: 0.2em;position: relative;}#sk-container-id-10 div.sk-item {position: relative;z-index: 1;}#sk-container-id-10 div.sk-parallel {display: flex;align-items: stretch;justify-content: center;background-color: white;position: relative;}#sk-container-id-10 div.sk-item::before, #sk-container-id-10 div.sk-parallel-item::before {content: \"\";position: absolute;border-left: 1px solid gray;box-sizing: border-box;top: 0;bottom: 0;left: 50%;z-index: -1;}#sk-container-id-10 div.sk-parallel-item {display: flex;flex-direction: column;z-index: 1;position: relative;background-color: white;}#sk-container-id-10 div.sk-parallel-item:first-child::after {align-self: flex-end;width: 50%;}#sk-container-id-10 div.sk-parallel-item:last-child::after {align-self: flex-start;width: 50%;}#sk-container-id-10 div.sk-parallel-item:only-child::after {width: 0;}#sk-container-id-10 div.sk-dashed-wrapped {border: 1px dashed gray;margin: 0 0.4em 0.5em 0.4em;box-sizing: border-box;padding-bottom: 0.4em;background-color: white;}#sk-container-id-10 div.sk-label label {font-family: monospace;font-weight: bold;display: inline-block;line-height: 1.2em;}#sk-container-id-10 div.sk-label-container {text-align: center;}#sk-container-id-10 div.sk-container {/* jupyter's `normalize.less` sets `[hidden] { display: none; }` but bootstrap.min.css set `[hidden] { display: none !important; }` so we also need the `!important` here to be able to override the default hidden behavior on the sphinx rendered scikit-learn.org. See: https://github.com/scikit-learn/scikit-learn/issues/21755 */display: inline-block !important;position: relative;}#sk-container-id-10 div.sk-text-repr-fallback {display: none;}</style><div id=\"sk-container-id-10\" class=\"sk-top-container\"><div class=\"sk-text-repr-fallback\"><pre>Pipeline(steps=[(&#x27;smote&#x27;, SMOTE(sampling_strategy=&#x27;minority&#x27;)),\n",
       "                (&#x27;randomundersampler&#x27;,\n",
       "                 RandomUnderSampler(sampling_strategy=&#x27;majority&#x27;)),\n",
       "                (&#x27;randomforestclassifier&#x27;,\n",
       "                 RandomForestClassifier(random_state=13))])</pre><b>In a Jupyter environment, please rerun this cell to show the HTML representation or trust the notebook. <br />On GitHub, the HTML representation is unable to render, please try loading this page with nbviewer.org.</b></div><div class=\"sk-container\" hidden><div class=\"sk-item sk-dashed-wrapped\"><div class=\"sk-label-container\"><div class=\"sk-label sk-toggleable\"><input class=\"sk-toggleable__control sk-hidden--visually\" id=\"sk-estimator-id-40\" type=\"checkbox\" ><label for=\"sk-estimator-id-40\" class=\"sk-toggleable__label sk-toggleable__label-arrow\">Pipeline</label><div class=\"sk-toggleable__content\"><pre>Pipeline(steps=[(&#x27;smote&#x27;, SMOTE(sampling_strategy=&#x27;minority&#x27;)),\n",
       "                (&#x27;randomundersampler&#x27;,\n",
       "                 RandomUnderSampler(sampling_strategy=&#x27;majority&#x27;)),\n",
       "                (&#x27;randomforestclassifier&#x27;,\n",
       "                 RandomForestClassifier(random_state=13))])</pre></div></div></div><div class=\"sk-serial\"><div class=\"sk-item\"><div class=\"sk-estimator sk-toggleable\"><input class=\"sk-toggleable__control sk-hidden--visually\" id=\"sk-estimator-id-41\" type=\"checkbox\" ><label for=\"sk-estimator-id-41\" class=\"sk-toggleable__label sk-toggleable__label-arrow\">SMOTE</label><div class=\"sk-toggleable__content\"><pre>SMOTE(sampling_strategy=&#x27;minority&#x27;)</pre></div></div></div><div class=\"sk-item\"><div class=\"sk-estimator sk-toggleable\"><input class=\"sk-toggleable__control sk-hidden--visually\" id=\"sk-estimator-id-42\" type=\"checkbox\" ><label for=\"sk-estimator-id-42\" class=\"sk-toggleable__label sk-toggleable__label-arrow\">RandomUnderSampler</label><div class=\"sk-toggleable__content\"><pre>RandomUnderSampler(sampling_strategy=&#x27;majority&#x27;)</pre></div></div></div><div class=\"sk-item\"><div class=\"sk-estimator sk-toggleable\"><input class=\"sk-toggleable__control sk-hidden--visually\" id=\"sk-estimator-id-43\" type=\"checkbox\" ><label for=\"sk-estimator-id-43\" class=\"sk-toggleable__label sk-toggleable__label-arrow\">RandomForestClassifier</label><div class=\"sk-toggleable__content\"><pre>RandomForestClassifier(random_state=13)</pre></div></div></div></div></div></div></div>"
      ],
      "text/plain": [
       "Pipeline(steps=[('smote', SMOTE(sampling_strategy='minority')),\n",
       "                ('randomundersampler',\n",
       "                 RandomUnderSampler(sampling_strategy='majority')),\n",
       "                ('randomforestclassifier',\n",
       "                 RandomForestClassifier(random_state=13))])"
      ]
     },
     "execution_count": 50,
     "metadata": {},
     "output_type": "execute_result"
    }
   ],
   "source": [
    "SMOTERUS_pipeline_rf = make_pipeline(SMOTE(sampling_strategy='minority'), \n",
    "                                      RandomUnderSampler(sampling_strategy='majority'),\n",
    "                                      RandomForestClassifier(n_estimators=100, random_state=13))\n",
    "\n",
    "SMOTERUS_rf = SMOTERUS_pipeline_rf\n",
    "SMOTERUS_rf.fit(new_X_train, new_y_train)"
   ]
  },
  {
   "cell_type": "code",
   "execution_count": 51,
   "id": "8a6450ba",
   "metadata": {
    "execution": {
     "iopub.execute_input": "2024-03-04T02:55:31.527774Z",
     "iopub.status.busy": "2024-03-04T02:55:31.527276Z",
     "iopub.status.idle": "2024-03-04T02:55:31.586619Z",
     "shell.execute_reply": "2024-03-04T02:55:31.585387Z"
    },
    "papermill": {
     "duration": 0.106625,
     "end_time": "2024-03-04T02:55:31.589374",
     "exception": false,
     "start_time": "2024-03-04T02:55:31.482749",
     "status": "completed"
    },
    "tags": []
   },
   "outputs": [
    {
     "data": {
      "text/plain": [
       "array([[1595,   64],\n",
       "       [  81,  260]])"
      ]
     },
     "execution_count": 51,
     "metadata": {},
     "output_type": "execute_result"
    }
   ],
   "source": [
    "y_pred_rf_2 = SMOTERUS_rf.predict(new_X_test)\n",
    "\n",
    "# Calculate confusion matrix\n",
    "cm_rf_2 = confusion_matrix(new_y_test, y_pred_rf)\n",
    "\n",
    "\n",
    "cm_rf_2"
   ]
  },
  {
   "cell_type": "code",
   "execution_count": 52,
   "id": "3b00d2e0",
   "metadata": {
    "execution": {
     "iopub.execute_input": "2024-03-04T02:55:31.678272Z",
     "iopub.status.busy": "2024-03-04T02:55:31.677818Z",
     "iopub.status.idle": "2024-03-04T02:55:31.697371Z",
     "shell.execute_reply": "2024-03-04T02:55:31.696019Z"
    },
    "papermill": {
     "duration": 0.067294,
     "end_time": "2024-03-04T02:55:31.700048",
     "exception": false,
     "start_time": "2024-03-04T02:55:31.632754",
     "status": "completed"
    },
    "tags": []
   },
   "outputs": [
    {
     "name": "stdout",
     "output_type": "stream",
     "text": [
      "              precision    recall  f1-score   support\n",
      "\n",
      "           0       0.95      0.96      0.96      1659\n",
      "           1       0.80      0.77      0.79       341\n",
      "\n",
      "    accuracy                           0.93      2000\n",
      "   macro avg       0.88      0.87      0.87      2000\n",
      "weighted avg       0.93      0.93      0.93      2000\n",
      "\n"
     ]
    }
   ],
   "source": [
    "print(classification_report(new_y_test, y_pred_rf_2))"
   ]
  },
  {
   "cell_type": "code",
   "execution_count": 53,
   "id": "008fb9d8",
   "metadata": {
    "execution": {
     "iopub.execute_input": "2024-03-04T02:55:31.790885Z",
     "iopub.status.busy": "2024-03-04T02:55:31.789531Z",
     "iopub.status.idle": "2024-03-04T02:55:31.949858Z",
     "shell.execute_reply": "2024-03-04T02:55:31.948012Z"
    },
    "papermill": {
     "duration": 0.207688,
     "end_time": "2024-03-04T02:55:31.952858",
     "exception": false,
     "start_time": "2024-03-04T02:55:31.745170",
     "status": "completed"
    },
    "tags": []
   },
   "outputs": [
    {
     "name": "stdout",
     "output_type": "stream",
     "text": [
      "ROC-AUC for SMOTETomek RF: 0.8619429434047646\n",
      "ROC-AUC for SMOTEENN RF: 0.8637035347937757\n",
      "ROC-AUC for SMOTERUS RF: 0.8675066596667249\n",
      "ROC-AUC no_sampling for RF: 0.8353131148149523\n"
     ]
    }
   ],
   "source": [
    "y_pred_tomek = SMOTETomek_rf.predict(new_X_test)\n",
    "y_pred_enn = SMOTEENN_rf.predict(new_X_test)\n",
    "y_pred_rus = SMOTERUS_rf.predict(new_X_test)\n",
    "\n",
    "# Calculate ROC-AUC for each model\n",
    "roc_auc_tomek = roc_auc_score(new_y_test, y_pred_tomek)\n",
    "roc_auc_enn = roc_auc_score(new_y_test, y_pred_enn)\n",
    "roc_auc_rus = roc_auc_score(new_y_test, y_pred_rus)\n",
    "roc_nosamp3 = roc_auc_score(new_y_test, y_nosamp3)\n",
    "\n",
    "print(\"ROC-AUC for SMOTETomek RF:\", roc_auc_tomek)\n",
    "print(\"ROC-AUC for SMOTEENN RF:\", roc_auc_enn)\n",
    "print(\"ROC-AUC for SMOTERUS RF:\", roc_auc_rus)\n",
    "print(\"ROC-AUC no_sampling for RF:\", roc_nosamp3)"
   ]
  },
  {
   "cell_type": "markdown",
   "id": "5c05b80c",
   "metadata": {
    "papermill": {
     "duration": 0.042802,
     "end_time": "2024-03-04T02:55:32.038975",
     "exception": false,
     "start_time": "2024-03-04T02:55:31.996173",
     "status": "completed"
    },
    "tags": []
   },
   "source": [
    "## Decision Tree"
   ]
  },
  {
   "cell_type": "code",
   "execution_count": 54,
   "id": "3377c131",
   "metadata": {
    "execution": {
     "iopub.execute_input": "2024-03-04T02:55:32.128763Z",
     "iopub.status.busy": "2024-03-04T02:55:32.127940Z",
     "iopub.status.idle": "2024-03-04T02:55:32.132884Z",
     "shell.execute_reply": "2024-03-04T02:55:32.131947Z"
    },
    "papermill": {
     "duration": 0.052942,
     "end_time": "2024-03-04T02:55:32.135280",
     "exception": false,
     "start_time": "2024-03-04T02:55:32.082338",
     "status": "completed"
    },
    "tags": []
   },
   "outputs": [],
   "source": [
    "from sklearn.tree import DecisionTreeClassifier"
   ]
  },
  {
   "cell_type": "code",
   "execution_count": 55,
   "id": "1608ed61",
   "metadata": {
    "execution": {
     "iopub.execute_input": "2024-03-04T02:55:32.224787Z",
     "iopub.status.busy": "2024-03-04T02:55:32.223745Z",
     "iopub.status.idle": "2024-03-04T02:55:32.346020Z",
     "shell.execute_reply": "2024-03-04T02:55:32.344651Z"
    },
    "papermill": {
     "duration": 0.170675,
     "end_time": "2024-03-04T02:55:32.349301",
     "exception": false,
     "start_time": "2024-03-04T02:55:32.178626",
     "status": "completed"
    },
    "tags": []
   },
   "outputs": [
    {
     "name": "stdout",
     "output_type": "stream",
     "text": [
      "              precision    recall  f1-score   support\n",
      "\n",
      "           0       0.94      0.91      0.92      1659\n",
      "           1       0.62      0.69      0.66       341\n",
      "\n",
      "    accuracy                           0.88      2000\n",
      "   macro avg       0.78      0.80      0.79      2000\n",
      "weighted avg       0.88      0.88      0.88      2000\n",
      "\n"
     ]
    }
   ],
   "source": [
    "dt = DecisionTreeClassifier()\n",
    "dt.fit(new_X_train, new_y_train)\n",
    "\n",
    "y_nosamp4 = dt.predict(new_X_test)\n",
    "print(classification_report(new_y_test, y_nosamp4))"
   ]
  },
  {
   "cell_type": "code",
   "execution_count": 56,
   "id": "24f00748",
   "metadata": {
    "execution": {
     "iopub.execute_input": "2024-03-04T02:55:32.438383Z",
     "iopub.status.busy": "2024-03-04T02:55:32.437919Z",
     "iopub.status.idle": "2024-03-04T02:55:33.101834Z",
     "shell.execute_reply": "2024-03-04T02:55:33.100359Z"
    },
    "papermill": {
     "duration": 0.71207,
     "end_time": "2024-03-04T02:55:33.104697",
     "exception": false,
     "start_time": "2024-03-04T02:55:32.392627",
     "status": "completed"
    },
    "tags": []
   },
   "outputs": [
    {
     "data": {
      "text/html": [
       "<style>#sk-container-id-11 {color: black;background-color: white;}#sk-container-id-11 pre{padding: 0;}#sk-container-id-11 div.sk-toggleable {background-color: white;}#sk-container-id-11 label.sk-toggleable__label {cursor: pointer;display: block;width: 100%;margin-bottom: 0;padding: 0.3em;box-sizing: border-box;text-align: center;}#sk-container-id-11 label.sk-toggleable__label-arrow:before {content: \"▸\";float: left;margin-right: 0.25em;color: #696969;}#sk-container-id-11 label.sk-toggleable__label-arrow:hover:before {color: black;}#sk-container-id-11 div.sk-estimator:hover label.sk-toggleable__label-arrow:before {color: black;}#sk-container-id-11 div.sk-toggleable__content {max-height: 0;max-width: 0;overflow: hidden;text-align: left;background-color: #f0f8ff;}#sk-container-id-11 div.sk-toggleable__content pre {margin: 0.2em;color: black;border-radius: 0.25em;background-color: #f0f8ff;}#sk-container-id-11 input.sk-toggleable__control:checked~div.sk-toggleable__content {max-height: 200px;max-width: 100%;overflow: auto;}#sk-container-id-11 input.sk-toggleable__control:checked~label.sk-toggleable__label-arrow:before {content: \"▾\";}#sk-container-id-11 div.sk-estimator input.sk-toggleable__control:checked~label.sk-toggleable__label {background-color: #d4ebff;}#sk-container-id-11 div.sk-label input.sk-toggleable__control:checked~label.sk-toggleable__label {background-color: #d4ebff;}#sk-container-id-11 input.sk-hidden--visually {border: 0;clip: rect(1px 1px 1px 1px);clip: rect(1px, 1px, 1px, 1px);height: 1px;margin: -1px;overflow: hidden;padding: 0;position: absolute;width: 1px;}#sk-container-id-11 div.sk-estimator {font-family: monospace;background-color: #f0f8ff;border: 1px dotted black;border-radius: 0.25em;box-sizing: border-box;margin-bottom: 0.5em;}#sk-container-id-11 div.sk-estimator:hover {background-color: #d4ebff;}#sk-container-id-11 div.sk-parallel-item::after {content: \"\";width: 100%;border-bottom: 1px solid gray;flex-grow: 1;}#sk-container-id-11 div.sk-label:hover label.sk-toggleable__label {background-color: #d4ebff;}#sk-container-id-11 div.sk-serial::before {content: \"\";position: absolute;border-left: 1px solid gray;box-sizing: border-box;top: 0;bottom: 0;left: 50%;z-index: 0;}#sk-container-id-11 div.sk-serial {display: flex;flex-direction: column;align-items: center;background-color: white;padding-right: 0.2em;padding-left: 0.2em;position: relative;}#sk-container-id-11 div.sk-item {position: relative;z-index: 1;}#sk-container-id-11 div.sk-parallel {display: flex;align-items: stretch;justify-content: center;background-color: white;position: relative;}#sk-container-id-11 div.sk-item::before, #sk-container-id-11 div.sk-parallel-item::before {content: \"\";position: absolute;border-left: 1px solid gray;box-sizing: border-box;top: 0;bottom: 0;left: 50%;z-index: -1;}#sk-container-id-11 div.sk-parallel-item {display: flex;flex-direction: column;z-index: 1;position: relative;background-color: white;}#sk-container-id-11 div.sk-parallel-item:first-child::after {align-self: flex-end;width: 50%;}#sk-container-id-11 div.sk-parallel-item:last-child::after {align-self: flex-start;width: 50%;}#sk-container-id-11 div.sk-parallel-item:only-child::after {width: 0;}#sk-container-id-11 div.sk-dashed-wrapped {border: 1px dashed gray;margin: 0 0.4em 0.5em 0.4em;box-sizing: border-box;padding-bottom: 0.4em;background-color: white;}#sk-container-id-11 div.sk-label label {font-family: monospace;font-weight: bold;display: inline-block;line-height: 1.2em;}#sk-container-id-11 div.sk-label-container {text-align: center;}#sk-container-id-11 div.sk-container {/* jupyter's `normalize.less` sets `[hidden] { display: none; }` but bootstrap.min.css set `[hidden] { display: none !important; }` so we also need the `!important` here to be able to override the default hidden behavior on the sphinx rendered scikit-learn.org. See: https://github.com/scikit-learn/scikit-learn/issues/21755 */display: inline-block !important;position: relative;}#sk-container-id-11 div.sk-text-repr-fallback {display: none;}</style><div id=\"sk-container-id-11\" class=\"sk-top-container\"><div class=\"sk-text-repr-fallback\"><pre>Pipeline(steps=[(&#x27;smotetomek&#x27;,\n",
       "                 SMOTETomek(tomek=TomekLinks(sampling_strategy=&#x27;majority&#x27;))),\n",
       "                (&#x27;decisiontreeclassifier&#x27;,\n",
       "                 DecisionTreeClassifier(random_state=13))])</pre><b>In a Jupyter environment, please rerun this cell to show the HTML representation or trust the notebook. <br />On GitHub, the HTML representation is unable to render, please try loading this page with nbviewer.org.</b></div><div class=\"sk-container\" hidden><div class=\"sk-item sk-dashed-wrapped\"><div class=\"sk-label-container\"><div class=\"sk-label sk-toggleable\"><input class=\"sk-toggleable__control sk-hidden--visually\" id=\"sk-estimator-id-44\" type=\"checkbox\" ><label for=\"sk-estimator-id-44\" class=\"sk-toggleable__label sk-toggleable__label-arrow\">Pipeline</label><div class=\"sk-toggleable__content\"><pre>Pipeline(steps=[(&#x27;smotetomek&#x27;,\n",
       "                 SMOTETomek(tomek=TomekLinks(sampling_strategy=&#x27;majority&#x27;))),\n",
       "                (&#x27;decisiontreeclassifier&#x27;,\n",
       "                 DecisionTreeClassifier(random_state=13))])</pre></div></div></div><div class=\"sk-serial\"><div class=\"sk-item sk-dashed-wrapped\"><div class=\"sk-label-container\"><div class=\"sk-label sk-toggleable\"><input class=\"sk-toggleable__control sk-hidden--visually\" id=\"sk-estimator-id-45\" type=\"checkbox\" ><label for=\"sk-estimator-id-45\" class=\"sk-toggleable__label sk-toggleable__label-arrow\">smotetomek: SMOTETomek</label><div class=\"sk-toggleable__content\"><pre>SMOTETomek(tomek=TomekLinks(sampling_strategy=&#x27;majority&#x27;))</pre></div></div></div><div class=\"sk-parallel\"><div class=\"sk-parallel-item\"><div class=\"sk-item\"><div class=\"sk-label-container\"><div class=\"sk-label sk-toggleable\"><input class=\"sk-toggleable__control sk-hidden--visually\" id=\"sk-estimator-id-46\" type=\"checkbox\" ><label for=\"sk-estimator-id-46\" class=\"sk-toggleable__label sk-toggleable__label-arrow\">tomek: TomekLinks</label><div class=\"sk-toggleable__content\"><pre>TomekLinks(sampling_strategy=&#x27;majority&#x27;)</pre></div></div></div><div class=\"sk-serial\"><div class=\"sk-item\"><div class=\"sk-estimator sk-toggleable\"><input class=\"sk-toggleable__control sk-hidden--visually\" id=\"sk-estimator-id-47\" type=\"checkbox\" ><label for=\"sk-estimator-id-47\" class=\"sk-toggleable__label sk-toggleable__label-arrow\">TomekLinks</label><div class=\"sk-toggleable__content\"><pre>TomekLinks(sampling_strategy=&#x27;majority&#x27;)</pre></div></div></div></div></div></div></div></div><div class=\"sk-item\"><div class=\"sk-estimator sk-toggleable\"><input class=\"sk-toggleable__control sk-hidden--visually\" id=\"sk-estimator-id-48\" type=\"checkbox\" ><label for=\"sk-estimator-id-48\" class=\"sk-toggleable__label sk-toggleable__label-arrow\">DecisionTreeClassifier</label><div class=\"sk-toggleable__content\"><pre>DecisionTreeClassifier(random_state=13)</pre></div></div></div></div></div></div></div>"
      ],
      "text/plain": [
       "Pipeline(steps=[('smotetomek',\n",
       "                 SMOTETomek(tomek=TomekLinks(sampling_strategy='majority'))),\n",
       "                ('decisiontreeclassifier',\n",
       "                 DecisionTreeClassifier(random_state=13))])"
      ]
     },
     "execution_count": 56,
     "metadata": {},
     "output_type": "execute_result"
    }
   ],
   "source": [
    "\n",
    "\n",
    "# Define the pipeline with DecisionTreeClassifier\n",
    "SMOTETomek_pipeline_dt = make_pipeline(\n",
    "    SMOTETomek(tomek=TomekLinks(sampling_strategy='majority')),\n",
    "    DecisionTreeClassifier(random_state=13)  # You can adjust parameters here\n",
    ")\n",
    "\n",
    "# Fit the pipeline with DecisionTree\n",
    "SMOTETomek_dt = SMOTETomek_pipeline_dt\n",
    "SMOTETomek_dt.fit(new_X_train, new_y_train)"
   ]
  },
  {
   "cell_type": "code",
   "execution_count": 57,
   "id": "b4dcd1eb",
   "metadata": {
    "execution": {
     "iopub.execute_input": "2024-03-04T02:55:33.197454Z",
     "iopub.status.busy": "2024-03-04T02:55:33.196929Z",
     "iopub.status.idle": "2024-03-04T02:55:33.211855Z",
     "shell.execute_reply": "2024-03-04T02:55:33.210595Z"
    },
    "papermill": {
     "duration": 0.063617,
     "end_time": "2024-03-04T02:55:33.214445",
     "exception": false,
     "start_time": "2024-03-04T02:55:33.150828",
     "status": "completed"
    },
    "tags": []
   },
   "outputs": [
    {
     "data": {
      "text/plain": [
       "array([[1510,  149],\n",
       "       [  98,  243]])"
      ]
     },
     "execution_count": 57,
     "metadata": {},
     "output_type": "execute_result"
    }
   ],
   "source": [
    "y_pred_dt = SMOTETomek_dt.predict(new_X_test)\n",
    "\n",
    "# Calculate confusion matrix\n",
    "cm_dt = confusion_matrix(new_y_test, y_pred_dt)\n",
    "\n",
    "cm_dt"
   ]
  },
  {
   "cell_type": "code",
   "execution_count": 58,
   "id": "c621de0e",
   "metadata": {
    "execution": {
     "iopub.execute_input": "2024-03-04T02:55:33.304315Z",
     "iopub.status.busy": "2024-03-04T02:55:33.303851Z",
     "iopub.status.idle": "2024-03-04T02:55:33.322259Z",
     "shell.execute_reply": "2024-03-04T02:55:33.320694Z"
    },
    "papermill": {
     "duration": 0.066996,
     "end_time": "2024-03-04T02:55:33.325234",
     "exception": false,
     "start_time": "2024-03-04T02:55:33.258238",
     "status": "completed"
    },
    "tags": []
   },
   "outputs": [
    {
     "name": "stdout",
     "output_type": "stream",
     "text": [
      "              precision    recall  f1-score   support\n",
      "\n",
      "           0       0.94      0.91      0.92      1659\n",
      "           1       0.62      0.71      0.66       341\n",
      "\n",
      "    accuracy                           0.88      2000\n",
      "   macro avg       0.78      0.81      0.79      2000\n",
      "weighted avg       0.88      0.88      0.88      2000\n",
      "\n"
     ]
    }
   ],
   "source": [
    "print(classification_report(new_y_test, y_pred_dt))"
   ]
  },
  {
   "cell_type": "markdown",
   "id": "5468afc6",
   "metadata": {
    "papermill": {
     "duration": 0.043405,
     "end_time": "2024-03-04T02:55:33.412634",
     "exception": false,
     "start_time": "2024-03-04T02:55:33.369229",
     "status": "completed"
    },
    "tags": []
   },
   "source": [
    "### SMOTEENN"
   ]
  },
  {
   "cell_type": "code",
   "execution_count": 59,
   "id": "ba8640c3",
   "metadata": {
    "execution": {
     "iopub.execute_input": "2024-03-04T02:55:33.503252Z",
     "iopub.status.busy": "2024-03-04T02:55:33.502014Z",
     "iopub.status.idle": "2024-03-04T02:55:33.935498Z",
     "shell.execute_reply": "2024-03-04T02:55:33.934155Z"
    },
    "papermill": {
     "duration": 0.481731,
     "end_time": "2024-03-04T02:55:33.938461",
     "exception": false,
     "start_time": "2024-03-04T02:55:33.456730",
     "status": "completed"
    },
    "tags": []
   },
   "outputs": [
    {
     "data": {
      "text/html": [
       "<style>#sk-container-id-12 {color: black;background-color: white;}#sk-container-id-12 pre{padding: 0;}#sk-container-id-12 div.sk-toggleable {background-color: white;}#sk-container-id-12 label.sk-toggleable__label {cursor: pointer;display: block;width: 100%;margin-bottom: 0;padding: 0.3em;box-sizing: border-box;text-align: center;}#sk-container-id-12 label.sk-toggleable__label-arrow:before {content: \"▸\";float: left;margin-right: 0.25em;color: #696969;}#sk-container-id-12 label.sk-toggleable__label-arrow:hover:before {color: black;}#sk-container-id-12 div.sk-estimator:hover label.sk-toggleable__label-arrow:before {color: black;}#sk-container-id-12 div.sk-toggleable__content {max-height: 0;max-width: 0;overflow: hidden;text-align: left;background-color: #f0f8ff;}#sk-container-id-12 div.sk-toggleable__content pre {margin: 0.2em;color: black;border-radius: 0.25em;background-color: #f0f8ff;}#sk-container-id-12 input.sk-toggleable__control:checked~div.sk-toggleable__content {max-height: 200px;max-width: 100%;overflow: auto;}#sk-container-id-12 input.sk-toggleable__control:checked~label.sk-toggleable__label-arrow:before {content: \"▾\";}#sk-container-id-12 div.sk-estimator input.sk-toggleable__control:checked~label.sk-toggleable__label {background-color: #d4ebff;}#sk-container-id-12 div.sk-label input.sk-toggleable__control:checked~label.sk-toggleable__label {background-color: #d4ebff;}#sk-container-id-12 input.sk-hidden--visually {border: 0;clip: rect(1px 1px 1px 1px);clip: rect(1px, 1px, 1px, 1px);height: 1px;margin: -1px;overflow: hidden;padding: 0;position: absolute;width: 1px;}#sk-container-id-12 div.sk-estimator {font-family: monospace;background-color: #f0f8ff;border: 1px dotted black;border-radius: 0.25em;box-sizing: border-box;margin-bottom: 0.5em;}#sk-container-id-12 div.sk-estimator:hover {background-color: #d4ebff;}#sk-container-id-12 div.sk-parallel-item::after {content: \"\";width: 100%;border-bottom: 1px solid gray;flex-grow: 1;}#sk-container-id-12 div.sk-label:hover label.sk-toggleable__label {background-color: #d4ebff;}#sk-container-id-12 div.sk-serial::before {content: \"\";position: absolute;border-left: 1px solid gray;box-sizing: border-box;top: 0;bottom: 0;left: 50%;z-index: 0;}#sk-container-id-12 div.sk-serial {display: flex;flex-direction: column;align-items: center;background-color: white;padding-right: 0.2em;padding-left: 0.2em;position: relative;}#sk-container-id-12 div.sk-item {position: relative;z-index: 1;}#sk-container-id-12 div.sk-parallel {display: flex;align-items: stretch;justify-content: center;background-color: white;position: relative;}#sk-container-id-12 div.sk-item::before, #sk-container-id-12 div.sk-parallel-item::before {content: \"\";position: absolute;border-left: 1px solid gray;box-sizing: border-box;top: 0;bottom: 0;left: 50%;z-index: -1;}#sk-container-id-12 div.sk-parallel-item {display: flex;flex-direction: column;z-index: 1;position: relative;background-color: white;}#sk-container-id-12 div.sk-parallel-item:first-child::after {align-self: flex-end;width: 50%;}#sk-container-id-12 div.sk-parallel-item:last-child::after {align-self: flex-start;width: 50%;}#sk-container-id-12 div.sk-parallel-item:only-child::after {width: 0;}#sk-container-id-12 div.sk-dashed-wrapped {border: 1px dashed gray;margin: 0 0.4em 0.5em 0.4em;box-sizing: border-box;padding-bottom: 0.4em;background-color: white;}#sk-container-id-12 div.sk-label label {font-family: monospace;font-weight: bold;display: inline-block;line-height: 1.2em;}#sk-container-id-12 div.sk-label-container {text-align: center;}#sk-container-id-12 div.sk-container {/* jupyter's `normalize.less` sets `[hidden] { display: none; }` but bootstrap.min.css set `[hidden] { display: none !important; }` so we also need the `!important` here to be able to override the default hidden behavior on the sphinx rendered scikit-learn.org. See: https://github.com/scikit-learn/scikit-learn/issues/21755 */display: inline-block !important;position: relative;}#sk-container-id-12 div.sk-text-repr-fallback {display: none;}</style><div id=\"sk-container-id-12\" class=\"sk-top-container\"><div class=\"sk-text-repr-fallback\"><pre>Pipeline(steps=[(&#x27;smoteenn&#x27;,\n",
       "                 SMOTEENN(enn=EditedNearestNeighbours(sampling_strategy=&#x27;majority&#x27;))),\n",
       "                (&#x27;decisiontreeclassifier&#x27;,\n",
       "                 DecisionTreeClassifier(random_state=13))])</pre><b>In a Jupyter environment, please rerun this cell to show the HTML representation or trust the notebook. <br />On GitHub, the HTML representation is unable to render, please try loading this page with nbviewer.org.</b></div><div class=\"sk-container\" hidden><div class=\"sk-item sk-dashed-wrapped\"><div class=\"sk-label-container\"><div class=\"sk-label sk-toggleable\"><input class=\"sk-toggleable__control sk-hidden--visually\" id=\"sk-estimator-id-49\" type=\"checkbox\" ><label for=\"sk-estimator-id-49\" class=\"sk-toggleable__label sk-toggleable__label-arrow\">Pipeline</label><div class=\"sk-toggleable__content\"><pre>Pipeline(steps=[(&#x27;smoteenn&#x27;,\n",
       "                 SMOTEENN(enn=EditedNearestNeighbours(sampling_strategy=&#x27;majority&#x27;))),\n",
       "                (&#x27;decisiontreeclassifier&#x27;,\n",
       "                 DecisionTreeClassifier(random_state=13))])</pre></div></div></div><div class=\"sk-serial\"><div class=\"sk-item sk-dashed-wrapped\"><div class=\"sk-label-container\"><div class=\"sk-label sk-toggleable\"><input class=\"sk-toggleable__control sk-hidden--visually\" id=\"sk-estimator-id-50\" type=\"checkbox\" ><label for=\"sk-estimator-id-50\" class=\"sk-toggleable__label sk-toggleable__label-arrow\">smoteenn: SMOTEENN</label><div class=\"sk-toggleable__content\"><pre>SMOTEENN(enn=EditedNearestNeighbours(sampling_strategy=&#x27;majority&#x27;))</pre></div></div></div><div class=\"sk-parallel\"><div class=\"sk-parallel-item\"><div class=\"sk-item\"><div class=\"sk-label-container\"><div class=\"sk-label sk-toggleable\"><input class=\"sk-toggleable__control sk-hidden--visually\" id=\"sk-estimator-id-51\" type=\"checkbox\" ><label for=\"sk-estimator-id-51\" class=\"sk-toggleable__label sk-toggleable__label-arrow\">enn: EditedNearestNeighbours</label><div class=\"sk-toggleable__content\"><pre>EditedNearestNeighbours(sampling_strategy=&#x27;majority&#x27;)</pre></div></div></div><div class=\"sk-serial\"><div class=\"sk-item\"><div class=\"sk-estimator sk-toggleable\"><input class=\"sk-toggleable__control sk-hidden--visually\" id=\"sk-estimator-id-52\" type=\"checkbox\" ><label for=\"sk-estimator-id-52\" class=\"sk-toggleable__label sk-toggleable__label-arrow\">EditedNearestNeighbours</label><div class=\"sk-toggleable__content\"><pre>EditedNearestNeighbours(sampling_strategy=&#x27;majority&#x27;)</pre></div></div></div></div></div></div></div></div><div class=\"sk-item\"><div class=\"sk-estimator sk-toggleable\"><input class=\"sk-toggleable__control sk-hidden--visually\" id=\"sk-estimator-id-53\" type=\"checkbox\" ><label for=\"sk-estimator-id-53\" class=\"sk-toggleable__label sk-toggleable__label-arrow\">DecisionTreeClassifier</label><div class=\"sk-toggleable__content\"><pre>DecisionTreeClassifier(random_state=13)</pre></div></div></div></div></div></div></div>"
      ],
      "text/plain": [
       "Pipeline(steps=[('smoteenn',\n",
       "                 SMOTEENN(enn=EditedNearestNeighbours(sampling_strategy='majority'))),\n",
       "                ('decisiontreeclassifier',\n",
       "                 DecisionTreeClassifier(random_state=13))])"
      ]
     },
     "execution_count": 59,
     "metadata": {},
     "output_type": "execute_result"
    }
   ],
   "source": [
    "SMOTEENN_pipeline_dt = make_pipeline(SMOTEENN(enn=EditedNearestNeighbours(sampling_strategy='majority')),\n",
    "                                     DecisionTreeClassifier(random_state=13))  # You can adjust the number of neighbors as needed\n",
    "\n",
    "# Fit the pipeline with KNN\n",
    "SMOTEENN_dt = SMOTEENN_pipeline_dt\n",
    "SMOTEENN_dt.fit(new_X_train, new_y_train)"
   ]
  },
  {
   "cell_type": "code",
   "execution_count": 60,
   "id": "f3b75d51",
   "metadata": {
    "execution": {
     "iopub.execute_input": "2024-03-04T02:55:34.032893Z",
     "iopub.status.busy": "2024-03-04T02:55:34.032357Z",
     "iopub.status.idle": "2024-03-04T02:55:34.047727Z",
     "shell.execute_reply": "2024-03-04T02:55:34.046211Z"
    },
    "papermill": {
     "duration": 0.066013,
     "end_time": "2024-03-04T02:55:34.050686",
     "exception": false,
     "start_time": "2024-03-04T02:55:33.984673",
     "status": "completed"
    },
    "tags": []
   },
   "outputs": [
    {
     "data": {
      "text/plain": [
       "array([[1432,  227],\n",
       "       [  75,  266]])"
      ]
     },
     "execution_count": 60,
     "metadata": {},
     "output_type": "execute_result"
    }
   ],
   "source": [
    "y_pred_dt1 = SMOTEENN_dt.predict(new_X_test)\n",
    "\n",
    "# Calculate confusion matrix\n",
    "cm_dt1 = confusion_matrix(new_y_test, y_pred_dt1)\n",
    "\n",
    "cm_dt1"
   ]
  },
  {
   "cell_type": "code",
   "execution_count": 61,
   "id": "67516ba0",
   "metadata": {
    "execution": {
     "iopub.execute_input": "2024-03-04T02:55:34.143425Z",
     "iopub.status.busy": "2024-03-04T02:55:34.142905Z",
     "iopub.status.idle": "2024-03-04T02:55:34.161507Z",
     "shell.execute_reply": "2024-03-04T02:55:34.160595Z"
    },
    "papermill": {
     "duration": 0.069303,
     "end_time": "2024-03-04T02:55:34.164491",
     "exception": false,
     "start_time": "2024-03-04T02:55:34.095188",
     "status": "completed"
    },
    "tags": []
   },
   "outputs": [
    {
     "name": "stdout",
     "output_type": "stream",
     "text": [
      "              precision    recall  f1-score   support\n",
      "\n",
      "           0       0.95      0.86      0.90      1659\n",
      "           1       0.54      0.78      0.64       341\n",
      "\n",
      "    accuracy                           0.85      2000\n",
      "   macro avg       0.74      0.82      0.77      2000\n",
      "weighted avg       0.88      0.85      0.86      2000\n",
      "\n"
     ]
    }
   ],
   "source": [
    "print(classification_report(new_y_test, y_pred_dt1))"
   ]
  },
  {
   "cell_type": "markdown",
   "id": "b8167616",
   "metadata": {
    "papermill": {
     "duration": 0.044039,
     "end_time": "2024-03-04T02:55:34.253313",
     "exception": false,
     "start_time": "2024-03-04T02:55:34.209274",
     "status": "completed"
    },
    "tags": []
   },
   "source": [
    "### SMOTE-RUS"
   ]
  },
  {
   "cell_type": "code",
   "execution_count": 62,
   "id": "36b2975d",
   "metadata": {
    "execution": {
     "iopub.execute_input": "2024-03-04T02:55:34.344664Z",
     "iopub.status.busy": "2024-03-04T02:55:34.344185Z",
     "iopub.status.idle": "2024-03-04T02:55:34.594575Z",
     "shell.execute_reply": "2024-03-04T02:55:34.593326Z"
    },
    "papermill": {
     "duration": 0.299547,
     "end_time": "2024-03-04T02:55:34.597438",
     "exception": false,
     "start_time": "2024-03-04T02:55:34.297891",
     "status": "completed"
    },
    "tags": []
   },
   "outputs": [
    {
     "data": {
      "text/html": [
       "<style>#sk-container-id-13 {color: black;background-color: white;}#sk-container-id-13 pre{padding: 0;}#sk-container-id-13 div.sk-toggleable {background-color: white;}#sk-container-id-13 label.sk-toggleable__label {cursor: pointer;display: block;width: 100%;margin-bottom: 0;padding: 0.3em;box-sizing: border-box;text-align: center;}#sk-container-id-13 label.sk-toggleable__label-arrow:before {content: \"▸\";float: left;margin-right: 0.25em;color: #696969;}#sk-container-id-13 label.sk-toggleable__label-arrow:hover:before {color: black;}#sk-container-id-13 div.sk-estimator:hover label.sk-toggleable__label-arrow:before {color: black;}#sk-container-id-13 div.sk-toggleable__content {max-height: 0;max-width: 0;overflow: hidden;text-align: left;background-color: #f0f8ff;}#sk-container-id-13 div.sk-toggleable__content pre {margin: 0.2em;color: black;border-radius: 0.25em;background-color: #f0f8ff;}#sk-container-id-13 input.sk-toggleable__control:checked~div.sk-toggleable__content {max-height: 200px;max-width: 100%;overflow: auto;}#sk-container-id-13 input.sk-toggleable__control:checked~label.sk-toggleable__label-arrow:before {content: \"▾\";}#sk-container-id-13 div.sk-estimator input.sk-toggleable__control:checked~label.sk-toggleable__label {background-color: #d4ebff;}#sk-container-id-13 div.sk-label input.sk-toggleable__control:checked~label.sk-toggleable__label {background-color: #d4ebff;}#sk-container-id-13 input.sk-hidden--visually {border: 0;clip: rect(1px 1px 1px 1px);clip: rect(1px, 1px, 1px, 1px);height: 1px;margin: -1px;overflow: hidden;padding: 0;position: absolute;width: 1px;}#sk-container-id-13 div.sk-estimator {font-family: monospace;background-color: #f0f8ff;border: 1px dotted black;border-radius: 0.25em;box-sizing: border-box;margin-bottom: 0.5em;}#sk-container-id-13 div.sk-estimator:hover {background-color: #d4ebff;}#sk-container-id-13 div.sk-parallel-item::after {content: \"\";width: 100%;border-bottom: 1px solid gray;flex-grow: 1;}#sk-container-id-13 div.sk-label:hover label.sk-toggleable__label {background-color: #d4ebff;}#sk-container-id-13 div.sk-serial::before {content: \"\";position: absolute;border-left: 1px solid gray;box-sizing: border-box;top: 0;bottom: 0;left: 50%;z-index: 0;}#sk-container-id-13 div.sk-serial {display: flex;flex-direction: column;align-items: center;background-color: white;padding-right: 0.2em;padding-left: 0.2em;position: relative;}#sk-container-id-13 div.sk-item {position: relative;z-index: 1;}#sk-container-id-13 div.sk-parallel {display: flex;align-items: stretch;justify-content: center;background-color: white;position: relative;}#sk-container-id-13 div.sk-item::before, #sk-container-id-13 div.sk-parallel-item::before {content: \"\";position: absolute;border-left: 1px solid gray;box-sizing: border-box;top: 0;bottom: 0;left: 50%;z-index: -1;}#sk-container-id-13 div.sk-parallel-item {display: flex;flex-direction: column;z-index: 1;position: relative;background-color: white;}#sk-container-id-13 div.sk-parallel-item:first-child::after {align-self: flex-end;width: 50%;}#sk-container-id-13 div.sk-parallel-item:last-child::after {align-self: flex-start;width: 50%;}#sk-container-id-13 div.sk-parallel-item:only-child::after {width: 0;}#sk-container-id-13 div.sk-dashed-wrapped {border: 1px dashed gray;margin: 0 0.4em 0.5em 0.4em;box-sizing: border-box;padding-bottom: 0.4em;background-color: white;}#sk-container-id-13 div.sk-label label {font-family: monospace;font-weight: bold;display: inline-block;line-height: 1.2em;}#sk-container-id-13 div.sk-label-container {text-align: center;}#sk-container-id-13 div.sk-container {/* jupyter's `normalize.less` sets `[hidden] { display: none; }` but bootstrap.min.css set `[hidden] { display: none !important; }` so we also need the `!important` here to be able to override the default hidden behavior on the sphinx rendered scikit-learn.org. See: https://github.com/scikit-learn/scikit-learn/issues/21755 */display: inline-block !important;position: relative;}#sk-container-id-13 div.sk-text-repr-fallback {display: none;}</style><div id=\"sk-container-id-13\" class=\"sk-top-container\"><div class=\"sk-text-repr-fallback\"><pre>Pipeline(steps=[(&#x27;smote&#x27;, SMOTE(sampling_strategy=&#x27;minority&#x27;)),\n",
       "                (&#x27;randomundersampler&#x27;,\n",
       "                 RandomUnderSampler(sampling_strategy=&#x27;majority&#x27;)),\n",
       "                (&#x27;decisiontreeclassifier&#x27;,\n",
       "                 DecisionTreeClassifier(random_state=13))])</pre><b>In a Jupyter environment, please rerun this cell to show the HTML representation or trust the notebook. <br />On GitHub, the HTML representation is unable to render, please try loading this page with nbviewer.org.</b></div><div class=\"sk-container\" hidden><div class=\"sk-item sk-dashed-wrapped\"><div class=\"sk-label-container\"><div class=\"sk-label sk-toggleable\"><input class=\"sk-toggleable__control sk-hidden--visually\" id=\"sk-estimator-id-54\" type=\"checkbox\" ><label for=\"sk-estimator-id-54\" class=\"sk-toggleable__label sk-toggleable__label-arrow\">Pipeline</label><div class=\"sk-toggleable__content\"><pre>Pipeline(steps=[(&#x27;smote&#x27;, SMOTE(sampling_strategy=&#x27;minority&#x27;)),\n",
       "                (&#x27;randomundersampler&#x27;,\n",
       "                 RandomUnderSampler(sampling_strategy=&#x27;majority&#x27;)),\n",
       "                (&#x27;decisiontreeclassifier&#x27;,\n",
       "                 DecisionTreeClassifier(random_state=13))])</pre></div></div></div><div class=\"sk-serial\"><div class=\"sk-item\"><div class=\"sk-estimator sk-toggleable\"><input class=\"sk-toggleable__control sk-hidden--visually\" id=\"sk-estimator-id-55\" type=\"checkbox\" ><label for=\"sk-estimator-id-55\" class=\"sk-toggleable__label sk-toggleable__label-arrow\">SMOTE</label><div class=\"sk-toggleable__content\"><pre>SMOTE(sampling_strategy=&#x27;minority&#x27;)</pre></div></div></div><div class=\"sk-item\"><div class=\"sk-estimator sk-toggleable\"><input class=\"sk-toggleable__control sk-hidden--visually\" id=\"sk-estimator-id-56\" type=\"checkbox\" ><label for=\"sk-estimator-id-56\" class=\"sk-toggleable__label sk-toggleable__label-arrow\">RandomUnderSampler</label><div class=\"sk-toggleable__content\"><pre>RandomUnderSampler(sampling_strategy=&#x27;majority&#x27;)</pre></div></div></div><div class=\"sk-item\"><div class=\"sk-estimator sk-toggleable\"><input class=\"sk-toggleable__control sk-hidden--visually\" id=\"sk-estimator-id-57\" type=\"checkbox\" ><label for=\"sk-estimator-id-57\" class=\"sk-toggleable__label sk-toggleable__label-arrow\">DecisionTreeClassifier</label><div class=\"sk-toggleable__content\"><pre>DecisionTreeClassifier(random_state=13)</pre></div></div></div></div></div></div></div>"
      ],
      "text/plain": [
       "Pipeline(steps=[('smote', SMOTE(sampling_strategy='minority')),\n",
       "                ('randomundersampler',\n",
       "                 RandomUnderSampler(sampling_strategy='majority')),\n",
       "                ('decisiontreeclassifier',\n",
       "                 DecisionTreeClassifier(random_state=13))])"
      ]
     },
     "execution_count": 62,
     "metadata": {},
     "output_type": "execute_result"
    }
   ],
   "source": [
    "SMOTERUS_pipeline_dt = make_pipeline(SMOTE(sampling_strategy='minority'), \n",
    "                                      RandomUnderSampler(sampling_strategy='majority'),\n",
    "                                      DecisionTreeClassifier(random_state=13))\n",
    "\n",
    "SMOTERUS_dt = SMOTERUS_pipeline_dt\n",
    "SMOTERUS_dt.fit(new_X_train, new_y_train)"
   ]
  },
  {
   "cell_type": "code",
   "execution_count": 63,
   "id": "23b0bd53",
   "metadata": {
    "execution": {
     "iopub.execute_input": "2024-03-04T02:55:34.689585Z",
     "iopub.status.busy": "2024-03-04T02:55:34.688446Z",
     "iopub.status.idle": "2024-03-04T02:55:34.702850Z",
     "shell.execute_reply": "2024-03-04T02:55:34.701602Z"
    },
    "papermill": {
     "duration": 0.063544,
     "end_time": "2024-03-04T02:55:34.705500",
     "exception": false,
     "start_time": "2024-03-04T02:55:34.641956",
     "status": "completed"
    },
    "tags": []
   },
   "outputs": [
    {
     "data": {
      "text/plain": [
       "array([[1500,  159],\n",
       "       [  90,  251]])"
      ]
     },
     "execution_count": 63,
     "metadata": {},
     "output_type": "execute_result"
    }
   ],
   "source": [
    "y_pred_dt2 = SMOTERUS_dt.predict(new_X_test)\n",
    "\n",
    "# Calculate confusion matrix\n",
    "cm_dt2 = confusion_matrix(new_y_test, y_pred_dt2)\n",
    "\n",
    "cm_dt2"
   ]
  },
  {
   "cell_type": "code",
   "execution_count": 64,
   "id": "f9101255",
   "metadata": {
    "execution": {
     "iopub.execute_input": "2024-03-04T02:55:34.799447Z",
     "iopub.status.busy": "2024-03-04T02:55:34.798994Z",
     "iopub.status.idle": "2024-03-04T02:55:34.816546Z",
     "shell.execute_reply": "2024-03-04T02:55:34.815607Z"
    },
    "papermill": {
     "duration": 0.067242,
     "end_time": "2024-03-04T02:55:34.819270",
     "exception": false,
     "start_time": "2024-03-04T02:55:34.752028",
     "status": "completed"
    },
    "tags": []
   },
   "outputs": [
    {
     "name": "stdout",
     "output_type": "stream",
     "text": [
      "              precision    recall  f1-score   support\n",
      "\n",
      "           0       0.94      0.90      0.92      1659\n",
      "           1       0.61      0.74      0.67       341\n",
      "\n",
      "    accuracy                           0.88      2000\n",
      "   macro avg       0.78      0.82      0.80      2000\n",
      "weighted avg       0.89      0.88      0.88      2000\n",
      "\n"
     ]
    }
   ],
   "source": [
    "print(classification_report(new_y_test, y_pred_dt2))"
   ]
  },
  {
   "cell_type": "code",
   "execution_count": 65,
   "id": "9ae983c5",
   "metadata": {
    "execution": {
     "iopub.execute_input": "2024-03-04T02:55:34.913999Z",
     "iopub.status.busy": "2024-03-04T02:55:34.913261Z",
     "iopub.status.idle": "2024-03-04T02:55:34.937806Z",
     "shell.execute_reply": "2024-03-04T02:55:34.936581Z"
    },
    "papermill": {
     "duration": 0.07487,
     "end_time": "2024-03-04T02:55:34.940656",
     "exception": false,
     "start_time": "2024-03-04T02:55:34.865786",
     "status": "completed"
    },
    "tags": []
   },
   "outputs": [
    {
     "name": "stdout",
     "output_type": "stream",
     "text": [
      "ROC-AUC for SMOTETomek DT: 0.8113984151142175\n",
      "ROC-AUC for SMOTEENN DT: 0.8216146178579825\n",
      "ROC-AUC for SMOTERUS DT: 0.8201147566194524\n",
      "ROC-AUC no_sampling for DT: 0.8029428037594636\n"
     ]
    }
   ],
   "source": [
    "y_pred_tomek = SMOTETomek_dt.predict(new_X_test)\n",
    "y_pred_enn = SMOTEENN_dt.predict(new_X_test)\n",
    "y_pred_rus = SMOTERUS_dt.predict(new_X_test)\n",
    "\n",
    "# Calculate ROC-AUC for each model\n",
    "roc_auc_tomek = roc_auc_score(new_y_test, y_pred_tomek)\n",
    "roc_auc_enn = roc_auc_score(new_y_test, y_pred_enn)\n",
    "roc_auc_rus = roc_auc_score(new_y_test, y_pred_rus)\n",
    "roc_nosamp4 = roc_auc_score(new_y_test, y_nosamp4)\n",
    "\n",
    "print(\"ROC-AUC for SMOTETomek DT:\", roc_auc_tomek)\n",
    "print(\"ROC-AUC for SMOTEENN DT:\", roc_auc_enn)\n",
    "print(\"ROC-AUC for SMOTERUS DT:\", roc_auc_rus)\n",
    "print(\"ROC-AUC no_sampling for DT:\", roc_nosamp4)"
   ]
  },
  {
   "cell_type": "markdown",
   "id": "2135ebeb",
   "metadata": {
    "papermill": {
     "duration": 0.045929,
     "end_time": "2024-03-04T02:55:35.031710",
     "exception": false,
     "start_time": "2024-03-04T02:55:34.985781",
     "status": "completed"
    },
    "tags": []
   },
   "source": [
    "## XGBoost"
   ]
  },
  {
   "cell_type": "code",
   "execution_count": 66,
   "id": "bd94e9ff",
   "metadata": {
    "execution": {
     "iopub.execute_input": "2024-03-04T02:55:35.126653Z",
     "iopub.status.busy": "2024-03-04T02:55:35.125701Z",
     "iopub.status.idle": "2024-03-04T02:55:35.333416Z",
     "shell.execute_reply": "2024-03-04T02:55:35.331998Z"
    },
    "papermill": {
     "duration": 0.258597,
     "end_time": "2024-03-04T02:55:35.336462",
     "exception": false,
     "start_time": "2024-03-04T02:55:35.077865",
     "status": "completed"
    },
    "tags": []
   },
   "outputs": [],
   "source": [
    "from xgboost import XGBClassifier"
   ]
  },
  {
   "cell_type": "code",
   "execution_count": 67,
   "id": "dfd89a9a",
   "metadata": {
    "execution": {
     "iopub.execute_input": "2024-03-04T02:55:35.428673Z",
     "iopub.status.busy": "2024-03-04T02:55:35.428110Z",
     "iopub.status.idle": "2024-03-04T02:55:35.733547Z",
     "shell.execute_reply": "2024-03-04T02:55:35.732532Z"
    },
    "papermill": {
     "duration": 0.355187,
     "end_time": "2024-03-04T02:55:35.736683",
     "exception": false,
     "start_time": "2024-03-04T02:55:35.381496",
     "status": "completed"
    },
    "tags": []
   },
   "outputs": [
    {
     "name": "stdout",
     "output_type": "stream",
     "text": [
      "              precision    recall  f1-score   support\n",
      "\n",
      "           0       0.94      0.98      0.96      1659\n",
      "           1       0.88      0.71      0.79       341\n",
      "\n",
      "    accuracy                           0.93      2000\n",
      "   macro avg       0.91      0.85      0.87      2000\n",
      "weighted avg       0.93      0.93      0.93      2000\n",
      "\n"
     ]
    }
   ],
   "source": [
    "xgb = XGBClassifier()\n",
    "xgb.fit(new_X_train, new_y_train)\n",
    "\n",
    "y_nosamp5 = xgb.predict(new_X_test)\n",
    "print(classification_report(new_y_test,y_nosamp5))"
   ]
  },
  {
   "cell_type": "code",
   "execution_count": 68,
   "id": "4be04cad",
   "metadata": {
    "execution": {
     "iopub.execute_input": "2024-03-04T02:55:35.830130Z",
     "iopub.status.busy": "2024-03-04T02:55:35.829586Z",
     "iopub.status.idle": "2024-03-04T02:55:36.613191Z",
     "shell.execute_reply": "2024-03-04T02:55:36.611917Z"
    },
    "papermill": {
     "duration": 0.833096,
     "end_time": "2024-03-04T02:55:36.615941",
     "exception": false,
     "start_time": "2024-03-04T02:55:35.782845",
     "status": "completed"
    },
    "tags": []
   },
   "outputs": [
    {
     "data": {
      "text/html": [
       "<style>#sk-container-id-14 {color: black;background-color: white;}#sk-container-id-14 pre{padding: 0;}#sk-container-id-14 div.sk-toggleable {background-color: white;}#sk-container-id-14 label.sk-toggleable__label {cursor: pointer;display: block;width: 100%;margin-bottom: 0;padding: 0.3em;box-sizing: border-box;text-align: center;}#sk-container-id-14 label.sk-toggleable__label-arrow:before {content: \"▸\";float: left;margin-right: 0.25em;color: #696969;}#sk-container-id-14 label.sk-toggleable__label-arrow:hover:before {color: black;}#sk-container-id-14 div.sk-estimator:hover label.sk-toggleable__label-arrow:before {color: black;}#sk-container-id-14 div.sk-toggleable__content {max-height: 0;max-width: 0;overflow: hidden;text-align: left;background-color: #f0f8ff;}#sk-container-id-14 div.sk-toggleable__content pre {margin: 0.2em;color: black;border-radius: 0.25em;background-color: #f0f8ff;}#sk-container-id-14 input.sk-toggleable__control:checked~div.sk-toggleable__content {max-height: 200px;max-width: 100%;overflow: auto;}#sk-container-id-14 input.sk-toggleable__control:checked~label.sk-toggleable__label-arrow:before {content: \"▾\";}#sk-container-id-14 div.sk-estimator input.sk-toggleable__control:checked~label.sk-toggleable__label {background-color: #d4ebff;}#sk-container-id-14 div.sk-label input.sk-toggleable__control:checked~label.sk-toggleable__label {background-color: #d4ebff;}#sk-container-id-14 input.sk-hidden--visually {border: 0;clip: rect(1px 1px 1px 1px);clip: rect(1px, 1px, 1px, 1px);height: 1px;margin: -1px;overflow: hidden;padding: 0;position: absolute;width: 1px;}#sk-container-id-14 div.sk-estimator {font-family: monospace;background-color: #f0f8ff;border: 1px dotted black;border-radius: 0.25em;box-sizing: border-box;margin-bottom: 0.5em;}#sk-container-id-14 div.sk-estimator:hover {background-color: #d4ebff;}#sk-container-id-14 div.sk-parallel-item::after {content: \"\";width: 100%;border-bottom: 1px solid gray;flex-grow: 1;}#sk-container-id-14 div.sk-label:hover label.sk-toggleable__label {background-color: #d4ebff;}#sk-container-id-14 div.sk-serial::before {content: \"\";position: absolute;border-left: 1px solid gray;box-sizing: border-box;top: 0;bottom: 0;left: 50%;z-index: 0;}#sk-container-id-14 div.sk-serial {display: flex;flex-direction: column;align-items: center;background-color: white;padding-right: 0.2em;padding-left: 0.2em;position: relative;}#sk-container-id-14 div.sk-item {position: relative;z-index: 1;}#sk-container-id-14 div.sk-parallel {display: flex;align-items: stretch;justify-content: center;background-color: white;position: relative;}#sk-container-id-14 div.sk-item::before, #sk-container-id-14 div.sk-parallel-item::before {content: \"\";position: absolute;border-left: 1px solid gray;box-sizing: border-box;top: 0;bottom: 0;left: 50%;z-index: -1;}#sk-container-id-14 div.sk-parallel-item {display: flex;flex-direction: column;z-index: 1;position: relative;background-color: white;}#sk-container-id-14 div.sk-parallel-item:first-child::after {align-self: flex-end;width: 50%;}#sk-container-id-14 div.sk-parallel-item:last-child::after {align-self: flex-start;width: 50%;}#sk-container-id-14 div.sk-parallel-item:only-child::after {width: 0;}#sk-container-id-14 div.sk-dashed-wrapped {border: 1px dashed gray;margin: 0 0.4em 0.5em 0.4em;box-sizing: border-box;padding-bottom: 0.4em;background-color: white;}#sk-container-id-14 div.sk-label label {font-family: monospace;font-weight: bold;display: inline-block;line-height: 1.2em;}#sk-container-id-14 div.sk-label-container {text-align: center;}#sk-container-id-14 div.sk-container {/* jupyter's `normalize.less` sets `[hidden] { display: none; }` but bootstrap.min.css set `[hidden] { display: none !important; }` so we also need the `!important` here to be able to override the default hidden behavior on the sphinx rendered scikit-learn.org. See: https://github.com/scikit-learn/scikit-learn/issues/21755 */display: inline-block !important;position: relative;}#sk-container-id-14 div.sk-text-repr-fallback {display: none;}</style><div id=\"sk-container-id-14\" class=\"sk-top-container\"><div class=\"sk-text-repr-fallback\"><pre>Pipeline(steps=[(&#x27;smotetomek&#x27;,\n",
       "                 SMOTETomek(tomek=TomekLinks(sampling_strategy=&#x27;majority&#x27;))),\n",
       "                (&#x27;xgbclassifier&#x27;,\n",
       "                 XGBClassifier(base_score=None, booster=None, callbacks=None,\n",
       "                               colsample_bylevel=None, colsample_bynode=None,\n",
       "                               colsample_bytree=None, device=None,\n",
       "                               early_stopping_rounds=None,\n",
       "                               enable_categorical=False, eval_metric=None,\n",
       "                               feature_types=None, gamma=None, grow_policy=None,\n",
       "                               importance_type=None,\n",
       "                               interaction_constraints=None, learning_rate=None,\n",
       "                               max_bin=None, max_cat_threshold=None,\n",
       "                               max_cat_to_onehot=None, max_delta_step=None,\n",
       "                               max_depth=None, max_leaves=None,\n",
       "                               min_child_weight=None, missing=nan,\n",
       "                               monotone_constraints=None, multi_strategy=None,\n",
       "                               n_estimators=None, n_jobs=None,\n",
       "                               num_parallel_tree=None, random_state=13, ...))])</pre><b>In a Jupyter environment, please rerun this cell to show the HTML representation or trust the notebook. <br />On GitHub, the HTML representation is unable to render, please try loading this page with nbviewer.org.</b></div><div class=\"sk-container\" hidden><div class=\"sk-item sk-dashed-wrapped\"><div class=\"sk-label-container\"><div class=\"sk-label sk-toggleable\"><input class=\"sk-toggleable__control sk-hidden--visually\" id=\"sk-estimator-id-58\" type=\"checkbox\" ><label for=\"sk-estimator-id-58\" class=\"sk-toggleable__label sk-toggleable__label-arrow\">Pipeline</label><div class=\"sk-toggleable__content\"><pre>Pipeline(steps=[(&#x27;smotetomek&#x27;,\n",
       "                 SMOTETomek(tomek=TomekLinks(sampling_strategy=&#x27;majority&#x27;))),\n",
       "                (&#x27;xgbclassifier&#x27;,\n",
       "                 XGBClassifier(base_score=None, booster=None, callbacks=None,\n",
       "                               colsample_bylevel=None, colsample_bynode=None,\n",
       "                               colsample_bytree=None, device=None,\n",
       "                               early_stopping_rounds=None,\n",
       "                               enable_categorical=False, eval_metric=None,\n",
       "                               feature_types=None, gamma=None, grow_policy=None,\n",
       "                               importance_type=None,\n",
       "                               interaction_constraints=None, learning_rate=None,\n",
       "                               max_bin=None, max_cat_threshold=None,\n",
       "                               max_cat_to_onehot=None, max_delta_step=None,\n",
       "                               max_depth=None, max_leaves=None,\n",
       "                               min_child_weight=None, missing=nan,\n",
       "                               monotone_constraints=None, multi_strategy=None,\n",
       "                               n_estimators=None, n_jobs=None,\n",
       "                               num_parallel_tree=None, random_state=13, ...))])</pre></div></div></div><div class=\"sk-serial\"><div class=\"sk-item sk-dashed-wrapped\"><div class=\"sk-label-container\"><div class=\"sk-label sk-toggleable\"><input class=\"sk-toggleable__control sk-hidden--visually\" id=\"sk-estimator-id-59\" type=\"checkbox\" ><label for=\"sk-estimator-id-59\" class=\"sk-toggleable__label sk-toggleable__label-arrow\">smotetomek: SMOTETomek</label><div class=\"sk-toggleable__content\"><pre>SMOTETomek(tomek=TomekLinks(sampling_strategy=&#x27;majority&#x27;))</pre></div></div></div><div class=\"sk-parallel\"><div class=\"sk-parallel-item\"><div class=\"sk-item\"><div class=\"sk-label-container\"><div class=\"sk-label sk-toggleable\"><input class=\"sk-toggleable__control sk-hidden--visually\" id=\"sk-estimator-id-60\" type=\"checkbox\" ><label for=\"sk-estimator-id-60\" class=\"sk-toggleable__label sk-toggleable__label-arrow\">tomek: TomekLinks</label><div class=\"sk-toggleable__content\"><pre>TomekLinks(sampling_strategy=&#x27;majority&#x27;)</pre></div></div></div><div class=\"sk-serial\"><div class=\"sk-item\"><div class=\"sk-estimator sk-toggleable\"><input class=\"sk-toggleable__control sk-hidden--visually\" id=\"sk-estimator-id-61\" type=\"checkbox\" ><label for=\"sk-estimator-id-61\" class=\"sk-toggleable__label sk-toggleable__label-arrow\">TomekLinks</label><div class=\"sk-toggleable__content\"><pre>TomekLinks(sampling_strategy=&#x27;majority&#x27;)</pre></div></div></div></div></div></div></div></div><div class=\"sk-item\"><div class=\"sk-estimator sk-toggleable\"><input class=\"sk-toggleable__control sk-hidden--visually\" id=\"sk-estimator-id-62\" type=\"checkbox\" ><label for=\"sk-estimator-id-62\" class=\"sk-toggleable__label sk-toggleable__label-arrow\">XGBClassifier</label><div class=\"sk-toggleable__content\"><pre>XGBClassifier(base_score=None, booster=None, callbacks=None,\n",
       "              colsample_bylevel=None, colsample_bynode=None,\n",
       "              colsample_bytree=None, device=None, early_stopping_rounds=None,\n",
       "              enable_categorical=False, eval_metric=None, feature_types=None,\n",
       "              gamma=None, grow_policy=None, importance_type=None,\n",
       "              interaction_constraints=None, learning_rate=None, max_bin=None,\n",
       "              max_cat_threshold=None, max_cat_to_onehot=None,\n",
       "              max_delta_step=None, max_depth=None, max_leaves=None,\n",
       "              min_child_weight=None, missing=nan, monotone_constraints=None,\n",
       "              multi_strategy=None, n_estimators=None, n_jobs=None,\n",
       "              num_parallel_tree=None, random_state=13, ...)</pre></div></div></div></div></div></div></div>"
      ],
      "text/plain": [
       "Pipeline(steps=[('smotetomek',\n",
       "                 SMOTETomek(tomek=TomekLinks(sampling_strategy='majority'))),\n",
       "                ('xgbclassifier',\n",
       "                 XGBClassifier(base_score=None, booster=None, callbacks=None,\n",
       "                               colsample_bylevel=None, colsample_bynode=None,\n",
       "                               colsample_bytree=None, device=None,\n",
       "                               early_stopping_rounds=None,\n",
       "                               enable_categorical=False, eval_metric=None,\n",
       "                               feature_types=None, gamma=None, grow_policy=None,\n",
       "                               importance_type=None,\n",
       "                               interaction_constraints=None, learning_rate=None,\n",
       "                               max_bin=None, max_cat_threshold=None,\n",
       "                               max_cat_to_onehot=None, max_delta_step=None,\n",
       "                               max_depth=None, max_leaves=None,\n",
       "                               min_child_weight=None, missing=nan,\n",
       "                               monotone_constraints=None, multi_strategy=None,\n",
       "                               n_estimators=None, n_jobs=None,\n",
       "                               num_parallel_tree=None, random_state=13, ...))])"
      ]
     },
     "execution_count": 68,
     "metadata": {},
     "output_type": "execute_result"
    }
   ],
   "source": [
    "SMOTETomek_pipeline_xgb = make_pipeline(\n",
    "    SMOTETomek(tomek=TomekLinks(sampling_strategy='majority')),\n",
    "    XGBClassifier(random_state=13)  # You can adjust parameters here\n",
    ")\n",
    "\n",
    "# Fit the pipeline with XGBoost\n",
    "SMOTETomek_xgb = SMOTETomek_pipeline_xgb\n",
    "SMOTETomek_xgb.fit(new_X_train, new_y_train)\n"
   ]
  },
  {
   "cell_type": "code",
   "execution_count": 69,
   "id": "9670d183",
   "metadata": {
    "execution": {
     "iopub.execute_input": "2024-03-04T02:55:36.711425Z",
     "iopub.status.busy": "2024-03-04T02:55:36.710624Z",
     "iopub.status.idle": "2024-03-04T02:55:36.730788Z",
     "shell.execute_reply": "2024-03-04T02:55:36.729669Z"
    },
    "papermill": {
     "duration": 0.071279,
     "end_time": "2024-03-04T02:55:36.733857",
     "exception": false,
     "start_time": "2024-03-04T02:55:36.662578",
     "status": "completed"
    },
    "tags": []
   },
   "outputs": [
    {
     "data": {
      "text/plain": [
       "array([[1618,   41],\n",
       "       [ 101,  240]])"
      ]
     },
     "execution_count": 69,
     "metadata": {},
     "output_type": "execute_result"
    }
   ],
   "source": [
    "y_pred_xgb = SMOTETomek_xgb.predict(new_X_test)\n",
    "\n",
    "# Calculate confusion matrix\n",
    "cm_xgb = confusion_matrix(new_y_test, y_pred_xgb)\n",
    "\n",
    "cm_xgb"
   ]
  },
  {
   "cell_type": "code",
   "execution_count": 70,
   "id": "e8caf371",
   "metadata": {
    "execution": {
     "iopub.execute_input": "2024-03-04T02:55:36.831734Z",
     "iopub.status.busy": "2024-03-04T02:55:36.831108Z",
     "iopub.status.idle": "2024-03-04T02:55:36.850161Z",
     "shell.execute_reply": "2024-03-04T02:55:36.848600Z"
    },
    "papermill": {
     "duration": 0.071155,
     "end_time": "2024-03-04T02:55:36.853040",
     "exception": false,
     "start_time": "2024-03-04T02:55:36.781885",
     "status": "completed"
    },
    "tags": []
   },
   "outputs": [
    {
     "name": "stdout",
     "output_type": "stream",
     "text": [
      "              precision    recall  f1-score   support\n",
      "\n",
      "           0       0.94      0.98      0.96      1659\n",
      "           1       0.85      0.70      0.77       341\n",
      "\n",
      "    accuracy                           0.93      2000\n",
      "   macro avg       0.90      0.84      0.86      2000\n",
      "weighted avg       0.93      0.93      0.93      2000\n",
      "\n"
     ]
    }
   ],
   "source": [
    "print(classification_report(new_y_test, y_pred_xgb))"
   ]
  },
  {
   "cell_type": "markdown",
   "id": "273fc6df",
   "metadata": {
    "papermill": {
     "duration": 0.045565,
     "end_time": "2024-03-04T02:55:36.944478",
     "exception": false,
     "start_time": "2024-03-04T02:55:36.898913",
     "status": "completed"
    },
    "tags": []
   },
   "source": [
    "### SMOTEENN"
   ]
  },
  {
   "cell_type": "code",
   "execution_count": 71,
   "id": "e6fe6149",
   "metadata": {
    "execution": {
     "iopub.execute_input": "2024-03-04T02:55:37.042740Z",
     "iopub.status.busy": "2024-03-04T02:55:37.041658Z",
     "iopub.status.idle": "2024-03-04T02:55:37.622643Z",
     "shell.execute_reply": "2024-03-04T02:55:37.621682Z"
    },
    "papermill": {
     "duration": 0.633501,
     "end_time": "2024-03-04T02:55:37.624841",
     "exception": false,
     "start_time": "2024-03-04T02:55:36.991340",
     "status": "completed"
    },
    "tags": []
   },
   "outputs": [
    {
     "data": {
      "text/html": [
       "<style>#sk-container-id-15 {color: black;background-color: white;}#sk-container-id-15 pre{padding: 0;}#sk-container-id-15 div.sk-toggleable {background-color: white;}#sk-container-id-15 label.sk-toggleable__label {cursor: pointer;display: block;width: 100%;margin-bottom: 0;padding: 0.3em;box-sizing: border-box;text-align: center;}#sk-container-id-15 label.sk-toggleable__label-arrow:before {content: \"▸\";float: left;margin-right: 0.25em;color: #696969;}#sk-container-id-15 label.sk-toggleable__label-arrow:hover:before {color: black;}#sk-container-id-15 div.sk-estimator:hover label.sk-toggleable__label-arrow:before {color: black;}#sk-container-id-15 div.sk-toggleable__content {max-height: 0;max-width: 0;overflow: hidden;text-align: left;background-color: #f0f8ff;}#sk-container-id-15 div.sk-toggleable__content pre {margin: 0.2em;color: black;border-radius: 0.25em;background-color: #f0f8ff;}#sk-container-id-15 input.sk-toggleable__control:checked~div.sk-toggleable__content {max-height: 200px;max-width: 100%;overflow: auto;}#sk-container-id-15 input.sk-toggleable__control:checked~label.sk-toggleable__label-arrow:before {content: \"▾\";}#sk-container-id-15 div.sk-estimator input.sk-toggleable__control:checked~label.sk-toggleable__label {background-color: #d4ebff;}#sk-container-id-15 div.sk-label input.sk-toggleable__control:checked~label.sk-toggleable__label {background-color: #d4ebff;}#sk-container-id-15 input.sk-hidden--visually {border: 0;clip: rect(1px 1px 1px 1px);clip: rect(1px, 1px, 1px, 1px);height: 1px;margin: -1px;overflow: hidden;padding: 0;position: absolute;width: 1px;}#sk-container-id-15 div.sk-estimator {font-family: monospace;background-color: #f0f8ff;border: 1px dotted black;border-radius: 0.25em;box-sizing: border-box;margin-bottom: 0.5em;}#sk-container-id-15 div.sk-estimator:hover {background-color: #d4ebff;}#sk-container-id-15 div.sk-parallel-item::after {content: \"\";width: 100%;border-bottom: 1px solid gray;flex-grow: 1;}#sk-container-id-15 div.sk-label:hover label.sk-toggleable__label {background-color: #d4ebff;}#sk-container-id-15 div.sk-serial::before {content: \"\";position: absolute;border-left: 1px solid gray;box-sizing: border-box;top: 0;bottom: 0;left: 50%;z-index: 0;}#sk-container-id-15 div.sk-serial {display: flex;flex-direction: column;align-items: center;background-color: white;padding-right: 0.2em;padding-left: 0.2em;position: relative;}#sk-container-id-15 div.sk-item {position: relative;z-index: 1;}#sk-container-id-15 div.sk-parallel {display: flex;align-items: stretch;justify-content: center;background-color: white;position: relative;}#sk-container-id-15 div.sk-item::before, #sk-container-id-15 div.sk-parallel-item::before {content: \"\";position: absolute;border-left: 1px solid gray;box-sizing: border-box;top: 0;bottom: 0;left: 50%;z-index: -1;}#sk-container-id-15 div.sk-parallel-item {display: flex;flex-direction: column;z-index: 1;position: relative;background-color: white;}#sk-container-id-15 div.sk-parallel-item:first-child::after {align-self: flex-end;width: 50%;}#sk-container-id-15 div.sk-parallel-item:last-child::after {align-self: flex-start;width: 50%;}#sk-container-id-15 div.sk-parallel-item:only-child::after {width: 0;}#sk-container-id-15 div.sk-dashed-wrapped {border: 1px dashed gray;margin: 0 0.4em 0.5em 0.4em;box-sizing: border-box;padding-bottom: 0.4em;background-color: white;}#sk-container-id-15 div.sk-label label {font-family: monospace;font-weight: bold;display: inline-block;line-height: 1.2em;}#sk-container-id-15 div.sk-label-container {text-align: center;}#sk-container-id-15 div.sk-container {/* jupyter's `normalize.less` sets `[hidden] { display: none; }` but bootstrap.min.css set `[hidden] { display: none !important; }` so we also need the `!important` here to be able to override the default hidden behavior on the sphinx rendered scikit-learn.org. See: https://github.com/scikit-learn/scikit-learn/issues/21755 */display: inline-block !important;position: relative;}#sk-container-id-15 div.sk-text-repr-fallback {display: none;}</style><div id=\"sk-container-id-15\" class=\"sk-top-container\"><div class=\"sk-text-repr-fallback\"><pre>Pipeline(steps=[(&#x27;smoteenn&#x27;,\n",
       "                 SMOTEENN(enn=EditedNearestNeighbours(sampling_strategy=&#x27;majority&#x27;))),\n",
       "                (&#x27;xgbclassifier&#x27;,\n",
       "                 XGBClassifier(base_score=None, booster=None, callbacks=None,\n",
       "                               colsample_bylevel=None, colsample_bynode=None,\n",
       "                               colsample_bytree=None, device=None,\n",
       "                               early_stopping_rounds=None,\n",
       "                               enable_categorical=False, eval_metric=None,\n",
       "                               feature_types=None, gamma=None, grow_policy=None,\n",
       "                               importance_type=None,\n",
       "                               interaction_constraints=None, learning_rate=None,\n",
       "                               max_bin=None, max_cat_threshold=None,\n",
       "                               max_cat_to_onehot=None, max_delta_step=None,\n",
       "                               max_depth=None, max_leaves=None,\n",
       "                               min_child_weight=None, missing=nan,\n",
       "                               monotone_constraints=None, multi_strategy=None,\n",
       "                               n_estimators=None, n_jobs=None,\n",
       "                               num_parallel_tree=None, random_state=13, ...))])</pre><b>In a Jupyter environment, please rerun this cell to show the HTML representation or trust the notebook. <br />On GitHub, the HTML representation is unable to render, please try loading this page with nbviewer.org.</b></div><div class=\"sk-container\" hidden><div class=\"sk-item sk-dashed-wrapped\"><div class=\"sk-label-container\"><div class=\"sk-label sk-toggleable\"><input class=\"sk-toggleable__control sk-hidden--visually\" id=\"sk-estimator-id-63\" type=\"checkbox\" ><label for=\"sk-estimator-id-63\" class=\"sk-toggleable__label sk-toggleable__label-arrow\">Pipeline</label><div class=\"sk-toggleable__content\"><pre>Pipeline(steps=[(&#x27;smoteenn&#x27;,\n",
       "                 SMOTEENN(enn=EditedNearestNeighbours(sampling_strategy=&#x27;majority&#x27;))),\n",
       "                (&#x27;xgbclassifier&#x27;,\n",
       "                 XGBClassifier(base_score=None, booster=None, callbacks=None,\n",
       "                               colsample_bylevel=None, colsample_bynode=None,\n",
       "                               colsample_bytree=None, device=None,\n",
       "                               early_stopping_rounds=None,\n",
       "                               enable_categorical=False, eval_metric=None,\n",
       "                               feature_types=None, gamma=None, grow_policy=None,\n",
       "                               importance_type=None,\n",
       "                               interaction_constraints=None, learning_rate=None,\n",
       "                               max_bin=None, max_cat_threshold=None,\n",
       "                               max_cat_to_onehot=None, max_delta_step=None,\n",
       "                               max_depth=None, max_leaves=None,\n",
       "                               min_child_weight=None, missing=nan,\n",
       "                               monotone_constraints=None, multi_strategy=None,\n",
       "                               n_estimators=None, n_jobs=None,\n",
       "                               num_parallel_tree=None, random_state=13, ...))])</pre></div></div></div><div class=\"sk-serial\"><div class=\"sk-item sk-dashed-wrapped\"><div class=\"sk-label-container\"><div class=\"sk-label sk-toggleable\"><input class=\"sk-toggleable__control sk-hidden--visually\" id=\"sk-estimator-id-64\" type=\"checkbox\" ><label for=\"sk-estimator-id-64\" class=\"sk-toggleable__label sk-toggleable__label-arrow\">smoteenn: SMOTEENN</label><div class=\"sk-toggleable__content\"><pre>SMOTEENN(enn=EditedNearestNeighbours(sampling_strategy=&#x27;majority&#x27;))</pre></div></div></div><div class=\"sk-parallel\"><div class=\"sk-parallel-item\"><div class=\"sk-item\"><div class=\"sk-label-container\"><div class=\"sk-label sk-toggleable\"><input class=\"sk-toggleable__control sk-hidden--visually\" id=\"sk-estimator-id-65\" type=\"checkbox\" ><label for=\"sk-estimator-id-65\" class=\"sk-toggleable__label sk-toggleable__label-arrow\">enn: EditedNearestNeighbours</label><div class=\"sk-toggleable__content\"><pre>EditedNearestNeighbours(sampling_strategy=&#x27;majority&#x27;)</pre></div></div></div><div class=\"sk-serial\"><div class=\"sk-item\"><div class=\"sk-estimator sk-toggleable\"><input class=\"sk-toggleable__control sk-hidden--visually\" id=\"sk-estimator-id-66\" type=\"checkbox\" ><label for=\"sk-estimator-id-66\" class=\"sk-toggleable__label sk-toggleable__label-arrow\">EditedNearestNeighbours</label><div class=\"sk-toggleable__content\"><pre>EditedNearestNeighbours(sampling_strategy=&#x27;majority&#x27;)</pre></div></div></div></div></div></div></div></div><div class=\"sk-item\"><div class=\"sk-estimator sk-toggleable\"><input class=\"sk-toggleable__control sk-hidden--visually\" id=\"sk-estimator-id-67\" type=\"checkbox\" ><label for=\"sk-estimator-id-67\" class=\"sk-toggleable__label sk-toggleable__label-arrow\">XGBClassifier</label><div class=\"sk-toggleable__content\"><pre>XGBClassifier(base_score=None, booster=None, callbacks=None,\n",
       "              colsample_bylevel=None, colsample_bynode=None,\n",
       "              colsample_bytree=None, device=None, early_stopping_rounds=None,\n",
       "              enable_categorical=False, eval_metric=None, feature_types=None,\n",
       "              gamma=None, grow_policy=None, importance_type=None,\n",
       "              interaction_constraints=None, learning_rate=None, max_bin=None,\n",
       "              max_cat_threshold=None, max_cat_to_onehot=None,\n",
       "              max_delta_step=None, max_depth=None, max_leaves=None,\n",
       "              min_child_weight=None, missing=nan, monotone_constraints=None,\n",
       "              multi_strategy=None, n_estimators=None, n_jobs=None,\n",
       "              num_parallel_tree=None, random_state=13, ...)</pre></div></div></div></div></div></div></div>"
      ],
      "text/plain": [
       "Pipeline(steps=[('smoteenn',\n",
       "                 SMOTEENN(enn=EditedNearestNeighbours(sampling_strategy='majority'))),\n",
       "                ('xgbclassifier',\n",
       "                 XGBClassifier(base_score=None, booster=None, callbacks=None,\n",
       "                               colsample_bylevel=None, colsample_bynode=None,\n",
       "                               colsample_bytree=None, device=None,\n",
       "                               early_stopping_rounds=None,\n",
       "                               enable_categorical=False, eval_metric=None,\n",
       "                               feature_types=None, gamma=None, grow_policy=None,\n",
       "                               importance_type=None,\n",
       "                               interaction_constraints=None, learning_rate=None,\n",
       "                               max_bin=None, max_cat_threshold=None,\n",
       "                               max_cat_to_onehot=None, max_delta_step=None,\n",
       "                               max_depth=None, max_leaves=None,\n",
       "                               min_child_weight=None, missing=nan,\n",
       "                               monotone_constraints=None, multi_strategy=None,\n",
       "                               n_estimators=None, n_jobs=None,\n",
       "                               num_parallel_tree=None, random_state=13, ...))])"
      ]
     },
     "execution_count": 71,
     "metadata": {},
     "output_type": "execute_result"
    }
   ],
   "source": [
    "SMOTEENN_pipeline_xgb = make_pipeline(SMOTEENN(enn=EditedNearestNeighbours(sampling_strategy='majority')),\n",
    "                                     XGBClassifier(random_state=13))  # You can adjust the number of neighbors as needed\n",
    "\n",
    "# Fit the pipeline with KNN\n",
    "SMOTEENN_xgb = SMOTEENN_pipeline_xgb\n",
    "SMOTEENN_xgb.fit(new_X_train, new_y_train)"
   ]
  },
  {
   "cell_type": "code",
   "execution_count": 72,
   "id": "c7e80f2d",
   "metadata": {
    "execution": {
     "iopub.execute_input": "2024-03-04T02:55:37.720611Z",
     "iopub.status.busy": "2024-03-04T02:55:37.719271Z",
     "iopub.status.idle": "2024-03-04T02:55:37.740719Z",
     "shell.execute_reply": "2024-03-04T02:55:37.739565Z"
    },
    "papermill": {
     "duration": 0.073478,
     "end_time": "2024-03-04T02:55:37.744476",
     "exception": false,
     "start_time": "2024-03-04T02:55:37.670998",
     "status": "completed"
    },
    "tags": []
   },
   "outputs": [
    {
     "data": {
      "text/plain": [
       "array([[1546,  113],\n",
       "       [  78,  263]])"
      ]
     },
     "execution_count": 72,
     "metadata": {},
     "output_type": "execute_result"
    }
   ],
   "source": [
    "y_pred_xgb1 = SMOTEENN_xgb.predict(new_X_test)\n",
    "\n",
    "# Calculate confusion matrix\n",
    "cm_xgb1 = confusion_matrix(new_y_test, y_pred_xgb1)\n",
    "\n",
    "cm_xgb1"
   ]
  },
  {
   "cell_type": "code",
   "execution_count": 73,
   "id": "f5f940a6",
   "metadata": {
    "execution": {
     "iopub.execute_input": "2024-03-04T02:55:37.842443Z",
     "iopub.status.busy": "2024-03-04T02:55:37.841969Z",
     "iopub.status.idle": "2024-03-04T02:55:37.862243Z",
     "shell.execute_reply": "2024-03-04T02:55:37.860996Z"
    },
    "papermill": {
     "duration": 0.071425,
     "end_time": "2024-03-04T02:55:37.865126",
     "exception": false,
     "start_time": "2024-03-04T02:55:37.793701",
     "status": "completed"
    },
    "tags": []
   },
   "outputs": [
    {
     "name": "stdout",
     "output_type": "stream",
     "text": [
      "              precision    recall  f1-score   support\n",
      "\n",
      "           0       0.95      0.93      0.94      1659\n",
      "           1       0.70      0.77      0.73       341\n",
      "\n",
      "    accuracy                           0.90      2000\n",
      "   macro avg       0.83      0.85      0.84      2000\n",
      "weighted avg       0.91      0.90      0.91      2000\n",
      "\n"
     ]
    }
   ],
   "source": [
    "print(classification_report(new_y_test, y_pred_xgb1))"
   ]
  },
  {
   "cell_type": "markdown",
   "id": "3c1ef13a",
   "metadata": {
    "papermill": {
     "duration": 0.046295,
     "end_time": "2024-03-04T02:55:37.958261",
     "exception": false,
     "start_time": "2024-03-04T02:55:37.911966",
     "status": "completed"
    },
    "tags": []
   },
   "source": [
    "### SMOTE-RUS"
   ]
  },
  {
   "cell_type": "code",
   "execution_count": 74,
   "id": "56f7cff3",
   "metadata": {
    "execution": {
     "iopub.execute_input": "2024-03-04T02:55:38.054913Z",
     "iopub.status.busy": "2024-03-04T02:55:38.054401Z",
     "iopub.status.idle": "2024-03-04T02:55:38.436604Z",
     "shell.execute_reply": "2024-03-04T02:55:38.435327Z"
    },
    "papermill": {
     "duration": 0.434642,
     "end_time": "2024-03-04T02:55:38.439576",
     "exception": false,
     "start_time": "2024-03-04T02:55:38.004934",
     "status": "completed"
    },
    "tags": []
   },
   "outputs": [
    {
     "data": {
      "text/html": [
       "<style>#sk-container-id-16 {color: black;background-color: white;}#sk-container-id-16 pre{padding: 0;}#sk-container-id-16 div.sk-toggleable {background-color: white;}#sk-container-id-16 label.sk-toggleable__label {cursor: pointer;display: block;width: 100%;margin-bottom: 0;padding: 0.3em;box-sizing: border-box;text-align: center;}#sk-container-id-16 label.sk-toggleable__label-arrow:before {content: \"▸\";float: left;margin-right: 0.25em;color: #696969;}#sk-container-id-16 label.sk-toggleable__label-arrow:hover:before {color: black;}#sk-container-id-16 div.sk-estimator:hover label.sk-toggleable__label-arrow:before {color: black;}#sk-container-id-16 div.sk-toggleable__content {max-height: 0;max-width: 0;overflow: hidden;text-align: left;background-color: #f0f8ff;}#sk-container-id-16 div.sk-toggleable__content pre {margin: 0.2em;color: black;border-radius: 0.25em;background-color: #f0f8ff;}#sk-container-id-16 input.sk-toggleable__control:checked~div.sk-toggleable__content {max-height: 200px;max-width: 100%;overflow: auto;}#sk-container-id-16 input.sk-toggleable__control:checked~label.sk-toggleable__label-arrow:before {content: \"▾\";}#sk-container-id-16 div.sk-estimator input.sk-toggleable__control:checked~label.sk-toggleable__label {background-color: #d4ebff;}#sk-container-id-16 div.sk-label input.sk-toggleable__control:checked~label.sk-toggleable__label {background-color: #d4ebff;}#sk-container-id-16 input.sk-hidden--visually {border: 0;clip: rect(1px 1px 1px 1px);clip: rect(1px, 1px, 1px, 1px);height: 1px;margin: -1px;overflow: hidden;padding: 0;position: absolute;width: 1px;}#sk-container-id-16 div.sk-estimator {font-family: monospace;background-color: #f0f8ff;border: 1px dotted black;border-radius: 0.25em;box-sizing: border-box;margin-bottom: 0.5em;}#sk-container-id-16 div.sk-estimator:hover {background-color: #d4ebff;}#sk-container-id-16 div.sk-parallel-item::after {content: \"\";width: 100%;border-bottom: 1px solid gray;flex-grow: 1;}#sk-container-id-16 div.sk-label:hover label.sk-toggleable__label {background-color: #d4ebff;}#sk-container-id-16 div.sk-serial::before {content: \"\";position: absolute;border-left: 1px solid gray;box-sizing: border-box;top: 0;bottom: 0;left: 50%;z-index: 0;}#sk-container-id-16 div.sk-serial {display: flex;flex-direction: column;align-items: center;background-color: white;padding-right: 0.2em;padding-left: 0.2em;position: relative;}#sk-container-id-16 div.sk-item {position: relative;z-index: 1;}#sk-container-id-16 div.sk-parallel {display: flex;align-items: stretch;justify-content: center;background-color: white;position: relative;}#sk-container-id-16 div.sk-item::before, #sk-container-id-16 div.sk-parallel-item::before {content: \"\";position: absolute;border-left: 1px solid gray;box-sizing: border-box;top: 0;bottom: 0;left: 50%;z-index: -1;}#sk-container-id-16 div.sk-parallel-item {display: flex;flex-direction: column;z-index: 1;position: relative;background-color: white;}#sk-container-id-16 div.sk-parallel-item:first-child::after {align-self: flex-end;width: 50%;}#sk-container-id-16 div.sk-parallel-item:last-child::after {align-self: flex-start;width: 50%;}#sk-container-id-16 div.sk-parallel-item:only-child::after {width: 0;}#sk-container-id-16 div.sk-dashed-wrapped {border: 1px dashed gray;margin: 0 0.4em 0.5em 0.4em;box-sizing: border-box;padding-bottom: 0.4em;background-color: white;}#sk-container-id-16 div.sk-label label {font-family: monospace;font-weight: bold;display: inline-block;line-height: 1.2em;}#sk-container-id-16 div.sk-label-container {text-align: center;}#sk-container-id-16 div.sk-container {/* jupyter's `normalize.less` sets `[hidden] { display: none; }` but bootstrap.min.css set `[hidden] { display: none !important; }` so we also need the `!important` here to be able to override the default hidden behavior on the sphinx rendered scikit-learn.org. See: https://github.com/scikit-learn/scikit-learn/issues/21755 */display: inline-block !important;position: relative;}#sk-container-id-16 div.sk-text-repr-fallback {display: none;}</style><div id=\"sk-container-id-16\" class=\"sk-top-container\"><div class=\"sk-text-repr-fallback\"><pre>Pipeline(steps=[(&#x27;smote&#x27;, SMOTE(sampling_strategy=&#x27;minority&#x27;)),\n",
       "                (&#x27;randomundersampler&#x27;,\n",
       "                 RandomUnderSampler(sampling_strategy=&#x27;majority&#x27;)),\n",
       "                (&#x27;xgbclassifier&#x27;,\n",
       "                 XGBClassifier(base_score=None, booster=None, callbacks=None,\n",
       "                               colsample_bylevel=None, colsample_bynode=None,\n",
       "                               colsample_bytree=None, device=None,\n",
       "                               early_stopping_rounds=None,\n",
       "                               enable_categorical=False, eval_metri...\n",
       "                               feature_types=None, gamma=None, grow_policy=None,\n",
       "                               importance_type=None,\n",
       "                               interaction_constraints=None, learning_rate=None,\n",
       "                               max_bin=None, max_cat_threshold=None,\n",
       "                               max_cat_to_onehot=None, max_delta_step=None,\n",
       "                               max_depth=None, max_leaves=None,\n",
       "                               min_child_weight=None, missing=nan,\n",
       "                               monotone_constraints=None, multi_strategy=None,\n",
       "                               n_estimators=None, n_jobs=None,\n",
       "                               num_parallel_tree=None, random_state=13, ...))])</pre><b>In a Jupyter environment, please rerun this cell to show the HTML representation or trust the notebook. <br />On GitHub, the HTML representation is unable to render, please try loading this page with nbviewer.org.</b></div><div class=\"sk-container\" hidden><div class=\"sk-item sk-dashed-wrapped\"><div class=\"sk-label-container\"><div class=\"sk-label sk-toggleable\"><input class=\"sk-toggleable__control sk-hidden--visually\" id=\"sk-estimator-id-68\" type=\"checkbox\" ><label for=\"sk-estimator-id-68\" class=\"sk-toggleable__label sk-toggleable__label-arrow\">Pipeline</label><div class=\"sk-toggleable__content\"><pre>Pipeline(steps=[(&#x27;smote&#x27;, SMOTE(sampling_strategy=&#x27;minority&#x27;)),\n",
       "                (&#x27;randomundersampler&#x27;,\n",
       "                 RandomUnderSampler(sampling_strategy=&#x27;majority&#x27;)),\n",
       "                (&#x27;xgbclassifier&#x27;,\n",
       "                 XGBClassifier(base_score=None, booster=None, callbacks=None,\n",
       "                               colsample_bylevel=None, colsample_bynode=None,\n",
       "                               colsample_bytree=None, device=None,\n",
       "                               early_stopping_rounds=None,\n",
       "                               enable_categorical=False, eval_metri...\n",
       "                               feature_types=None, gamma=None, grow_policy=None,\n",
       "                               importance_type=None,\n",
       "                               interaction_constraints=None, learning_rate=None,\n",
       "                               max_bin=None, max_cat_threshold=None,\n",
       "                               max_cat_to_onehot=None, max_delta_step=None,\n",
       "                               max_depth=None, max_leaves=None,\n",
       "                               min_child_weight=None, missing=nan,\n",
       "                               monotone_constraints=None, multi_strategy=None,\n",
       "                               n_estimators=None, n_jobs=None,\n",
       "                               num_parallel_tree=None, random_state=13, ...))])</pre></div></div></div><div class=\"sk-serial\"><div class=\"sk-item\"><div class=\"sk-estimator sk-toggleable\"><input class=\"sk-toggleable__control sk-hidden--visually\" id=\"sk-estimator-id-69\" type=\"checkbox\" ><label for=\"sk-estimator-id-69\" class=\"sk-toggleable__label sk-toggleable__label-arrow\">SMOTE</label><div class=\"sk-toggleable__content\"><pre>SMOTE(sampling_strategy=&#x27;minority&#x27;)</pre></div></div></div><div class=\"sk-item\"><div class=\"sk-estimator sk-toggleable\"><input class=\"sk-toggleable__control sk-hidden--visually\" id=\"sk-estimator-id-70\" type=\"checkbox\" ><label for=\"sk-estimator-id-70\" class=\"sk-toggleable__label sk-toggleable__label-arrow\">RandomUnderSampler</label><div class=\"sk-toggleable__content\"><pre>RandomUnderSampler(sampling_strategy=&#x27;majority&#x27;)</pre></div></div></div><div class=\"sk-item\"><div class=\"sk-estimator sk-toggleable\"><input class=\"sk-toggleable__control sk-hidden--visually\" id=\"sk-estimator-id-71\" type=\"checkbox\" ><label for=\"sk-estimator-id-71\" class=\"sk-toggleable__label sk-toggleable__label-arrow\">XGBClassifier</label><div class=\"sk-toggleable__content\"><pre>XGBClassifier(base_score=None, booster=None, callbacks=None,\n",
       "              colsample_bylevel=None, colsample_bynode=None,\n",
       "              colsample_bytree=None, device=None, early_stopping_rounds=None,\n",
       "              enable_categorical=False, eval_metric=None, feature_types=None,\n",
       "              gamma=None, grow_policy=None, importance_type=None,\n",
       "              interaction_constraints=None, learning_rate=None, max_bin=None,\n",
       "              max_cat_threshold=None, max_cat_to_onehot=None,\n",
       "              max_delta_step=None, max_depth=None, max_leaves=None,\n",
       "              min_child_weight=None, missing=nan, monotone_constraints=None,\n",
       "              multi_strategy=None, n_estimators=None, n_jobs=None,\n",
       "              num_parallel_tree=None, random_state=13, ...)</pre></div></div></div></div></div></div></div>"
      ],
      "text/plain": [
       "Pipeline(steps=[('smote', SMOTE(sampling_strategy='minority')),\n",
       "                ('randomundersampler',\n",
       "                 RandomUnderSampler(sampling_strategy='majority')),\n",
       "                ('xgbclassifier',\n",
       "                 XGBClassifier(base_score=None, booster=None, callbacks=None,\n",
       "                               colsample_bylevel=None, colsample_bynode=None,\n",
       "                               colsample_bytree=None, device=None,\n",
       "                               early_stopping_rounds=None,\n",
       "                               enable_categorical=False, eval_metri...\n",
       "                               feature_types=None, gamma=None, grow_policy=None,\n",
       "                               importance_type=None,\n",
       "                               interaction_constraints=None, learning_rate=None,\n",
       "                               max_bin=None, max_cat_threshold=None,\n",
       "                               max_cat_to_onehot=None, max_delta_step=None,\n",
       "                               max_depth=None, max_leaves=None,\n",
       "                               min_child_weight=None, missing=nan,\n",
       "                               monotone_constraints=None, multi_strategy=None,\n",
       "                               n_estimators=None, n_jobs=None,\n",
       "                               num_parallel_tree=None, random_state=13, ...))])"
      ]
     },
     "execution_count": 74,
     "metadata": {},
     "output_type": "execute_result"
    }
   ],
   "source": [
    "SMOTERUS_pipeline_xgb = make_pipeline(SMOTE(sampling_strategy='minority'), \n",
    "                                      RandomUnderSampler(sampling_strategy='majority'),\n",
    "                                      XGBClassifier(random_state=13))\n",
    "\n",
    "SMOTERUS_xgb = SMOTERUS_pipeline_xgb\n",
    "SMOTERUS_xgb.fit(new_X_train, new_y_train)"
   ]
  },
  {
   "cell_type": "code",
   "execution_count": 75,
   "id": "268bd5f9",
   "metadata": {
    "execution": {
     "iopub.execute_input": "2024-03-04T02:55:38.536565Z",
     "iopub.status.busy": "2024-03-04T02:55:38.535259Z",
     "iopub.status.idle": "2024-03-04T02:55:38.555917Z",
     "shell.execute_reply": "2024-03-04T02:55:38.554593Z"
    },
    "papermill": {
     "duration": 0.079046,
     "end_time": "2024-03-04T02:55:38.565699",
     "exception": false,
     "start_time": "2024-03-04T02:55:38.486653",
     "status": "completed"
    },
    "tags": []
   },
   "outputs": [
    {
     "data": {
      "text/plain": [
       "array([[1621,   38],\n",
       "       [  99,  242]])"
      ]
     },
     "execution_count": 75,
     "metadata": {},
     "output_type": "execute_result"
    }
   ],
   "source": [
    "y_pred_xgb2 = SMOTERUS_xgb.predict(new_X_test)\n",
    "\n",
    "# Calculate confusion matrix\n",
    "cm_xgb2 = confusion_matrix(new_y_test, y_pred_xgb2)\n",
    "\n",
    "cm_xgb2"
   ]
  },
  {
   "cell_type": "code",
   "execution_count": 76,
   "id": "15f76c9b",
   "metadata": {
    "execution": {
     "iopub.execute_input": "2024-03-04T02:55:38.662226Z",
     "iopub.status.busy": "2024-03-04T02:55:38.660827Z",
     "iopub.status.idle": "2024-03-04T02:55:38.679007Z",
     "shell.execute_reply": "2024-03-04T02:55:38.677791Z"
    },
    "papermill": {
     "duration": 0.069552,
     "end_time": "2024-03-04T02:55:38.681762",
     "exception": false,
     "start_time": "2024-03-04T02:55:38.612210",
     "status": "completed"
    },
    "tags": []
   },
   "outputs": [
    {
     "name": "stdout",
     "output_type": "stream",
     "text": [
      "              precision    recall  f1-score   support\n",
      "\n",
      "           0       0.94      0.98      0.96      1659\n",
      "           1       0.86      0.71      0.78       341\n",
      "\n",
      "    accuracy                           0.93      2000\n",
      "   macro avg       0.90      0.84      0.87      2000\n",
      "weighted avg       0.93      0.93      0.93      2000\n",
      "\n"
     ]
    }
   ],
   "source": [
    "print(classification_report(new_y_test, y_pred_xgb2))"
   ]
  },
  {
   "cell_type": "code",
   "execution_count": 77,
   "id": "395446b0",
   "metadata": {
    "execution": {
     "iopub.execute_input": "2024-03-04T02:55:38.780730Z",
     "iopub.status.busy": "2024-03-04T02:55:38.779453Z",
     "iopub.status.idle": "2024-03-04T02:55:38.827906Z",
     "shell.execute_reply": "2024-03-04T02:55:38.826607Z"
    },
    "papermill": {
     "duration": 0.100755,
     "end_time": "2024-03-04T02:55:38.830676",
     "exception": false,
     "start_time": "2024-03-04T02:55:38.729921",
     "status": "completed"
    },
    "tags": []
   },
   "outputs": [
    {
     "name": "stdout",
     "output_type": "stream",
     "text": [
      "ROC-AUC for SMOTETomek XGB: 0.8395493168870057\n",
      "ROC-AUC for SMOTEENN XGB: 0.8515738378947852\n",
      "ROC-AUC for SMOTERUS XGB: 0.8433860273386611\n",
      "ROC-AUC no_sampling for XGB: 0.8451943456026756\n"
     ]
    }
   ],
   "source": [
    "y_pred_tomek = SMOTETomek_xgb.predict(new_X_test)\n",
    "y_pred_enn = SMOTEENN_xgb.predict(new_X_test)\n",
    "y_pred_rus = SMOTERUS_xgb.predict(new_X_test)\n",
    "\n",
    "# Calculate ROC-AUC for each model\n",
    "roc_auc_tomek = roc_auc_score(new_y_test, y_pred_tomek)\n",
    "roc_auc_enn = roc_auc_score(new_y_test, y_pred_enn)\n",
    "roc_auc_rus = roc_auc_score(new_y_test, y_pred_rus)\n",
    "roc_nosamp5 = roc_auc_score(new_y_test, y_nosamp5)\n",
    "\n",
    "print(\"ROC-AUC for SMOTETomek XGB:\", roc_auc_tomek)\n",
    "print(\"ROC-AUC for SMOTEENN XGB:\", roc_auc_enn)\n",
    "print(\"ROC-AUC for SMOTERUS XGB:\", roc_auc_rus)\n",
    "print(\"ROC-AUC no_sampling for XGB:\", roc_nosamp5)"
   ]
  },
  {
   "cell_type": "markdown",
   "id": "9a1dfc82",
   "metadata": {
    "papermill": {
     "duration": 0.046921,
     "end_time": "2024-03-04T02:55:38.925790",
     "exception": false,
     "start_time": "2024-03-04T02:55:38.878869",
     "status": "completed"
    },
    "tags": []
   },
   "source": [
    "# Stacked Generalization"
   ]
  },
  {
   "cell_type": "code",
   "execution_count": 78,
   "id": "5e37583a",
   "metadata": {
    "execution": {
     "iopub.execute_input": "2024-03-04T02:55:39.023866Z",
     "iopub.status.busy": "2024-03-04T02:55:39.023327Z",
     "iopub.status.idle": "2024-03-04T02:55:39.029316Z",
     "shell.execute_reply": "2024-03-04T02:55:39.028253Z"
    },
    "papermill": {
     "duration": 0.059108,
     "end_time": "2024-03-04T02:55:39.032220",
     "exception": false,
     "start_time": "2024-03-04T02:55:38.973112",
     "status": "completed"
    },
    "tags": []
   },
   "outputs": [],
   "source": [
    "from sklearn.model_selection import KFold\n",
    "from sklearn.ensemble import StackingClassifier\n",
    "from sklearn.linear_model import LogisticRegression"
   ]
  },
  {
   "cell_type": "code",
   "execution_count": 79,
   "id": "dce4d514",
   "metadata": {
    "execution": {
     "iopub.execute_input": "2024-03-04T02:55:39.131945Z",
     "iopub.status.busy": "2024-03-04T02:55:39.131144Z",
     "iopub.status.idle": "2024-03-04T02:55:39.137705Z",
     "shell.execute_reply": "2024-03-04T02:55:39.136643Z"
    },
    "papermill": {
     "duration": 0.059222,
     "end_time": "2024-03-04T02:55:39.140365",
     "exception": false,
     "start_time": "2024-03-04T02:55:39.081143",
     "status": "completed"
    },
    "tags": []
   },
   "outputs": [],
   "source": [
    "estimators = [('svc', SVC()),\n",
    "                ('knn', KNeighborsClassifier()),\n",
    "                ('decision_tree',  DecisionTreeClassifier()),\n",
    "                ('xgb', XGBClassifier()),\n",
    "                ('random_forest',RandomForestClassifier())]\n",
    "    \n",
    "    \n",
    "    "
   ]
  },
  {
   "cell_type": "code",
   "execution_count": 80,
   "id": "024d9540",
   "metadata": {
    "execution": {
     "iopub.execute_input": "2024-03-04T02:55:39.239595Z",
     "iopub.status.busy": "2024-03-04T02:55:39.238805Z",
     "iopub.status.idle": "2024-03-04T02:56:12.422176Z",
     "shell.execute_reply": "2024-03-04T02:56:12.420910Z"
    },
    "papermill": {
     "duration": 33.312143,
     "end_time": "2024-03-04T02:56:12.501487",
     "exception": false,
     "start_time": "2024-03-04T02:55:39.189344",
     "status": "completed"
    },
    "tags": []
   },
   "outputs": [
    {
     "data": {
      "text/html": [
       "<style>#sk-container-id-17 {color: black;background-color: white;}#sk-container-id-17 pre{padding: 0;}#sk-container-id-17 div.sk-toggleable {background-color: white;}#sk-container-id-17 label.sk-toggleable__label {cursor: pointer;display: block;width: 100%;margin-bottom: 0;padding: 0.3em;box-sizing: border-box;text-align: center;}#sk-container-id-17 label.sk-toggleable__label-arrow:before {content: \"▸\";float: left;margin-right: 0.25em;color: #696969;}#sk-container-id-17 label.sk-toggleable__label-arrow:hover:before {color: black;}#sk-container-id-17 div.sk-estimator:hover label.sk-toggleable__label-arrow:before {color: black;}#sk-container-id-17 div.sk-toggleable__content {max-height: 0;max-width: 0;overflow: hidden;text-align: left;background-color: #f0f8ff;}#sk-container-id-17 div.sk-toggleable__content pre {margin: 0.2em;color: black;border-radius: 0.25em;background-color: #f0f8ff;}#sk-container-id-17 input.sk-toggleable__control:checked~div.sk-toggleable__content {max-height: 200px;max-width: 100%;overflow: auto;}#sk-container-id-17 input.sk-toggleable__control:checked~label.sk-toggleable__label-arrow:before {content: \"▾\";}#sk-container-id-17 div.sk-estimator input.sk-toggleable__control:checked~label.sk-toggleable__label {background-color: #d4ebff;}#sk-container-id-17 div.sk-label input.sk-toggleable__control:checked~label.sk-toggleable__label {background-color: #d4ebff;}#sk-container-id-17 input.sk-hidden--visually {border: 0;clip: rect(1px 1px 1px 1px);clip: rect(1px, 1px, 1px, 1px);height: 1px;margin: -1px;overflow: hidden;padding: 0;position: absolute;width: 1px;}#sk-container-id-17 div.sk-estimator {font-family: monospace;background-color: #f0f8ff;border: 1px dotted black;border-radius: 0.25em;box-sizing: border-box;margin-bottom: 0.5em;}#sk-container-id-17 div.sk-estimator:hover {background-color: #d4ebff;}#sk-container-id-17 div.sk-parallel-item::after {content: \"\";width: 100%;border-bottom: 1px solid gray;flex-grow: 1;}#sk-container-id-17 div.sk-label:hover label.sk-toggleable__label {background-color: #d4ebff;}#sk-container-id-17 div.sk-serial::before {content: \"\";position: absolute;border-left: 1px solid gray;box-sizing: border-box;top: 0;bottom: 0;left: 50%;z-index: 0;}#sk-container-id-17 div.sk-serial {display: flex;flex-direction: column;align-items: center;background-color: white;padding-right: 0.2em;padding-left: 0.2em;position: relative;}#sk-container-id-17 div.sk-item {position: relative;z-index: 1;}#sk-container-id-17 div.sk-parallel {display: flex;align-items: stretch;justify-content: center;background-color: white;position: relative;}#sk-container-id-17 div.sk-item::before, #sk-container-id-17 div.sk-parallel-item::before {content: \"\";position: absolute;border-left: 1px solid gray;box-sizing: border-box;top: 0;bottom: 0;left: 50%;z-index: -1;}#sk-container-id-17 div.sk-parallel-item {display: flex;flex-direction: column;z-index: 1;position: relative;background-color: white;}#sk-container-id-17 div.sk-parallel-item:first-child::after {align-self: flex-end;width: 50%;}#sk-container-id-17 div.sk-parallel-item:last-child::after {align-self: flex-start;width: 50%;}#sk-container-id-17 div.sk-parallel-item:only-child::after {width: 0;}#sk-container-id-17 div.sk-dashed-wrapped {border: 1px dashed gray;margin: 0 0.4em 0.5em 0.4em;box-sizing: border-box;padding-bottom: 0.4em;background-color: white;}#sk-container-id-17 div.sk-label label {font-family: monospace;font-weight: bold;display: inline-block;line-height: 1.2em;}#sk-container-id-17 div.sk-label-container {text-align: center;}#sk-container-id-17 div.sk-container {/* jupyter's `normalize.less` sets `[hidden] { display: none; }` but bootstrap.min.css set `[hidden] { display: none !important; }` so we also need the `!important` here to be able to override the default hidden behavior on the sphinx rendered scikit-learn.org. See: https://github.com/scikit-learn/scikit-learn/issues/21755 */display: inline-block !important;position: relative;}#sk-container-id-17 div.sk-text-repr-fallback {display: none;}</style><div id=\"sk-container-id-17\" class=\"sk-top-container\"><div class=\"sk-text-repr-fallback\"><pre>StackingClassifier(cv=10,\n",
       "                   estimators=[(&#x27;svc&#x27;, SVC()), (&#x27;knn&#x27;, KNeighborsClassifier()),\n",
       "                               (&#x27;decision_tree&#x27;, DecisionTreeClassifier()),\n",
       "                               (&#x27;xgb&#x27;,\n",
       "                                XGBClassifier(base_score=None, booster=None,\n",
       "                                              callbacks=None,\n",
       "                                              colsample_bylevel=None,\n",
       "                                              colsample_bynode=None,\n",
       "                                              colsample_bytree=None,\n",
       "                                              device=None,\n",
       "                                              early_stopping_rounds=None,\n",
       "                                              enable_categorical=False,\n",
       "                                              eval_metric=None,\n",
       "                                              feature_type...\n",
       "                                              learning_rate=None, max_bin=None,\n",
       "                                              max_cat_threshold=None,\n",
       "                                              max_cat_to_onehot=None,\n",
       "                                              max_delta_step=None,\n",
       "                                              max_depth=None, max_leaves=None,\n",
       "                                              min_child_weight=None,\n",
       "                                              missing=nan,\n",
       "                                              monotone_constraints=None,\n",
       "                                              multi_strategy=None,\n",
       "                                              n_estimators=None, n_jobs=None,\n",
       "                                              num_parallel_tree=None,\n",
       "                                              random_state=None, ...)),\n",
       "                               (&#x27;random_forest&#x27;, RandomForestClassifier())],\n",
       "                   final_estimator=LogisticRegression())</pre><b>In a Jupyter environment, please rerun this cell to show the HTML representation or trust the notebook. <br />On GitHub, the HTML representation is unable to render, please try loading this page with nbviewer.org.</b></div><div class=\"sk-container\" hidden><div class=\"sk-item sk-dashed-wrapped\"><div class=\"sk-label-container\"><div class=\"sk-label sk-toggleable\"><input class=\"sk-toggleable__control sk-hidden--visually\" id=\"sk-estimator-id-72\" type=\"checkbox\" ><label for=\"sk-estimator-id-72\" class=\"sk-toggleable__label sk-toggleable__label-arrow\">StackingClassifier</label><div class=\"sk-toggleable__content\"><pre>StackingClassifier(cv=10,\n",
       "                   estimators=[(&#x27;svc&#x27;, SVC()), (&#x27;knn&#x27;, KNeighborsClassifier()),\n",
       "                               (&#x27;decision_tree&#x27;, DecisionTreeClassifier()),\n",
       "                               (&#x27;xgb&#x27;,\n",
       "                                XGBClassifier(base_score=None, booster=None,\n",
       "                                              callbacks=None,\n",
       "                                              colsample_bylevel=None,\n",
       "                                              colsample_bynode=None,\n",
       "                                              colsample_bytree=None,\n",
       "                                              device=None,\n",
       "                                              early_stopping_rounds=None,\n",
       "                                              enable_categorical=False,\n",
       "                                              eval_metric=None,\n",
       "                                              feature_type...\n",
       "                                              learning_rate=None, max_bin=None,\n",
       "                                              max_cat_threshold=None,\n",
       "                                              max_cat_to_onehot=None,\n",
       "                                              max_delta_step=None,\n",
       "                                              max_depth=None, max_leaves=None,\n",
       "                                              min_child_weight=None,\n",
       "                                              missing=nan,\n",
       "                                              monotone_constraints=None,\n",
       "                                              multi_strategy=None,\n",
       "                                              n_estimators=None, n_jobs=None,\n",
       "                                              num_parallel_tree=None,\n",
       "                                              random_state=None, ...)),\n",
       "                               (&#x27;random_forest&#x27;, RandomForestClassifier())],\n",
       "                   final_estimator=LogisticRegression())</pre></div></div></div><div class=\"sk-serial\"><div class=\"sk-item\"><div class=\"sk-parallel\"><div class=\"sk-parallel-item\"><div class=\"sk-item\"><div class=\"sk-label-container\"><div class=\"sk-label sk-toggleable\"><label>svc</label></div></div><div class=\"sk-serial\"><div class=\"sk-item\"><div class=\"sk-estimator sk-toggleable\"><input class=\"sk-toggleable__control sk-hidden--visually\" id=\"sk-estimator-id-73\" type=\"checkbox\" ><label for=\"sk-estimator-id-73\" class=\"sk-toggleable__label sk-toggleable__label-arrow\">SVC</label><div class=\"sk-toggleable__content\"><pre>SVC()</pre></div></div></div></div></div></div><div class=\"sk-parallel-item\"><div class=\"sk-item\"><div class=\"sk-label-container\"><div class=\"sk-label sk-toggleable\"><label>knn</label></div></div><div class=\"sk-serial\"><div class=\"sk-item\"><div class=\"sk-estimator sk-toggleable\"><input class=\"sk-toggleable__control sk-hidden--visually\" id=\"sk-estimator-id-74\" type=\"checkbox\" ><label for=\"sk-estimator-id-74\" class=\"sk-toggleable__label sk-toggleable__label-arrow\">KNeighborsClassifier</label><div class=\"sk-toggleable__content\"><pre>KNeighborsClassifier()</pre></div></div></div></div></div></div><div class=\"sk-parallel-item\"><div class=\"sk-item\"><div class=\"sk-label-container\"><div class=\"sk-label sk-toggleable\"><label>decision_tree</label></div></div><div class=\"sk-serial\"><div class=\"sk-item\"><div class=\"sk-estimator sk-toggleable\"><input class=\"sk-toggleable__control sk-hidden--visually\" id=\"sk-estimator-id-75\" type=\"checkbox\" ><label for=\"sk-estimator-id-75\" class=\"sk-toggleable__label sk-toggleable__label-arrow\">DecisionTreeClassifier</label><div class=\"sk-toggleable__content\"><pre>DecisionTreeClassifier()</pre></div></div></div></div></div></div><div class=\"sk-parallel-item\"><div class=\"sk-item\"><div class=\"sk-label-container\"><div class=\"sk-label sk-toggleable\"><label>xgb</label></div></div><div class=\"sk-serial\"><div class=\"sk-item\"><div class=\"sk-estimator sk-toggleable\"><input class=\"sk-toggleable__control sk-hidden--visually\" id=\"sk-estimator-id-76\" type=\"checkbox\" ><label for=\"sk-estimator-id-76\" class=\"sk-toggleable__label sk-toggleable__label-arrow\">XGBClassifier</label><div class=\"sk-toggleable__content\"><pre>XGBClassifier(base_score=None, booster=None, callbacks=None,\n",
       "              colsample_bylevel=None, colsample_bynode=None,\n",
       "              colsample_bytree=None, device=None, early_stopping_rounds=None,\n",
       "              enable_categorical=False, eval_metric=None, feature_types=None,\n",
       "              gamma=None, grow_policy=None, importance_type=None,\n",
       "              interaction_constraints=None, learning_rate=None, max_bin=None,\n",
       "              max_cat_threshold=None, max_cat_to_onehot=None,\n",
       "              max_delta_step=None, max_depth=None, max_leaves=None,\n",
       "              min_child_weight=None, missing=nan, monotone_constraints=None,\n",
       "              multi_strategy=None, n_estimators=None, n_jobs=None,\n",
       "              num_parallel_tree=None, random_state=None, ...)</pre></div></div></div></div></div></div><div class=\"sk-parallel-item\"><div class=\"sk-item\"><div class=\"sk-label-container\"><div class=\"sk-label sk-toggleable\"><label>random_forest</label></div></div><div class=\"sk-serial\"><div class=\"sk-item\"><div class=\"sk-estimator sk-toggleable\"><input class=\"sk-toggleable__control sk-hidden--visually\" id=\"sk-estimator-id-77\" type=\"checkbox\" ><label for=\"sk-estimator-id-77\" class=\"sk-toggleable__label sk-toggleable__label-arrow\">RandomForestClassifier</label><div class=\"sk-toggleable__content\"><pre>RandomForestClassifier()</pre></div></div></div></div></div></div></div></div><div class=\"sk-item\"><div class=\"sk-parallel\"><div class=\"sk-parallel-item\"><div class=\"sk-item\"><div class=\"sk-label-container\"><div class=\"sk-label sk-toggleable\"><label>final_estimator</label></div></div><div class=\"sk-serial\"><div class=\"sk-item\"><div class=\"sk-estimator sk-toggleable\"><input class=\"sk-toggleable__control sk-hidden--visually\" id=\"sk-estimator-id-78\" type=\"checkbox\" ><label for=\"sk-estimator-id-78\" class=\"sk-toggleable__label sk-toggleable__label-arrow\">LogisticRegression</label><div class=\"sk-toggleable__content\"><pre>LogisticRegression()</pre></div></div></div></div></div></div></div></div></div></div></div></div>"
      ],
      "text/plain": [
       "StackingClassifier(cv=10,\n",
       "                   estimators=[('svc', SVC()), ('knn', KNeighborsClassifier()),\n",
       "                               ('decision_tree', DecisionTreeClassifier()),\n",
       "                               ('xgb',\n",
       "                                XGBClassifier(base_score=None, booster=None,\n",
       "                                              callbacks=None,\n",
       "                                              colsample_bylevel=None,\n",
       "                                              colsample_bynode=None,\n",
       "                                              colsample_bytree=None,\n",
       "                                              device=None,\n",
       "                                              early_stopping_rounds=None,\n",
       "                                              enable_categorical=False,\n",
       "                                              eval_metric=None,\n",
       "                                              feature_type...\n",
       "                                              learning_rate=None, max_bin=None,\n",
       "                                              max_cat_threshold=None,\n",
       "                                              max_cat_to_onehot=None,\n",
       "                                              max_delta_step=None,\n",
       "                                              max_depth=None, max_leaves=None,\n",
       "                                              min_child_weight=None,\n",
       "                                              missing=nan,\n",
       "                                              monotone_constraints=None,\n",
       "                                              multi_strategy=None,\n",
       "                                              n_estimators=None, n_jobs=None,\n",
       "                                              num_parallel_tree=None,\n",
       "                                              random_state=None, ...)),\n",
       "                               ('random_forest', RandomForestClassifier())],\n",
       "                   final_estimator=LogisticRegression())"
      ]
     },
     "execution_count": 80,
     "metadata": {},
     "output_type": "execute_result"
    }
   ],
   "source": [
    "clf0 = StackingClassifier(estimators=estimators, final_estimator=LogisticRegression(), cv=10)\n",
    "clf0.fit(new_X_train, new_y_train)"
   ]
  },
  {
   "cell_type": "code",
   "execution_count": 81,
   "id": "059d7117",
   "metadata": {
    "execution": {
     "iopub.execute_input": "2024-03-04T02:56:12.599493Z",
     "iopub.status.busy": "2024-03-04T02:56:12.599036Z",
     "iopub.status.idle": "2024-03-04T02:56:12.925301Z",
     "shell.execute_reply": "2024-03-04T02:56:12.924080Z"
    },
    "papermill": {
     "duration": 0.382128,
     "end_time": "2024-03-04T02:56:12.931690",
     "exception": false,
     "start_time": "2024-03-04T02:56:12.549562",
     "status": "completed"
    },
    "tags": []
   },
   "outputs": [
    {
     "name": "stdout",
     "output_type": "stream",
     "text": [
      "              precision    recall  f1-score   support\n",
      "\n",
      "           0       0.94      0.99      0.96      1659\n",
      "           1       0.92      0.70      0.79       341\n",
      "\n",
      "    accuracy                           0.94      2000\n",
      "   macro avg       0.93      0.84      0.88      2000\n",
      "weighted avg       0.94      0.94      0.93      2000\n",
      "\n"
     ]
    }
   ],
   "source": [
    "y_pred_hybrid_nosamp = clf0.predict(new_X_test)\n",
    "print(classification_report(new_y_test, y_pred_hybrid_nosamp))"
   ]
  },
  {
   "cell_type": "markdown",
   "id": "7bff7cf5",
   "metadata": {
    "papermill": {
     "duration": 0.144593,
     "end_time": "2024-03-04T02:56:13.173714",
     "exception": false,
     "start_time": "2024-03-04T02:56:13.029121",
     "status": "completed"
    },
    "tags": []
   },
   "source": [
    "### SMOTETomek"
   ]
  },
  {
   "cell_type": "code",
   "execution_count": 82,
   "id": "77b080dc",
   "metadata": {
    "execution": {
     "iopub.execute_input": "2024-03-04T02:56:13.271806Z",
     "iopub.status.busy": "2024-03-04T02:56:13.271281Z",
     "iopub.status.idle": "2024-03-04T02:56:13.281306Z",
     "shell.execute_reply": "2024-03-04T02:56:13.280159Z"
    },
    "papermill": {
     "duration": 0.062157,
     "end_time": "2024-03-04T02:56:13.283838",
     "exception": false,
     "start_time": "2024-03-04T02:56:13.221681",
     "status": "completed"
    },
    "tags": []
   },
   "outputs": [],
   "source": [
    "estimators = [\n",
    "    ('svc', make_pipeline(SMOTETomek(tomek=TomekLinks(sampling_strategy='majority')),\n",
    "                          SVC(kernel='rbf', C=1.0, probability=True, random_state=13))),\n",
    "    ('knn', make_pipeline(SMOTETomek(tomek=TomekLinks(sampling_strategy='majority')),\n",
    "                          KNeighborsClassifier(n_neighbors=2))),\n",
    "    ('decision_tree', make_pipeline(SMOTETomek(tomek=TomekLinks(sampling_strategy='majority')),\n",
    "                                    DecisionTreeClassifier(random_state=13))),\n",
    "    ('xgb', make_pipeline(SMOTETomek(tomek=TomekLinks(sampling_strategy='majority')),\n",
    "                          XGBClassifier(random_state=13))),\n",
    "    ('random_forest', make_pipeline(SMOTETomek(tomek=TomekLinks(sampling_strategy='majority')),\n",
    "                                    RandomForestClassifier(n_estimators=100, random_state=13)))\n",
    "]\n"
   ]
  },
  {
   "cell_type": "code",
   "execution_count": 83,
   "id": "6d52c592",
   "metadata": {
    "execution": {
     "iopub.execute_input": "2024-03-04T02:56:13.383822Z",
     "iopub.status.busy": "2024-03-04T02:56:13.383296Z",
     "iopub.status.idle": "2024-03-04T03:00:32.246997Z",
     "shell.execute_reply": "2024-03-04T03:00:32.245758Z"
    },
    "papermill": {
     "duration": 258.978762,
     "end_time": "2024-03-04T03:00:32.310617",
     "exception": false,
     "start_time": "2024-03-04T02:56:13.331855",
     "status": "completed"
    },
    "tags": []
   },
   "outputs": [
    {
     "data": {
      "text/html": [
       "<style>#sk-container-id-18 {color: black;background-color: white;}#sk-container-id-18 pre{padding: 0;}#sk-container-id-18 div.sk-toggleable {background-color: white;}#sk-container-id-18 label.sk-toggleable__label {cursor: pointer;display: block;width: 100%;margin-bottom: 0;padding: 0.3em;box-sizing: border-box;text-align: center;}#sk-container-id-18 label.sk-toggleable__label-arrow:before {content: \"▸\";float: left;margin-right: 0.25em;color: #696969;}#sk-container-id-18 label.sk-toggleable__label-arrow:hover:before {color: black;}#sk-container-id-18 div.sk-estimator:hover label.sk-toggleable__label-arrow:before {color: black;}#sk-container-id-18 div.sk-toggleable__content {max-height: 0;max-width: 0;overflow: hidden;text-align: left;background-color: #f0f8ff;}#sk-container-id-18 div.sk-toggleable__content pre {margin: 0.2em;color: black;border-radius: 0.25em;background-color: #f0f8ff;}#sk-container-id-18 input.sk-toggleable__control:checked~div.sk-toggleable__content {max-height: 200px;max-width: 100%;overflow: auto;}#sk-container-id-18 input.sk-toggleable__control:checked~label.sk-toggleable__label-arrow:before {content: \"▾\";}#sk-container-id-18 div.sk-estimator input.sk-toggleable__control:checked~label.sk-toggleable__label {background-color: #d4ebff;}#sk-container-id-18 div.sk-label input.sk-toggleable__control:checked~label.sk-toggleable__label {background-color: #d4ebff;}#sk-container-id-18 input.sk-hidden--visually {border: 0;clip: rect(1px 1px 1px 1px);clip: rect(1px, 1px, 1px, 1px);height: 1px;margin: -1px;overflow: hidden;padding: 0;position: absolute;width: 1px;}#sk-container-id-18 div.sk-estimator {font-family: monospace;background-color: #f0f8ff;border: 1px dotted black;border-radius: 0.25em;box-sizing: border-box;margin-bottom: 0.5em;}#sk-container-id-18 div.sk-estimator:hover {background-color: #d4ebff;}#sk-container-id-18 div.sk-parallel-item::after {content: \"\";width: 100%;border-bottom: 1px solid gray;flex-grow: 1;}#sk-container-id-18 div.sk-label:hover label.sk-toggleable__label {background-color: #d4ebff;}#sk-container-id-18 div.sk-serial::before {content: \"\";position: absolute;border-left: 1px solid gray;box-sizing: border-box;top: 0;bottom: 0;left: 50%;z-index: 0;}#sk-container-id-18 div.sk-serial {display: flex;flex-direction: column;align-items: center;background-color: white;padding-right: 0.2em;padding-left: 0.2em;position: relative;}#sk-container-id-18 div.sk-item {position: relative;z-index: 1;}#sk-container-id-18 div.sk-parallel {display: flex;align-items: stretch;justify-content: center;background-color: white;position: relative;}#sk-container-id-18 div.sk-item::before, #sk-container-id-18 div.sk-parallel-item::before {content: \"\";position: absolute;border-left: 1px solid gray;box-sizing: border-box;top: 0;bottom: 0;left: 50%;z-index: -1;}#sk-container-id-18 div.sk-parallel-item {display: flex;flex-direction: column;z-index: 1;position: relative;background-color: white;}#sk-container-id-18 div.sk-parallel-item:first-child::after {align-self: flex-end;width: 50%;}#sk-container-id-18 div.sk-parallel-item:last-child::after {align-self: flex-start;width: 50%;}#sk-container-id-18 div.sk-parallel-item:only-child::after {width: 0;}#sk-container-id-18 div.sk-dashed-wrapped {border: 1px dashed gray;margin: 0 0.4em 0.5em 0.4em;box-sizing: border-box;padding-bottom: 0.4em;background-color: white;}#sk-container-id-18 div.sk-label label {font-family: monospace;font-weight: bold;display: inline-block;line-height: 1.2em;}#sk-container-id-18 div.sk-label-container {text-align: center;}#sk-container-id-18 div.sk-container {/* jupyter's `normalize.less` sets `[hidden] { display: none; }` but bootstrap.min.css set `[hidden] { display: none !important; }` so we also need the `!important` here to be able to override the default hidden behavior on the sphinx rendered scikit-learn.org. See: https://github.com/scikit-learn/scikit-learn/issues/21755 */display: inline-block !important;position: relative;}#sk-container-id-18 div.sk-text-repr-fallback {display: none;}</style><div id=\"sk-container-id-18\" class=\"sk-top-container\"><div class=\"sk-text-repr-fallback\"><pre>StackingClassifier(cv=10,\n",
       "                   estimators=[(&#x27;svc&#x27;,\n",
       "                                Pipeline(steps=[(&#x27;smotetomek&#x27;,\n",
       "                                                 SMOTETomek(tomek=TomekLinks(sampling_strategy=&#x27;majority&#x27;))),\n",
       "                                                (&#x27;svc&#x27;,\n",
       "                                                 SVC(probability=True,\n",
       "                                                     random_state=13))])),\n",
       "                               (&#x27;knn&#x27;,\n",
       "                                Pipeline(steps=[(&#x27;smotetomek&#x27;,\n",
       "                                                 SMOTETomek(tomek=TomekLinks(sampling_strategy=&#x27;majority&#x27;))),\n",
       "                                                (&#x27;kneighborsclassifier&#x27;,\n",
       "                                                 KNeighborsClassifier(n_neighbors=2))])),\n",
       "                               (&#x27;deci...\n",
       "                                                               missing=nan,\n",
       "                                                               monotone_constraints=None,\n",
       "                                                               multi_strategy=None,\n",
       "                                                               n_estimators=None,\n",
       "                                                               n_jobs=None,\n",
       "                                                               num_parallel_tree=None,\n",
       "                                                               random_state=13, ...))])),\n",
       "                               (&#x27;random_forest&#x27;,\n",
       "                                Pipeline(steps=[(&#x27;smotetomek&#x27;,\n",
       "                                                 SMOTETomek(tomek=TomekLinks(sampling_strategy=&#x27;majority&#x27;))),\n",
       "                                                (&#x27;randomforestclassifier&#x27;,\n",
       "                                                 RandomForestClassifier(random_state=13))]))],\n",
       "                   final_estimator=LogisticRegression())</pre><b>In a Jupyter environment, please rerun this cell to show the HTML representation or trust the notebook. <br />On GitHub, the HTML representation is unable to render, please try loading this page with nbviewer.org.</b></div><div class=\"sk-container\" hidden><div class=\"sk-item sk-dashed-wrapped\"><div class=\"sk-label-container\"><div class=\"sk-label sk-toggleable\"><input class=\"sk-toggleable__control sk-hidden--visually\" id=\"sk-estimator-id-79\" type=\"checkbox\" ><label for=\"sk-estimator-id-79\" class=\"sk-toggleable__label sk-toggleable__label-arrow\">StackingClassifier</label><div class=\"sk-toggleable__content\"><pre>StackingClassifier(cv=10,\n",
       "                   estimators=[(&#x27;svc&#x27;,\n",
       "                                Pipeline(steps=[(&#x27;smotetomek&#x27;,\n",
       "                                                 SMOTETomek(tomek=TomekLinks(sampling_strategy=&#x27;majority&#x27;))),\n",
       "                                                (&#x27;svc&#x27;,\n",
       "                                                 SVC(probability=True,\n",
       "                                                     random_state=13))])),\n",
       "                               (&#x27;knn&#x27;,\n",
       "                                Pipeline(steps=[(&#x27;smotetomek&#x27;,\n",
       "                                                 SMOTETomek(tomek=TomekLinks(sampling_strategy=&#x27;majority&#x27;))),\n",
       "                                                (&#x27;kneighborsclassifier&#x27;,\n",
       "                                                 KNeighborsClassifier(n_neighbors=2))])),\n",
       "                               (&#x27;deci...\n",
       "                                                               missing=nan,\n",
       "                                                               monotone_constraints=None,\n",
       "                                                               multi_strategy=None,\n",
       "                                                               n_estimators=None,\n",
       "                                                               n_jobs=None,\n",
       "                                                               num_parallel_tree=None,\n",
       "                                                               random_state=13, ...))])),\n",
       "                               (&#x27;random_forest&#x27;,\n",
       "                                Pipeline(steps=[(&#x27;smotetomek&#x27;,\n",
       "                                                 SMOTETomek(tomek=TomekLinks(sampling_strategy=&#x27;majority&#x27;))),\n",
       "                                                (&#x27;randomforestclassifier&#x27;,\n",
       "                                                 RandomForestClassifier(random_state=13))]))],\n",
       "                   final_estimator=LogisticRegression())</pre></div></div></div><div class=\"sk-serial\"><div class=\"sk-item\"><div class=\"sk-parallel\"><div class=\"sk-parallel-item\"><div class=\"sk-item\"><div class=\"sk-label-container\"><div class=\"sk-label sk-toggleable\"><label>svc</label></div></div><div class=\"sk-serial\"><div class=\"sk-item\"><div class=\"sk-serial\"><div class=\"sk-item sk-dashed-wrapped\"><div class=\"sk-label-container\"><div class=\"sk-label sk-toggleable\"><input class=\"sk-toggleable__control sk-hidden--visually\" id=\"sk-estimator-id-80\" type=\"checkbox\" ><label for=\"sk-estimator-id-80\" class=\"sk-toggleable__label sk-toggleable__label-arrow\">smotetomek: SMOTETomek</label><div class=\"sk-toggleable__content\"><pre>SMOTETomek(tomek=TomekLinks(sampling_strategy=&#x27;majority&#x27;))</pre></div></div></div><div class=\"sk-parallel\"><div class=\"sk-parallel-item\"><div class=\"sk-item\"><div class=\"sk-label-container\"><div class=\"sk-label sk-toggleable\"><input class=\"sk-toggleable__control sk-hidden--visually\" id=\"sk-estimator-id-81\" type=\"checkbox\" ><label for=\"sk-estimator-id-81\" class=\"sk-toggleable__label sk-toggleable__label-arrow\">tomek: TomekLinks</label><div class=\"sk-toggleable__content\"><pre>TomekLinks(sampling_strategy=&#x27;majority&#x27;)</pre></div></div></div><div class=\"sk-serial\"><div class=\"sk-item\"><div class=\"sk-estimator sk-toggleable\"><input class=\"sk-toggleable__control sk-hidden--visually\" id=\"sk-estimator-id-82\" type=\"checkbox\" ><label for=\"sk-estimator-id-82\" class=\"sk-toggleable__label sk-toggleable__label-arrow\">TomekLinks</label><div class=\"sk-toggleable__content\"><pre>TomekLinks(sampling_strategy=&#x27;majority&#x27;)</pre></div></div></div></div></div></div></div></div><div class=\"sk-item\"><div class=\"sk-estimator sk-toggleable\"><input class=\"sk-toggleable__control sk-hidden--visually\" id=\"sk-estimator-id-83\" type=\"checkbox\" ><label for=\"sk-estimator-id-83\" class=\"sk-toggleable__label sk-toggleable__label-arrow\">SVC</label><div class=\"sk-toggleable__content\"><pre>SVC(probability=True, random_state=13)</pre></div></div></div></div></div></div></div></div><div class=\"sk-parallel-item\"><div class=\"sk-item\"><div class=\"sk-label-container\"><div class=\"sk-label sk-toggleable\"><label>knn</label></div></div><div class=\"sk-serial\"><div class=\"sk-item\"><div class=\"sk-serial\"><div class=\"sk-item sk-dashed-wrapped\"><div class=\"sk-label-container\"><div class=\"sk-label sk-toggleable\"><input class=\"sk-toggleable__control sk-hidden--visually\" id=\"sk-estimator-id-84\" type=\"checkbox\" ><label for=\"sk-estimator-id-84\" class=\"sk-toggleable__label sk-toggleable__label-arrow\">smotetomek: SMOTETomek</label><div class=\"sk-toggleable__content\"><pre>SMOTETomek(tomek=TomekLinks(sampling_strategy=&#x27;majority&#x27;))</pre></div></div></div><div class=\"sk-parallel\"><div class=\"sk-parallel-item\"><div class=\"sk-item\"><div class=\"sk-label-container\"><div class=\"sk-label sk-toggleable\"><input class=\"sk-toggleable__control sk-hidden--visually\" id=\"sk-estimator-id-85\" type=\"checkbox\" ><label for=\"sk-estimator-id-85\" class=\"sk-toggleable__label sk-toggleable__label-arrow\">tomek: TomekLinks</label><div class=\"sk-toggleable__content\"><pre>TomekLinks(sampling_strategy=&#x27;majority&#x27;)</pre></div></div></div><div class=\"sk-serial\"><div class=\"sk-item\"><div class=\"sk-estimator sk-toggleable\"><input class=\"sk-toggleable__control sk-hidden--visually\" id=\"sk-estimator-id-86\" type=\"checkbox\" ><label for=\"sk-estimator-id-86\" class=\"sk-toggleable__label sk-toggleable__label-arrow\">TomekLinks</label><div class=\"sk-toggleable__content\"><pre>TomekLinks(sampling_strategy=&#x27;majority&#x27;)</pre></div></div></div></div></div></div></div></div><div class=\"sk-item\"><div class=\"sk-estimator sk-toggleable\"><input class=\"sk-toggleable__control sk-hidden--visually\" id=\"sk-estimator-id-87\" type=\"checkbox\" ><label for=\"sk-estimator-id-87\" class=\"sk-toggleable__label sk-toggleable__label-arrow\">KNeighborsClassifier</label><div class=\"sk-toggleable__content\"><pre>KNeighborsClassifier(n_neighbors=2)</pre></div></div></div></div></div></div></div></div><div class=\"sk-parallel-item\"><div class=\"sk-item\"><div class=\"sk-label-container\"><div class=\"sk-label sk-toggleable\"><label>decision_tree</label></div></div><div class=\"sk-serial\"><div class=\"sk-item\"><div class=\"sk-serial\"><div class=\"sk-item sk-dashed-wrapped\"><div class=\"sk-label-container\"><div class=\"sk-label sk-toggleable\"><input class=\"sk-toggleable__control sk-hidden--visually\" id=\"sk-estimator-id-88\" type=\"checkbox\" ><label for=\"sk-estimator-id-88\" class=\"sk-toggleable__label sk-toggleable__label-arrow\">smotetomek: SMOTETomek</label><div class=\"sk-toggleable__content\"><pre>SMOTETomek(tomek=TomekLinks(sampling_strategy=&#x27;majority&#x27;))</pre></div></div></div><div class=\"sk-parallel\"><div class=\"sk-parallel-item\"><div class=\"sk-item\"><div class=\"sk-label-container\"><div class=\"sk-label sk-toggleable\"><input class=\"sk-toggleable__control sk-hidden--visually\" id=\"sk-estimator-id-89\" type=\"checkbox\" ><label for=\"sk-estimator-id-89\" class=\"sk-toggleable__label sk-toggleable__label-arrow\">tomek: TomekLinks</label><div class=\"sk-toggleable__content\"><pre>TomekLinks(sampling_strategy=&#x27;majority&#x27;)</pre></div></div></div><div class=\"sk-serial\"><div class=\"sk-item\"><div class=\"sk-estimator sk-toggleable\"><input class=\"sk-toggleable__control sk-hidden--visually\" id=\"sk-estimator-id-90\" type=\"checkbox\" ><label for=\"sk-estimator-id-90\" class=\"sk-toggleable__label sk-toggleable__label-arrow\">TomekLinks</label><div class=\"sk-toggleable__content\"><pre>TomekLinks(sampling_strategy=&#x27;majority&#x27;)</pre></div></div></div></div></div></div></div></div><div class=\"sk-item\"><div class=\"sk-estimator sk-toggleable\"><input class=\"sk-toggleable__control sk-hidden--visually\" id=\"sk-estimator-id-91\" type=\"checkbox\" ><label for=\"sk-estimator-id-91\" class=\"sk-toggleable__label sk-toggleable__label-arrow\">DecisionTreeClassifier</label><div class=\"sk-toggleable__content\"><pre>DecisionTreeClassifier(random_state=13)</pre></div></div></div></div></div></div></div></div><div class=\"sk-parallel-item\"><div class=\"sk-item\"><div class=\"sk-label-container\"><div class=\"sk-label sk-toggleable\"><label>xgb</label></div></div><div class=\"sk-serial\"><div class=\"sk-item\"><div class=\"sk-serial\"><div class=\"sk-item sk-dashed-wrapped\"><div class=\"sk-label-container\"><div class=\"sk-label sk-toggleable\"><input class=\"sk-toggleable__control sk-hidden--visually\" id=\"sk-estimator-id-92\" type=\"checkbox\" ><label for=\"sk-estimator-id-92\" class=\"sk-toggleable__label sk-toggleable__label-arrow\">smotetomek: SMOTETomek</label><div class=\"sk-toggleable__content\"><pre>SMOTETomek(tomek=TomekLinks(sampling_strategy=&#x27;majority&#x27;))</pre></div></div></div><div class=\"sk-parallel\"><div class=\"sk-parallel-item\"><div class=\"sk-item\"><div class=\"sk-label-container\"><div class=\"sk-label sk-toggleable\"><input class=\"sk-toggleable__control sk-hidden--visually\" id=\"sk-estimator-id-93\" type=\"checkbox\" ><label for=\"sk-estimator-id-93\" class=\"sk-toggleable__label sk-toggleable__label-arrow\">tomek: TomekLinks</label><div class=\"sk-toggleable__content\"><pre>TomekLinks(sampling_strategy=&#x27;majority&#x27;)</pre></div></div></div><div class=\"sk-serial\"><div class=\"sk-item\"><div class=\"sk-estimator sk-toggleable\"><input class=\"sk-toggleable__control sk-hidden--visually\" id=\"sk-estimator-id-94\" type=\"checkbox\" ><label for=\"sk-estimator-id-94\" class=\"sk-toggleable__label sk-toggleable__label-arrow\">TomekLinks</label><div class=\"sk-toggleable__content\"><pre>TomekLinks(sampling_strategy=&#x27;majority&#x27;)</pre></div></div></div></div></div></div></div></div><div class=\"sk-item\"><div class=\"sk-estimator sk-toggleable\"><input class=\"sk-toggleable__control sk-hidden--visually\" id=\"sk-estimator-id-95\" type=\"checkbox\" ><label for=\"sk-estimator-id-95\" class=\"sk-toggleable__label sk-toggleable__label-arrow\">XGBClassifier</label><div class=\"sk-toggleable__content\"><pre>XGBClassifier(base_score=None, booster=None, callbacks=None,\n",
       "              colsample_bylevel=None, colsample_bynode=None,\n",
       "              colsample_bytree=None, device=None, early_stopping_rounds=None,\n",
       "              enable_categorical=False, eval_metric=None, feature_types=None,\n",
       "              gamma=None, grow_policy=None, importance_type=None,\n",
       "              interaction_constraints=None, learning_rate=None, max_bin=None,\n",
       "              max_cat_threshold=None, max_cat_to_onehot=None,\n",
       "              max_delta_step=None, max_depth=None, max_leaves=None,\n",
       "              min_child_weight=None, missing=nan, monotone_constraints=None,\n",
       "              multi_strategy=None, n_estimators=None, n_jobs=None,\n",
       "              num_parallel_tree=None, random_state=13, ...)</pre></div></div></div></div></div></div></div></div><div class=\"sk-parallel-item\"><div class=\"sk-item\"><div class=\"sk-label-container\"><div class=\"sk-label sk-toggleable\"><label>random_forest</label></div></div><div class=\"sk-serial\"><div class=\"sk-item\"><div class=\"sk-serial\"><div class=\"sk-item sk-dashed-wrapped\"><div class=\"sk-label-container\"><div class=\"sk-label sk-toggleable\"><input class=\"sk-toggleable__control sk-hidden--visually\" id=\"sk-estimator-id-96\" type=\"checkbox\" ><label for=\"sk-estimator-id-96\" class=\"sk-toggleable__label sk-toggleable__label-arrow\">smotetomek: SMOTETomek</label><div class=\"sk-toggleable__content\"><pre>SMOTETomek(tomek=TomekLinks(sampling_strategy=&#x27;majority&#x27;))</pre></div></div></div><div class=\"sk-parallel\"><div class=\"sk-parallel-item\"><div class=\"sk-item\"><div class=\"sk-label-container\"><div class=\"sk-label sk-toggleable\"><input class=\"sk-toggleable__control sk-hidden--visually\" id=\"sk-estimator-id-97\" type=\"checkbox\" ><label for=\"sk-estimator-id-97\" class=\"sk-toggleable__label sk-toggleable__label-arrow\">tomek: TomekLinks</label><div class=\"sk-toggleable__content\"><pre>TomekLinks(sampling_strategy=&#x27;majority&#x27;)</pre></div></div></div><div class=\"sk-serial\"><div class=\"sk-item\"><div class=\"sk-estimator sk-toggleable\"><input class=\"sk-toggleable__control sk-hidden--visually\" id=\"sk-estimator-id-98\" type=\"checkbox\" ><label for=\"sk-estimator-id-98\" class=\"sk-toggleable__label sk-toggleable__label-arrow\">TomekLinks</label><div class=\"sk-toggleable__content\"><pre>TomekLinks(sampling_strategy=&#x27;majority&#x27;)</pre></div></div></div></div></div></div></div></div><div class=\"sk-item\"><div class=\"sk-estimator sk-toggleable\"><input class=\"sk-toggleable__control sk-hidden--visually\" id=\"sk-estimator-id-99\" type=\"checkbox\" ><label for=\"sk-estimator-id-99\" class=\"sk-toggleable__label sk-toggleable__label-arrow\">RandomForestClassifier</label><div class=\"sk-toggleable__content\"><pre>RandomForestClassifier(random_state=13)</pre></div></div></div></div></div></div></div></div></div></div><div class=\"sk-item\"><div class=\"sk-parallel\"><div class=\"sk-parallel-item\"><div class=\"sk-item\"><div class=\"sk-label-container\"><div class=\"sk-label sk-toggleable\"><label>final_estimator</label></div></div><div class=\"sk-serial\"><div class=\"sk-item\"><div class=\"sk-estimator sk-toggleable\"><input class=\"sk-toggleable__control sk-hidden--visually\" id=\"sk-estimator-id-100\" type=\"checkbox\" ><label for=\"sk-estimator-id-100\" class=\"sk-toggleable__label sk-toggleable__label-arrow\">LogisticRegression</label><div class=\"sk-toggleable__content\"><pre>LogisticRegression()</pre></div></div></div></div></div></div></div></div></div></div></div></div>"
      ],
      "text/plain": [
       "StackingClassifier(cv=10,\n",
       "                   estimators=[('svc',\n",
       "                                Pipeline(steps=[('smotetomek',\n",
       "                                                 SMOTETomek(tomek=TomekLinks(sampling_strategy='majority'))),\n",
       "                                                ('svc',\n",
       "                                                 SVC(probability=True,\n",
       "                                                     random_state=13))])),\n",
       "                               ('knn',\n",
       "                                Pipeline(steps=[('smotetomek',\n",
       "                                                 SMOTETomek(tomek=TomekLinks(sampling_strategy='majority'))),\n",
       "                                                ('kneighborsclassifier',\n",
       "                                                 KNeighborsClassifier(n_neighbors=2))])),\n",
       "                               ('deci...\n",
       "                                                               missing=nan,\n",
       "                                                               monotone_constraints=None,\n",
       "                                                               multi_strategy=None,\n",
       "                                                               n_estimators=None,\n",
       "                                                               n_jobs=None,\n",
       "                                                               num_parallel_tree=None,\n",
       "                                                               random_state=13, ...))])),\n",
       "                               ('random_forest',\n",
       "                                Pipeline(steps=[('smotetomek',\n",
       "                                                 SMOTETomek(tomek=TomekLinks(sampling_strategy='majority'))),\n",
       "                                                ('randomforestclassifier',\n",
       "                                                 RandomForestClassifier(random_state=13))]))],\n",
       "                   final_estimator=LogisticRegression())"
      ]
     },
     "execution_count": 83,
     "metadata": {},
     "output_type": "execute_result"
    }
   ],
   "source": [
    "clf = StackingClassifier(estimators=estimators, final_estimator=LogisticRegression(), cv=10)\n",
    "clf.fit(new_X_train, new_y_train)"
   ]
  },
  {
   "cell_type": "code",
   "execution_count": 84,
   "id": "4612b658",
   "metadata": {
    "execution": {
     "iopub.execute_input": "2024-03-04T03:00:32.414048Z",
     "iopub.status.busy": "2024-03-04T03:00:32.412588Z",
     "iopub.status.idle": "2024-03-04T03:00:33.003885Z",
     "shell.execute_reply": "2024-03-04T03:00:33.001739Z"
    },
    "papermill": {
     "duration": 0.647611,
     "end_time": "2024-03-04T03:00:33.009352",
     "exception": false,
     "start_time": "2024-03-04T03:00:32.361741",
     "status": "completed"
    },
    "tags": []
   },
   "outputs": [],
   "source": [
    "y_pred_hybrid = clf.predict(new_X_test)"
   ]
  },
  {
   "cell_type": "code",
   "execution_count": 85,
   "id": "eb894cd3",
   "metadata": {
    "execution": {
     "iopub.execute_input": "2024-03-04T03:00:33.168132Z",
     "iopub.status.busy": "2024-03-04T03:00:33.167670Z",
     "iopub.status.idle": "2024-03-04T03:00:33.186960Z",
     "shell.execute_reply": "2024-03-04T03:00:33.184869Z"
    },
    "papermill": {
     "duration": 0.075365,
     "end_time": "2024-03-04T03:00:33.189888",
     "exception": false,
     "start_time": "2024-03-04T03:00:33.114523",
     "status": "completed"
    },
    "tags": []
   },
   "outputs": [
    {
     "name": "stdout",
     "output_type": "stream",
     "text": [
      "              precision    recall  f1-score   support\n",
      "\n",
      "           0       0.94      0.98      0.96      1659\n",
      "           1       0.86      0.71      0.78       341\n",
      "\n",
      "    accuracy                           0.93      2000\n",
      "   macro avg       0.90      0.84      0.87      2000\n",
      "weighted avg       0.93      0.93      0.93      2000\n",
      "\n"
     ]
    }
   ],
   "source": [
    "print(classification_report(new_y_test, y_pred_hybrid))"
   ]
  },
  {
   "cell_type": "markdown",
   "id": "95625bb7",
   "metadata": {
    "papermill": {
     "duration": 0.048038,
     "end_time": "2024-03-04T03:00:33.286953",
     "exception": false,
     "start_time": "2024-03-04T03:00:33.238915",
     "status": "completed"
    },
    "tags": []
   },
   "source": [
    "### SMOTEENN"
   ]
  },
  {
   "cell_type": "code",
   "execution_count": 86,
   "id": "97219954",
   "metadata": {
    "execution": {
     "iopub.execute_input": "2024-03-04T03:00:33.388746Z",
     "iopub.status.busy": "2024-03-04T03:00:33.387311Z",
     "iopub.status.idle": "2024-03-04T03:00:33.398599Z",
     "shell.execute_reply": "2024-03-04T03:00:33.397332Z"
    },
    "papermill": {
     "duration": 0.065391,
     "end_time": "2024-03-04T03:00:33.401311",
     "exception": false,
     "start_time": "2024-03-04T03:00:33.335920",
     "status": "completed"
    },
    "tags": []
   },
   "outputs": [],
   "source": [
    "sampling_strategy = {'svc': 'auto', 'knn': 'auto', 'decision_tree': 'auto', 'xgb': 'auto', 'random_forest': 'auto'}\n",
    "\n",
    "estimators1 = [\n",
    "    ('svc', make_pipeline(SMOTEENN(sampling_strategy=sampling_strategy['svc']),\n",
    "                          SVC(kernel='rbf', C=1.0, probability=True, random_state=13))),\n",
    "    ('knn', make_pipeline(SMOTEENN(sampling_strategy=sampling_strategy['knn']),\n",
    "                          KNeighborsClassifier(n_neighbors=2))),\n",
    "    ('decision_tree', make_pipeline(SMOTEENN(sampling_strategy=sampling_strategy['decision_tree']),\n",
    "                                    DecisionTreeClassifier(random_state=13))),\n",
    "    ('xgb', make_pipeline(SMOTEENN(sampling_strategy=sampling_strategy['xgb']),\n",
    "                          XGBClassifier(random_state=13))),\n",
    "    ('random_forest', make_pipeline(SMOTEENN(sampling_strategy=sampling_strategy['random_forest']),\n",
    "                                    RandomForestClassifier(n_estimators=100, random_state=13)))\n",
    "]"
   ]
  },
  {
   "cell_type": "code",
   "execution_count": 87,
   "id": "af2fbbea",
   "metadata": {
    "execution": {
     "iopub.execute_input": "2024-03-04T03:00:33.501731Z",
     "iopub.status.busy": "2024-03-04T03:00:33.501232Z",
     "iopub.status.idle": "2024-03-04T03:03:30.607357Z",
     "shell.execute_reply": "2024-03-04T03:03:30.606015Z"
    },
    "papermill": {
     "duration": 177.209765,
     "end_time": "2024-03-04T03:03:30.660899",
     "exception": false,
     "start_time": "2024-03-04T03:00:33.451134",
     "status": "completed"
    },
    "tags": []
   },
   "outputs": [
    {
     "data": {
      "text/html": [
       "<style>#sk-container-id-19 {color: black;background-color: white;}#sk-container-id-19 pre{padding: 0;}#sk-container-id-19 div.sk-toggleable {background-color: white;}#sk-container-id-19 label.sk-toggleable__label {cursor: pointer;display: block;width: 100%;margin-bottom: 0;padding: 0.3em;box-sizing: border-box;text-align: center;}#sk-container-id-19 label.sk-toggleable__label-arrow:before {content: \"▸\";float: left;margin-right: 0.25em;color: #696969;}#sk-container-id-19 label.sk-toggleable__label-arrow:hover:before {color: black;}#sk-container-id-19 div.sk-estimator:hover label.sk-toggleable__label-arrow:before {color: black;}#sk-container-id-19 div.sk-toggleable__content {max-height: 0;max-width: 0;overflow: hidden;text-align: left;background-color: #f0f8ff;}#sk-container-id-19 div.sk-toggleable__content pre {margin: 0.2em;color: black;border-radius: 0.25em;background-color: #f0f8ff;}#sk-container-id-19 input.sk-toggleable__control:checked~div.sk-toggleable__content {max-height: 200px;max-width: 100%;overflow: auto;}#sk-container-id-19 input.sk-toggleable__control:checked~label.sk-toggleable__label-arrow:before {content: \"▾\";}#sk-container-id-19 div.sk-estimator input.sk-toggleable__control:checked~label.sk-toggleable__label {background-color: #d4ebff;}#sk-container-id-19 div.sk-label input.sk-toggleable__control:checked~label.sk-toggleable__label {background-color: #d4ebff;}#sk-container-id-19 input.sk-hidden--visually {border: 0;clip: rect(1px 1px 1px 1px);clip: rect(1px, 1px, 1px, 1px);height: 1px;margin: -1px;overflow: hidden;padding: 0;position: absolute;width: 1px;}#sk-container-id-19 div.sk-estimator {font-family: monospace;background-color: #f0f8ff;border: 1px dotted black;border-radius: 0.25em;box-sizing: border-box;margin-bottom: 0.5em;}#sk-container-id-19 div.sk-estimator:hover {background-color: #d4ebff;}#sk-container-id-19 div.sk-parallel-item::after {content: \"\";width: 100%;border-bottom: 1px solid gray;flex-grow: 1;}#sk-container-id-19 div.sk-label:hover label.sk-toggleable__label {background-color: #d4ebff;}#sk-container-id-19 div.sk-serial::before {content: \"\";position: absolute;border-left: 1px solid gray;box-sizing: border-box;top: 0;bottom: 0;left: 50%;z-index: 0;}#sk-container-id-19 div.sk-serial {display: flex;flex-direction: column;align-items: center;background-color: white;padding-right: 0.2em;padding-left: 0.2em;position: relative;}#sk-container-id-19 div.sk-item {position: relative;z-index: 1;}#sk-container-id-19 div.sk-parallel {display: flex;align-items: stretch;justify-content: center;background-color: white;position: relative;}#sk-container-id-19 div.sk-item::before, #sk-container-id-19 div.sk-parallel-item::before {content: \"\";position: absolute;border-left: 1px solid gray;box-sizing: border-box;top: 0;bottom: 0;left: 50%;z-index: -1;}#sk-container-id-19 div.sk-parallel-item {display: flex;flex-direction: column;z-index: 1;position: relative;background-color: white;}#sk-container-id-19 div.sk-parallel-item:first-child::after {align-self: flex-end;width: 50%;}#sk-container-id-19 div.sk-parallel-item:last-child::after {align-self: flex-start;width: 50%;}#sk-container-id-19 div.sk-parallel-item:only-child::after {width: 0;}#sk-container-id-19 div.sk-dashed-wrapped {border: 1px dashed gray;margin: 0 0.4em 0.5em 0.4em;box-sizing: border-box;padding-bottom: 0.4em;background-color: white;}#sk-container-id-19 div.sk-label label {font-family: monospace;font-weight: bold;display: inline-block;line-height: 1.2em;}#sk-container-id-19 div.sk-label-container {text-align: center;}#sk-container-id-19 div.sk-container {/* jupyter's `normalize.less` sets `[hidden] { display: none; }` but bootstrap.min.css set `[hidden] { display: none !important; }` so we also need the `!important` here to be able to override the default hidden behavior on the sphinx rendered scikit-learn.org. See: https://github.com/scikit-learn/scikit-learn/issues/21755 */display: inline-block !important;position: relative;}#sk-container-id-19 div.sk-text-repr-fallback {display: none;}</style><div id=\"sk-container-id-19\" class=\"sk-top-container\"><div class=\"sk-text-repr-fallback\"><pre>StackingClassifier(cv=10,\n",
       "                   estimators=[(&#x27;svc&#x27;,\n",
       "                                Pipeline(steps=[(&#x27;smoteenn&#x27;, SMOTEENN()),\n",
       "                                                (&#x27;svc&#x27;,\n",
       "                                                 SVC(probability=True,\n",
       "                                                     random_state=13))])),\n",
       "                               (&#x27;knn&#x27;,\n",
       "                                Pipeline(steps=[(&#x27;smoteenn&#x27;, SMOTEENN()),\n",
       "                                                (&#x27;kneighborsclassifier&#x27;,\n",
       "                                                 KNeighborsClassifier(n_neighbors=2))])),\n",
       "                               (&#x27;decision_tree&#x27;,\n",
       "                                Pipeline(steps=[(&#x27;smoteenn&#x27;, SMOTEENN()),\n",
       "                                                (&#x27;decisiontreeclassifier&#x27;,\n",
       "                                                 DecisionTreeClassifier(...\n",
       "                                                               max_depth=None,\n",
       "                                                               max_leaves=None,\n",
       "                                                               min_child_weight=None,\n",
       "                                                               missing=nan,\n",
       "                                                               monotone_constraints=None,\n",
       "                                                               multi_strategy=None,\n",
       "                                                               n_estimators=None,\n",
       "                                                               n_jobs=None,\n",
       "                                                               num_parallel_tree=None,\n",
       "                                                               random_state=13, ...))])),\n",
       "                               (&#x27;random_forest&#x27;,\n",
       "                                Pipeline(steps=[(&#x27;smoteenn&#x27;, SMOTEENN()),\n",
       "                                                (&#x27;randomforestclassifier&#x27;,\n",
       "                                                 RandomForestClassifier(random_state=13))]))],\n",
       "                   final_estimator=LogisticRegression())</pre><b>In a Jupyter environment, please rerun this cell to show the HTML representation or trust the notebook. <br />On GitHub, the HTML representation is unable to render, please try loading this page with nbviewer.org.</b></div><div class=\"sk-container\" hidden><div class=\"sk-item sk-dashed-wrapped\"><div class=\"sk-label-container\"><div class=\"sk-label sk-toggleable\"><input class=\"sk-toggleable__control sk-hidden--visually\" id=\"sk-estimator-id-101\" type=\"checkbox\" ><label for=\"sk-estimator-id-101\" class=\"sk-toggleable__label sk-toggleable__label-arrow\">StackingClassifier</label><div class=\"sk-toggleable__content\"><pre>StackingClassifier(cv=10,\n",
       "                   estimators=[(&#x27;svc&#x27;,\n",
       "                                Pipeline(steps=[(&#x27;smoteenn&#x27;, SMOTEENN()),\n",
       "                                                (&#x27;svc&#x27;,\n",
       "                                                 SVC(probability=True,\n",
       "                                                     random_state=13))])),\n",
       "                               (&#x27;knn&#x27;,\n",
       "                                Pipeline(steps=[(&#x27;smoteenn&#x27;, SMOTEENN()),\n",
       "                                                (&#x27;kneighborsclassifier&#x27;,\n",
       "                                                 KNeighborsClassifier(n_neighbors=2))])),\n",
       "                               (&#x27;decision_tree&#x27;,\n",
       "                                Pipeline(steps=[(&#x27;smoteenn&#x27;, SMOTEENN()),\n",
       "                                                (&#x27;decisiontreeclassifier&#x27;,\n",
       "                                                 DecisionTreeClassifier(...\n",
       "                                                               max_depth=None,\n",
       "                                                               max_leaves=None,\n",
       "                                                               min_child_weight=None,\n",
       "                                                               missing=nan,\n",
       "                                                               monotone_constraints=None,\n",
       "                                                               multi_strategy=None,\n",
       "                                                               n_estimators=None,\n",
       "                                                               n_jobs=None,\n",
       "                                                               num_parallel_tree=None,\n",
       "                                                               random_state=13, ...))])),\n",
       "                               (&#x27;random_forest&#x27;,\n",
       "                                Pipeline(steps=[(&#x27;smoteenn&#x27;, SMOTEENN()),\n",
       "                                                (&#x27;randomforestclassifier&#x27;,\n",
       "                                                 RandomForestClassifier(random_state=13))]))],\n",
       "                   final_estimator=LogisticRegression())</pre></div></div></div><div class=\"sk-serial\"><div class=\"sk-item\"><div class=\"sk-parallel\"><div class=\"sk-parallel-item\"><div class=\"sk-item\"><div class=\"sk-label-container\"><div class=\"sk-label sk-toggleable\"><label>svc</label></div></div><div class=\"sk-serial\"><div class=\"sk-item\"><div class=\"sk-serial\"><div class=\"sk-item\"><div class=\"sk-estimator sk-toggleable\"><input class=\"sk-toggleable__control sk-hidden--visually\" id=\"sk-estimator-id-102\" type=\"checkbox\" ><label for=\"sk-estimator-id-102\" class=\"sk-toggleable__label sk-toggleable__label-arrow\">SMOTEENN</label><div class=\"sk-toggleable__content\"><pre>SMOTEENN()</pre></div></div></div><div class=\"sk-item\"><div class=\"sk-estimator sk-toggleable\"><input class=\"sk-toggleable__control sk-hidden--visually\" id=\"sk-estimator-id-103\" type=\"checkbox\" ><label for=\"sk-estimator-id-103\" class=\"sk-toggleable__label sk-toggleable__label-arrow\">SVC</label><div class=\"sk-toggleable__content\"><pre>SVC(probability=True, random_state=13)</pre></div></div></div></div></div></div></div></div><div class=\"sk-parallel-item\"><div class=\"sk-item\"><div class=\"sk-label-container\"><div class=\"sk-label sk-toggleable\"><label>knn</label></div></div><div class=\"sk-serial\"><div class=\"sk-item\"><div class=\"sk-serial\"><div class=\"sk-item\"><div class=\"sk-estimator sk-toggleable\"><input class=\"sk-toggleable__control sk-hidden--visually\" id=\"sk-estimator-id-104\" type=\"checkbox\" ><label for=\"sk-estimator-id-104\" class=\"sk-toggleable__label sk-toggleable__label-arrow\">SMOTEENN</label><div class=\"sk-toggleable__content\"><pre>SMOTEENN()</pre></div></div></div><div class=\"sk-item\"><div class=\"sk-estimator sk-toggleable\"><input class=\"sk-toggleable__control sk-hidden--visually\" id=\"sk-estimator-id-105\" type=\"checkbox\" ><label for=\"sk-estimator-id-105\" class=\"sk-toggleable__label sk-toggleable__label-arrow\">KNeighborsClassifier</label><div class=\"sk-toggleable__content\"><pre>KNeighborsClassifier(n_neighbors=2)</pre></div></div></div></div></div></div></div></div><div class=\"sk-parallel-item\"><div class=\"sk-item\"><div class=\"sk-label-container\"><div class=\"sk-label sk-toggleable\"><label>decision_tree</label></div></div><div class=\"sk-serial\"><div class=\"sk-item\"><div class=\"sk-serial\"><div class=\"sk-item\"><div class=\"sk-estimator sk-toggleable\"><input class=\"sk-toggleable__control sk-hidden--visually\" id=\"sk-estimator-id-106\" type=\"checkbox\" ><label for=\"sk-estimator-id-106\" class=\"sk-toggleable__label sk-toggleable__label-arrow\">SMOTEENN</label><div class=\"sk-toggleable__content\"><pre>SMOTEENN()</pre></div></div></div><div class=\"sk-item\"><div class=\"sk-estimator sk-toggleable\"><input class=\"sk-toggleable__control sk-hidden--visually\" id=\"sk-estimator-id-107\" type=\"checkbox\" ><label for=\"sk-estimator-id-107\" class=\"sk-toggleable__label sk-toggleable__label-arrow\">DecisionTreeClassifier</label><div class=\"sk-toggleable__content\"><pre>DecisionTreeClassifier(random_state=13)</pre></div></div></div></div></div></div></div></div><div class=\"sk-parallel-item\"><div class=\"sk-item\"><div class=\"sk-label-container\"><div class=\"sk-label sk-toggleable\"><label>xgb</label></div></div><div class=\"sk-serial\"><div class=\"sk-item\"><div class=\"sk-serial\"><div class=\"sk-item\"><div class=\"sk-estimator sk-toggleable\"><input class=\"sk-toggleable__control sk-hidden--visually\" id=\"sk-estimator-id-108\" type=\"checkbox\" ><label for=\"sk-estimator-id-108\" class=\"sk-toggleable__label sk-toggleable__label-arrow\">SMOTEENN</label><div class=\"sk-toggleable__content\"><pre>SMOTEENN()</pre></div></div></div><div class=\"sk-item\"><div class=\"sk-estimator sk-toggleable\"><input class=\"sk-toggleable__control sk-hidden--visually\" id=\"sk-estimator-id-109\" type=\"checkbox\" ><label for=\"sk-estimator-id-109\" class=\"sk-toggleable__label sk-toggleable__label-arrow\">XGBClassifier</label><div class=\"sk-toggleable__content\"><pre>XGBClassifier(base_score=None, booster=None, callbacks=None,\n",
       "              colsample_bylevel=None, colsample_bynode=None,\n",
       "              colsample_bytree=None, device=None, early_stopping_rounds=None,\n",
       "              enable_categorical=False, eval_metric=None, feature_types=None,\n",
       "              gamma=None, grow_policy=None, importance_type=None,\n",
       "              interaction_constraints=None, learning_rate=None, max_bin=None,\n",
       "              max_cat_threshold=None, max_cat_to_onehot=None,\n",
       "              max_delta_step=None, max_depth=None, max_leaves=None,\n",
       "              min_child_weight=None, missing=nan, monotone_constraints=None,\n",
       "              multi_strategy=None, n_estimators=None, n_jobs=None,\n",
       "              num_parallel_tree=None, random_state=13, ...)</pre></div></div></div></div></div></div></div></div><div class=\"sk-parallel-item\"><div class=\"sk-item\"><div class=\"sk-label-container\"><div class=\"sk-label sk-toggleable\"><label>random_forest</label></div></div><div class=\"sk-serial\"><div class=\"sk-item\"><div class=\"sk-serial\"><div class=\"sk-item\"><div class=\"sk-estimator sk-toggleable\"><input class=\"sk-toggleable__control sk-hidden--visually\" id=\"sk-estimator-id-110\" type=\"checkbox\" ><label for=\"sk-estimator-id-110\" class=\"sk-toggleable__label sk-toggleable__label-arrow\">SMOTEENN</label><div class=\"sk-toggleable__content\"><pre>SMOTEENN()</pre></div></div></div><div class=\"sk-item\"><div class=\"sk-estimator sk-toggleable\"><input class=\"sk-toggleable__control sk-hidden--visually\" id=\"sk-estimator-id-111\" type=\"checkbox\" ><label for=\"sk-estimator-id-111\" class=\"sk-toggleable__label sk-toggleable__label-arrow\">RandomForestClassifier</label><div class=\"sk-toggleable__content\"><pre>RandomForestClassifier(random_state=13)</pre></div></div></div></div></div></div></div></div></div></div><div class=\"sk-item\"><div class=\"sk-parallel\"><div class=\"sk-parallel-item\"><div class=\"sk-item\"><div class=\"sk-label-container\"><div class=\"sk-label sk-toggleable\"><label>final_estimator</label></div></div><div class=\"sk-serial\"><div class=\"sk-item\"><div class=\"sk-estimator sk-toggleable\"><input class=\"sk-toggleable__control sk-hidden--visually\" id=\"sk-estimator-id-112\" type=\"checkbox\" ><label for=\"sk-estimator-id-112\" class=\"sk-toggleable__label sk-toggleable__label-arrow\">LogisticRegression</label><div class=\"sk-toggleable__content\"><pre>LogisticRegression()</pre></div></div></div></div></div></div></div></div></div></div></div></div>"
      ],
      "text/plain": [
       "StackingClassifier(cv=10,\n",
       "                   estimators=[('svc',\n",
       "                                Pipeline(steps=[('smoteenn', SMOTEENN()),\n",
       "                                                ('svc',\n",
       "                                                 SVC(probability=True,\n",
       "                                                     random_state=13))])),\n",
       "                               ('knn',\n",
       "                                Pipeline(steps=[('smoteenn', SMOTEENN()),\n",
       "                                                ('kneighborsclassifier',\n",
       "                                                 KNeighborsClassifier(n_neighbors=2))])),\n",
       "                               ('decision_tree',\n",
       "                                Pipeline(steps=[('smoteenn', SMOTEENN()),\n",
       "                                                ('decisiontreeclassifier',\n",
       "                                                 DecisionTreeClassifier(...\n",
       "                                                               max_depth=None,\n",
       "                                                               max_leaves=None,\n",
       "                                                               min_child_weight=None,\n",
       "                                                               missing=nan,\n",
       "                                                               monotone_constraints=None,\n",
       "                                                               multi_strategy=None,\n",
       "                                                               n_estimators=None,\n",
       "                                                               n_jobs=None,\n",
       "                                                               num_parallel_tree=None,\n",
       "                                                               random_state=13, ...))])),\n",
       "                               ('random_forest',\n",
       "                                Pipeline(steps=[('smoteenn', SMOTEENN()),\n",
       "                                                ('randomforestclassifier',\n",
       "                                                 RandomForestClassifier(random_state=13))]))],\n",
       "                   final_estimator=LogisticRegression())"
      ]
     },
     "execution_count": 87,
     "metadata": {},
     "output_type": "execute_result"
    }
   ],
   "source": [
    "clf1 = StackingClassifier(estimators=estimators1, final_estimator=LogisticRegression(), cv=10)\n",
    "clf1.fit(new_X_train, new_y_train)"
   ]
  },
  {
   "cell_type": "code",
   "execution_count": 88,
   "id": "448937f0",
   "metadata": {
    "execution": {
     "iopub.execute_input": "2024-03-04T03:03:30.762086Z",
     "iopub.status.busy": "2024-03-04T03:03:30.761612Z",
     "iopub.status.idle": "2024-03-04T03:03:31.225367Z",
     "shell.execute_reply": "2024-03-04T03:03:31.224034Z"
    },
    "papermill": {
     "duration": 0.521507,
     "end_time": "2024-03-04T03:03:31.231601",
     "exception": false,
     "start_time": "2024-03-04T03:03:30.710094",
     "status": "completed"
    },
    "tags": []
   },
   "outputs": [
    {
     "name": "stdout",
     "output_type": "stream",
     "text": [
      "              precision    recall  f1-score   support\n",
      "\n",
      "           0       0.95      0.97      0.96      1659\n",
      "           1       0.82      0.76      0.79       341\n",
      "\n",
      "    accuracy                           0.93      2000\n",
      "   macro avg       0.88      0.86      0.87      2000\n",
      "weighted avg       0.93      0.93      0.93      2000\n",
      "\n"
     ]
    }
   ],
   "source": [
    "y_pred_hybrid1 = clf1.predict(new_X_test)\n",
    "print(classification_report(new_y_test, y_pred_hybrid1))"
   ]
  },
  {
   "cell_type": "markdown",
   "id": "414c91a4",
   "metadata": {
    "papermill": {
     "duration": 0.143445,
     "end_time": "2024-03-04T03:03:31.512066",
     "exception": false,
     "start_time": "2024-03-04T03:03:31.368621",
     "status": "completed"
    },
    "tags": []
   },
   "source": [
    "### SMOTE-RUS"
   ]
  },
  {
   "cell_type": "code",
   "execution_count": 89,
   "id": "c9b5aff8",
   "metadata": {
    "execution": {
     "iopub.execute_input": "2024-03-04T03:03:31.788950Z",
     "iopub.status.busy": "2024-03-04T03:03:31.787547Z",
     "iopub.status.idle": "2024-03-04T03:03:31.819438Z",
     "shell.execute_reply": "2024-03-04T03:03:31.815321Z"
    },
    "papermill": {
     "duration": 0.175561,
     "end_time": "2024-03-04T03:03:31.827955",
     "exception": false,
     "start_time": "2024-03-04T03:03:31.652394",
     "status": "completed"
    },
    "tags": []
   },
   "outputs": [],
   "source": [
    "estimators2 = [\n",
    "    ('svc', make_pipeline(SMOTE(sampling_strategy=sampling_strategy['svc']),\n",
    "                          RandomUnderSampler(),\n",
    "                          SVC(kernel='rbf', C=1.0, probability=True, random_state=13))),\n",
    "    ('knn', make_pipeline(SMOTE(sampling_strategy=sampling_strategy['knn']),\n",
    "                          RandomUnderSampler(),\n",
    "                          KNeighborsClassifier(n_neighbors=2))),\n",
    "    ('decision_tree', make_pipeline(SMOTE(sampling_strategy=sampling_strategy['decision_tree']),\n",
    "                                    RandomUnderSampler(),\n",
    "                                    DecisionTreeClassifier(random_state=13))),\n",
    "    ('xgb', make_pipeline(SMOTE(sampling_strategy=sampling_strategy['xgb']),\n",
    "                          RandomUnderSampler(),\n",
    "                          XGBClassifier(random_state=13))),\n",
    "    ('random_forest', make_pipeline(SMOTE(sampling_strategy=sampling_strategy['random_forest']),\n",
    "                                    RandomUnderSampler(),\n",
    "                                    RandomForestClassifier(n_estimators=100, random_state=13)))\n",
    "]"
   ]
  },
  {
   "cell_type": "code",
   "execution_count": 90,
   "id": "d24d8721",
   "metadata": {
    "execution": {
     "iopub.execute_input": "2024-03-04T03:03:32.034039Z",
     "iopub.status.busy": "2024-03-04T03:03:32.033114Z",
     "iopub.status.idle": "2024-03-04T03:07:50.671455Z",
     "shell.execute_reply": "2024-03-04T03:07:50.669978Z"
    },
    "papermill": {
     "duration": 258.759506,
     "end_time": "2024-03-04T03:07:50.726138",
     "exception": false,
     "start_time": "2024-03-04T03:03:31.966632",
     "status": "completed"
    },
    "tags": []
   },
   "outputs": [
    {
     "data": {
      "text/html": [
       "<style>#sk-container-id-20 {color: black;background-color: white;}#sk-container-id-20 pre{padding: 0;}#sk-container-id-20 div.sk-toggleable {background-color: white;}#sk-container-id-20 label.sk-toggleable__label {cursor: pointer;display: block;width: 100%;margin-bottom: 0;padding: 0.3em;box-sizing: border-box;text-align: center;}#sk-container-id-20 label.sk-toggleable__label-arrow:before {content: \"▸\";float: left;margin-right: 0.25em;color: #696969;}#sk-container-id-20 label.sk-toggleable__label-arrow:hover:before {color: black;}#sk-container-id-20 div.sk-estimator:hover label.sk-toggleable__label-arrow:before {color: black;}#sk-container-id-20 div.sk-toggleable__content {max-height: 0;max-width: 0;overflow: hidden;text-align: left;background-color: #f0f8ff;}#sk-container-id-20 div.sk-toggleable__content pre {margin: 0.2em;color: black;border-radius: 0.25em;background-color: #f0f8ff;}#sk-container-id-20 input.sk-toggleable__control:checked~div.sk-toggleable__content {max-height: 200px;max-width: 100%;overflow: auto;}#sk-container-id-20 input.sk-toggleable__control:checked~label.sk-toggleable__label-arrow:before {content: \"▾\";}#sk-container-id-20 div.sk-estimator input.sk-toggleable__control:checked~label.sk-toggleable__label {background-color: #d4ebff;}#sk-container-id-20 div.sk-label input.sk-toggleable__control:checked~label.sk-toggleable__label {background-color: #d4ebff;}#sk-container-id-20 input.sk-hidden--visually {border: 0;clip: rect(1px 1px 1px 1px);clip: rect(1px, 1px, 1px, 1px);height: 1px;margin: -1px;overflow: hidden;padding: 0;position: absolute;width: 1px;}#sk-container-id-20 div.sk-estimator {font-family: monospace;background-color: #f0f8ff;border: 1px dotted black;border-radius: 0.25em;box-sizing: border-box;margin-bottom: 0.5em;}#sk-container-id-20 div.sk-estimator:hover {background-color: #d4ebff;}#sk-container-id-20 div.sk-parallel-item::after {content: \"\";width: 100%;border-bottom: 1px solid gray;flex-grow: 1;}#sk-container-id-20 div.sk-label:hover label.sk-toggleable__label {background-color: #d4ebff;}#sk-container-id-20 div.sk-serial::before {content: \"\";position: absolute;border-left: 1px solid gray;box-sizing: border-box;top: 0;bottom: 0;left: 50%;z-index: 0;}#sk-container-id-20 div.sk-serial {display: flex;flex-direction: column;align-items: center;background-color: white;padding-right: 0.2em;padding-left: 0.2em;position: relative;}#sk-container-id-20 div.sk-item {position: relative;z-index: 1;}#sk-container-id-20 div.sk-parallel {display: flex;align-items: stretch;justify-content: center;background-color: white;position: relative;}#sk-container-id-20 div.sk-item::before, #sk-container-id-20 div.sk-parallel-item::before {content: \"\";position: absolute;border-left: 1px solid gray;box-sizing: border-box;top: 0;bottom: 0;left: 50%;z-index: -1;}#sk-container-id-20 div.sk-parallel-item {display: flex;flex-direction: column;z-index: 1;position: relative;background-color: white;}#sk-container-id-20 div.sk-parallel-item:first-child::after {align-self: flex-end;width: 50%;}#sk-container-id-20 div.sk-parallel-item:last-child::after {align-self: flex-start;width: 50%;}#sk-container-id-20 div.sk-parallel-item:only-child::after {width: 0;}#sk-container-id-20 div.sk-dashed-wrapped {border: 1px dashed gray;margin: 0 0.4em 0.5em 0.4em;box-sizing: border-box;padding-bottom: 0.4em;background-color: white;}#sk-container-id-20 div.sk-label label {font-family: monospace;font-weight: bold;display: inline-block;line-height: 1.2em;}#sk-container-id-20 div.sk-label-container {text-align: center;}#sk-container-id-20 div.sk-container {/* jupyter's `normalize.less` sets `[hidden] { display: none; }` but bootstrap.min.css set `[hidden] { display: none !important; }` so we also need the `!important` here to be able to override the default hidden behavior on the sphinx rendered scikit-learn.org. See: https://github.com/scikit-learn/scikit-learn/issues/21755 */display: inline-block !important;position: relative;}#sk-container-id-20 div.sk-text-repr-fallback {display: none;}</style><div id=\"sk-container-id-20\" class=\"sk-top-container\"><div class=\"sk-text-repr-fallback\"><pre>StackingClassifier(cv=10,\n",
       "                   estimators=[(&#x27;svc&#x27;,\n",
       "                                Pipeline(steps=[(&#x27;smote&#x27;, SMOTE()),\n",
       "                                                (&#x27;randomundersampler&#x27;,\n",
       "                                                 RandomUnderSampler()),\n",
       "                                                (&#x27;svc&#x27;,\n",
       "                                                 SVC(probability=True,\n",
       "                                                     random_state=13))])),\n",
       "                               (&#x27;knn&#x27;,\n",
       "                                Pipeline(steps=[(&#x27;smote&#x27;, SMOTE()),\n",
       "                                                (&#x27;randomundersampler&#x27;,\n",
       "                                                 RandomUnderSampler()),\n",
       "                                                (&#x27;kneighborsclassifier&#x27;,\n",
       "                                                 KNeighborsClassifier(n_neighbors=2))])),\n",
       "                               (&#x27;decision_tree&#x27;,\n",
       "                                Pipeline(step...\n",
       "                                                               min_child_weight=None,\n",
       "                                                               missing=nan,\n",
       "                                                               monotone_constraints=None,\n",
       "                                                               multi_strategy=None,\n",
       "                                                               n_estimators=None,\n",
       "                                                               n_jobs=None,\n",
       "                                                               num_parallel_tree=None,\n",
       "                                                               random_state=13, ...))])),\n",
       "                               (&#x27;random_forest&#x27;,\n",
       "                                Pipeline(steps=[(&#x27;smote&#x27;, SMOTE()),\n",
       "                                                (&#x27;randomundersampler&#x27;,\n",
       "                                                 RandomUnderSampler()),\n",
       "                                                (&#x27;randomforestclassifier&#x27;,\n",
       "                                                 RandomForestClassifier(random_state=13))]))],\n",
       "                   final_estimator=LogisticRegression())</pre><b>In a Jupyter environment, please rerun this cell to show the HTML representation or trust the notebook. <br />On GitHub, the HTML representation is unable to render, please try loading this page with nbviewer.org.</b></div><div class=\"sk-container\" hidden><div class=\"sk-item sk-dashed-wrapped\"><div class=\"sk-label-container\"><div class=\"sk-label sk-toggleable\"><input class=\"sk-toggleable__control sk-hidden--visually\" id=\"sk-estimator-id-113\" type=\"checkbox\" ><label for=\"sk-estimator-id-113\" class=\"sk-toggleable__label sk-toggleable__label-arrow\">StackingClassifier</label><div class=\"sk-toggleable__content\"><pre>StackingClassifier(cv=10,\n",
       "                   estimators=[(&#x27;svc&#x27;,\n",
       "                                Pipeline(steps=[(&#x27;smote&#x27;, SMOTE()),\n",
       "                                                (&#x27;randomundersampler&#x27;,\n",
       "                                                 RandomUnderSampler()),\n",
       "                                                (&#x27;svc&#x27;,\n",
       "                                                 SVC(probability=True,\n",
       "                                                     random_state=13))])),\n",
       "                               (&#x27;knn&#x27;,\n",
       "                                Pipeline(steps=[(&#x27;smote&#x27;, SMOTE()),\n",
       "                                                (&#x27;randomundersampler&#x27;,\n",
       "                                                 RandomUnderSampler()),\n",
       "                                                (&#x27;kneighborsclassifier&#x27;,\n",
       "                                                 KNeighborsClassifier(n_neighbors=2))])),\n",
       "                               (&#x27;decision_tree&#x27;,\n",
       "                                Pipeline(step...\n",
       "                                                               min_child_weight=None,\n",
       "                                                               missing=nan,\n",
       "                                                               monotone_constraints=None,\n",
       "                                                               multi_strategy=None,\n",
       "                                                               n_estimators=None,\n",
       "                                                               n_jobs=None,\n",
       "                                                               num_parallel_tree=None,\n",
       "                                                               random_state=13, ...))])),\n",
       "                               (&#x27;random_forest&#x27;,\n",
       "                                Pipeline(steps=[(&#x27;smote&#x27;, SMOTE()),\n",
       "                                                (&#x27;randomundersampler&#x27;,\n",
       "                                                 RandomUnderSampler()),\n",
       "                                                (&#x27;randomforestclassifier&#x27;,\n",
       "                                                 RandomForestClassifier(random_state=13))]))],\n",
       "                   final_estimator=LogisticRegression())</pre></div></div></div><div class=\"sk-serial\"><div class=\"sk-item\"><div class=\"sk-parallel\"><div class=\"sk-parallel-item\"><div class=\"sk-item\"><div class=\"sk-label-container\"><div class=\"sk-label sk-toggleable\"><label>svc</label></div></div><div class=\"sk-serial\"><div class=\"sk-item\"><div class=\"sk-serial\"><div class=\"sk-item\"><div class=\"sk-estimator sk-toggleable\"><input class=\"sk-toggleable__control sk-hidden--visually\" id=\"sk-estimator-id-114\" type=\"checkbox\" ><label for=\"sk-estimator-id-114\" class=\"sk-toggleable__label sk-toggleable__label-arrow\">SMOTE</label><div class=\"sk-toggleable__content\"><pre>SMOTE()</pre></div></div></div><div class=\"sk-item\"><div class=\"sk-estimator sk-toggleable\"><input class=\"sk-toggleable__control sk-hidden--visually\" id=\"sk-estimator-id-115\" type=\"checkbox\" ><label for=\"sk-estimator-id-115\" class=\"sk-toggleable__label sk-toggleable__label-arrow\">RandomUnderSampler</label><div class=\"sk-toggleable__content\"><pre>RandomUnderSampler()</pre></div></div></div><div class=\"sk-item\"><div class=\"sk-estimator sk-toggleable\"><input class=\"sk-toggleable__control sk-hidden--visually\" id=\"sk-estimator-id-116\" type=\"checkbox\" ><label for=\"sk-estimator-id-116\" class=\"sk-toggleable__label sk-toggleable__label-arrow\">SVC</label><div class=\"sk-toggleable__content\"><pre>SVC(probability=True, random_state=13)</pre></div></div></div></div></div></div></div></div><div class=\"sk-parallel-item\"><div class=\"sk-item\"><div class=\"sk-label-container\"><div class=\"sk-label sk-toggleable\"><label>knn</label></div></div><div class=\"sk-serial\"><div class=\"sk-item\"><div class=\"sk-serial\"><div class=\"sk-item\"><div class=\"sk-estimator sk-toggleable\"><input class=\"sk-toggleable__control sk-hidden--visually\" id=\"sk-estimator-id-117\" type=\"checkbox\" ><label for=\"sk-estimator-id-117\" class=\"sk-toggleable__label sk-toggleable__label-arrow\">SMOTE</label><div class=\"sk-toggleable__content\"><pre>SMOTE()</pre></div></div></div><div class=\"sk-item\"><div class=\"sk-estimator sk-toggleable\"><input class=\"sk-toggleable__control sk-hidden--visually\" id=\"sk-estimator-id-118\" type=\"checkbox\" ><label for=\"sk-estimator-id-118\" class=\"sk-toggleable__label sk-toggleable__label-arrow\">RandomUnderSampler</label><div class=\"sk-toggleable__content\"><pre>RandomUnderSampler()</pre></div></div></div><div class=\"sk-item\"><div class=\"sk-estimator sk-toggleable\"><input class=\"sk-toggleable__control sk-hidden--visually\" id=\"sk-estimator-id-119\" type=\"checkbox\" ><label for=\"sk-estimator-id-119\" class=\"sk-toggleable__label sk-toggleable__label-arrow\">KNeighborsClassifier</label><div class=\"sk-toggleable__content\"><pre>KNeighborsClassifier(n_neighbors=2)</pre></div></div></div></div></div></div></div></div><div class=\"sk-parallel-item\"><div class=\"sk-item\"><div class=\"sk-label-container\"><div class=\"sk-label sk-toggleable\"><label>decision_tree</label></div></div><div class=\"sk-serial\"><div class=\"sk-item\"><div class=\"sk-serial\"><div class=\"sk-item\"><div class=\"sk-estimator sk-toggleable\"><input class=\"sk-toggleable__control sk-hidden--visually\" id=\"sk-estimator-id-120\" type=\"checkbox\" ><label for=\"sk-estimator-id-120\" class=\"sk-toggleable__label sk-toggleable__label-arrow\">SMOTE</label><div class=\"sk-toggleable__content\"><pre>SMOTE()</pre></div></div></div><div class=\"sk-item\"><div class=\"sk-estimator sk-toggleable\"><input class=\"sk-toggleable__control sk-hidden--visually\" id=\"sk-estimator-id-121\" type=\"checkbox\" ><label for=\"sk-estimator-id-121\" class=\"sk-toggleable__label sk-toggleable__label-arrow\">RandomUnderSampler</label><div class=\"sk-toggleable__content\"><pre>RandomUnderSampler()</pre></div></div></div><div class=\"sk-item\"><div class=\"sk-estimator sk-toggleable\"><input class=\"sk-toggleable__control sk-hidden--visually\" id=\"sk-estimator-id-122\" type=\"checkbox\" ><label for=\"sk-estimator-id-122\" class=\"sk-toggleable__label sk-toggleable__label-arrow\">DecisionTreeClassifier</label><div class=\"sk-toggleable__content\"><pre>DecisionTreeClassifier(random_state=13)</pre></div></div></div></div></div></div></div></div><div class=\"sk-parallel-item\"><div class=\"sk-item\"><div class=\"sk-label-container\"><div class=\"sk-label sk-toggleable\"><label>xgb</label></div></div><div class=\"sk-serial\"><div class=\"sk-item\"><div class=\"sk-serial\"><div class=\"sk-item\"><div class=\"sk-estimator sk-toggleable\"><input class=\"sk-toggleable__control sk-hidden--visually\" id=\"sk-estimator-id-123\" type=\"checkbox\" ><label for=\"sk-estimator-id-123\" class=\"sk-toggleable__label sk-toggleable__label-arrow\">SMOTE</label><div class=\"sk-toggleable__content\"><pre>SMOTE()</pre></div></div></div><div class=\"sk-item\"><div class=\"sk-estimator sk-toggleable\"><input class=\"sk-toggleable__control sk-hidden--visually\" id=\"sk-estimator-id-124\" type=\"checkbox\" ><label for=\"sk-estimator-id-124\" class=\"sk-toggleable__label sk-toggleable__label-arrow\">RandomUnderSampler</label><div class=\"sk-toggleable__content\"><pre>RandomUnderSampler()</pre></div></div></div><div class=\"sk-item\"><div class=\"sk-estimator sk-toggleable\"><input class=\"sk-toggleable__control sk-hidden--visually\" id=\"sk-estimator-id-125\" type=\"checkbox\" ><label for=\"sk-estimator-id-125\" class=\"sk-toggleable__label sk-toggleable__label-arrow\">XGBClassifier</label><div class=\"sk-toggleable__content\"><pre>XGBClassifier(base_score=None, booster=None, callbacks=None,\n",
       "              colsample_bylevel=None, colsample_bynode=None,\n",
       "              colsample_bytree=None, device=None, early_stopping_rounds=None,\n",
       "              enable_categorical=False, eval_metric=None, feature_types=None,\n",
       "              gamma=None, grow_policy=None, importance_type=None,\n",
       "              interaction_constraints=None, learning_rate=None, max_bin=None,\n",
       "              max_cat_threshold=None, max_cat_to_onehot=None,\n",
       "              max_delta_step=None, max_depth=None, max_leaves=None,\n",
       "              min_child_weight=None, missing=nan, monotone_constraints=None,\n",
       "              multi_strategy=None, n_estimators=None, n_jobs=None,\n",
       "              num_parallel_tree=None, random_state=13, ...)</pre></div></div></div></div></div></div></div></div><div class=\"sk-parallel-item\"><div class=\"sk-item\"><div class=\"sk-label-container\"><div class=\"sk-label sk-toggleable\"><label>random_forest</label></div></div><div class=\"sk-serial\"><div class=\"sk-item\"><div class=\"sk-serial\"><div class=\"sk-item\"><div class=\"sk-estimator sk-toggleable\"><input class=\"sk-toggleable__control sk-hidden--visually\" id=\"sk-estimator-id-126\" type=\"checkbox\" ><label for=\"sk-estimator-id-126\" class=\"sk-toggleable__label sk-toggleable__label-arrow\">SMOTE</label><div class=\"sk-toggleable__content\"><pre>SMOTE()</pre></div></div></div><div class=\"sk-item\"><div class=\"sk-estimator sk-toggleable\"><input class=\"sk-toggleable__control sk-hidden--visually\" id=\"sk-estimator-id-127\" type=\"checkbox\" ><label for=\"sk-estimator-id-127\" class=\"sk-toggleable__label sk-toggleable__label-arrow\">RandomUnderSampler</label><div class=\"sk-toggleable__content\"><pre>RandomUnderSampler()</pre></div></div></div><div class=\"sk-item\"><div class=\"sk-estimator sk-toggleable\"><input class=\"sk-toggleable__control sk-hidden--visually\" id=\"sk-estimator-id-128\" type=\"checkbox\" ><label for=\"sk-estimator-id-128\" class=\"sk-toggleable__label sk-toggleable__label-arrow\">RandomForestClassifier</label><div class=\"sk-toggleable__content\"><pre>RandomForestClassifier(random_state=13)</pre></div></div></div></div></div></div></div></div></div></div><div class=\"sk-item\"><div class=\"sk-parallel\"><div class=\"sk-parallel-item\"><div class=\"sk-item\"><div class=\"sk-label-container\"><div class=\"sk-label sk-toggleable\"><label>final_estimator</label></div></div><div class=\"sk-serial\"><div class=\"sk-item\"><div class=\"sk-estimator sk-toggleable\"><input class=\"sk-toggleable__control sk-hidden--visually\" id=\"sk-estimator-id-129\" type=\"checkbox\" ><label for=\"sk-estimator-id-129\" class=\"sk-toggleable__label sk-toggleable__label-arrow\">LogisticRegression</label><div class=\"sk-toggleable__content\"><pre>LogisticRegression()</pre></div></div></div></div></div></div></div></div></div></div></div></div>"
      ],
      "text/plain": [
       "StackingClassifier(cv=10,\n",
       "                   estimators=[('svc',\n",
       "                                Pipeline(steps=[('smote', SMOTE()),\n",
       "                                                ('randomundersampler',\n",
       "                                                 RandomUnderSampler()),\n",
       "                                                ('svc',\n",
       "                                                 SVC(probability=True,\n",
       "                                                     random_state=13))])),\n",
       "                               ('knn',\n",
       "                                Pipeline(steps=[('smote', SMOTE()),\n",
       "                                                ('randomundersampler',\n",
       "                                                 RandomUnderSampler()),\n",
       "                                                ('kneighborsclassifier',\n",
       "                                                 KNeighborsClassifier(n_neighbors=2))])),\n",
       "                               ('decision_tree',\n",
       "                                Pipeline(step...\n",
       "                                                               min_child_weight=None,\n",
       "                                                               missing=nan,\n",
       "                                                               monotone_constraints=None,\n",
       "                                                               multi_strategy=None,\n",
       "                                                               n_estimators=None,\n",
       "                                                               n_jobs=None,\n",
       "                                                               num_parallel_tree=None,\n",
       "                                                               random_state=13, ...))])),\n",
       "                               ('random_forest',\n",
       "                                Pipeline(steps=[('smote', SMOTE()),\n",
       "                                                ('randomundersampler',\n",
       "                                                 RandomUnderSampler()),\n",
       "                                                ('randomforestclassifier',\n",
       "                                                 RandomForestClassifier(random_state=13))]))],\n",
       "                   final_estimator=LogisticRegression())"
      ]
     },
     "execution_count": 90,
     "metadata": {},
     "output_type": "execute_result"
    }
   ],
   "source": [
    "clf2 = StackingClassifier(estimators=estimators2, final_estimator=LogisticRegression(), cv=10)\n",
    "clf2.fit(new_X_train, new_y_train)"
   ]
  },
  {
   "cell_type": "code",
   "execution_count": 91,
   "id": "90cb5a44",
   "metadata": {
    "execution": {
     "iopub.execute_input": "2024-03-04T03:07:50.828109Z",
     "iopub.status.busy": "2024-03-04T03:07:50.827601Z",
     "iopub.status.idle": "2024-03-04T03:07:51.442994Z",
     "shell.execute_reply": "2024-03-04T03:07:51.440879Z"
    },
    "papermill": {
     "duration": 0.672483,
     "end_time": "2024-03-04T03:07:51.448060",
     "exception": false,
     "start_time": "2024-03-04T03:07:50.775577",
     "status": "completed"
    },
    "tags": []
   },
   "outputs": [
    {
     "name": "stdout",
     "output_type": "stream",
     "text": [
      "              precision    recall  f1-score   support\n",
      "\n",
      "           0       0.94      0.98      0.96      1659\n",
      "           1       0.86      0.72      0.78       341\n",
      "\n",
      "    accuracy                           0.93      2000\n",
      "   macro avg       0.90      0.85      0.87      2000\n",
      "weighted avg       0.93      0.93      0.93      2000\n",
      "\n"
     ]
    }
   ],
   "source": [
    "y_pred_hybrid2 = clf2.predict(new_X_test)\n",
    "print(classification_report(new_y_test, y_pred_hybrid2))"
   ]
  },
  {
   "cell_type": "code",
   "execution_count": 92,
   "id": "a4acea65",
   "metadata": {
    "execution": {
     "iopub.execute_input": "2024-03-04T03:07:51.595310Z",
     "iopub.status.busy": "2024-03-04T03:07:51.594078Z",
     "iopub.status.idle": "2024-03-04T03:07:51.611351Z",
     "shell.execute_reply": "2024-03-04T03:07:51.610526Z"
    },
    "papermill": {
     "duration": 0.071392,
     "end_time": "2024-03-04T03:07:51.613816",
     "exception": false,
     "start_time": "2024-03-04T03:07:51.542424",
     "status": "completed"
    },
    "tags": []
   },
   "outputs": [
    {
     "name": "stdout",
     "output_type": "stream",
     "text": [
      "ROC-AUC for SMOTETomek ensemble: 0.8430846409613253\n",
      "ROC-AUC for SMOTEENN ensemble: 0.8608187103491309\n",
      "ROC-AUC for SMOTERUS ensemble: 0.8457158059036377\n",
      "ROC-AUC no_sampling for ensemble: 0.8426444931140725\n"
     ]
    }
   ],
   "source": [
    "roc_auc_tomek = roc_auc_score(new_y_test, y_pred_hybrid)\n",
    "roc_auc_enn = roc_auc_score(new_y_test, y_pred_hybrid1)\n",
    "roc_auc_rus = roc_auc_score(new_y_test, y_pred_hybrid2)\n",
    "roc_nosamp6 = roc_auc_score(new_y_test, y_pred_hybrid_nosamp)\n",
    "\n",
    "print(\"ROC-AUC for SMOTETomek ensemble:\", roc_auc_tomek)\n",
    "print(\"ROC-AUC for SMOTEENN ensemble:\", roc_auc_enn)\n",
    "print(\"ROC-AUC for SMOTERUS ensemble:\", roc_auc_rus)\n",
    "print(\"ROC-AUC no_sampling for ensemble:\", roc_nosamp6)"
   ]
  },
  {
   "cell_type": "code",
   "execution_count": null,
   "id": "9cae70af",
   "metadata": {
    "papermill": {
     "duration": 0.050517,
     "end_time": "2024-03-04T03:07:51.714549",
     "exception": false,
     "start_time": "2024-03-04T03:07:51.664032",
     "status": "completed"
    },
    "tags": []
   },
   "outputs": [],
   "source": []
  }
 ],
 "metadata": {
  "kaggle": {
   "accelerator": "none",
   "dataSources": [
    {
     "datasetId": 4373541,
     "sourceId": 7509431,
     "sourceType": "datasetVersion"
    },
    {
     "datasetId": 4452798,
     "sourceId": 7640256,
     "sourceType": "datasetVersion"
    },
    {
     "datasetId": 4461096,
     "sourceId": 7652258,
     "sourceType": "datasetVersion"
    }
   ],
   "dockerImageVersionId": 30646,
   "isGpuEnabled": false,
   "isInternetEnabled": true,
   "language": "python",
   "sourceType": "notebook"
  },
  "kernelspec": {
   "display_name": "Python 3",
   "language": "python",
   "name": "python3"
  },
  "language_info": {
   "codemirror_mode": {
    "name": "ipython",
    "version": 3
   },
   "file_extension": ".py",
   "mimetype": "text/x-python",
   "name": "python",
   "nbconvert_exporter": "python",
   "pygments_lexer": "ipython3",
   "version": "3.10.13"
  },
  "papermill": {
   "default_parameters": {},
   "duration": 971.3282,
   "end_time": "2024-03-04T03:07:52.895192",
   "environment_variables": {},
   "exception": null,
   "input_path": "__notebook__.ipynb",
   "output_path": "__notebook__.ipynb",
   "parameters": {},
   "start_time": "2024-03-04T02:51:41.566992",
   "version": "2.5.0"
  }
 },
 "nbformat": 4,
 "nbformat_minor": 5
}
